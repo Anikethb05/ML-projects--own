{
 "cells": [
  {
   "cell_type": "markdown",
   "metadata": {},
   "source": [
    "___\n",
    "\n",
    "<a href='http://www.pieriandata.com'> <img src='../Pierian_Data_Logo.png' /></a>\n",
    "___\n",
    "# Plotly and Cufflinks"
   ]
  },
  {
   "cell_type": "markdown",
   "metadata": {},
   "source": [
    "Plotly is a library that allows you to create interactive plots that you can use in dashboards or websites (you can save them as html files or static images).\n",
    "\n",
    "## Installation\n",
    "\n",
    "In order for this all to work, you'll need to install plotly and cufflinks to call plots directly off of a pandas dataframe. These libraries are not currently available through **conda** but are available through **pip**. Install the libraries at your command line/terminal using:\n",
    "\n",
    "    pip install plotly\n",
    "    pip install cufflinks\n",
    "\n",
    "** NOTE: Make sure you only have one installation of Python on your computer when you do this, otherwise the installation may not work. **\n",
    "\n",
    "## Imports and Set-up"
   ]
  },
  {
   "cell_type": "code",
   "execution_count": 18,
   "metadata": {},
   "outputs": [],
   "source": [
    "import pandas as pd\n",
    "import numpy as np\n",
    "%matplotlib inline"
   ]
  },
  {
   "cell_type": "markdown",
   "metadata": {},
   "source": [
    "\n",
    "conda install -c conda-forge/label/cf202003 cufflinks-py"
   ]
  },
  {
   "cell_type": "code",
   "execution_count": 19,
   "metadata": {},
   "outputs": [
    {
     "name": "stdout",
     "output_type": "stream",
     "text": [
      "5.9.0\n"
     ]
    }
   ],
   "source": [
    "from plotly import __version__\n",
    "from plotly.offline import download_plotlyjs, init_notebook_mode, plot, iplot\n",
    "\n",
    "print(__version__) # requires version >= 1.9.0"
   ]
  },
  {
   "cell_type": "code",
   "execution_count": 20,
   "metadata": {},
   "outputs": [],
   "source": [
    "import cufflinks as cf"
   ]
  },
  {
   "cell_type": "code",
   "execution_count": 21,
   "metadata": {},
   "outputs": [
    {
     "data": {
      "text/html": [
       "        <script type=\"text/javascript\">\n",
       "        window.PlotlyConfig = {MathJaxConfig: 'local'};\n",
       "        if (window.MathJax && window.MathJax.Hub && window.MathJax.Hub.Config) {window.MathJax.Hub.Config({SVG: {font: \"STIX-Web\"}});}\n",
       "        if (typeof require !== 'undefined') {\n",
       "        require.undef(\"plotly\");\n",
       "        requirejs.config({\n",
       "            paths: {\n",
       "                'plotly': ['https://cdn.plot.ly/plotly-2.12.1.min']\n",
       "            }\n",
       "        });\n",
       "        require(['plotly'], function(Plotly) {\n",
       "            window._Plotly = Plotly;\n",
       "        });\n",
       "        }\n",
       "        </script>\n",
       "        "
      ]
     },
     "metadata": {},
     "output_type": "display_data"
    }
   ],
   "source": [
    "# For Notebooks\n",
    "init_notebook_mode(connected=True)"
   ]
  },
  {
   "cell_type": "code",
   "execution_count": 22,
   "metadata": {},
   "outputs": [
    {
     "data": {
      "text/html": [
       "        <script type=\"text/javascript\">\n",
       "        window.PlotlyConfig = {MathJaxConfig: 'local'};\n",
       "        if (window.MathJax && window.MathJax.Hub && window.MathJax.Hub.Config) {window.MathJax.Hub.Config({SVG: {font: \"STIX-Web\"}});}\n",
       "        if (typeof require !== 'undefined') {\n",
       "        require.undef(\"plotly\");\n",
       "        requirejs.config({\n",
       "            paths: {\n",
       "                'plotly': ['https://cdn.plot.ly/plotly-2.12.1.min']\n",
       "            }\n",
       "        });\n",
       "        require(['plotly'], function(Plotly) {\n",
       "            window._Plotly = Plotly;\n",
       "        });\n",
       "        }\n",
       "        </script>\n",
       "        "
      ]
     },
     "metadata": {},
     "output_type": "display_data"
    }
   ],
   "source": [
    "# For offline use\n",
    "cf.go_offline()"
   ]
  },
  {
   "cell_type": "markdown",
   "metadata": {},
   "source": [
    "### Fake Data"
   ]
  },
  {
   "cell_type": "code",
   "execution_count": 23,
   "metadata": {},
   "outputs": [],
   "source": [
    "df = pd.DataFrame(np.random.randn(100,4),columns='A B C D'.split())"
   ]
  },
  {
   "cell_type": "code",
   "execution_count": 24,
   "metadata": {},
   "outputs": [
    {
     "data": {
      "text/html": [
       "<div>\n",
       "<style scoped>\n",
       "    .dataframe tbody tr th:only-of-type {\n",
       "        vertical-align: middle;\n",
       "    }\n",
       "\n",
       "    .dataframe tbody tr th {\n",
       "        vertical-align: top;\n",
       "    }\n",
       "\n",
       "    .dataframe thead th {\n",
       "        text-align: right;\n",
       "    }\n",
       "</style>\n",
       "<table border=\"1\" class=\"dataframe\">\n",
       "  <thead>\n",
       "    <tr style=\"text-align: right;\">\n",
       "      <th></th>\n",
       "      <th>A</th>\n",
       "      <th>B</th>\n",
       "      <th>C</th>\n",
       "      <th>D</th>\n",
       "    </tr>\n",
       "  </thead>\n",
       "  <tbody>\n",
       "    <tr>\n",
       "      <th>0</th>\n",
       "      <td>-0.398352</td>\n",
       "      <td>0.122083</td>\n",
       "      <td>-0.291490</td>\n",
       "      <td>-1.066631</td>\n",
       "    </tr>\n",
       "    <tr>\n",
       "      <th>1</th>\n",
       "      <td>-0.616283</td>\n",
       "      <td>1.427095</td>\n",
       "      <td>1.062319</td>\n",
       "      <td>0.292658</td>\n",
       "    </tr>\n",
       "    <tr>\n",
       "      <th>2</th>\n",
       "      <td>2.099168</td>\n",
       "      <td>0.941576</td>\n",
       "      <td>0.788982</td>\n",
       "      <td>0.159161</td>\n",
       "    </tr>\n",
       "    <tr>\n",
       "      <th>3</th>\n",
       "      <td>0.496802</td>\n",
       "      <td>0.851439</td>\n",
       "      <td>-0.826302</td>\n",
       "      <td>0.762237</td>\n",
       "    </tr>\n",
       "    <tr>\n",
       "      <th>4</th>\n",
       "      <td>-1.074621</td>\n",
       "      <td>-1.607915</td>\n",
       "      <td>-0.293221</td>\n",
       "      <td>-0.318862</td>\n",
       "    </tr>\n",
       "  </tbody>\n",
       "</table>\n",
       "</div>"
      ],
      "text/plain": [
       "          A         B         C         D\n",
       "0 -0.398352  0.122083 -0.291490 -1.066631\n",
       "1 -0.616283  1.427095  1.062319  0.292658\n",
       "2  2.099168  0.941576  0.788982  0.159161\n",
       "3  0.496802  0.851439 -0.826302  0.762237\n",
       "4 -1.074621 -1.607915 -0.293221 -0.318862"
      ]
     },
     "execution_count": 24,
     "metadata": {},
     "output_type": "execute_result"
    }
   ],
   "source": [
    "df.head()"
   ]
  },
  {
   "cell_type": "code",
   "execution_count": 25,
   "metadata": {},
   "outputs": [],
   "source": [
    "df2 = pd.DataFrame({'Category':['A','B','C'],'Values':[32,43,50]})"
   ]
  },
  {
   "cell_type": "code",
   "execution_count": 26,
   "metadata": {},
   "outputs": [
    {
     "data": {
      "text/html": [
       "<div>\n",
       "<style scoped>\n",
       "    .dataframe tbody tr th:only-of-type {\n",
       "        vertical-align: middle;\n",
       "    }\n",
       "\n",
       "    .dataframe tbody tr th {\n",
       "        vertical-align: top;\n",
       "    }\n",
       "\n",
       "    .dataframe thead th {\n",
       "        text-align: right;\n",
       "    }\n",
       "</style>\n",
       "<table border=\"1\" class=\"dataframe\">\n",
       "  <thead>\n",
       "    <tr style=\"text-align: right;\">\n",
       "      <th></th>\n",
       "      <th>Category</th>\n",
       "      <th>Values</th>\n",
       "    </tr>\n",
       "  </thead>\n",
       "  <tbody>\n",
       "    <tr>\n",
       "      <th>0</th>\n",
       "      <td>A</td>\n",
       "      <td>32</td>\n",
       "    </tr>\n",
       "    <tr>\n",
       "      <th>1</th>\n",
       "      <td>B</td>\n",
       "      <td>43</td>\n",
       "    </tr>\n",
       "    <tr>\n",
       "      <th>2</th>\n",
       "      <td>C</td>\n",
       "      <td>50</td>\n",
       "    </tr>\n",
       "  </tbody>\n",
       "</table>\n",
       "</div>"
      ],
      "text/plain": [
       "  Category  Values\n",
       "0        A      32\n",
       "1        B      43\n",
       "2        C      50"
      ]
     },
     "execution_count": 26,
     "metadata": {},
     "output_type": "execute_result"
    }
   ],
   "source": [
    "df2.head()"
   ]
  },
  {
   "cell_type": "markdown",
   "metadata": {},
   "source": [
    "## Using Cufflinks and iplot()\n",
    "\n",
    "* scatter\n",
    "* bar\n",
    "* box\n",
    "* spread\n",
    "* ratio\n",
    "* heatmap\n",
    "* surface\n",
    "* histogram\n",
    "* bubble"
   ]
  },
  {
   "cell_type": "markdown",
   "metadata": {},
   "source": [
    "## Scatter"
   ]
  },
  {
   "cell_type": "code",
   "execution_count": 27,
   "metadata": {},
   "outputs": [
    {
     "data": {
      "application/vnd.plotly.v1+json": {
       "config": {
        "linkText": "Export to plot.ly",
        "plotlyServerURL": "https://plot.ly",
        "showLink": true
       },
       "data": [
        {
         "line": {
          "color": "rgba(255, 153, 51, 1.0)",
          "dash": "solid",
          "shape": "linear",
          "width": 1.3
         },
         "marker": {
          "size": 10,
          "symbol": "circle"
         },
         "mode": "markers",
         "name": "B",
         "text": "",
         "type": "scatter",
         "x": [
          -0.3983520986318105,
          -0.6162827135158706,
          2.099168429946755,
          0.49680194136560707,
          -1.07462082001314,
          1.9349510089752417,
          -2.4231933164169877,
          1.4470449807220553,
          -1.4999960796449026,
          -1.0945495325613395,
          0.6642788506356654,
          -0.49195583457573117,
          -0.6910826727920918,
          2.185441590057498,
          0.5131001184581482,
          0.674719629421702,
          0.20326375230828428,
          0.4949550563840638,
          1.4049673532147409,
          -0.14331104172596126,
          -0.3855718444977499,
          -0.21141543770944637,
          0.692414500334598,
          -1.5745230871640852,
          0.22429200145258757,
          -0.054580355994718846,
          0.7011313596097016,
          -0.7104053825194536,
          0.19309720375353737,
          0.5011860420595097,
          -0.13544250984575917,
          -1.3454410990573253,
          -0.12047204421392274,
          1.7560558189306235,
          0.3847089483023419,
          -1.0117420625874236,
          0.9164797757953848,
          0.8090796984007256,
          1.224431318037115,
          -0.6582058090452699,
          0.21452127600252371,
          -1.639673876779424,
          -1.1663156197618043,
          -0.15847458956823843,
          0.42473475884185624,
          -0.38660395544194304,
          -1.0130293175337957,
          -0.13664762695552973,
          1.1232879897184924,
          -1.1371616618950293,
          -0.07299308539521068,
          -0.5378171740332828,
          -1.7019495070466393,
          0.7459624013190475,
          0.27813535654079613,
          -0.2805369331929469,
          0.13963765034792444,
          -0.8166786213065517,
          0.170863291010852,
          0.3627638979559158,
          0.9251892035591921,
          -0.364802539096463,
          0.75720246115451,
          0.6971493229294524,
          -1.6710133918210957,
          -1.0312985576250868,
          0.8665470164781827,
          0.48918962517490755,
          -0.8274464881475612,
          1.7712724749541882,
          -0.2508356385745554,
          -0.42874012491286284,
          0.1233772385420985,
          -0.12822124751202227,
          0.5881947672940719,
          -0.9778504268571526,
          -0.30940316954708735,
          0.1613667105030798,
          -0.3001261485965345,
          -1.7313401143421838,
          0.12956150643595835,
          0.014778956330208861,
          0.36348543013152373,
          1.3969890902037807,
          0.6042087813381443,
          -0.27805222561920584,
          -2.0435509439758492,
          -0.0030770249422897933,
          0.5042478810220322,
          0.8029083832933929,
          -0.26315122741705216,
          1.7608604844319595,
          -0.4434264627398264,
          1.156664081932901,
          -0.5094711324408508,
          0.04128916792263781,
          -1.580156634490801,
          1.5399169357943356,
          -0.4085571732321778,
          0.3145272996081609
         ],
         "y": [
          0.12208332917629941,
          1.4270948640081371,
          0.9415756564617354,
          0.8514386613875572,
          -1.6079154146370516,
          0.23474977453446583,
          -1.3665712548990696,
          -0.5597744265445256,
          0.11704905592132613,
          -1.0761999807650133,
          0.4600018600959453,
          -0.9956908768988652,
          -1.7817190867875512,
          -0.31928955320845914,
          -1.298610373656051,
          -0.5889321850812367,
          1.0303232261552604,
          -0.09079621045016036,
          1.0498592223792036,
          0.4945195260593801,
          -0.7614604158288016,
          -0.2758685496285138,
          -0.4712323343948017,
          0.08107735706611524,
          0.2876616637370824,
          -0.3442145062143889,
          -0.24688584946805583,
          -1.8409003226008336,
          0.22256612235887274,
          0.4401227891529881,
          -0.8735826703886425,
          1.4686012634498118,
          -1.6748703428986085,
          -1.1605558826535318,
          0.10774587775563513,
          -0.8721569508808421,
          -1.745682698772934,
          -1.452721647399788,
          0.04819799834678428,
          -0.9061247463728632,
          0.9207690513874721,
          -0.25072273019599484,
          -1.0269905868847906,
          0.8214480131559797,
          -0.06130802406075241,
          0.8244671466603298,
          -1.0084027725753877,
          -0.1956529239009466,
          0.2886247444738875,
          0.18013738407397625,
          -0.21960299598628757,
          0.3033060435779998,
          1.7271676553473425,
          -0.48314073390233764,
          0.13768515634336445,
          -0.0533994239173276,
          1.7338014442135392,
          -1.9520406749002268,
          0.07869764470173318,
          -0.9335929111019033,
          -0.44122205140317033,
          -1.5497962478239262,
          -0.3182101659576731,
          -1.0171007251602078,
          0.8902179713444456,
          -0.1492023621732173,
          1.7529659316795176,
          0.6628395828509307,
          -1.096340275641719,
          1.9077958610885095,
          -0.5193627966641464,
          0.9629313460804836,
          2.1082307449244113,
          0.9745871209420388,
          -1.0097546804821036,
          -0.19762155195637537,
          -0.6085097342966207,
          0.5991802006769752,
          0.9470498884434012,
          -0.8728985442836582,
          1.5337368766467123,
          -1.5910808182844718,
          -0.8468706811371463,
          -0.38367407437863804,
          0.7776465368122711,
          1.6291788115590593,
          -0.24891560934335877,
          0.427583467757721,
          0.68939277525342,
          1.6845488764859788,
          -0.384370585796287,
          1.3277562924746618,
          0.6545543604797216,
          -1.2416959625466797,
          -0.6887152543938814,
          -0.9897569303738274,
          -1.1244890052144112,
          -1.6801441430246917,
          -0.3269438336106665,
          0.09831057172894017
         ]
        }
       ],
       "layout": {
        "legend": {
         "bgcolor": "#F5F6F9",
         "font": {
          "color": "#4D5663"
         }
        },
        "paper_bgcolor": "#F5F6F9",
        "plot_bgcolor": "#F5F6F9",
        "template": {
         "data": {
          "bar": [
           {
            "error_x": {
             "color": "#2a3f5f"
            },
            "error_y": {
             "color": "#2a3f5f"
            },
            "marker": {
             "line": {
              "color": "#E5ECF6",
              "width": 0.5
             },
             "pattern": {
              "fillmode": "overlay",
              "size": 10,
              "solidity": 0.2
             }
            },
            "type": "bar"
           }
          ],
          "barpolar": [
           {
            "marker": {
             "line": {
              "color": "#E5ECF6",
              "width": 0.5
             },
             "pattern": {
              "fillmode": "overlay",
              "size": 10,
              "solidity": 0.2
             }
            },
            "type": "barpolar"
           }
          ],
          "carpet": [
           {
            "aaxis": {
             "endlinecolor": "#2a3f5f",
             "gridcolor": "white",
             "linecolor": "white",
             "minorgridcolor": "white",
             "startlinecolor": "#2a3f5f"
            },
            "baxis": {
             "endlinecolor": "#2a3f5f",
             "gridcolor": "white",
             "linecolor": "white",
             "minorgridcolor": "white",
             "startlinecolor": "#2a3f5f"
            },
            "type": "carpet"
           }
          ],
          "choropleth": [
           {
            "colorbar": {
             "outlinewidth": 0,
             "ticks": ""
            },
            "type": "choropleth"
           }
          ],
          "contour": [
           {
            "colorbar": {
             "outlinewidth": 0,
             "ticks": ""
            },
            "colorscale": [
             [
              0,
              "#0d0887"
             ],
             [
              0.1111111111111111,
              "#46039f"
             ],
             [
              0.2222222222222222,
              "#7201a8"
             ],
             [
              0.3333333333333333,
              "#9c179e"
             ],
             [
              0.4444444444444444,
              "#bd3786"
             ],
             [
              0.5555555555555556,
              "#d8576b"
             ],
             [
              0.6666666666666666,
              "#ed7953"
             ],
             [
              0.7777777777777778,
              "#fb9f3a"
             ],
             [
              0.8888888888888888,
              "#fdca26"
             ],
             [
              1,
              "#f0f921"
             ]
            ],
            "type": "contour"
           }
          ],
          "contourcarpet": [
           {
            "colorbar": {
             "outlinewidth": 0,
             "ticks": ""
            },
            "type": "contourcarpet"
           }
          ],
          "heatmap": [
           {
            "colorbar": {
             "outlinewidth": 0,
             "ticks": ""
            },
            "colorscale": [
             [
              0,
              "#0d0887"
             ],
             [
              0.1111111111111111,
              "#46039f"
             ],
             [
              0.2222222222222222,
              "#7201a8"
             ],
             [
              0.3333333333333333,
              "#9c179e"
             ],
             [
              0.4444444444444444,
              "#bd3786"
             ],
             [
              0.5555555555555556,
              "#d8576b"
             ],
             [
              0.6666666666666666,
              "#ed7953"
             ],
             [
              0.7777777777777778,
              "#fb9f3a"
             ],
             [
              0.8888888888888888,
              "#fdca26"
             ],
             [
              1,
              "#f0f921"
             ]
            ],
            "type": "heatmap"
           }
          ],
          "heatmapgl": [
           {
            "colorbar": {
             "outlinewidth": 0,
             "ticks": ""
            },
            "colorscale": [
             [
              0,
              "#0d0887"
             ],
             [
              0.1111111111111111,
              "#46039f"
             ],
             [
              0.2222222222222222,
              "#7201a8"
             ],
             [
              0.3333333333333333,
              "#9c179e"
             ],
             [
              0.4444444444444444,
              "#bd3786"
             ],
             [
              0.5555555555555556,
              "#d8576b"
             ],
             [
              0.6666666666666666,
              "#ed7953"
             ],
             [
              0.7777777777777778,
              "#fb9f3a"
             ],
             [
              0.8888888888888888,
              "#fdca26"
             ],
             [
              1,
              "#f0f921"
             ]
            ],
            "type": "heatmapgl"
           }
          ],
          "histogram": [
           {
            "marker": {
             "pattern": {
              "fillmode": "overlay",
              "size": 10,
              "solidity": 0.2
             }
            },
            "type": "histogram"
           }
          ],
          "histogram2d": [
           {
            "colorbar": {
             "outlinewidth": 0,
             "ticks": ""
            },
            "colorscale": [
             [
              0,
              "#0d0887"
             ],
             [
              0.1111111111111111,
              "#46039f"
             ],
             [
              0.2222222222222222,
              "#7201a8"
             ],
             [
              0.3333333333333333,
              "#9c179e"
             ],
             [
              0.4444444444444444,
              "#bd3786"
             ],
             [
              0.5555555555555556,
              "#d8576b"
             ],
             [
              0.6666666666666666,
              "#ed7953"
             ],
             [
              0.7777777777777778,
              "#fb9f3a"
             ],
             [
              0.8888888888888888,
              "#fdca26"
             ],
             [
              1,
              "#f0f921"
             ]
            ],
            "type": "histogram2d"
           }
          ],
          "histogram2dcontour": [
           {
            "colorbar": {
             "outlinewidth": 0,
             "ticks": ""
            },
            "colorscale": [
             [
              0,
              "#0d0887"
             ],
             [
              0.1111111111111111,
              "#46039f"
             ],
             [
              0.2222222222222222,
              "#7201a8"
             ],
             [
              0.3333333333333333,
              "#9c179e"
             ],
             [
              0.4444444444444444,
              "#bd3786"
             ],
             [
              0.5555555555555556,
              "#d8576b"
             ],
             [
              0.6666666666666666,
              "#ed7953"
             ],
             [
              0.7777777777777778,
              "#fb9f3a"
             ],
             [
              0.8888888888888888,
              "#fdca26"
             ],
             [
              1,
              "#f0f921"
             ]
            ],
            "type": "histogram2dcontour"
           }
          ],
          "mesh3d": [
           {
            "colorbar": {
             "outlinewidth": 0,
             "ticks": ""
            },
            "type": "mesh3d"
           }
          ],
          "parcoords": [
           {
            "line": {
             "colorbar": {
              "outlinewidth": 0,
              "ticks": ""
             }
            },
            "type": "parcoords"
           }
          ],
          "pie": [
           {
            "automargin": true,
            "type": "pie"
           }
          ],
          "scatter": [
           {
            "fillpattern": {
             "fillmode": "overlay",
             "size": 10,
             "solidity": 0.2
            },
            "type": "scatter"
           }
          ],
          "scatter3d": [
           {
            "line": {
             "colorbar": {
              "outlinewidth": 0,
              "ticks": ""
             }
            },
            "marker": {
             "colorbar": {
              "outlinewidth": 0,
              "ticks": ""
             }
            },
            "type": "scatter3d"
           }
          ],
          "scattercarpet": [
           {
            "marker": {
             "colorbar": {
              "outlinewidth": 0,
              "ticks": ""
             }
            },
            "type": "scattercarpet"
           }
          ],
          "scattergeo": [
           {
            "marker": {
             "colorbar": {
              "outlinewidth": 0,
              "ticks": ""
             }
            },
            "type": "scattergeo"
           }
          ],
          "scattergl": [
           {
            "marker": {
             "colorbar": {
              "outlinewidth": 0,
              "ticks": ""
             }
            },
            "type": "scattergl"
           }
          ],
          "scattermapbox": [
           {
            "marker": {
             "colorbar": {
              "outlinewidth": 0,
              "ticks": ""
             }
            },
            "type": "scattermapbox"
           }
          ],
          "scatterpolar": [
           {
            "marker": {
             "colorbar": {
              "outlinewidth": 0,
              "ticks": ""
             }
            },
            "type": "scatterpolar"
           }
          ],
          "scatterpolargl": [
           {
            "marker": {
             "colorbar": {
              "outlinewidth": 0,
              "ticks": ""
             }
            },
            "type": "scatterpolargl"
           }
          ],
          "scatterternary": [
           {
            "marker": {
             "colorbar": {
              "outlinewidth": 0,
              "ticks": ""
             }
            },
            "type": "scatterternary"
           }
          ],
          "surface": [
           {
            "colorbar": {
             "outlinewidth": 0,
             "ticks": ""
            },
            "colorscale": [
             [
              0,
              "#0d0887"
             ],
             [
              0.1111111111111111,
              "#46039f"
             ],
             [
              0.2222222222222222,
              "#7201a8"
             ],
             [
              0.3333333333333333,
              "#9c179e"
             ],
             [
              0.4444444444444444,
              "#bd3786"
             ],
             [
              0.5555555555555556,
              "#d8576b"
             ],
             [
              0.6666666666666666,
              "#ed7953"
             ],
             [
              0.7777777777777778,
              "#fb9f3a"
             ],
             [
              0.8888888888888888,
              "#fdca26"
             ],
             [
              1,
              "#f0f921"
             ]
            ],
            "type": "surface"
           }
          ],
          "table": [
           {
            "cells": {
             "fill": {
              "color": "#EBF0F8"
             },
             "line": {
              "color": "white"
             }
            },
            "header": {
             "fill": {
              "color": "#C8D4E3"
             },
             "line": {
              "color": "white"
             }
            },
            "type": "table"
           }
          ]
         },
         "layout": {
          "annotationdefaults": {
           "arrowcolor": "#2a3f5f",
           "arrowhead": 0,
           "arrowwidth": 1
          },
          "autotypenumbers": "strict",
          "coloraxis": {
           "colorbar": {
            "outlinewidth": 0,
            "ticks": ""
           }
          },
          "colorscale": {
           "diverging": [
            [
             0,
             "#8e0152"
            ],
            [
             0.1,
             "#c51b7d"
            ],
            [
             0.2,
             "#de77ae"
            ],
            [
             0.3,
             "#f1b6da"
            ],
            [
             0.4,
             "#fde0ef"
            ],
            [
             0.5,
             "#f7f7f7"
            ],
            [
             0.6,
             "#e6f5d0"
            ],
            [
             0.7,
             "#b8e186"
            ],
            [
             0.8,
             "#7fbc41"
            ],
            [
             0.9,
             "#4d9221"
            ],
            [
             1,
             "#276419"
            ]
           ],
           "sequential": [
            [
             0,
             "#0d0887"
            ],
            [
             0.1111111111111111,
             "#46039f"
            ],
            [
             0.2222222222222222,
             "#7201a8"
            ],
            [
             0.3333333333333333,
             "#9c179e"
            ],
            [
             0.4444444444444444,
             "#bd3786"
            ],
            [
             0.5555555555555556,
             "#d8576b"
            ],
            [
             0.6666666666666666,
             "#ed7953"
            ],
            [
             0.7777777777777778,
             "#fb9f3a"
            ],
            [
             0.8888888888888888,
             "#fdca26"
            ],
            [
             1,
             "#f0f921"
            ]
           ],
           "sequentialminus": [
            [
             0,
             "#0d0887"
            ],
            [
             0.1111111111111111,
             "#46039f"
            ],
            [
             0.2222222222222222,
             "#7201a8"
            ],
            [
             0.3333333333333333,
             "#9c179e"
            ],
            [
             0.4444444444444444,
             "#bd3786"
            ],
            [
             0.5555555555555556,
             "#d8576b"
            ],
            [
             0.6666666666666666,
             "#ed7953"
            ],
            [
             0.7777777777777778,
             "#fb9f3a"
            ],
            [
             0.8888888888888888,
             "#fdca26"
            ],
            [
             1,
             "#f0f921"
            ]
           ]
          },
          "colorway": [
           "#636efa",
           "#EF553B",
           "#00cc96",
           "#ab63fa",
           "#FFA15A",
           "#19d3f3",
           "#FF6692",
           "#B6E880",
           "#FF97FF",
           "#FECB52"
          ],
          "font": {
           "color": "#2a3f5f"
          },
          "geo": {
           "bgcolor": "white",
           "lakecolor": "white",
           "landcolor": "#E5ECF6",
           "showlakes": true,
           "showland": true,
           "subunitcolor": "white"
          },
          "hoverlabel": {
           "align": "left"
          },
          "hovermode": "closest",
          "mapbox": {
           "style": "light"
          },
          "paper_bgcolor": "white",
          "plot_bgcolor": "#E5ECF6",
          "polar": {
           "angularaxis": {
            "gridcolor": "white",
            "linecolor": "white",
            "ticks": ""
           },
           "bgcolor": "#E5ECF6",
           "radialaxis": {
            "gridcolor": "white",
            "linecolor": "white",
            "ticks": ""
           }
          },
          "scene": {
           "xaxis": {
            "backgroundcolor": "#E5ECF6",
            "gridcolor": "white",
            "gridwidth": 2,
            "linecolor": "white",
            "showbackground": true,
            "ticks": "",
            "zerolinecolor": "white"
           },
           "yaxis": {
            "backgroundcolor": "#E5ECF6",
            "gridcolor": "white",
            "gridwidth": 2,
            "linecolor": "white",
            "showbackground": true,
            "ticks": "",
            "zerolinecolor": "white"
           },
           "zaxis": {
            "backgroundcolor": "#E5ECF6",
            "gridcolor": "white",
            "gridwidth": 2,
            "linecolor": "white",
            "showbackground": true,
            "ticks": "",
            "zerolinecolor": "white"
           }
          },
          "shapedefaults": {
           "line": {
            "color": "#2a3f5f"
           }
          },
          "ternary": {
           "aaxis": {
            "gridcolor": "white",
            "linecolor": "white",
            "ticks": ""
           },
           "baxis": {
            "gridcolor": "white",
            "linecolor": "white",
            "ticks": ""
           },
           "bgcolor": "#E5ECF6",
           "caxis": {
            "gridcolor": "white",
            "linecolor": "white",
            "ticks": ""
           }
          },
          "title": {
           "x": 0.05
          },
          "xaxis": {
           "automargin": true,
           "gridcolor": "white",
           "linecolor": "white",
           "ticks": "",
           "title": {
            "standoff": 15
           },
           "zerolinecolor": "white",
           "zerolinewidth": 2
          },
          "yaxis": {
           "automargin": true,
           "gridcolor": "white",
           "linecolor": "white",
           "ticks": "",
           "title": {
            "standoff": 15
           },
           "zerolinecolor": "white",
           "zerolinewidth": 2
          }
         }
        },
        "title": {
         "font": {
          "color": "#4D5663"
         }
        },
        "xaxis": {
         "gridcolor": "#E1E5ED",
         "showgrid": true,
         "tickfont": {
          "color": "#4D5663"
         },
         "title": {
          "font": {
           "color": "#4D5663"
          },
          "text": ""
         },
         "zerolinecolor": "#E1E5ED"
        },
        "yaxis": {
         "gridcolor": "#E1E5ED",
         "showgrid": true,
         "tickfont": {
          "color": "#4D5663"
         },
         "title": {
          "font": {
           "color": "#4D5663"
          },
          "text": ""
         },
         "zerolinecolor": "#E1E5ED"
        }
       }
      },
      "text/html": [
       "<div>                            <div id=\"eaf7204e-11b7-4bed-bf8e-03aa4ee877c4\" class=\"plotly-graph-div\" style=\"height:525px; width:100%;\"></div>            <script type=\"text/javascript\">                require([\"plotly\"], function(Plotly) {                    window.PLOTLYENV=window.PLOTLYENV || {};\n",
       "                    window.PLOTLYENV.BASE_URL='https://plot.ly';                                    if (document.getElementById(\"eaf7204e-11b7-4bed-bf8e-03aa4ee877c4\")) {                    Plotly.newPlot(                        \"eaf7204e-11b7-4bed-bf8e-03aa4ee877c4\",                        [{\"line\":{\"color\":\"rgba(255, 153, 51, 1.0)\",\"dash\":\"solid\",\"shape\":\"linear\",\"width\":1.3},\"marker\":{\"size\":10,\"symbol\":\"circle\"},\"mode\":\"markers\",\"name\":\"B\",\"text\":\"\",\"x\":[-0.3983520986318105,-0.6162827135158706,2.099168429946755,0.49680194136560707,-1.07462082001314,1.9349510089752417,-2.4231933164169877,1.4470449807220553,-1.4999960796449026,-1.0945495325613395,0.6642788506356654,-0.49195583457573117,-0.6910826727920918,2.185441590057498,0.5131001184581482,0.674719629421702,0.20326375230828428,0.4949550563840638,1.4049673532147409,-0.14331104172596126,-0.3855718444977499,-0.21141543770944637,0.692414500334598,-1.5745230871640852,0.22429200145258757,-0.054580355994718846,0.7011313596097016,-0.7104053825194536,0.19309720375353737,0.5011860420595097,-0.13544250984575917,-1.3454410990573253,-0.12047204421392274,1.7560558189306235,0.3847089483023419,-1.0117420625874236,0.9164797757953848,0.8090796984007256,1.224431318037115,-0.6582058090452699,0.21452127600252371,-1.639673876779424,-1.1663156197618043,-0.15847458956823843,0.42473475884185624,-0.38660395544194304,-1.0130293175337957,-0.13664762695552973,1.1232879897184924,-1.1371616618950293,-0.07299308539521068,-0.5378171740332828,-1.7019495070466393,0.7459624013190475,0.27813535654079613,-0.2805369331929469,0.13963765034792444,-0.8166786213065517,0.170863291010852,0.3627638979559158,0.9251892035591921,-0.364802539096463,0.75720246115451,0.6971493229294524,-1.6710133918210957,-1.0312985576250868,0.8665470164781827,0.48918962517490755,-0.8274464881475612,1.7712724749541882,-0.2508356385745554,-0.42874012491286284,0.1233772385420985,-0.12822124751202227,0.5881947672940719,-0.9778504268571526,-0.30940316954708735,0.1613667105030798,-0.3001261485965345,-1.7313401143421838,0.12956150643595835,0.014778956330208861,0.36348543013152373,1.3969890902037807,0.6042087813381443,-0.27805222561920584,-2.0435509439758492,-0.0030770249422897933,0.5042478810220322,0.8029083832933929,-0.26315122741705216,1.7608604844319595,-0.4434264627398264,1.156664081932901,-0.5094711324408508,0.04128916792263781,-1.580156634490801,1.5399169357943356,-0.4085571732321778,0.3145272996081609],\"y\":[0.12208332917629941,1.4270948640081371,0.9415756564617354,0.8514386613875572,-1.6079154146370516,0.23474977453446583,-1.3665712548990696,-0.5597744265445256,0.11704905592132613,-1.0761999807650133,0.4600018600959453,-0.9956908768988652,-1.7817190867875512,-0.31928955320845914,-1.298610373656051,-0.5889321850812367,1.0303232261552604,-0.09079621045016036,1.0498592223792036,0.4945195260593801,-0.7614604158288016,-0.2758685496285138,-0.4712323343948017,0.08107735706611524,0.2876616637370824,-0.3442145062143889,-0.24688584946805583,-1.8409003226008336,0.22256612235887274,0.4401227891529881,-0.8735826703886425,1.4686012634498118,-1.6748703428986085,-1.1605558826535318,0.10774587775563513,-0.8721569508808421,-1.745682698772934,-1.452721647399788,0.04819799834678428,-0.9061247463728632,0.9207690513874721,-0.25072273019599484,-1.0269905868847906,0.8214480131559797,-0.06130802406075241,0.8244671466603298,-1.0084027725753877,-0.1956529239009466,0.2886247444738875,0.18013738407397625,-0.21960299598628757,0.3033060435779998,1.7271676553473425,-0.48314073390233764,0.13768515634336445,-0.0533994239173276,1.7338014442135392,-1.9520406749002268,0.07869764470173318,-0.9335929111019033,-0.44122205140317033,-1.5497962478239262,-0.3182101659576731,-1.0171007251602078,0.8902179713444456,-0.1492023621732173,1.7529659316795176,0.6628395828509307,-1.096340275641719,1.9077958610885095,-0.5193627966641464,0.9629313460804836,2.1082307449244113,0.9745871209420388,-1.0097546804821036,-0.19762155195637537,-0.6085097342966207,0.5991802006769752,0.9470498884434012,-0.8728985442836582,1.5337368766467123,-1.5910808182844718,-0.8468706811371463,-0.38367407437863804,0.7776465368122711,1.6291788115590593,-0.24891560934335877,0.427583467757721,0.68939277525342,1.6845488764859788,-0.384370585796287,1.3277562924746618,0.6545543604797216,-1.2416959625466797,-0.6887152543938814,-0.9897569303738274,-1.1244890052144112,-1.6801441430246917,-0.3269438336106665,0.09831057172894017],\"type\":\"scatter\"}],                        {\"legend\":{\"bgcolor\":\"#F5F6F9\",\"font\":{\"color\":\"#4D5663\"}},\"paper_bgcolor\":\"#F5F6F9\",\"plot_bgcolor\":\"#F5F6F9\",\"template\":{\"data\":{\"barpolar\":[{\"marker\":{\"line\":{\"color\":\"#E5ECF6\",\"width\":0.5},\"pattern\":{\"fillmode\":\"overlay\",\"size\":10,\"solidity\":0.2}},\"type\":\"barpolar\"}],\"bar\":[{\"error_x\":{\"color\":\"#2a3f5f\"},\"error_y\":{\"color\":\"#2a3f5f\"},\"marker\":{\"line\":{\"color\":\"#E5ECF6\",\"width\":0.5},\"pattern\":{\"fillmode\":\"overlay\",\"size\":10,\"solidity\":0.2}},\"type\":\"bar\"}],\"carpet\":[{\"aaxis\":{\"endlinecolor\":\"#2a3f5f\",\"gridcolor\":\"white\",\"linecolor\":\"white\",\"minorgridcolor\":\"white\",\"startlinecolor\":\"#2a3f5f\"},\"baxis\":{\"endlinecolor\":\"#2a3f5f\",\"gridcolor\":\"white\",\"linecolor\":\"white\",\"minorgridcolor\":\"white\",\"startlinecolor\":\"#2a3f5f\"},\"type\":\"carpet\"}],\"choropleth\":[{\"colorbar\":{\"outlinewidth\":0,\"ticks\":\"\"},\"type\":\"choropleth\"}],\"contourcarpet\":[{\"colorbar\":{\"outlinewidth\":0,\"ticks\":\"\"},\"type\":\"contourcarpet\"}],\"contour\":[{\"colorbar\":{\"outlinewidth\":0,\"ticks\":\"\"},\"colorscale\":[[0.0,\"#0d0887\"],[0.1111111111111111,\"#46039f\"],[0.2222222222222222,\"#7201a8\"],[0.3333333333333333,\"#9c179e\"],[0.4444444444444444,\"#bd3786\"],[0.5555555555555556,\"#d8576b\"],[0.6666666666666666,\"#ed7953\"],[0.7777777777777778,\"#fb9f3a\"],[0.8888888888888888,\"#fdca26\"],[1.0,\"#f0f921\"]],\"type\":\"contour\"}],\"heatmapgl\":[{\"colorbar\":{\"outlinewidth\":0,\"ticks\":\"\"},\"colorscale\":[[0.0,\"#0d0887\"],[0.1111111111111111,\"#46039f\"],[0.2222222222222222,\"#7201a8\"],[0.3333333333333333,\"#9c179e\"],[0.4444444444444444,\"#bd3786\"],[0.5555555555555556,\"#d8576b\"],[0.6666666666666666,\"#ed7953\"],[0.7777777777777778,\"#fb9f3a\"],[0.8888888888888888,\"#fdca26\"],[1.0,\"#f0f921\"]],\"type\":\"heatmapgl\"}],\"heatmap\":[{\"colorbar\":{\"outlinewidth\":0,\"ticks\":\"\"},\"colorscale\":[[0.0,\"#0d0887\"],[0.1111111111111111,\"#46039f\"],[0.2222222222222222,\"#7201a8\"],[0.3333333333333333,\"#9c179e\"],[0.4444444444444444,\"#bd3786\"],[0.5555555555555556,\"#d8576b\"],[0.6666666666666666,\"#ed7953\"],[0.7777777777777778,\"#fb9f3a\"],[0.8888888888888888,\"#fdca26\"],[1.0,\"#f0f921\"]],\"type\":\"heatmap\"}],\"histogram2dcontour\":[{\"colorbar\":{\"outlinewidth\":0,\"ticks\":\"\"},\"colorscale\":[[0.0,\"#0d0887\"],[0.1111111111111111,\"#46039f\"],[0.2222222222222222,\"#7201a8\"],[0.3333333333333333,\"#9c179e\"],[0.4444444444444444,\"#bd3786\"],[0.5555555555555556,\"#d8576b\"],[0.6666666666666666,\"#ed7953\"],[0.7777777777777778,\"#fb9f3a\"],[0.8888888888888888,\"#fdca26\"],[1.0,\"#f0f921\"]],\"type\":\"histogram2dcontour\"}],\"histogram2d\":[{\"colorbar\":{\"outlinewidth\":0,\"ticks\":\"\"},\"colorscale\":[[0.0,\"#0d0887\"],[0.1111111111111111,\"#46039f\"],[0.2222222222222222,\"#7201a8\"],[0.3333333333333333,\"#9c179e\"],[0.4444444444444444,\"#bd3786\"],[0.5555555555555556,\"#d8576b\"],[0.6666666666666666,\"#ed7953\"],[0.7777777777777778,\"#fb9f3a\"],[0.8888888888888888,\"#fdca26\"],[1.0,\"#f0f921\"]],\"type\":\"histogram2d\"}],\"histogram\":[{\"marker\":{\"pattern\":{\"fillmode\":\"overlay\",\"size\":10,\"solidity\":0.2}},\"type\":\"histogram\"}],\"mesh3d\":[{\"colorbar\":{\"outlinewidth\":0,\"ticks\":\"\"},\"type\":\"mesh3d\"}],\"parcoords\":[{\"line\":{\"colorbar\":{\"outlinewidth\":0,\"ticks\":\"\"}},\"type\":\"parcoords\"}],\"pie\":[{\"automargin\":true,\"type\":\"pie\"}],\"scatter3d\":[{\"line\":{\"colorbar\":{\"outlinewidth\":0,\"ticks\":\"\"}},\"marker\":{\"colorbar\":{\"outlinewidth\":0,\"ticks\":\"\"}},\"type\":\"scatter3d\"}],\"scattercarpet\":[{\"marker\":{\"colorbar\":{\"outlinewidth\":0,\"ticks\":\"\"}},\"type\":\"scattercarpet\"}],\"scattergeo\":[{\"marker\":{\"colorbar\":{\"outlinewidth\":0,\"ticks\":\"\"}},\"type\":\"scattergeo\"}],\"scattergl\":[{\"marker\":{\"colorbar\":{\"outlinewidth\":0,\"ticks\":\"\"}},\"type\":\"scattergl\"}],\"scattermapbox\":[{\"marker\":{\"colorbar\":{\"outlinewidth\":0,\"ticks\":\"\"}},\"type\":\"scattermapbox\"}],\"scatterpolargl\":[{\"marker\":{\"colorbar\":{\"outlinewidth\":0,\"ticks\":\"\"}},\"type\":\"scatterpolargl\"}],\"scatterpolar\":[{\"marker\":{\"colorbar\":{\"outlinewidth\":0,\"ticks\":\"\"}},\"type\":\"scatterpolar\"}],\"scatter\":[{\"fillpattern\":{\"fillmode\":\"overlay\",\"size\":10,\"solidity\":0.2},\"type\":\"scatter\"}],\"scatterternary\":[{\"marker\":{\"colorbar\":{\"outlinewidth\":0,\"ticks\":\"\"}},\"type\":\"scatterternary\"}],\"surface\":[{\"colorbar\":{\"outlinewidth\":0,\"ticks\":\"\"},\"colorscale\":[[0.0,\"#0d0887\"],[0.1111111111111111,\"#46039f\"],[0.2222222222222222,\"#7201a8\"],[0.3333333333333333,\"#9c179e\"],[0.4444444444444444,\"#bd3786\"],[0.5555555555555556,\"#d8576b\"],[0.6666666666666666,\"#ed7953\"],[0.7777777777777778,\"#fb9f3a\"],[0.8888888888888888,\"#fdca26\"],[1.0,\"#f0f921\"]],\"type\":\"surface\"}],\"table\":[{\"cells\":{\"fill\":{\"color\":\"#EBF0F8\"},\"line\":{\"color\":\"white\"}},\"header\":{\"fill\":{\"color\":\"#C8D4E3\"},\"line\":{\"color\":\"white\"}},\"type\":\"table\"}]},\"layout\":{\"annotationdefaults\":{\"arrowcolor\":\"#2a3f5f\",\"arrowhead\":0,\"arrowwidth\":1},\"autotypenumbers\":\"strict\",\"coloraxis\":{\"colorbar\":{\"outlinewidth\":0,\"ticks\":\"\"}},\"colorscale\":{\"diverging\":[[0,\"#8e0152\"],[0.1,\"#c51b7d\"],[0.2,\"#de77ae\"],[0.3,\"#f1b6da\"],[0.4,\"#fde0ef\"],[0.5,\"#f7f7f7\"],[0.6,\"#e6f5d0\"],[0.7,\"#b8e186\"],[0.8,\"#7fbc41\"],[0.9,\"#4d9221\"],[1,\"#276419\"]],\"sequential\":[[0.0,\"#0d0887\"],[0.1111111111111111,\"#46039f\"],[0.2222222222222222,\"#7201a8\"],[0.3333333333333333,\"#9c179e\"],[0.4444444444444444,\"#bd3786\"],[0.5555555555555556,\"#d8576b\"],[0.6666666666666666,\"#ed7953\"],[0.7777777777777778,\"#fb9f3a\"],[0.8888888888888888,\"#fdca26\"],[1.0,\"#f0f921\"]],\"sequentialminus\":[[0.0,\"#0d0887\"],[0.1111111111111111,\"#46039f\"],[0.2222222222222222,\"#7201a8\"],[0.3333333333333333,\"#9c179e\"],[0.4444444444444444,\"#bd3786\"],[0.5555555555555556,\"#d8576b\"],[0.6666666666666666,\"#ed7953\"],[0.7777777777777778,\"#fb9f3a\"],[0.8888888888888888,\"#fdca26\"],[1.0,\"#f0f921\"]]},\"colorway\":[\"#636efa\",\"#EF553B\",\"#00cc96\",\"#ab63fa\",\"#FFA15A\",\"#19d3f3\",\"#FF6692\",\"#B6E880\",\"#FF97FF\",\"#FECB52\"],\"font\":{\"color\":\"#2a3f5f\"},\"geo\":{\"bgcolor\":\"white\",\"lakecolor\":\"white\",\"landcolor\":\"#E5ECF6\",\"showlakes\":true,\"showland\":true,\"subunitcolor\":\"white\"},\"hoverlabel\":{\"align\":\"left\"},\"hovermode\":\"closest\",\"mapbox\":{\"style\":\"light\"},\"paper_bgcolor\":\"white\",\"plot_bgcolor\":\"#E5ECF6\",\"polar\":{\"angularaxis\":{\"gridcolor\":\"white\",\"linecolor\":\"white\",\"ticks\":\"\"},\"bgcolor\":\"#E5ECF6\",\"radialaxis\":{\"gridcolor\":\"white\",\"linecolor\":\"white\",\"ticks\":\"\"}},\"scene\":{\"xaxis\":{\"backgroundcolor\":\"#E5ECF6\",\"gridcolor\":\"white\",\"gridwidth\":2,\"linecolor\":\"white\",\"showbackground\":true,\"ticks\":\"\",\"zerolinecolor\":\"white\"},\"yaxis\":{\"backgroundcolor\":\"#E5ECF6\",\"gridcolor\":\"white\",\"gridwidth\":2,\"linecolor\":\"white\",\"showbackground\":true,\"ticks\":\"\",\"zerolinecolor\":\"white\"},\"zaxis\":{\"backgroundcolor\":\"#E5ECF6\",\"gridcolor\":\"white\",\"gridwidth\":2,\"linecolor\":\"white\",\"showbackground\":true,\"ticks\":\"\",\"zerolinecolor\":\"white\"}},\"shapedefaults\":{\"line\":{\"color\":\"#2a3f5f\"}},\"ternary\":{\"aaxis\":{\"gridcolor\":\"white\",\"linecolor\":\"white\",\"ticks\":\"\"},\"baxis\":{\"gridcolor\":\"white\",\"linecolor\":\"white\",\"ticks\":\"\"},\"bgcolor\":\"#E5ECF6\",\"caxis\":{\"gridcolor\":\"white\",\"linecolor\":\"white\",\"ticks\":\"\"}},\"title\":{\"x\":0.05},\"xaxis\":{\"automargin\":true,\"gridcolor\":\"white\",\"linecolor\":\"white\",\"ticks\":\"\",\"title\":{\"standoff\":15},\"zerolinecolor\":\"white\",\"zerolinewidth\":2},\"yaxis\":{\"automargin\":true,\"gridcolor\":\"white\",\"linecolor\":\"white\",\"ticks\":\"\",\"title\":{\"standoff\":15},\"zerolinecolor\":\"white\",\"zerolinewidth\":2}}},\"title\":{\"font\":{\"color\":\"#4D5663\"}},\"xaxis\":{\"gridcolor\":\"#E1E5ED\",\"showgrid\":true,\"tickfont\":{\"color\":\"#4D5663\"},\"title\":{\"font\":{\"color\":\"#4D5663\"},\"text\":\"\"},\"zerolinecolor\":\"#E1E5ED\"},\"yaxis\":{\"gridcolor\":\"#E1E5ED\",\"showgrid\":true,\"tickfont\":{\"color\":\"#4D5663\"},\"title\":{\"font\":{\"color\":\"#4D5663\"},\"text\":\"\"},\"zerolinecolor\":\"#E1E5ED\"}},                        {\"showLink\": true, \"linkText\": \"Export to plot.ly\", \"plotlyServerURL\": \"https://plot.ly\", \"responsive\": true}                    ).then(function(){\n",
       "                            \n",
       "var gd = document.getElementById('eaf7204e-11b7-4bed-bf8e-03aa4ee877c4');\n",
       "var x = new MutationObserver(function (mutations, observer) {{\n",
       "        var display = window.getComputedStyle(gd).display;\n",
       "        if (!display || display === 'none') {{\n",
       "            console.log([gd, 'removed!']);\n",
       "            Plotly.purge(gd);\n",
       "            observer.disconnect();\n",
       "        }}\n",
       "}});\n",
       "\n",
       "// Listen for the removal of the full notebook cells\n",
       "var notebookContainer = gd.closest('#notebook-container');\n",
       "if (notebookContainer) {{\n",
       "    x.observe(notebookContainer, {childList: true});\n",
       "}}\n",
       "\n",
       "// Listen for the clearing of the current output cell\n",
       "var outputEl = gd.closest('.output');\n",
       "if (outputEl) {{\n",
       "    x.observe(outputEl, {childList: true});\n",
       "}}\n",
       "\n",
       "                        })                };                });            </script>        </div>"
      ]
     },
     "metadata": {},
     "output_type": "display_data"
    }
   ],
   "source": [
    "df.iplot(kind='scatter',x='A',y='B',mode='markers',size=10)"
   ]
  },
  {
   "cell_type": "markdown",
   "metadata": {},
   "source": [
    "## Bar Plots"
   ]
  },
  {
   "cell_type": "code",
   "execution_count": 28,
   "metadata": {},
   "outputs": [
    {
     "data": {
      "application/vnd.plotly.v1+json": {
       "config": {
        "linkText": "Export to plot.ly",
        "plotlyServerURL": "https://plot.ly",
        "showLink": true
       },
       "data": [
        {
         "marker": {
          "color": "rgba(255, 153, 51, 0.6)",
          "line": {
           "color": "rgba(255, 153, 51, 1.0)",
           "width": 1
          }
         },
         "name": "Values",
         "orientation": "v",
         "text": "",
         "type": "bar",
         "x": [
          "A",
          "B",
          "C"
         ],
         "y": [
          32,
          43,
          50
         ]
        }
       ],
       "layout": {
        "legend": {
         "bgcolor": "#F5F6F9",
         "font": {
          "color": "#4D5663"
         }
        },
        "paper_bgcolor": "#F5F6F9",
        "plot_bgcolor": "#F5F6F9",
        "template": {
         "data": {
          "bar": [
           {
            "error_x": {
             "color": "#2a3f5f"
            },
            "error_y": {
             "color": "#2a3f5f"
            },
            "marker": {
             "line": {
              "color": "#E5ECF6",
              "width": 0.5
             },
             "pattern": {
              "fillmode": "overlay",
              "size": 10,
              "solidity": 0.2
             }
            },
            "type": "bar"
           }
          ],
          "barpolar": [
           {
            "marker": {
             "line": {
              "color": "#E5ECF6",
              "width": 0.5
             },
             "pattern": {
              "fillmode": "overlay",
              "size": 10,
              "solidity": 0.2
             }
            },
            "type": "barpolar"
           }
          ],
          "carpet": [
           {
            "aaxis": {
             "endlinecolor": "#2a3f5f",
             "gridcolor": "white",
             "linecolor": "white",
             "minorgridcolor": "white",
             "startlinecolor": "#2a3f5f"
            },
            "baxis": {
             "endlinecolor": "#2a3f5f",
             "gridcolor": "white",
             "linecolor": "white",
             "minorgridcolor": "white",
             "startlinecolor": "#2a3f5f"
            },
            "type": "carpet"
           }
          ],
          "choropleth": [
           {
            "colorbar": {
             "outlinewidth": 0,
             "ticks": ""
            },
            "type": "choropleth"
           }
          ],
          "contour": [
           {
            "colorbar": {
             "outlinewidth": 0,
             "ticks": ""
            },
            "colorscale": [
             [
              0,
              "#0d0887"
             ],
             [
              0.1111111111111111,
              "#46039f"
             ],
             [
              0.2222222222222222,
              "#7201a8"
             ],
             [
              0.3333333333333333,
              "#9c179e"
             ],
             [
              0.4444444444444444,
              "#bd3786"
             ],
             [
              0.5555555555555556,
              "#d8576b"
             ],
             [
              0.6666666666666666,
              "#ed7953"
             ],
             [
              0.7777777777777778,
              "#fb9f3a"
             ],
             [
              0.8888888888888888,
              "#fdca26"
             ],
             [
              1,
              "#f0f921"
             ]
            ],
            "type": "contour"
           }
          ],
          "contourcarpet": [
           {
            "colorbar": {
             "outlinewidth": 0,
             "ticks": ""
            },
            "type": "contourcarpet"
           }
          ],
          "heatmap": [
           {
            "colorbar": {
             "outlinewidth": 0,
             "ticks": ""
            },
            "colorscale": [
             [
              0,
              "#0d0887"
             ],
             [
              0.1111111111111111,
              "#46039f"
             ],
             [
              0.2222222222222222,
              "#7201a8"
             ],
             [
              0.3333333333333333,
              "#9c179e"
             ],
             [
              0.4444444444444444,
              "#bd3786"
             ],
             [
              0.5555555555555556,
              "#d8576b"
             ],
             [
              0.6666666666666666,
              "#ed7953"
             ],
             [
              0.7777777777777778,
              "#fb9f3a"
             ],
             [
              0.8888888888888888,
              "#fdca26"
             ],
             [
              1,
              "#f0f921"
             ]
            ],
            "type": "heatmap"
           }
          ],
          "heatmapgl": [
           {
            "colorbar": {
             "outlinewidth": 0,
             "ticks": ""
            },
            "colorscale": [
             [
              0,
              "#0d0887"
             ],
             [
              0.1111111111111111,
              "#46039f"
             ],
             [
              0.2222222222222222,
              "#7201a8"
             ],
             [
              0.3333333333333333,
              "#9c179e"
             ],
             [
              0.4444444444444444,
              "#bd3786"
             ],
             [
              0.5555555555555556,
              "#d8576b"
             ],
             [
              0.6666666666666666,
              "#ed7953"
             ],
             [
              0.7777777777777778,
              "#fb9f3a"
             ],
             [
              0.8888888888888888,
              "#fdca26"
             ],
             [
              1,
              "#f0f921"
             ]
            ],
            "type": "heatmapgl"
           }
          ],
          "histogram": [
           {
            "marker": {
             "pattern": {
              "fillmode": "overlay",
              "size": 10,
              "solidity": 0.2
             }
            },
            "type": "histogram"
           }
          ],
          "histogram2d": [
           {
            "colorbar": {
             "outlinewidth": 0,
             "ticks": ""
            },
            "colorscale": [
             [
              0,
              "#0d0887"
             ],
             [
              0.1111111111111111,
              "#46039f"
             ],
             [
              0.2222222222222222,
              "#7201a8"
             ],
             [
              0.3333333333333333,
              "#9c179e"
             ],
             [
              0.4444444444444444,
              "#bd3786"
             ],
             [
              0.5555555555555556,
              "#d8576b"
             ],
             [
              0.6666666666666666,
              "#ed7953"
             ],
             [
              0.7777777777777778,
              "#fb9f3a"
             ],
             [
              0.8888888888888888,
              "#fdca26"
             ],
             [
              1,
              "#f0f921"
             ]
            ],
            "type": "histogram2d"
           }
          ],
          "histogram2dcontour": [
           {
            "colorbar": {
             "outlinewidth": 0,
             "ticks": ""
            },
            "colorscale": [
             [
              0,
              "#0d0887"
             ],
             [
              0.1111111111111111,
              "#46039f"
             ],
             [
              0.2222222222222222,
              "#7201a8"
             ],
             [
              0.3333333333333333,
              "#9c179e"
             ],
             [
              0.4444444444444444,
              "#bd3786"
             ],
             [
              0.5555555555555556,
              "#d8576b"
             ],
             [
              0.6666666666666666,
              "#ed7953"
             ],
             [
              0.7777777777777778,
              "#fb9f3a"
             ],
             [
              0.8888888888888888,
              "#fdca26"
             ],
             [
              1,
              "#f0f921"
             ]
            ],
            "type": "histogram2dcontour"
           }
          ],
          "mesh3d": [
           {
            "colorbar": {
             "outlinewidth": 0,
             "ticks": ""
            },
            "type": "mesh3d"
           }
          ],
          "parcoords": [
           {
            "line": {
             "colorbar": {
              "outlinewidth": 0,
              "ticks": ""
             }
            },
            "type": "parcoords"
           }
          ],
          "pie": [
           {
            "automargin": true,
            "type": "pie"
           }
          ],
          "scatter": [
           {
            "fillpattern": {
             "fillmode": "overlay",
             "size": 10,
             "solidity": 0.2
            },
            "type": "scatter"
           }
          ],
          "scatter3d": [
           {
            "line": {
             "colorbar": {
              "outlinewidth": 0,
              "ticks": ""
             }
            },
            "marker": {
             "colorbar": {
              "outlinewidth": 0,
              "ticks": ""
             }
            },
            "type": "scatter3d"
           }
          ],
          "scattercarpet": [
           {
            "marker": {
             "colorbar": {
              "outlinewidth": 0,
              "ticks": ""
             }
            },
            "type": "scattercarpet"
           }
          ],
          "scattergeo": [
           {
            "marker": {
             "colorbar": {
              "outlinewidth": 0,
              "ticks": ""
             }
            },
            "type": "scattergeo"
           }
          ],
          "scattergl": [
           {
            "marker": {
             "colorbar": {
              "outlinewidth": 0,
              "ticks": ""
             }
            },
            "type": "scattergl"
           }
          ],
          "scattermapbox": [
           {
            "marker": {
             "colorbar": {
              "outlinewidth": 0,
              "ticks": ""
             }
            },
            "type": "scattermapbox"
           }
          ],
          "scatterpolar": [
           {
            "marker": {
             "colorbar": {
              "outlinewidth": 0,
              "ticks": ""
             }
            },
            "type": "scatterpolar"
           }
          ],
          "scatterpolargl": [
           {
            "marker": {
             "colorbar": {
              "outlinewidth": 0,
              "ticks": ""
             }
            },
            "type": "scatterpolargl"
           }
          ],
          "scatterternary": [
           {
            "marker": {
             "colorbar": {
              "outlinewidth": 0,
              "ticks": ""
             }
            },
            "type": "scatterternary"
           }
          ],
          "surface": [
           {
            "colorbar": {
             "outlinewidth": 0,
             "ticks": ""
            },
            "colorscale": [
             [
              0,
              "#0d0887"
             ],
             [
              0.1111111111111111,
              "#46039f"
             ],
             [
              0.2222222222222222,
              "#7201a8"
             ],
             [
              0.3333333333333333,
              "#9c179e"
             ],
             [
              0.4444444444444444,
              "#bd3786"
             ],
             [
              0.5555555555555556,
              "#d8576b"
             ],
             [
              0.6666666666666666,
              "#ed7953"
             ],
             [
              0.7777777777777778,
              "#fb9f3a"
             ],
             [
              0.8888888888888888,
              "#fdca26"
             ],
             [
              1,
              "#f0f921"
             ]
            ],
            "type": "surface"
           }
          ],
          "table": [
           {
            "cells": {
             "fill": {
              "color": "#EBF0F8"
             },
             "line": {
              "color": "white"
             }
            },
            "header": {
             "fill": {
              "color": "#C8D4E3"
             },
             "line": {
              "color": "white"
             }
            },
            "type": "table"
           }
          ]
         },
         "layout": {
          "annotationdefaults": {
           "arrowcolor": "#2a3f5f",
           "arrowhead": 0,
           "arrowwidth": 1
          },
          "autotypenumbers": "strict",
          "coloraxis": {
           "colorbar": {
            "outlinewidth": 0,
            "ticks": ""
           }
          },
          "colorscale": {
           "diverging": [
            [
             0,
             "#8e0152"
            ],
            [
             0.1,
             "#c51b7d"
            ],
            [
             0.2,
             "#de77ae"
            ],
            [
             0.3,
             "#f1b6da"
            ],
            [
             0.4,
             "#fde0ef"
            ],
            [
             0.5,
             "#f7f7f7"
            ],
            [
             0.6,
             "#e6f5d0"
            ],
            [
             0.7,
             "#b8e186"
            ],
            [
             0.8,
             "#7fbc41"
            ],
            [
             0.9,
             "#4d9221"
            ],
            [
             1,
             "#276419"
            ]
           ],
           "sequential": [
            [
             0,
             "#0d0887"
            ],
            [
             0.1111111111111111,
             "#46039f"
            ],
            [
             0.2222222222222222,
             "#7201a8"
            ],
            [
             0.3333333333333333,
             "#9c179e"
            ],
            [
             0.4444444444444444,
             "#bd3786"
            ],
            [
             0.5555555555555556,
             "#d8576b"
            ],
            [
             0.6666666666666666,
             "#ed7953"
            ],
            [
             0.7777777777777778,
             "#fb9f3a"
            ],
            [
             0.8888888888888888,
             "#fdca26"
            ],
            [
             1,
             "#f0f921"
            ]
           ],
           "sequentialminus": [
            [
             0,
             "#0d0887"
            ],
            [
             0.1111111111111111,
             "#46039f"
            ],
            [
             0.2222222222222222,
             "#7201a8"
            ],
            [
             0.3333333333333333,
             "#9c179e"
            ],
            [
             0.4444444444444444,
             "#bd3786"
            ],
            [
             0.5555555555555556,
             "#d8576b"
            ],
            [
             0.6666666666666666,
             "#ed7953"
            ],
            [
             0.7777777777777778,
             "#fb9f3a"
            ],
            [
             0.8888888888888888,
             "#fdca26"
            ],
            [
             1,
             "#f0f921"
            ]
           ]
          },
          "colorway": [
           "#636efa",
           "#EF553B",
           "#00cc96",
           "#ab63fa",
           "#FFA15A",
           "#19d3f3",
           "#FF6692",
           "#B6E880",
           "#FF97FF",
           "#FECB52"
          ],
          "font": {
           "color": "#2a3f5f"
          },
          "geo": {
           "bgcolor": "white",
           "lakecolor": "white",
           "landcolor": "#E5ECF6",
           "showlakes": true,
           "showland": true,
           "subunitcolor": "white"
          },
          "hoverlabel": {
           "align": "left"
          },
          "hovermode": "closest",
          "mapbox": {
           "style": "light"
          },
          "paper_bgcolor": "white",
          "plot_bgcolor": "#E5ECF6",
          "polar": {
           "angularaxis": {
            "gridcolor": "white",
            "linecolor": "white",
            "ticks": ""
           },
           "bgcolor": "#E5ECF6",
           "radialaxis": {
            "gridcolor": "white",
            "linecolor": "white",
            "ticks": ""
           }
          },
          "scene": {
           "xaxis": {
            "backgroundcolor": "#E5ECF6",
            "gridcolor": "white",
            "gridwidth": 2,
            "linecolor": "white",
            "showbackground": true,
            "ticks": "",
            "zerolinecolor": "white"
           },
           "yaxis": {
            "backgroundcolor": "#E5ECF6",
            "gridcolor": "white",
            "gridwidth": 2,
            "linecolor": "white",
            "showbackground": true,
            "ticks": "",
            "zerolinecolor": "white"
           },
           "zaxis": {
            "backgroundcolor": "#E5ECF6",
            "gridcolor": "white",
            "gridwidth": 2,
            "linecolor": "white",
            "showbackground": true,
            "ticks": "",
            "zerolinecolor": "white"
           }
          },
          "shapedefaults": {
           "line": {
            "color": "#2a3f5f"
           }
          },
          "ternary": {
           "aaxis": {
            "gridcolor": "white",
            "linecolor": "white",
            "ticks": ""
           },
           "baxis": {
            "gridcolor": "white",
            "linecolor": "white",
            "ticks": ""
           },
           "bgcolor": "#E5ECF6",
           "caxis": {
            "gridcolor": "white",
            "linecolor": "white",
            "ticks": ""
           }
          },
          "title": {
           "x": 0.05
          },
          "xaxis": {
           "automargin": true,
           "gridcolor": "white",
           "linecolor": "white",
           "ticks": "",
           "title": {
            "standoff": 15
           },
           "zerolinecolor": "white",
           "zerolinewidth": 2
          },
          "yaxis": {
           "automargin": true,
           "gridcolor": "white",
           "linecolor": "white",
           "ticks": "",
           "title": {
            "standoff": 15
           },
           "zerolinecolor": "white",
           "zerolinewidth": 2
          }
         }
        },
        "title": {
         "font": {
          "color": "#4D5663"
         }
        },
        "xaxis": {
         "gridcolor": "#E1E5ED",
         "showgrid": true,
         "tickfont": {
          "color": "#4D5663"
         },
         "title": {
          "font": {
           "color": "#4D5663"
          },
          "text": ""
         },
         "zerolinecolor": "#E1E5ED"
        },
        "yaxis": {
         "gridcolor": "#E1E5ED",
         "showgrid": true,
         "tickfont": {
          "color": "#4D5663"
         },
         "title": {
          "font": {
           "color": "#4D5663"
          },
          "text": ""
         },
         "zerolinecolor": "#E1E5ED"
        }
       }
      },
      "text/html": [
       "<div>                            <div id=\"63ff16cc-89a8-4970-a893-b6afb254974f\" class=\"plotly-graph-div\" style=\"height:525px; width:100%;\"></div>            <script type=\"text/javascript\">                require([\"plotly\"], function(Plotly) {                    window.PLOTLYENV=window.PLOTLYENV || {};\n",
       "                    window.PLOTLYENV.BASE_URL='https://plot.ly';                                    if (document.getElementById(\"63ff16cc-89a8-4970-a893-b6afb254974f\")) {                    Plotly.newPlot(                        \"63ff16cc-89a8-4970-a893-b6afb254974f\",                        [{\"marker\":{\"color\":\"rgba(255, 153, 51, 0.6)\",\"line\":{\"color\":\"rgba(255, 153, 51, 1.0)\",\"width\":1}},\"name\":\"Values\",\"orientation\":\"v\",\"text\":\"\",\"x\":[\"A\",\"B\",\"C\"],\"y\":[32,43,50],\"type\":\"bar\"}],                        {\"legend\":{\"bgcolor\":\"#F5F6F9\",\"font\":{\"color\":\"#4D5663\"}},\"paper_bgcolor\":\"#F5F6F9\",\"plot_bgcolor\":\"#F5F6F9\",\"template\":{\"data\":{\"barpolar\":[{\"marker\":{\"line\":{\"color\":\"#E5ECF6\",\"width\":0.5},\"pattern\":{\"fillmode\":\"overlay\",\"size\":10,\"solidity\":0.2}},\"type\":\"barpolar\"}],\"bar\":[{\"error_x\":{\"color\":\"#2a3f5f\"},\"error_y\":{\"color\":\"#2a3f5f\"},\"marker\":{\"line\":{\"color\":\"#E5ECF6\",\"width\":0.5},\"pattern\":{\"fillmode\":\"overlay\",\"size\":10,\"solidity\":0.2}},\"type\":\"bar\"}],\"carpet\":[{\"aaxis\":{\"endlinecolor\":\"#2a3f5f\",\"gridcolor\":\"white\",\"linecolor\":\"white\",\"minorgridcolor\":\"white\",\"startlinecolor\":\"#2a3f5f\"},\"baxis\":{\"endlinecolor\":\"#2a3f5f\",\"gridcolor\":\"white\",\"linecolor\":\"white\",\"minorgridcolor\":\"white\",\"startlinecolor\":\"#2a3f5f\"},\"type\":\"carpet\"}],\"choropleth\":[{\"colorbar\":{\"outlinewidth\":0,\"ticks\":\"\"},\"type\":\"choropleth\"}],\"contourcarpet\":[{\"colorbar\":{\"outlinewidth\":0,\"ticks\":\"\"},\"type\":\"contourcarpet\"}],\"contour\":[{\"colorbar\":{\"outlinewidth\":0,\"ticks\":\"\"},\"colorscale\":[[0.0,\"#0d0887\"],[0.1111111111111111,\"#46039f\"],[0.2222222222222222,\"#7201a8\"],[0.3333333333333333,\"#9c179e\"],[0.4444444444444444,\"#bd3786\"],[0.5555555555555556,\"#d8576b\"],[0.6666666666666666,\"#ed7953\"],[0.7777777777777778,\"#fb9f3a\"],[0.8888888888888888,\"#fdca26\"],[1.0,\"#f0f921\"]],\"type\":\"contour\"}],\"heatmapgl\":[{\"colorbar\":{\"outlinewidth\":0,\"ticks\":\"\"},\"colorscale\":[[0.0,\"#0d0887\"],[0.1111111111111111,\"#46039f\"],[0.2222222222222222,\"#7201a8\"],[0.3333333333333333,\"#9c179e\"],[0.4444444444444444,\"#bd3786\"],[0.5555555555555556,\"#d8576b\"],[0.6666666666666666,\"#ed7953\"],[0.7777777777777778,\"#fb9f3a\"],[0.8888888888888888,\"#fdca26\"],[1.0,\"#f0f921\"]],\"type\":\"heatmapgl\"}],\"heatmap\":[{\"colorbar\":{\"outlinewidth\":0,\"ticks\":\"\"},\"colorscale\":[[0.0,\"#0d0887\"],[0.1111111111111111,\"#46039f\"],[0.2222222222222222,\"#7201a8\"],[0.3333333333333333,\"#9c179e\"],[0.4444444444444444,\"#bd3786\"],[0.5555555555555556,\"#d8576b\"],[0.6666666666666666,\"#ed7953\"],[0.7777777777777778,\"#fb9f3a\"],[0.8888888888888888,\"#fdca26\"],[1.0,\"#f0f921\"]],\"type\":\"heatmap\"}],\"histogram2dcontour\":[{\"colorbar\":{\"outlinewidth\":0,\"ticks\":\"\"},\"colorscale\":[[0.0,\"#0d0887\"],[0.1111111111111111,\"#46039f\"],[0.2222222222222222,\"#7201a8\"],[0.3333333333333333,\"#9c179e\"],[0.4444444444444444,\"#bd3786\"],[0.5555555555555556,\"#d8576b\"],[0.6666666666666666,\"#ed7953\"],[0.7777777777777778,\"#fb9f3a\"],[0.8888888888888888,\"#fdca26\"],[1.0,\"#f0f921\"]],\"type\":\"histogram2dcontour\"}],\"histogram2d\":[{\"colorbar\":{\"outlinewidth\":0,\"ticks\":\"\"},\"colorscale\":[[0.0,\"#0d0887\"],[0.1111111111111111,\"#46039f\"],[0.2222222222222222,\"#7201a8\"],[0.3333333333333333,\"#9c179e\"],[0.4444444444444444,\"#bd3786\"],[0.5555555555555556,\"#d8576b\"],[0.6666666666666666,\"#ed7953\"],[0.7777777777777778,\"#fb9f3a\"],[0.8888888888888888,\"#fdca26\"],[1.0,\"#f0f921\"]],\"type\":\"histogram2d\"}],\"histogram\":[{\"marker\":{\"pattern\":{\"fillmode\":\"overlay\",\"size\":10,\"solidity\":0.2}},\"type\":\"histogram\"}],\"mesh3d\":[{\"colorbar\":{\"outlinewidth\":0,\"ticks\":\"\"},\"type\":\"mesh3d\"}],\"parcoords\":[{\"line\":{\"colorbar\":{\"outlinewidth\":0,\"ticks\":\"\"}},\"type\":\"parcoords\"}],\"pie\":[{\"automargin\":true,\"type\":\"pie\"}],\"scatter3d\":[{\"line\":{\"colorbar\":{\"outlinewidth\":0,\"ticks\":\"\"}},\"marker\":{\"colorbar\":{\"outlinewidth\":0,\"ticks\":\"\"}},\"type\":\"scatter3d\"}],\"scattercarpet\":[{\"marker\":{\"colorbar\":{\"outlinewidth\":0,\"ticks\":\"\"}},\"type\":\"scattercarpet\"}],\"scattergeo\":[{\"marker\":{\"colorbar\":{\"outlinewidth\":0,\"ticks\":\"\"}},\"type\":\"scattergeo\"}],\"scattergl\":[{\"marker\":{\"colorbar\":{\"outlinewidth\":0,\"ticks\":\"\"}},\"type\":\"scattergl\"}],\"scattermapbox\":[{\"marker\":{\"colorbar\":{\"outlinewidth\":0,\"ticks\":\"\"}},\"type\":\"scattermapbox\"}],\"scatterpolargl\":[{\"marker\":{\"colorbar\":{\"outlinewidth\":0,\"ticks\":\"\"}},\"type\":\"scatterpolargl\"}],\"scatterpolar\":[{\"marker\":{\"colorbar\":{\"outlinewidth\":0,\"ticks\":\"\"}},\"type\":\"scatterpolar\"}],\"scatter\":[{\"fillpattern\":{\"fillmode\":\"overlay\",\"size\":10,\"solidity\":0.2},\"type\":\"scatter\"}],\"scatterternary\":[{\"marker\":{\"colorbar\":{\"outlinewidth\":0,\"ticks\":\"\"}},\"type\":\"scatterternary\"}],\"surface\":[{\"colorbar\":{\"outlinewidth\":0,\"ticks\":\"\"},\"colorscale\":[[0.0,\"#0d0887\"],[0.1111111111111111,\"#46039f\"],[0.2222222222222222,\"#7201a8\"],[0.3333333333333333,\"#9c179e\"],[0.4444444444444444,\"#bd3786\"],[0.5555555555555556,\"#d8576b\"],[0.6666666666666666,\"#ed7953\"],[0.7777777777777778,\"#fb9f3a\"],[0.8888888888888888,\"#fdca26\"],[1.0,\"#f0f921\"]],\"type\":\"surface\"}],\"table\":[{\"cells\":{\"fill\":{\"color\":\"#EBF0F8\"},\"line\":{\"color\":\"white\"}},\"header\":{\"fill\":{\"color\":\"#C8D4E3\"},\"line\":{\"color\":\"white\"}},\"type\":\"table\"}]},\"layout\":{\"annotationdefaults\":{\"arrowcolor\":\"#2a3f5f\",\"arrowhead\":0,\"arrowwidth\":1},\"autotypenumbers\":\"strict\",\"coloraxis\":{\"colorbar\":{\"outlinewidth\":0,\"ticks\":\"\"}},\"colorscale\":{\"diverging\":[[0,\"#8e0152\"],[0.1,\"#c51b7d\"],[0.2,\"#de77ae\"],[0.3,\"#f1b6da\"],[0.4,\"#fde0ef\"],[0.5,\"#f7f7f7\"],[0.6,\"#e6f5d0\"],[0.7,\"#b8e186\"],[0.8,\"#7fbc41\"],[0.9,\"#4d9221\"],[1,\"#276419\"]],\"sequential\":[[0.0,\"#0d0887\"],[0.1111111111111111,\"#46039f\"],[0.2222222222222222,\"#7201a8\"],[0.3333333333333333,\"#9c179e\"],[0.4444444444444444,\"#bd3786\"],[0.5555555555555556,\"#d8576b\"],[0.6666666666666666,\"#ed7953\"],[0.7777777777777778,\"#fb9f3a\"],[0.8888888888888888,\"#fdca26\"],[1.0,\"#f0f921\"]],\"sequentialminus\":[[0.0,\"#0d0887\"],[0.1111111111111111,\"#46039f\"],[0.2222222222222222,\"#7201a8\"],[0.3333333333333333,\"#9c179e\"],[0.4444444444444444,\"#bd3786\"],[0.5555555555555556,\"#d8576b\"],[0.6666666666666666,\"#ed7953\"],[0.7777777777777778,\"#fb9f3a\"],[0.8888888888888888,\"#fdca26\"],[1.0,\"#f0f921\"]]},\"colorway\":[\"#636efa\",\"#EF553B\",\"#00cc96\",\"#ab63fa\",\"#FFA15A\",\"#19d3f3\",\"#FF6692\",\"#B6E880\",\"#FF97FF\",\"#FECB52\"],\"font\":{\"color\":\"#2a3f5f\"},\"geo\":{\"bgcolor\":\"white\",\"lakecolor\":\"white\",\"landcolor\":\"#E5ECF6\",\"showlakes\":true,\"showland\":true,\"subunitcolor\":\"white\"},\"hoverlabel\":{\"align\":\"left\"},\"hovermode\":\"closest\",\"mapbox\":{\"style\":\"light\"},\"paper_bgcolor\":\"white\",\"plot_bgcolor\":\"#E5ECF6\",\"polar\":{\"angularaxis\":{\"gridcolor\":\"white\",\"linecolor\":\"white\",\"ticks\":\"\"},\"bgcolor\":\"#E5ECF6\",\"radialaxis\":{\"gridcolor\":\"white\",\"linecolor\":\"white\",\"ticks\":\"\"}},\"scene\":{\"xaxis\":{\"backgroundcolor\":\"#E5ECF6\",\"gridcolor\":\"white\",\"gridwidth\":2,\"linecolor\":\"white\",\"showbackground\":true,\"ticks\":\"\",\"zerolinecolor\":\"white\"},\"yaxis\":{\"backgroundcolor\":\"#E5ECF6\",\"gridcolor\":\"white\",\"gridwidth\":2,\"linecolor\":\"white\",\"showbackground\":true,\"ticks\":\"\",\"zerolinecolor\":\"white\"},\"zaxis\":{\"backgroundcolor\":\"#E5ECF6\",\"gridcolor\":\"white\",\"gridwidth\":2,\"linecolor\":\"white\",\"showbackground\":true,\"ticks\":\"\",\"zerolinecolor\":\"white\"}},\"shapedefaults\":{\"line\":{\"color\":\"#2a3f5f\"}},\"ternary\":{\"aaxis\":{\"gridcolor\":\"white\",\"linecolor\":\"white\",\"ticks\":\"\"},\"baxis\":{\"gridcolor\":\"white\",\"linecolor\":\"white\",\"ticks\":\"\"},\"bgcolor\":\"#E5ECF6\",\"caxis\":{\"gridcolor\":\"white\",\"linecolor\":\"white\",\"ticks\":\"\"}},\"title\":{\"x\":0.05},\"xaxis\":{\"automargin\":true,\"gridcolor\":\"white\",\"linecolor\":\"white\",\"ticks\":\"\",\"title\":{\"standoff\":15},\"zerolinecolor\":\"white\",\"zerolinewidth\":2},\"yaxis\":{\"automargin\":true,\"gridcolor\":\"white\",\"linecolor\":\"white\",\"ticks\":\"\",\"title\":{\"standoff\":15},\"zerolinecolor\":\"white\",\"zerolinewidth\":2}}},\"title\":{\"font\":{\"color\":\"#4D5663\"}},\"xaxis\":{\"gridcolor\":\"#E1E5ED\",\"showgrid\":true,\"tickfont\":{\"color\":\"#4D5663\"},\"title\":{\"font\":{\"color\":\"#4D5663\"},\"text\":\"\"},\"zerolinecolor\":\"#E1E5ED\"},\"yaxis\":{\"gridcolor\":\"#E1E5ED\",\"showgrid\":true,\"tickfont\":{\"color\":\"#4D5663\"},\"title\":{\"font\":{\"color\":\"#4D5663\"},\"text\":\"\"},\"zerolinecolor\":\"#E1E5ED\"}},                        {\"showLink\": true, \"linkText\": \"Export to plot.ly\", \"plotlyServerURL\": \"https://plot.ly\", \"responsive\": true}                    ).then(function(){\n",
       "                            \n",
       "var gd = document.getElementById('63ff16cc-89a8-4970-a893-b6afb254974f');\n",
       "var x = new MutationObserver(function (mutations, observer) {{\n",
       "        var display = window.getComputedStyle(gd).display;\n",
       "        if (!display || display === 'none') {{\n",
       "            console.log([gd, 'removed!']);\n",
       "            Plotly.purge(gd);\n",
       "            observer.disconnect();\n",
       "        }}\n",
       "}});\n",
       "\n",
       "// Listen for the removal of the full notebook cells\n",
       "var notebookContainer = gd.closest('#notebook-container');\n",
       "if (notebookContainer) {{\n",
       "    x.observe(notebookContainer, {childList: true});\n",
       "}}\n",
       "\n",
       "// Listen for the clearing of the current output cell\n",
       "var outputEl = gd.closest('.output');\n",
       "if (outputEl) {{\n",
       "    x.observe(outputEl, {childList: true});\n",
       "}}\n",
       "\n",
       "                        })                };                });            </script>        </div>"
      ]
     },
     "metadata": {},
     "output_type": "display_data"
    }
   ],
   "source": [
    "df2.iplot(kind='bar',x='Category',y='Values')"
   ]
  },
  {
   "cell_type": "code",
   "execution_count": 29,
   "metadata": {},
   "outputs": [
    {
     "data": {
      "application/vnd.plotly.v1+json": {
       "config": {
        "linkText": "Export to plot.ly",
        "plotlyServerURL": "https://plot.ly",
        "showLink": true
       },
       "data": [
        {
         "marker": {
          "color": "rgba(255, 153, 51, 0.6)",
          "line": {
           "color": "rgba(255, 153, 51, 1.0)",
           "width": 1
          }
         },
         "name": "None",
         "orientation": "v",
         "text": "",
         "type": "bar",
         "x": [
          "A",
          "B",
          "C",
          "D"
         ],
         "y": [
          100,
          100,
          100,
          100
         ]
        }
       ],
       "layout": {
        "legend": {
         "bgcolor": "#F5F6F9",
         "font": {
          "color": "#4D5663"
         }
        },
        "paper_bgcolor": "#F5F6F9",
        "plot_bgcolor": "#F5F6F9",
        "template": {
         "data": {
          "bar": [
           {
            "error_x": {
             "color": "#2a3f5f"
            },
            "error_y": {
             "color": "#2a3f5f"
            },
            "marker": {
             "line": {
              "color": "#E5ECF6",
              "width": 0.5
             },
             "pattern": {
              "fillmode": "overlay",
              "size": 10,
              "solidity": 0.2
             }
            },
            "type": "bar"
           }
          ],
          "barpolar": [
           {
            "marker": {
             "line": {
              "color": "#E5ECF6",
              "width": 0.5
             },
             "pattern": {
              "fillmode": "overlay",
              "size": 10,
              "solidity": 0.2
             }
            },
            "type": "barpolar"
           }
          ],
          "carpet": [
           {
            "aaxis": {
             "endlinecolor": "#2a3f5f",
             "gridcolor": "white",
             "linecolor": "white",
             "minorgridcolor": "white",
             "startlinecolor": "#2a3f5f"
            },
            "baxis": {
             "endlinecolor": "#2a3f5f",
             "gridcolor": "white",
             "linecolor": "white",
             "minorgridcolor": "white",
             "startlinecolor": "#2a3f5f"
            },
            "type": "carpet"
           }
          ],
          "choropleth": [
           {
            "colorbar": {
             "outlinewidth": 0,
             "ticks": ""
            },
            "type": "choropleth"
           }
          ],
          "contour": [
           {
            "colorbar": {
             "outlinewidth": 0,
             "ticks": ""
            },
            "colorscale": [
             [
              0,
              "#0d0887"
             ],
             [
              0.1111111111111111,
              "#46039f"
             ],
             [
              0.2222222222222222,
              "#7201a8"
             ],
             [
              0.3333333333333333,
              "#9c179e"
             ],
             [
              0.4444444444444444,
              "#bd3786"
             ],
             [
              0.5555555555555556,
              "#d8576b"
             ],
             [
              0.6666666666666666,
              "#ed7953"
             ],
             [
              0.7777777777777778,
              "#fb9f3a"
             ],
             [
              0.8888888888888888,
              "#fdca26"
             ],
             [
              1,
              "#f0f921"
             ]
            ],
            "type": "contour"
           }
          ],
          "contourcarpet": [
           {
            "colorbar": {
             "outlinewidth": 0,
             "ticks": ""
            },
            "type": "contourcarpet"
           }
          ],
          "heatmap": [
           {
            "colorbar": {
             "outlinewidth": 0,
             "ticks": ""
            },
            "colorscale": [
             [
              0,
              "#0d0887"
             ],
             [
              0.1111111111111111,
              "#46039f"
             ],
             [
              0.2222222222222222,
              "#7201a8"
             ],
             [
              0.3333333333333333,
              "#9c179e"
             ],
             [
              0.4444444444444444,
              "#bd3786"
             ],
             [
              0.5555555555555556,
              "#d8576b"
             ],
             [
              0.6666666666666666,
              "#ed7953"
             ],
             [
              0.7777777777777778,
              "#fb9f3a"
             ],
             [
              0.8888888888888888,
              "#fdca26"
             ],
             [
              1,
              "#f0f921"
             ]
            ],
            "type": "heatmap"
           }
          ],
          "heatmapgl": [
           {
            "colorbar": {
             "outlinewidth": 0,
             "ticks": ""
            },
            "colorscale": [
             [
              0,
              "#0d0887"
             ],
             [
              0.1111111111111111,
              "#46039f"
             ],
             [
              0.2222222222222222,
              "#7201a8"
             ],
             [
              0.3333333333333333,
              "#9c179e"
             ],
             [
              0.4444444444444444,
              "#bd3786"
             ],
             [
              0.5555555555555556,
              "#d8576b"
             ],
             [
              0.6666666666666666,
              "#ed7953"
             ],
             [
              0.7777777777777778,
              "#fb9f3a"
             ],
             [
              0.8888888888888888,
              "#fdca26"
             ],
             [
              1,
              "#f0f921"
             ]
            ],
            "type": "heatmapgl"
           }
          ],
          "histogram": [
           {
            "marker": {
             "pattern": {
              "fillmode": "overlay",
              "size": 10,
              "solidity": 0.2
             }
            },
            "type": "histogram"
           }
          ],
          "histogram2d": [
           {
            "colorbar": {
             "outlinewidth": 0,
             "ticks": ""
            },
            "colorscale": [
             [
              0,
              "#0d0887"
             ],
             [
              0.1111111111111111,
              "#46039f"
             ],
             [
              0.2222222222222222,
              "#7201a8"
             ],
             [
              0.3333333333333333,
              "#9c179e"
             ],
             [
              0.4444444444444444,
              "#bd3786"
             ],
             [
              0.5555555555555556,
              "#d8576b"
             ],
             [
              0.6666666666666666,
              "#ed7953"
             ],
             [
              0.7777777777777778,
              "#fb9f3a"
             ],
             [
              0.8888888888888888,
              "#fdca26"
             ],
             [
              1,
              "#f0f921"
             ]
            ],
            "type": "histogram2d"
           }
          ],
          "histogram2dcontour": [
           {
            "colorbar": {
             "outlinewidth": 0,
             "ticks": ""
            },
            "colorscale": [
             [
              0,
              "#0d0887"
             ],
             [
              0.1111111111111111,
              "#46039f"
             ],
             [
              0.2222222222222222,
              "#7201a8"
             ],
             [
              0.3333333333333333,
              "#9c179e"
             ],
             [
              0.4444444444444444,
              "#bd3786"
             ],
             [
              0.5555555555555556,
              "#d8576b"
             ],
             [
              0.6666666666666666,
              "#ed7953"
             ],
             [
              0.7777777777777778,
              "#fb9f3a"
             ],
             [
              0.8888888888888888,
              "#fdca26"
             ],
             [
              1,
              "#f0f921"
             ]
            ],
            "type": "histogram2dcontour"
           }
          ],
          "mesh3d": [
           {
            "colorbar": {
             "outlinewidth": 0,
             "ticks": ""
            },
            "type": "mesh3d"
           }
          ],
          "parcoords": [
           {
            "line": {
             "colorbar": {
              "outlinewidth": 0,
              "ticks": ""
             }
            },
            "type": "parcoords"
           }
          ],
          "pie": [
           {
            "automargin": true,
            "type": "pie"
           }
          ],
          "scatter": [
           {
            "fillpattern": {
             "fillmode": "overlay",
             "size": 10,
             "solidity": 0.2
            },
            "type": "scatter"
           }
          ],
          "scatter3d": [
           {
            "line": {
             "colorbar": {
              "outlinewidth": 0,
              "ticks": ""
             }
            },
            "marker": {
             "colorbar": {
              "outlinewidth": 0,
              "ticks": ""
             }
            },
            "type": "scatter3d"
           }
          ],
          "scattercarpet": [
           {
            "marker": {
             "colorbar": {
              "outlinewidth": 0,
              "ticks": ""
             }
            },
            "type": "scattercarpet"
           }
          ],
          "scattergeo": [
           {
            "marker": {
             "colorbar": {
              "outlinewidth": 0,
              "ticks": ""
             }
            },
            "type": "scattergeo"
           }
          ],
          "scattergl": [
           {
            "marker": {
             "colorbar": {
              "outlinewidth": 0,
              "ticks": ""
             }
            },
            "type": "scattergl"
           }
          ],
          "scattermapbox": [
           {
            "marker": {
             "colorbar": {
              "outlinewidth": 0,
              "ticks": ""
             }
            },
            "type": "scattermapbox"
           }
          ],
          "scatterpolar": [
           {
            "marker": {
             "colorbar": {
              "outlinewidth": 0,
              "ticks": ""
             }
            },
            "type": "scatterpolar"
           }
          ],
          "scatterpolargl": [
           {
            "marker": {
             "colorbar": {
              "outlinewidth": 0,
              "ticks": ""
             }
            },
            "type": "scatterpolargl"
           }
          ],
          "scatterternary": [
           {
            "marker": {
             "colorbar": {
              "outlinewidth": 0,
              "ticks": ""
             }
            },
            "type": "scatterternary"
           }
          ],
          "surface": [
           {
            "colorbar": {
             "outlinewidth": 0,
             "ticks": ""
            },
            "colorscale": [
             [
              0,
              "#0d0887"
             ],
             [
              0.1111111111111111,
              "#46039f"
             ],
             [
              0.2222222222222222,
              "#7201a8"
             ],
             [
              0.3333333333333333,
              "#9c179e"
             ],
             [
              0.4444444444444444,
              "#bd3786"
             ],
             [
              0.5555555555555556,
              "#d8576b"
             ],
             [
              0.6666666666666666,
              "#ed7953"
             ],
             [
              0.7777777777777778,
              "#fb9f3a"
             ],
             [
              0.8888888888888888,
              "#fdca26"
             ],
             [
              1,
              "#f0f921"
             ]
            ],
            "type": "surface"
           }
          ],
          "table": [
           {
            "cells": {
             "fill": {
              "color": "#EBF0F8"
             },
             "line": {
              "color": "white"
             }
            },
            "header": {
             "fill": {
              "color": "#C8D4E3"
             },
             "line": {
              "color": "white"
             }
            },
            "type": "table"
           }
          ]
         },
         "layout": {
          "annotationdefaults": {
           "arrowcolor": "#2a3f5f",
           "arrowhead": 0,
           "arrowwidth": 1
          },
          "autotypenumbers": "strict",
          "coloraxis": {
           "colorbar": {
            "outlinewidth": 0,
            "ticks": ""
           }
          },
          "colorscale": {
           "diverging": [
            [
             0,
             "#8e0152"
            ],
            [
             0.1,
             "#c51b7d"
            ],
            [
             0.2,
             "#de77ae"
            ],
            [
             0.3,
             "#f1b6da"
            ],
            [
             0.4,
             "#fde0ef"
            ],
            [
             0.5,
             "#f7f7f7"
            ],
            [
             0.6,
             "#e6f5d0"
            ],
            [
             0.7,
             "#b8e186"
            ],
            [
             0.8,
             "#7fbc41"
            ],
            [
             0.9,
             "#4d9221"
            ],
            [
             1,
             "#276419"
            ]
           ],
           "sequential": [
            [
             0,
             "#0d0887"
            ],
            [
             0.1111111111111111,
             "#46039f"
            ],
            [
             0.2222222222222222,
             "#7201a8"
            ],
            [
             0.3333333333333333,
             "#9c179e"
            ],
            [
             0.4444444444444444,
             "#bd3786"
            ],
            [
             0.5555555555555556,
             "#d8576b"
            ],
            [
             0.6666666666666666,
             "#ed7953"
            ],
            [
             0.7777777777777778,
             "#fb9f3a"
            ],
            [
             0.8888888888888888,
             "#fdca26"
            ],
            [
             1,
             "#f0f921"
            ]
           ],
           "sequentialminus": [
            [
             0,
             "#0d0887"
            ],
            [
             0.1111111111111111,
             "#46039f"
            ],
            [
             0.2222222222222222,
             "#7201a8"
            ],
            [
             0.3333333333333333,
             "#9c179e"
            ],
            [
             0.4444444444444444,
             "#bd3786"
            ],
            [
             0.5555555555555556,
             "#d8576b"
            ],
            [
             0.6666666666666666,
             "#ed7953"
            ],
            [
             0.7777777777777778,
             "#fb9f3a"
            ],
            [
             0.8888888888888888,
             "#fdca26"
            ],
            [
             1,
             "#f0f921"
            ]
           ]
          },
          "colorway": [
           "#636efa",
           "#EF553B",
           "#00cc96",
           "#ab63fa",
           "#FFA15A",
           "#19d3f3",
           "#FF6692",
           "#B6E880",
           "#FF97FF",
           "#FECB52"
          ],
          "font": {
           "color": "#2a3f5f"
          },
          "geo": {
           "bgcolor": "white",
           "lakecolor": "white",
           "landcolor": "#E5ECF6",
           "showlakes": true,
           "showland": true,
           "subunitcolor": "white"
          },
          "hoverlabel": {
           "align": "left"
          },
          "hovermode": "closest",
          "mapbox": {
           "style": "light"
          },
          "paper_bgcolor": "white",
          "plot_bgcolor": "#E5ECF6",
          "polar": {
           "angularaxis": {
            "gridcolor": "white",
            "linecolor": "white",
            "ticks": ""
           },
           "bgcolor": "#E5ECF6",
           "radialaxis": {
            "gridcolor": "white",
            "linecolor": "white",
            "ticks": ""
           }
          },
          "scene": {
           "xaxis": {
            "backgroundcolor": "#E5ECF6",
            "gridcolor": "white",
            "gridwidth": 2,
            "linecolor": "white",
            "showbackground": true,
            "ticks": "",
            "zerolinecolor": "white"
           },
           "yaxis": {
            "backgroundcolor": "#E5ECF6",
            "gridcolor": "white",
            "gridwidth": 2,
            "linecolor": "white",
            "showbackground": true,
            "ticks": "",
            "zerolinecolor": "white"
           },
           "zaxis": {
            "backgroundcolor": "#E5ECF6",
            "gridcolor": "white",
            "gridwidth": 2,
            "linecolor": "white",
            "showbackground": true,
            "ticks": "",
            "zerolinecolor": "white"
           }
          },
          "shapedefaults": {
           "line": {
            "color": "#2a3f5f"
           }
          },
          "ternary": {
           "aaxis": {
            "gridcolor": "white",
            "linecolor": "white",
            "ticks": ""
           },
           "baxis": {
            "gridcolor": "white",
            "linecolor": "white",
            "ticks": ""
           },
           "bgcolor": "#E5ECF6",
           "caxis": {
            "gridcolor": "white",
            "linecolor": "white",
            "ticks": ""
           }
          },
          "title": {
           "x": 0.05
          },
          "xaxis": {
           "automargin": true,
           "gridcolor": "white",
           "linecolor": "white",
           "ticks": "",
           "title": {
            "standoff": 15
           },
           "zerolinecolor": "white",
           "zerolinewidth": 2
          },
          "yaxis": {
           "automargin": true,
           "gridcolor": "white",
           "linecolor": "white",
           "ticks": "",
           "title": {
            "standoff": 15
           },
           "zerolinecolor": "white",
           "zerolinewidth": 2
          }
         }
        },
        "title": {
         "font": {
          "color": "#4D5663"
         }
        },
        "xaxis": {
         "gridcolor": "#E1E5ED",
         "showgrid": true,
         "tickfont": {
          "color": "#4D5663"
         },
         "title": {
          "font": {
           "color": "#4D5663"
          },
          "text": ""
         },
         "zerolinecolor": "#E1E5ED"
        },
        "yaxis": {
         "gridcolor": "#E1E5ED",
         "showgrid": true,
         "tickfont": {
          "color": "#4D5663"
         },
         "title": {
          "font": {
           "color": "#4D5663"
          },
          "text": ""
         },
         "zerolinecolor": "#E1E5ED"
        }
       }
      },
      "text/html": [
       "<div>                            <div id=\"9d8c3e82-53f2-43ae-ad12-31f4525e5a75\" class=\"plotly-graph-div\" style=\"height:525px; width:100%;\"></div>            <script type=\"text/javascript\">                require([\"plotly\"], function(Plotly) {                    window.PLOTLYENV=window.PLOTLYENV || {};\n",
       "                    window.PLOTLYENV.BASE_URL='https://plot.ly';                                    if (document.getElementById(\"9d8c3e82-53f2-43ae-ad12-31f4525e5a75\")) {                    Plotly.newPlot(                        \"9d8c3e82-53f2-43ae-ad12-31f4525e5a75\",                        [{\"marker\":{\"color\":\"rgba(255, 153, 51, 0.6)\",\"line\":{\"color\":\"rgba(255, 153, 51, 1.0)\",\"width\":1}},\"name\":\"None\",\"orientation\":\"v\",\"text\":\"\",\"x\":[\"A\",\"B\",\"C\",\"D\"],\"y\":[100,100,100,100],\"type\":\"bar\"}],                        {\"legend\":{\"bgcolor\":\"#F5F6F9\",\"font\":{\"color\":\"#4D5663\"}},\"paper_bgcolor\":\"#F5F6F9\",\"plot_bgcolor\":\"#F5F6F9\",\"template\":{\"data\":{\"barpolar\":[{\"marker\":{\"line\":{\"color\":\"#E5ECF6\",\"width\":0.5},\"pattern\":{\"fillmode\":\"overlay\",\"size\":10,\"solidity\":0.2}},\"type\":\"barpolar\"}],\"bar\":[{\"error_x\":{\"color\":\"#2a3f5f\"},\"error_y\":{\"color\":\"#2a3f5f\"},\"marker\":{\"line\":{\"color\":\"#E5ECF6\",\"width\":0.5},\"pattern\":{\"fillmode\":\"overlay\",\"size\":10,\"solidity\":0.2}},\"type\":\"bar\"}],\"carpet\":[{\"aaxis\":{\"endlinecolor\":\"#2a3f5f\",\"gridcolor\":\"white\",\"linecolor\":\"white\",\"minorgridcolor\":\"white\",\"startlinecolor\":\"#2a3f5f\"},\"baxis\":{\"endlinecolor\":\"#2a3f5f\",\"gridcolor\":\"white\",\"linecolor\":\"white\",\"minorgridcolor\":\"white\",\"startlinecolor\":\"#2a3f5f\"},\"type\":\"carpet\"}],\"choropleth\":[{\"colorbar\":{\"outlinewidth\":0,\"ticks\":\"\"},\"type\":\"choropleth\"}],\"contourcarpet\":[{\"colorbar\":{\"outlinewidth\":0,\"ticks\":\"\"},\"type\":\"contourcarpet\"}],\"contour\":[{\"colorbar\":{\"outlinewidth\":0,\"ticks\":\"\"},\"colorscale\":[[0.0,\"#0d0887\"],[0.1111111111111111,\"#46039f\"],[0.2222222222222222,\"#7201a8\"],[0.3333333333333333,\"#9c179e\"],[0.4444444444444444,\"#bd3786\"],[0.5555555555555556,\"#d8576b\"],[0.6666666666666666,\"#ed7953\"],[0.7777777777777778,\"#fb9f3a\"],[0.8888888888888888,\"#fdca26\"],[1.0,\"#f0f921\"]],\"type\":\"contour\"}],\"heatmapgl\":[{\"colorbar\":{\"outlinewidth\":0,\"ticks\":\"\"},\"colorscale\":[[0.0,\"#0d0887\"],[0.1111111111111111,\"#46039f\"],[0.2222222222222222,\"#7201a8\"],[0.3333333333333333,\"#9c179e\"],[0.4444444444444444,\"#bd3786\"],[0.5555555555555556,\"#d8576b\"],[0.6666666666666666,\"#ed7953\"],[0.7777777777777778,\"#fb9f3a\"],[0.8888888888888888,\"#fdca26\"],[1.0,\"#f0f921\"]],\"type\":\"heatmapgl\"}],\"heatmap\":[{\"colorbar\":{\"outlinewidth\":0,\"ticks\":\"\"},\"colorscale\":[[0.0,\"#0d0887\"],[0.1111111111111111,\"#46039f\"],[0.2222222222222222,\"#7201a8\"],[0.3333333333333333,\"#9c179e\"],[0.4444444444444444,\"#bd3786\"],[0.5555555555555556,\"#d8576b\"],[0.6666666666666666,\"#ed7953\"],[0.7777777777777778,\"#fb9f3a\"],[0.8888888888888888,\"#fdca26\"],[1.0,\"#f0f921\"]],\"type\":\"heatmap\"}],\"histogram2dcontour\":[{\"colorbar\":{\"outlinewidth\":0,\"ticks\":\"\"},\"colorscale\":[[0.0,\"#0d0887\"],[0.1111111111111111,\"#46039f\"],[0.2222222222222222,\"#7201a8\"],[0.3333333333333333,\"#9c179e\"],[0.4444444444444444,\"#bd3786\"],[0.5555555555555556,\"#d8576b\"],[0.6666666666666666,\"#ed7953\"],[0.7777777777777778,\"#fb9f3a\"],[0.8888888888888888,\"#fdca26\"],[1.0,\"#f0f921\"]],\"type\":\"histogram2dcontour\"}],\"histogram2d\":[{\"colorbar\":{\"outlinewidth\":0,\"ticks\":\"\"},\"colorscale\":[[0.0,\"#0d0887\"],[0.1111111111111111,\"#46039f\"],[0.2222222222222222,\"#7201a8\"],[0.3333333333333333,\"#9c179e\"],[0.4444444444444444,\"#bd3786\"],[0.5555555555555556,\"#d8576b\"],[0.6666666666666666,\"#ed7953\"],[0.7777777777777778,\"#fb9f3a\"],[0.8888888888888888,\"#fdca26\"],[1.0,\"#f0f921\"]],\"type\":\"histogram2d\"}],\"histogram\":[{\"marker\":{\"pattern\":{\"fillmode\":\"overlay\",\"size\":10,\"solidity\":0.2}},\"type\":\"histogram\"}],\"mesh3d\":[{\"colorbar\":{\"outlinewidth\":0,\"ticks\":\"\"},\"type\":\"mesh3d\"}],\"parcoords\":[{\"line\":{\"colorbar\":{\"outlinewidth\":0,\"ticks\":\"\"}},\"type\":\"parcoords\"}],\"pie\":[{\"automargin\":true,\"type\":\"pie\"}],\"scatter3d\":[{\"line\":{\"colorbar\":{\"outlinewidth\":0,\"ticks\":\"\"}},\"marker\":{\"colorbar\":{\"outlinewidth\":0,\"ticks\":\"\"}},\"type\":\"scatter3d\"}],\"scattercarpet\":[{\"marker\":{\"colorbar\":{\"outlinewidth\":0,\"ticks\":\"\"}},\"type\":\"scattercarpet\"}],\"scattergeo\":[{\"marker\":{\"colorbar\":{\"outlinewidth\":0,\"ticks\":\"\"}},\"type\":\"scattergeo\"}],\"scattergl\":[{\"marker\":{\"colorbar\":{\"outlinewidth\":0,\"ticks\":\"\"}},\"type\":\"scattergl\"}],\"scattermapbox\":[{\"marker\":{\"colorbar\":{\"outlinewidth\":0,\"ticks\":\"\"}},\"type\":\"scattermapbox\"}],\"scatterpolargl\":[{\"marker\":{\"colorbar\":{\"outlinewidth\":0,\"ticks\":\"\"}},\"type\":\"scatterpolargl\"}],\"scatterpolar\":[{\"marker\":{\"colorbar\":{\"outlinewidth\":0,\"ticks\":\"\"}},\"type\":\"scatterpolar\"}],\"scatter\":[{\"fillpattern\":{\"fillmode\":\"overlay\",\"size\":10,\"solidity\":0.2},\"type\":\"scatter\"}],\"scatterternary\":[{\"marker\":{\"colorbar\":{\"outlinewidth\":0,\"ticks\":\"\"}},\"type\":\"scatterternary\"}],\"surface\":[{\"colorbar\":{\"outlinewidth\":0,\"ticks\":\"\"},\"colorscale\":[[0.0,\"#0d0887\"],[0.1111111111111111,\"#46039f\"],[0.2222222222222222,\"#7201a8\"],[0.3333333333333333,\"#9c179e\"],[0.4444444444444444,\"#bd3786\"],[0.5555555555555556,\"#d8576b\"],[0.6666666666666666,\"#ed7953\"],[0.7777777777777778,\"#fb9f3a\"],[0.8888888888888888,\"#fdca26\"],[1.0,\"#f0f921\"]],\"type\":\"surface\"}],\"table\":[{\"cells\":{\"fill\":{\"color\":\"#EBF0F8\"},\"line\":{\"color\":\"white\"}},\"header\":{\"fill\":{\"color\":\"#C8D4E3\"},\"line\":{\"color\":\"white\"}},\"type\":\"table\"}]},\"layout\":{\"annotationdefaults\":{\"arrowcolor\":\"#2a3f5f\",\"arrowhead\":0,\"arrowwidth\":1},\"autotypenumbers\":\"strict\",\"coloraxis\":{\"colorbar\":{\"outlinewidth\":0,\"ticks\":\"\"}},\"colorscale\":{\"diverging\":[[0,\"#8e0152\"],[0.1,\"#c51b7d\"],[0.2,\"#de77ae\"],[0.3,\"#f1b6da\"],[0.4,\"#fde0ef\"],[0.5,\"#f7f7f7\"],[0.6,\"#e6f5d0\"],[0.7,\"#b8e186\"],[0.8,\"#7fbc41\"],[0.9,\"#4d9221\"],[1,\"#276419\"]],\"sequential\":[[0.0,\"#0d0887\"],[0.1111111111111111,\"#46039f\"],[0.2222222222222222,\"#7201a8\"],[0.3333333333333333,\"#9c179e\"],[0.4444444444444444,\"#bd3786\"],[0.5555555555555556,\"#d8576b\"],[0.6666666666666666,\"#ed7953\"],[0.7777777777777778,\"#fb9f3a\"],[0.8888888888888888,\"#fdca26\"],[1.0,\"#f0f921\"]],\"sequentialminus\":[[0.0,\"#0d0887\"],[0.1111111111111111,\"#46039f\"],[0.2222222222222222,\"#7201a8\"],[0.3333333333333333,\"#9c179e\"],[0.4444444444444444,\"#bd3786\"],[0.5555555555555556,\"#d8576b\"],[0.6666666666666666,\"#ed7953\"],[0.7777777777777778,\"#fb9f3a\"],[0.8888888888888888,\"#fdca26\"],[1.0,\"#f0f921\"]]},\"colorway\":[\"#636efa\",\"#EF553B\",\"#00cc96\",\"#ab63fa\",\"#FFA15A\",\"#19d3f3\",\"#FF6692\",\"#B6E880\",\"#FF97FF\",\"#FECB52\"],\"font\":{\"color\":\"#2a3f5f\"},\"geo\":{\"bgcolor\":\"white\",\"lakecolor\":\"white\",\"landcolor\":\"#E5ECF6\",\"showlakes\":true,\"showland\":true,\"subunitcolor\":\"white\"},\"hoverlabel\":{\"align\":\"left\"},\"hovermode\":\"closest\",\"mapbox\":{\"style\":\"light\"},\"paper_bgcolor\":\"white\",\"plot_bgcolor\":\"#E5ECF6\",\"polar\":{\"angularaxis\":{\"gridcolor\":\"white\",\"linecolor\":\"white\",\"ticks\":\"\"},\"bgcolor\":\"#E5ECF6\",\"radialaxis\":{\"gridcolor\":\"white\",\"linecolor\":\"white\",\"ticks\":\"\"}},\"scene\":{\"xaxis\":{\"backgroundcolor\":\"#E5ECF6\",\"gridcolor\":\"white\",\"gridwidth\":2,\"linecolor\":\"white\",\"showbackground\":true,\"ticks\":\"\",\"zerolinecolor\":\"white\"},\"yaxis\":{\"backgroundcolor\":\"#E5ECF6\",\"gridcolor\":\"white\",\"gridwidth\":2,\"linecolor\":\"white\",\"showbackground\":true,\"ticks\":\"\",\"zerolinecolor\":\"white\"},\"zaxis\":{\"backgroundcolor\":\"#E5ECF6\",\"gridcolor\":\"white\",\"gridwidth\":2,\"linecolor\":\"white\",\"showbackground\":true,\"ticks\":\"\",\"zerolinecolor\":\"white\"}},\"shapedefaults\":{\"line\":{\"color\":\"#2a3f5f\"}},\"ternary\":{\"aaxis\":{\"gridcolor\":\"white\",\"linecolor\":\"white\",\"ticks\":\"\"},\"baxis\":{\"gridcolor\":\"white\",\"linecolor\":\"white\",\"ticks\":\"\"},\"bgcolor\":\"#E5ECF6\",\"caxis\":{\"gridcolor\":\"white\",\"linecolor\":\"white\",\"ticks\":\"\"}},\"title\":{\"x\":0.05},\"xaxis\":{\"automargin\":true,\"gridcolor\":\"white\",\"linecolor\":\"white\",\"ticks\":\"\",\"title\":{\"standoff\":15},\"zerolinecolor\":\"white\",\"zerolinewidth\":2},\"yaxis\":{\"automargin\":true,\"gridcolor\":\"white\",\"linecolor\":\"white\",\"ticks\":\"\",\"title\":{\"standoff\":15},\"zerolinecolor\":\"white\",\"zerolinewidth\":2}}},\"title\":{\"font\":{\"color\":\"#4D5663\"}},\"xaxis\":{\"gridcolor\":\"#E1E5ED\",\"showgrid\":true,\"tickfont\":{\"color\":\"#4D5663\"},\"title\":{\"font\":{\"color\":\"#4D5663\"},\"text\":\"\"},\"zerolinecolor\":\"#E1E5ED\"},\"yaxis\":{\"gridcolor\":\"#E1E5ED\",\"showgrid\":true,\"tickfont\":{\"color\":\"#4D5663\"},\"title\":{\"font\":{\"color\":\"#4D5663\"},\"text\":\"\"},\"zerolinecolor\":\"#E1E5ED\"}},                        {\"showLink\": true, \"linkText\": \"Export to plot.ly\", \"plotlyServerURL\": \"https://plot.ly\", \"responsive\": true}                    ).then(function(){\n",
       "                            \n",
       "var gd = document.getElementById('9d8c3e82-53f2-43ae-ad12-31f4525e5a75');\n",
       "var x = new MutationObserver(function (mutations, observer) {{\n",
       "        var display = window.getComputedStyle(gd).display;\n",
       "        if (!display || display === 'none') {{\n",
       "            console.log([gd, 'removed!']);\n",
       "            Plotly.purge(gd);\n",
       "            observer.disconnect();\n",
       "        }}\n",
       "}});\n",
       "\n",
       "// Listen for the removal of the full notebook cells\n",
       "var notebookContainer = gd.closest('#notebook-container');\n",
       "if (notebookContainer) {{\n",
       "    x.observe(notebookContainer, {childList: true});\n",
       "}}\n",
       "\n",
       "// Listen for the clearing of the current output cell\n",
       "var outputEl = gd.closest('.output');\n",
       "if (outputEl) {{\n",
       "    x.observe(outputEl, {childList: true});\n",
       "}}\n",
       "\n",
       "                        })                };                });            </script>        </div>"
      ]
     },
     "metadata": {},
     "output_type": "display_data"
    }
   ],
   "source": [
    "df.count().iplot(kind='bar')"
   ]
  },
  {
   "cell_type": "markdown",
   "metadata": {},
   "source": [
    "## Boxplots"
   ]
  },
  {
   "cell_type": "code",
   "execution_count": 30,
   "metadata": {},
   "outputs": [
    {
     "data": {
      "application/vnd.plotly.v1+json": {
       "config": {
        "linkText": "Export to plot.ly",
        "plotlyServerURL": "https://plot.ly",
        "showLink": true
       },
       "data": [
        {
         "boxpoints": false,
         "line": {
          "width": 1.3
         },
         "marker": {
          "color": "rgba(255, 153, 51, 1.0)"
         },
         "name": "A",
         "orientation": "v",
         "type": "box",
         "y": [
          -0.3983520986318105,
          -0.6162827135158706,
          2.099168429946755,
          0.49680194136560707,
          -1.07462082001314,
          1.9349510089752417,
          -2.4231933164169877,
          1.4470449807220553,
          -1.4999960796449026,
          -1.0945495325613395,
          0.6642788506356654,
          -0.49195583457573117,
          -0.6910826727920918,
          2.185441590057498,
          0.5131001184581482,
          0.674719629421702,
          0.20326375230828428,
          0.4949550563840638,
          1.4049673532147409,
          -0.14331104172596126,
          -0.3855718444977499,
          -0.21141543770944637,
          0.692414500334598,
          -1.5745230871640852,
          0.22429200145258757,
          -0.054580355994718846,
          0.7011313596097016,
          -0.7104053825194536,
          0.19309720375353737,
          0.5011860420595097,
          -0.13544250984575917,
          -1.3454410990573253,
          -0.12047204421392274,
          1.7560558189306235,
          0.3847089483023419,
          -1.0117420625874236,
          0.9164797757953848,
          0.8090796984007256,
          1.224431318037115,
          -0.6582058090452699,
          0.21452127600252371,
          -1.639673876779424,
          -1.1663156197618043,
          -0.15847458956823843,
          0.42473475884185624,
          -0.38660395544194304,
          -1.0130293175337957,
          -0.13664762695552973,
          1.1232879897184924,
          -1.1371616618950293,
          -0.07299308539521068,
          -0.5378171740332828,
          -1.7019495070466393,
          0.7459624013190475,
          0.27813535654079613,
          -0.2805369331929469,
          0.13963765034792444,
          -0.8166786213065517,
          0.170863291010852,
          0.3627638979559158,
          0.9251892035591921,
          -0.364802539096463,
          0.75720246115451,
          0.6971493229294524,
          -1.6710133918210957,
          -1.0312985576250868,
          0.8665470164781827,
          0.48918962517490755,
          -0.8274464881475612,
          1.7712724749541882,
          -0.2508356385745554,
          -0.42874012491286284,
          0.1233772385420985,
          -0.12822124751202227,
          0.5881947672940719,
          -0.9778504268571526,
          -0.30940316954708735,
          0.1613667105030798,
          -0.3001261485965345,
          -1.7313401143421838,
          0.12956150643595835,
          0.014778956330208861,
          0.36348543013152373,
          1.3969890902037807,
          0.6042087813381443,
          -0.27805222561920584,
          -2.0435509439758492,
          -0.0030770249422897933,
          0.5042478810220322,
          0.8029083832933929,
          -0.26315122741705216,
          1.7608604844319595,
          -0.4434264627398264,
          1.156664081932901,
          -0.5094711324408508,
          0.04128916792263781,
          -1.580156634490801,
          1.5399169357943356,
          -0.4085571732321778,
          0.3145272996081609
         ]
        },
        {
         "boxpoints": false,
         "line": {
          "width": 1.3
         },
         "marker": {
          "color": "rgba(55, 128, 191, 1.0)"
         },
         "name": "B",
         "orientation": "v",
         "type": "box",
         "y": [
          0.12208332917629941,
          1.4270948640081371,
          0.9415756564617354,
          0.8514386613875572,
          -1.6079154146370516,
          0.23474977453446583,
          -1.3665712548990696,
          -0.5597744265445256,
          0.11704905592132613,
          -1.0761999807650133,
          0.4600018600959453,
          -0.9956908768988652,
          -1.7817190867875512,
          -0.31928955320845914,
          -1.298610373656051,
          -0.5889321850812367,
          1.0303232261552604,
          -0.09079621045016036,
          1.0498592223792036,
          0.4945195260593801,
          -0.7614604158288016,
          -0.2758685496285138,
          -0.4712323343948017,
          0.08107735706611524,
          0.2876616637370824,
          -0.3442145062143889,
          -0.24688584946805583,
          -1.8409003226008336,
          0.22256612235887274,
          0.4401227891529881,
          -0.8735826703886425,
          1.4686012634498118,
          -1.6748703428986085,
          -1.1605558826535318,
          0.10774587775563513,
          -0.8721569508808421,
          -1.745682698772934,
          -1.452721647399788,
          0.04819799834678428,
          -0.9061247463728632,
          0.9207690513874721,
          -0.25072273019599484,
          -1.0269905868847906,
          0.8214480131559797,
          -0.06130802406075241,
          0.8244671466603298,
          -1.0084027725753877,
          -0.1956529239009466,
          0.2886247444738875,
          0.18013738407397625,
          -0.21960299598628757,
          0.3033060435779998,
          1.7271676553473425,
          -0.48314073390233764,
          0.13768515634336445,
          -0.0533994239173276,
          1.7338014442135392,
          -1.9520406749002268,
          0.07869764470173318,
          -0.9335929111019033,
          -0.44122205140317033,
          -1.5497962478239262,
          -0.3182101659576731,
          -1.0171007251602078,
          0.8902179713444456,
          -0.1492023621732173,
          1.7529659316795176,
          0.6628395828509307,
          -1.096340275641719,
          1.9077958610885095,
          -0.5193627966641464,
          0.9629313460804836,
          2.1082307449244113,
          0.9745871209420388,
          -1.0097546804821036,
          -0.19762155195637537,
          -0.6085097342966207,
          0.5991802006769752,
          0.9470498884434012,
          -0.8728985442836582,
          1.5337368766467123,
          -1.5910808182844718,
          -0.8468706811371463,
          -0.38367407437863804,
          0.7776465368122711,
          1.6291788115590593,
          -0.24891560934335877,
          0.427583467757721,
          0.68939277525342,
          1.6845488764859788,
          -0.384370585796287,
          1.3277562924746618,
          0.6545543604797216,
          -1.2416959625466797,
          -0.6887152543938814,
          -0.9897569303738274,
          -1.1244890052144112,
          -1.6801441430246917,
          -0.3269438336106665,
          0.09831057172894017
         ]
        },
        {
         "boxpoints": false,
         "line": {
          "width": 1.3
         },
         "marker": {
          "color": "rgba(50, 171, 96, 1.0)"
         },
         "name": "C",
         "orientation": "v",
         "type": "box",
         "y": [
          -0.29148985395471677,
          1.0623192840314113,
          0.7889824802723888,
          -0.8263016174507869,
          -0.2932207084544145,
          -0.9755427137500423,
          -0.6968185285385623,
          -0.26767197539285326,
          -1.896806581235527,
          0.1005586735542141,
          -0.7211678197152294,
          0.714535732301503,
          1.4274663654041149,
          1.8141047561912682,
          -1.3858769144995062,
          0.8471377683390111,
          -0.5687078741499456,
          0.09915338015635412,
          -1.731576840340989,
          0.6832953787966262,
          -0.601222059394738,
          1.0712143459877694,
          -0.42969366889555627,
          0.2834153504375238,
          -0.3813626860244084,
          0.8422846513272353,
          -1.615123396659075,
          0.7060441246896761,
          0.5708971692833249,
          0.4363374031458981,
          0.48933617591121764,
          0.2216169781697169,
          1.1032610962751956,
          0.6189924950665961,
          -0.7056850960195947,
          -0.8399327839206575,
          -0.37693560883104393,
          -1.214424624544691,
          -0.9824208294647261,
          1.07111295573096,
          0.2993150824633953,
          0.5391321655291645,
          -0.30855014838707623,
          1.1397938492145294,
          0.45415528878378597,
          0.08275481849550818,
          0.4258716036049616,
          -0.20205799094399646,
          -0.44930743284924174,
          0.5369240056296196,
          -1.1662429861915933,
          -1.4759404572946662,
          -1.1656633971966528,
          1.0074587142346831,
          1.6658958181533354,
          1.5707070126993063,
          1.9040959389709713,
          -0.05237860458607489,
          1.404923332759848,
          -0.5076288665983928,
          1.6692811859886714,
          0.7350607783305309,
          -0.7346694659828406,
          -0.7225899803020552,
          -0.3777196974125393,
          -0.23886911214296572,
          0.17465496864010308,
          0.4815103878145468,
          1.2423405073516578,
          -0.20398342970969435,
          0.528007863231704,
          -1.059549721691455,
          0.5551476363472752,
          0.042602653053775696,
          1.6383428464594012,
          0.39053803717752006,
          -0.07497875653927707,
          0.602995873861361,
          -1.2659224343532185,
          -0.15846382723660227,
          -0.9821482993238668,
          1.169129504047249,
          -0.4801042694784227,
          -0.03927277533042933,
          -2.697446820613888,
          0.667717761645663,
          -0.7598229418804644,
          0.060198281353660316,
          0.9325913229966135,
          -0.4460009935902679,
          -1.8361341727225688,
          0.23186112181292243,
          -0.8667052430557932,
          -1.8213096093449288,
          -2.8727655770736296,
          -0.9789949647010906,
          -0.3903490898617929,
          0.5576591238292142,
          -0.02574772349388132,
          -0.20922752110118553
         ]
        },
        {
         "boxpoints": false,
         "line": {
          "width": 1.3
         },
         "marker": {
          "color": "rgba(128, 0, 128, 1.0)"
         },
         "name": "D",
         "orientation": "v",
         "type": "box",
         "y": [
          -1.066630833301036,
          0.29265836582538346,
          0.1591606198584185,
          0.7622368322562274,
          -0.31886158521673247,
          -1.4718604665980832,
          -0.7942216520581787,
          -1.4911879505837673,
          -0.6061066859506782,
          -1.5157010582591202,
          0.40032614454481,
          -0.9443926165588304,
          -0.9333213894477778,
          0.2373250569771554,
          0.003495411918664375,
          0.2797243757917062,
          -1.7310876483893218,
          -0.43268860484750843,
          0.4984287063307684,
          -0.46778851287520473,
          -0.32888185899693234,
          0.6232682745273248,
          -0.7316017254728788,
          0.4711007440846479,
          0.4029539941799019,
          -0.2604478654563585,
          0.3582768756292048,
          -0.8561994831494832,
          -1.913726686773174,
          -0.46358832632663377,
          1.1901905701532403,
          0.4934040771654728,
          -1.2673630739278083,
          -0.776929161687946,
          0.12342919559962855,
          -0.30602487347655555,
          1.9130807488548334,
          -0.7131376626908961,
          0.5702353616922338,
          0.7544639853442335,
          -2.0060898019039954,
          -0.11525049488824148,
          0.10467455570986987,
          -1.2868277520052525,
          -0.5654071697000354,
          1.7481832326836808,
          0.6891892289617946,
          -0.19572310883303518,
          0.18710866747798385,
          -0.9968036751947746,
          -0.8730661425675862,
          -0.06451644096699462,
          -0.5830400236991375,
          -0.20591015210862196,
          1.2077339490268855,
          1.4181201936965127,
          0.5385070678744326,
          1.1206361454713019,
          -0.5863832540958245,
          -1.6322724434980052,
          -0.586135362960711,
          1.9271409828103283,
          -0.09300998837520326,
          0.7747759181042786,
          -0.6248833852014862,
          -0.4063310951523854,
          -1.573605393885346,
          2.6186807404587644,
          1.7087005422662134,
          -0.007114002565482575,
          0.25111679091412836,
          1.5570577991342196,
          -0.43429707906838105,
          2.1651550574299265,
          0.4363737233095151,
          0.2539187595310245,
          1.4231369726498155,
          -1.618480855798506,
          -0.3141703345317573,
          -0.45265785873287134,
          -0.5228801374626685,
          -2.064489489396664,
          -1.2982645066101959,
          0.6698083430019409,
          0.4346329311968929,
          0.40972413201503993,
          0.7575840109241605,
          -0.15294080210870659,
          1.2003583234609856,
          -0.14191145348018816,
          1.0553412259865629,
          -1.087106698144118,
          -1.4607267662321068,
          0.6604172689615183,
          -1.5413739823566173,
          -1.5358751844625966,
          -0.40535830362125563,
          -0.18006651091900314,
          0.8602767621118976,
          1.8570706187242754
         ]
        }
       ],
       "layout": {
        "legend": {
         "bgcolor": "#F5F6F9",
         "font": {
          "color": "#4D5663"
         }
        },
        "paper_bgcolor": "#F5F6F9",
        "plot_bgcolor": "#F5F6F9",
        "template": {
         "data": {
          "bar": [
           {
            "error_x": {
             "color": "#2a3f5f"
            },
            "error_y": {
             "color": "#2a3f5f"
            },
            "marker": {
             "line": {
              "color": "#E5ECF6",
              "width": 0.5
             },
             "pattern": {
              "fillmode": "overlay",
              "size": 10,
              "solidity": 0.2
             }
            },
            "type": "bar"
           }
          ],
          "barpolar": [
           {
            "marker": {
             "line": {
              "color": "#E5ECF6",
              "width": 0.5
             },
             "pattern": {
              "fillmode": "overlay",
              "size": 10,
              "solidity": 0.2
             }
            },
            "type": "barpolar"
           }
          ],
          "carpet": [
           {
            "aaxis": {
             "endlinecolor": "#2a3f5f",
             "gridcolor": "white",
             "linecolor": "white",
             "minorgridcolor": "white",
             "startlinecolor": "#2a3f5f"
            },
            "baxis": {
             "endlinecolor": "#2a3f5f",
             "gridcolor": "white",
             "linecolor": "white",
             "minorgridcolor": "white",
             "startlinecolor": "#2a3f5f"
            },
            "type": "carpet"
           }
          ],
          "choropleth": [
           {
            "colorbar": {
             "outlinewidth": 0,
             "ticks": ""
            },
            "type": "choropleth"
           }
          ],
          "contour": [
           {
            "colorbar": {
             "outlinewidth": 0,
             "ticks": ""
            },
            "colorscale": [
             [
              0,
              "#0d0887"
             ],
             [
              0.1111111111111111,
              "#46039f"
             ],
             [
              0.2222222222222222,
              "#7201a8"
             ],
             [
              0.3333333333333333,
              "#9c179e"
             ],
             [
              0.4444444444444444,
              "#bd3786"
             ],
             [
              0.5555555555555556,
              "#d8576b"
             ],
             [
              0.6666666666666666,
              "#ed7953"
             ],
             [
              0.7777777777777778,
              "#fb9f3a"
             ],
             [
              0.8888888888888888,
              "#fdca26"
             ],
             [
              1,
              "#f0f921"
             ]
            ],
            "type": "contour"
           }
          ],
          "contourcarpet": [
           {
            "colorbar": {
             "outlinewidth": 0,
             "ticks": ""
            },
            "type": "contourcarpet"
           }
          ],
          "heatmap": [
           {
            "colorbar": {
             "outlinewidth": 0,
             "ticks": ""
            },
            "colorscale": [
             [
              0,
              "#0d0887"
             ],
             [
              0.1111111111111111,
              "#46039f"
             ],
             [
              0.2222222222222222,
              "#7201a8"
             ],
             [
              0.3333333333333333,
              "#9c179e"
             ],
             [
              0.4444444444444444,
              "#bd3786"
             ],
             [
              0.5555555555555556,
              "#d8576b"
             ],
             [
              0.6666666666666666,
              "#ed7953"
             ],
             [
              0.7777777777777778,
              "#fb9f3a"
             ],
             [
              0.8888888888888888,
              "#fdca26"
             ],
             [
              1,
              "#f0f921"
             ]
            ],
            "type": "heatmap"
           }
          ],
          "heatmapgl": [
           {
            "colorbar": {
             "outlinewidth": 0,
             "ticks": ""
            },
            "colorscale": [
             [
              0,
              "#0d0887"
             ],
             [
              0.1111111111111111,
              "#46039f"
             ],
             [
              0.2222222222222222,
              "#7201a8"
             ],
             [
              0.3333333333333333,
              "#9c179e"
             ],
             [
              0.4444444444444444,
              "#bd3786"
             ],
             [
              0.5555555555555556,
              "#d8576b"
             ],
             [
              0.6666666666666666,
              "#ed7953"
             ],
             [
              0.7777777777777778,
              "#fb9f3a"
             ],
             [
              0.8888888888888888,
              "#fdca26"
             ],
             [
              1,
              "#f0f921"
             ]
            ],
            "type": "heatmapgl"
           }
          ],
          "histogram": [
           {
            "marker": {
             "pattern": {
              "fillmode": "overlay",
              "size": 10,
              "solidity": 0.2
             }
            },
            "type": "histogram"
           }
          ],
          "histogram2d": [
           {
            "colorbar": {
             "outlinewidth": 0,
             "ticks": ""
            },
            "colorscale": [
             [
              0,
              "#0d0887"
             ],
             [
              0.1111111111111111,
              "#46039f"
             ],
             [
              0.2222222222222222,
              "#7201a8"
             ],
             [
              0.3333333333333333,
              "#9c179e"
             ],
             [
              0.4444444444444444,
              "#bd3786"
             ],
             [
              0.5555555555555556,
              "#d8576b"
             ],
             [
              0.6666666666666666,
              "#ed7953"
             ],
             [
              0.7777777777777778,
              "#fb9f3a"
             ],
             [
              0.8888888888888888,
              "#fdca26"
             ],
             [
              1,
              "#f0f921"
             ]
            ],
            "type": "histogram2d"
           }
          ],
          "histogram2dcontour": [
           {
            "colorbar": {
             "outlinewidth": 0,
             "ticks": ""
            },
            "colorscale": [
             [
              0,
              "#0d0887"
             ],
             [
              0.1111111111111111,
              "#46039f"
             ],
             [
              0.2222222222222222,
              "#7201a8"
             ],
             [
              0.3333333333333333,
              "#9c179e"
             ],
             [
              0.4444444444444444,
              "#bd3786"
             ],
             [
              0.5555555555555556,
              "#d8576b"
             ],
             [
              0.6666666666666666,
              "#ed7953"
             ],
             [
              0.7777777777777778,
              "#fb9f3a"
             ],
             [
              0.8888888888888888,
              "#fdca26"
             ],
             [
              1,
              "#f0f921"
             ]
            ],
            "type": "histogram2dcontour"
           }
          ],
          "mesh3d": [
           {
            "colorbar": {
             "outlinewidth": 0,
             "ticks": ""
            },
            "type": "mesh3d"
           }
          ],
          "parcoords": [
           {
            "line": {
             "colorbar": {
              "outlinewidth": 0,
              "ticks": ""
             }
            },
            "type": "parcoords"
           }
          ],
          "pie": [
           {
            "automargin": true,
            "type": "pie"
           }
          ],
          "scatter": [
           {
            "fillpattern": {
             "fillmode": "overlay",
             "size": 10,
             "solidity": 0.2
            },
            "type": "scatter"
           }
          ],
          "scatter3d": [
           {
            "line": {
             "colorbar": {
              "outlinewidth": 0,
              "ticks": ""
             }
            },
            "marker": {
             "colorbar": {
              "outlinewidth": 0,
              "ticks": ""
             }
            },
            "type": "scatter3d"
           }
          ],
          "scattercarpet": [
           {
            "marker": {
             "colorbar": {
              "outlinewidth": 0,
              "ticks": ""
             }
            },
            "type": "scattercarpet"
           }
          ],
          "scattergeo": [
           {
            "marker": {
             "colorbar": {
              "outlinewidth": 0,
              "ticks": ""
             }
            },
            "type": "scattergeo"
           }
          ],
          "scattergl": [
           {
            "marker": {
             "colorbar": {
              "outlinewidth": 0,
              "ticks": ""
             }
            },
            "type": "scattergl"
           }
          ],
          "scattermapbox": [
           {
            "marker": {
             "colorbar": {
              "outlinewidth": 0,
              "ticks": ""
             }
            },
            "type": "scattermapbox"
           }
          ],
          "scatterpolar": [
           {
            "marker": {
             "colorbar": {
              "outlinewidth": 0,
              "ticks": ""
             }
            },
            "type": "scatterpolar"
           }
          ],
          "scatterpolargl": [
           {
            "marker": {
             "colorbar": {
              "outlinewidth": 0,
              "ticks": ""
             }
            },
            "type": "scatterpolargl"
           }
          ],
          "scatterternary": [
           {
            "marker": {
             "colorbar": {
              "outlinewidth": 0,
              "ticks": ""
             }
            },
            "type": "scatterternary"
           }
          ],
          "surface": [
           {
            "colorbar": {
             "outlinewidth": 0,
             "ticks": ""
            },
            "colorscale": [
             [
              0,
              "#0d0887"
             ],
             [
              0.1111111111111111,
              "#46039f"
             ],
             [
              0.2222222222222222,
              "#7201a8"
             ],
             [
              0.3333333333333333,
              "#9c179e"
             ],
             [
              0.4444444444444444,
              "#bd3786"
             ],
             [
              0.5555555555555556,
              "#d8576b"
             ],
             [
              0.6666666666666666,
              "#ed7953"
             ],
             [
              0.7777777777777778,
              "#fb9f3a"
             ],
             [
              0.8888888888888888,
              "#fdca26"
             ],
             [
              1,
              "#f0f921"
             ]
            ],
            "type": "surface"
           }
          ],
          "table": [
           {
            "cells": {
             "fill": {
              "color": "#EBF0F8"
             },
             "line": {
              "color": "white"
             }
            },
            "header": {
             "fill": {
              "color": "#C8D4E3"
             },
             "line": {
              "color": "white"
             }
            },
            "type": "table"
           }
          ]
         },
         "layout": {
          "annotationdefaults": {
           "arrowcolor": "#2a3f5f",
           "arrowhead": 0,
           "arrowwidth": 1
          },
          "autotypenumbers": "strict",
          "coloraxis": {
           "colorbar": {
            "outlinewidth": 0,
            "ticks": ""
           }
          },
          "colorscale": {
           "diverging": [
            [
             0,
             "#8e0152"
            ],
            [
             0.1,
             "#c51b7d"
            ],
            [
             0.2,
             "#de77ae"
            ],
            [
             0.3,
             "#f1b6da"
            ],
            [
             0.4,
             "#fde0ef"
            ],
            [
             0.5,
             "#f7f7f7"
            ],
            [
             0.6,
             "#e6f5d0"
            ],
            [
             0.7,
             "#b8e186"
            ],
            [
             0.8,
             "#7fbc41"
            ],
            [
             0.9,
             "#4d9221"
            ],
            [
             1,
             "#276419"
            ]
           ],
           "sequential": [
            [
             0,
             "#0d0887"
            ],
            [
             0.1111111111111111,
             "#46039f"
            ],
            [
             0.2222222222222222,
             "#7201a8"
            ],
            [
             0.3333333333333333,
             "#9c179e"
            ],
            [
             0.4444444444444444,
             "#bd3786"
            ],
            [
             0.5555555555555556,
             "#d8576b"
            ],
            [
             0.6666666666666666,
             "#ed7953"
            ],
            [
             0.7777777777777778,
             "#fb9f3a"
            ],
            [
             0.8888888888888888,
             "#fdca26"
            ],
            [
             1,
             "#f0f921"
            ]
           ],
           "sequentialminus": [
            [
             0,
             "#0d0887"
            ],
            [
             0.1111111111111111,
             "#46039f"
            ],
            [
             0.2222222222222222,
             "#7201a8"
            ],
            [
             0.3333333333333333,
             "#9c179e"
            ],
            [
             0.4444444444444444,
             "#bd3786"
            ],
            [
             0.5555555555555556,
             "#d8576b"
            ],
            [
             0.6666666666666666,
             "#ed7953"
            ],
            [
             0.7777777777777778,
             "#fb9f3a"
            ],
            [
             0.8888888888888888,
             "#fdca26"
            ],
            [
             1,
             "#f0f921"
            ]
           ]
          },
          "colorway": [
           "#636efa",
           "#EF553B",
           "#00cc96",
           "#ab63fa",
           "#FFA15A",
           "#19d3f3",
           "#FF6692",
           "#B6E880",
           "#FF97FF",
           "#FECB52"
          ],
          "font": {
           "color": "#2a3f5f"
          },
          "geo": {
           "bgcolor": "white",
           "lakecolor": "white",
           "landcolor": "#E5ECF6",
           "showlakes": true,
           "showland": true,
           "subunitcolor": "white"
          },
          "hoverlabel": {
           "align": "left"
          },
          "hovermode": "closest",
          "mapbox": {
           "style": "light"
          },
          "paper_bgcolor": "white",
          "plot_bgcolor": "#E5ECF6",
          "polar": {
           "angularaxis": {
            "gridcolor": "white",
            "linecolor": "white",
            "ticks": ""
           },
           "bgcolor": "#E5ECF6",
           "radialaxis": {
            "gridcolor": "white",
            "linecolor": "white",
            "ticks": ""
           }
          },
          "scene": {
           "xaxis": {
            "backgroundcolor": "#E5ECF6",
            "gridcolor": "white",
            "gridwidth": 2,
            "linecolor": "white",
            "showbackground": true,
            "ticks": "",
            "zerolinecolor": "white"
           },
           "yaxis": {
            "backgroundcolor": "#E5ECF6",
            "gridcolor": "white",
            "gridwidth": 2,
            "linecolor": "white",
            "showbackground": true,
            "ticks": "",
            "zerolinecolor": "white"
           },
           "zaxis": {
            "backgroundcolor": "#E5ECF6",
            "gridcolor": "white",
            "gridwidth": 2,
            "linecolor": "white",
            "showbackground": true,
            "ticks": "",
            "zerolinecolor": "white"
           }
          },
          "shapedefaults": {
           "line": {
            "color": "#2a3f5f"
           }
          },
          "ternary": {
           "aaxis": {
            "gridcolor": "white",
            "linecolor": "white",
            "ticks": ""
           },
           "baxis": {
            "gridcolor": "white",
            "linecolor": "white",
            "ticks": ""
           },
           "bgcolor": "#E5ECF6",
           "caxis": {
            "gridcolor": "white",
            "linecolor": "white",
            "ticks": ""
           }
          },
          "title": {
           "x": 0.05
          },
          "xaxis": {
           "automargin": true,
           "gridcolor": "white",
           "linecolor": "white",
           "ticks": "",
           "title": {
            "standoff": 15
           },
           "zerolinecolor": "white",
           "zerolinewidth": 2
          },
          "yaxis": {
           "automargin": true,
           "gridcolor": "white",
           "linecolor": "white",
           "ticks": "",
           "title": {
            "standoff": 15
           },
           "zerolinecolor": "white",
           "zerolinewidth": 2
          }
         }
        },
        "title": {
         "font": {
          "color": "#4D5663"
         }
        },
        "xaxis": {
         "gridcolor": "#E1E5ED",
         "showgrid": true,
         "tickfont": {
          "color": "#4D5663"
         },
         "title": {
          "font": {
           "color": "#4D5663"
          },
          "text": ""
         },
         "zerolinecolor": "#E1E5ED"
        },
        "yaxis": {
         "gridcolor": "#E1E5ED",
         "showgrid": true,
         "tickfont": {
          "color": "#4D5663"
         },
         "title": {
          "font": {
           "color": "#4D5663"
          },
          "text": ""
         },
         "zerolinecolor": "#E1E5ED"
        }
       }
      },
      "text/html": [
       "<div>                            <div id=\"ace1b406-ce90-4b45-bb04-6362bace5df8\" class=\"plotly-graph-div\" style=\"height:525px; width:100%;\"></div>            <script type=\"text/javascript\">                require([\"plotly\"], function(Plotly) {                    window.PLOTLYENV=window.PLOTLYENV || {};\n",
       "                    window.PLOTLYENV.BASE_URL='https://plot.ly';                                    if (document.getElementById(\"ace1b406-ce90-4b45-bb04-6362bace5df8\")) {                    Plotly.newPlot(                        \"ace1b406-ce90-4b45-bb04-6362bace5df8\",                        [{\"boxpoints\":false,\"line\":{\"width\":1.3},\"marker\":{\"color\":\"rgba(255, 153, 51, 1.0)\"},\"name\":\"A\",\"orientation\":\"v\",\"y\":[-0.3983520986318105,-0.6162827135158706,2.099168429946755,0.49680194136560707,-1.07462082001314,1.9349510089752417,-2.4231933164169877,1.4470449807220553,-1.4999960796449026,-1.0945495325613395,0.6642788506356654,-0.49195583457573117,-0.6910826727920918,2.185441590057498,0.5131001184581482,0.674719629421702,0.20326375230828428,0.4949550563840638,1.4049673532147409,-0.14331104172596126,-0.3855718444977499,-0.21141543770944637,0.692414500334598,-1.5745230871640852,0.22429200145258757,-0.054580355994718846,0.7011313596097016,-0.7104053825194536,0.19309720375353737,0.5011860420595097,-0.13544250984575917,-1.3454410990573253,-0.12047204421392274,1.7560558189306235,0.3847089483023419,-1.0117420625874236,0.9164797757953848,0.8090796984007256,1.224431318037115,-0.6582058090452699,0.21452127600252371,-1.639673876779424,-1.1663156197618043,-0.15847458956823843,0.42473475884185624,-0.38660395544194304,-1.0130293175337957,-0.13664762695552973,1.1232879897184924,-1.1371616618950293,-0.07299308539521068,-0.5378171740332828,-1.7019495070466393,0.7459624013190475,0.27813535654079613,-0.2805369331929469,0.13963765034792444,-0.8166786213065517,0.170863291010852,0.3627638979559158,0.9251892035591921,-0.364802539096463,0.75720246115451,0.6971493229294524,-1.6710133918210957,-1.0312985576250868,0.8665470164781827,0.48918962517490755,-0.8274464881475612,1.7712724749541882,-0.2508356385745554,-0.42874012491286284,0.1233772385420985,-0.12822124751202227,0.5881947672940719,-0.9778504268571526,-0.30940316954708735,0.1613667105030798,-0.3001261485965345,-1.7313401143421838,0.12956150643595835,0.014778956330208861,0.36348543013152373,1.3969890902037807,0.6042087813381443,-0.27805222561920584,-2.0435509439758492,-0.0030770249422897933,0.5042478810220322,0.8029083832933929,-0.26315122741705216,1.7608604844319595,-0.4434264627398264,1.156664081932901,-0.5094711324408508,0.04128916792263781,-1.580156634490801,1.5399169357943356,-0.4085571732321778,0.3145272996081609],\"type\":\"box\"},{\"boxpoints\":false,\"line\":{\"width\":1.3},\"marker\":{\"color\":\"rgba(55, 128, 191, 1.0)\"},\"name\":\"B\",\"orientation\":\"v\",\"y\":[0.12208332917629941,1.4270948640081371,0.9415756564617354,0.8514386613875572,-1.6079154146370516,0.23474977453446583,-1.3665712548990696,-0.5597744265445256,0.11704905592132613,-1.0761999807650133,0.4600018600959453,-0.9956908768988652,-1.7817190867875512,-0.31928955320845914,-1.298610373656051,-0.5889321850812367,1.0303232261552604,-0.09079621045016036,1.0498592223792036,0.4945195260593801,-0.7614604158288016,-0.2758685496285138,-0.4712323343948017,0.08107735706611524,0.2876616637370824,-0.3442145062143889,-0.24688584946805583,-1.8409003226008336,0.22256612235887274,0.4401227891529881,-0.8735826703886425,1.4686012634498118,-1.6748703428986085,-1.1605558826535318,0.10774587775563513,-0.8721569508808421,-1.745682698772934,-1.452721647399788,0.04819799834678428,-0.9061247463728632,0.9207690513874721,-0.25072273019599484,-1.0269905868847906,0.8214480131559797,-0.06130802406075241,0.8244671466603298,-1.0084027725753877,-0.1956529239009466,0.2886247444738875,0.18013738407397625,-0.21960299598628757,0.3033060435779998,1.7271676553473425,-0.48314073390233764,0.13768515634336445,-0.0533994239173276,1.7338014442135392,-1.9520406749002268,0.07869764470173318,-0.9335929111019033,-0.44122205140317033,-1.5497962478239262,-0.3182101659576731,-1.0171007251602078,0.8902179713444456,-0.1492023621732173,1.7529659316795176,0.6628395828509307,-1.096340275641719,1.9077958610885095,-0.5193627966641464,0.9629313460804836,2.1082307449244113,0.9745871209420388,-1.0097546804821036,-0.19762155195637537,-0.6085097342966207,0.5991802006769752,0.9470498884434012,-0.8728985442836582,1.5337368766467123,-1.5910808182844718,-0.8468706811371463,-0.38367407437863804,0.7776465368122711,1.6291788115590593,-0.24891560934335877,0.427583467757721,0.68939277525342,1.6845488764859788,-0.384370585796287,1.3277562924746618,0.6545543604797216,-1.2416959625466797,-0.6887152543938814,-0.9897569303738274,-1.1244890052144112,-1.6801441430246917,-0.3269438336106665,0.09831057172894017],\"type\":\"box\"},{\"boxpoints\":false,\"line\":{\"width\":1.3},\"marker\":{\"color\":\"rgba(50, 171, 96, 1.0)\"},\"name\":\"C\",\"orientation\":\"v\",\"y\":[-0.29148985395471677,1.0623192840314113,0.7889824802723888,-0.8263016174507869,-0.2932207084544145,-0.9755427137500423,-0.6968185285385623,-0.26767197539285326,-1.896806581235527,0.1005586735542141,-0.7211678197152294,0.714535732301503,1.4274663654041149,1.8141047561912682,-1.3858769144995062,0.8471377683390111,-0.5687078741499456,0.09915338015635412,-1.731576840340989,0.6832953787966262,-0.601222059394738,1.0712143459877694,-0.42969366889555627,0.2834153504375238,-0.3813626860244084,0.8422846513272353,-1.615123396659075,0.7060441246896761,0.5708971692833249,0.4363374031458981,0.48933617591121764,0.2216169781697169,1.1032610962751956,0.6189924950665961,-0.7056850960195947,-0.8399327839206575,-0.37693560883104393,-1.214424624544691,-0.9824208294647261,1.07111295573096,0.2993150824633953,0.5391321655291645,-0.30855014838707623,1.1397938492145294,0.45415528878378597,0.08275481849550818,0.4258716036049616,-0.20205799094399646,-0.44930743284924174,0.5369240056296196,-1.1662429861915933,-1.4759404572946662,-1.1656633971966528,1.0074587142346831,1.6658958181533354,1.5707070126993063,1.9040959389709713,-0.05237860458607489,1.404923332759848,-0.5076288665983928,1.6692811859886714,0.7350607783305309,-0.7346694659828406,-0.7225899803020552,-0.3777196974125393,-0.23886911214296572,0.17465496864010308,0.4815103878145468,1.2423405073516578,-0.20398342970969435,0.528007863231704,-1.059549721691455,0.5551476363472752,0.042602653053775696,1.6383428464594012,0.39053803717752006,-0.07497875653927707,0.602995873861361,-1.2659224343532185,-0.15846382723660227,-0.9821482993238668,1.169129504047249,-0.4801042694784227,-0.03927277533042933,-2.697446820613888,0.667717761645663,-0.7598229418804644,0.060198281353660316,0.9325913229966135,-0.4460009935902679,-1.8361341727225688,0.23186112181292243,-0.8667052430557932,-1.8213096093449288,-2.8727655770736296,-0.9789949647010906,-0.3903490898617929,0.5576591238292142,-0.02574772349388132,-0.20922752110118553],\"type\":\"box\"},{\"boxpoints\":false,\"line\":{\"width\":1.3},\"marker\":{\"color\":\"rgba(128, 0, 128, 1.0)\"},\"name\":\"D\",\"orientation\":\"v\",\"y\":[-1.066630833301036,0.29265836582538346,0.1591606198584185,0.7622368322562274,-0.31886158521673247,-1.4718604665980832,-0.7942216520581787,-1.4911879505837673,-0.6061066859506782,-1.5157010582591202,0.40032614454481,-0.9443926165588304,-0.9333213894477778,0.2373250569771554,0.003495411918664375,0.2797243757917062,-1.7310876483893218,-0.43268860484750843,0.4984287063307684,-0.46778851287520473,-0.32888185899693234,0.6232682745273248,-0.7316017254728788,0.4711007440846479,0.4029539941799019,-0.2604478654563585,0.3582768756292048,-0.8561994831494832,-1.913726686773174,-0.46358832632663377,1.1901905701532403,0.4934040771654728,-1.2673630739278083,-0.776929161687946,0.12342919559962855,-0.30602487347655555,1.9130807488548334,-0.7131376626908961,0.5702353616922338,0.7544639853442335,-2.0060898019039954,-0.11525049488824148,0.10467455570986987,-1.2868277520052525,-0.5654071697000354,1.7481832326836808,0.6891892289617946,-0.19572310883303518,0.18710866747798385,-0.9968036751947746,-0.8730661425675862,-0.06451644096699462,-0.5830400236991375,-0.20591015210862196,1.2077339490268855,1.4181201936965127,0.5385070678744326,1.1206361454713019,-0.5863832540958245,-1.6322724434980052,-0.586135362960711,1.9271409828103283,-0.09300998837520326,0.7747759181042786,-0.6248833852014862,-0.4063310951523854,-1.573605393885346,2.6186807404587644,1.7087005422662134,-0.007114002565482575,0.25111679091412836,1.5570577991342196,-0.43429707906838105,2.1651550574299265,0.4363737233095151,0.2539187595310245,1.4231369726498155,-1.618480855798506,-0.3141703345317573,-0.45265785873287134,-0.5228801374626685,-2.064489489396664,-1.2982645066101959,0.6698083430019409,0.4346329311968929,0.40972413201503993,0.7575840109241605,-0.15294080210870659,1.2003583234609856,-0.14191145348018816,1.0553412259865629,-1.087106698144118,-1.4607267662321068,0.6604172689615183,-1.5413739823566173,-1.5358751844625966,-0.40535830362125563,-0.18006651091900314,0.8602767621118976,1.8570706187242754],\"type\":\"box\"}],                        {\"legend\":{\"bgcolor\":\"#F5F6F9\",\"font\":{\"color\":\"#4D5663\"}},\"paper_bgcolor\":\"#F5F6F9\",\"plot_bgcolor\":\"#F5F6F9\",\"template\":{\"data\":{\"barpolar\":[{\"marker\":{\"line\":{\"color\":\"#E5ECF6\",\"width\":0.5},\"pattern\":{\"fillmode\":\"overlay\",\"size\":10,\"solidity\":0.2}},\"type\":\"barpolar\"}],\"bar\":[{\"error_x\":{\"color\":\"#2a3f5f\"},\"error_y\":{\"color\":\"#2a3f5f\"},\"marker\":{\"line\":{\"color\":\"#E5ECF6\",\"width\":0.5},\"pattern\":{\"fillmode\":\"overlay\",\"size\":10,\"solidity\":0.2}},\"type\":\"bar\"}],\"carpet\":[{\"aaxis\":{\"endlinecolor\":\"#2a3f5f\",\"gridcolor\":\"white\",\"linecolor\":\"white\",\"minorgridcolor\":\"white\",\"startlinecolor\":\"#2a3f5f\"},\"baxis\":{\"endlinecolor\":\"#2a3f5f\",\"gridcolor\":\"white\",\"linecolor\":\"white\",\"minorgridcolor\":\"white\",\"startlinecolor\":\"#2a3f5f\"},\"type\":\"carpet\"}],\"choropleth\":[{\"colorbar\":{\"outlinewidth\":0,\"ticks\":\"\"},\"type\":\"choropleth\"}],\"contourcarpet\":[{\"colorbar\":{\"outlinewidth\":0,\"ticks\":\"\"},\"type\":\"contourcarpet\"}],\"contour\":[{\"colorbar\":{\"outlinewidth\":0,\"ticks\":\"\"},\"colorscale\":[[0.0,\"#0d0887\"],[0.1111111111111111,\"#46039f\"],[0.2222222222222222,\"#7201a8\"],[0.3333333333333333,\"#9c179e\"],[0.4444444444444444,\"#bd3786\"],[0.5555555555555556,\"#d8576b\"],[0.6666666666666666,\"#ed7953\"],[0.7777777777777778,\"#fb9f3a\"],[0.8888888888888888,\"#fdca26\"],[1.0,\"#f0f921\"]],\"type\":\"contour\"}],\"heatmapgl\":[{\"colorbar\":{\"outlinewidth\":0,\"ticks\":\"\"},\"colorscale\":[[0.0,\"#0d0887\"],[0.1111111111111111,\"#46039f\"],[0.2222222222222222,\"#7201a8\"],[0.3333333333333333,\"#9c179e\"],[0.4444444444444444,\"#bd3786\"],[0.5555555555555556,\"#d8576b\"],[0.6666666666666666,\"#ed7953\"],[0.7777777777777778,\"#fb9f3a\"],[0.8888888888888888,\"#fdca26\"],[1.0,\"#f0f921\"]],\"type\":\"heatmapgl\"}],\"heatmap\":[{\"colorbar\":{\"outlinewidth\":0,\"ticks\":\"\"},\"colorscale\":[[0.0,\"#0d0887\"],[0.1111111111111111,\"#46039f\"],[0.2222222222222222,\"#7201a8\"],[0.3333333333333333,\"#9c179e\"],[0.4444444444444444,\"#bd3786\"],[0.5555555555555556,\"#d8576b\"],[0.6666666666666666,\"#ed7953\"],[0.7777777777777778,\"#fb9f3a\"],[0.8888888888888888,\"#fdca26\"],[1.0,\"#f0f921\"]],\"type\":\"heatmap\"}],\"histogram2dcontour\":[{\"colorbar\":{\"outlinewidth\":0,\"ticks\":\"\"},\"colorscale\":[[0.0,\"#0d0887\"],[0.1111111111111111,\"#46039f\"],[0.2222222222222222,\"#7201a8\"],[0.3333333333333333,\"#9c179e\"],[0.4444444444444444,\"#bd3786\"],[0.5555555555555556,\"#d8576b\"],[0.6666666666666666,\"#ed7953\"],[0.7777777777777778,\"#fb9f3a\"],[0.8888888888888888,\"#fdca26\"],[1.0,\"#f0f921\"]],\"type\":\"histogram2dcontour\"}],\"histogram2d\":[{\"colorbar\":{\"outlinewidth\":0,\"ticks\":\"\"},\"colorscale\":[[0.0,\"#0d0887\"],[0.1111111111111111,\"#46039f\"],[0.2222222222222222,\"#7201a8\"],[0.3333333333333333,\"#9c179e\"],[0.4444444444444444,\"#bd3786\"],[0.5555555555555556,\"#d8576b\"],[0.6666666666666666,\"#ed7953\"],[0.7777777777777778,\"#fb9f3a\"],[0.8888888888888888,\"#fdca26\"],[1.0,\"#f0f921\"]],\"type\":\"histogram2d\"}],\"histogram\":[{\"marker\":{\"pattern\":{\"fillmode\":\"overlay\",\"size\":10,\"solidity\":0.2}},\"type\":\"histogram\"}],\"mesh3d\":[{\"colorbar\":{\"outlinewidth\":0,\"ticks\":\"\"},\"type\":\"mesh3d\"}],\"parcoords\":[{\"line\":{\"colorbar\":{\"outlinewidth\":0,\"ticks\":\"\"}},\"type\":\"parcoords\"}],\"pie\":[{\"automargin\":true,\"type\":\"pie\"}],\"scatter3d\":[{\"line\":{\"colorbar\":{\"outlinewidth\":0,\"ticks\":\"\"}},\"marker\":{\"colorbar\":{\"outlinewidth\":0,\"ticks\":\"\"}},\"type\":\"scatter3d\"}],\"scattercarpet\":[{\"marker\":{\"colorbar\":{\"outlinewidth\":0,\"ticks\":\"\"}},\"type\":\"scattercarpet\"}],\"scattergeo\":[{\"marker\":{\"colorbar\":{\"outlinewidth\":0,\"ticks\":\"\"}},\"type\":\"scattergeo\"}],\"scattergl\":[{\"marker\":{\"colorbar\":{\"outlinewidth\":0,\"ticks\":\"\"}},\"type\":\"scattergl\"}],\"scattermapbox\":[{\"marker\":{\"colorbar\":{\"outlinewidth\":0,\"ticks\":\"\"}},\"type\":\"scattermapbox\"}],\"scatterpolargl\":[{\"marker\":{\"colorbar\":{\"outlinewidth\":0,\"ticks\":\"\"}},\"type\":\"scatterpolargl\"}],\"scatterpolar\":[{\"marker\":{\"colorbar\":{\"outlinewidth\":0,\"ticks\":\"\"}},\"type\":\"scatterpolar\"}],\"scatter\":[{\"fillpattern\":{\"fillmode\":\"overlay\",\"size\":10,\"solidity\":0.2},\"type\":\"scatter\"}],\"scatterternary\":[{\"marker\":{\"colorbar\":{\"outlinewidth\":0,\"ticks\":\"\"}},\"type\":\"scatterternary\"}],\"surface\":[{\"colorbar\":{\"outlinewidth\":0,\"ticks\":\"\"},\"colorscale\":[[0.0,\"#0d0887\"],[0.1111111111111111,\"#46039f\"],[0.2222222222222222,\"#7201a8\"],[0.3333333333333333,\"#9c179e\"],[0.4444444444444444,\"#bd3786\"],[0.5555555555555556,\"#d8576b\"],[0.6666666666666666,\"#ed7953\"],[0.7777777777777778,\"#fb9f3a\"],[0.8888888888888888,\"#fdca26\"],[1.0,\"#f0f921\"]],\"type\":\"surface\"}],\"table\":[{\"cells\":{\"fill\":{\"color\":\"#EBF0F8\"},\"line\":{\"color\":\"white\"}},\"header\":{\"fill\":{\"color\":\"#C8D4E3\"},\"line\":{\"color\":\"white\"}},\"type\":\"table\"}]},\"layout\":{\"annotationdefaults\":{\"arrowcolor\":\"#2a3f5f\",\"arrowhead\":0,\"arrowwidth\":1},\"autotypenumbers\":\"strict\",\"coloraxis\":{\"colorbar\":{\"outlinewidth\":0,\"ticks\":\"\"}},\"colorscale\":{\"diverging\":[[0,\"#8e0152\"],[0.1,\"#c51b7d\"],[0.2,\"#de77ae\"],[0.3,\"#f1b6da\"],[0.4,\"#fde0ef\"],[0.5,\"#f7f7f7\"],[0.6,\"#e6f5d0\"],[0.7,\"#b8e186\"],[0.8,\"#7fbc41\"],[0.9,\"#4d9221\"],[1,\"#276419\"]],\"sequential\":[[0.0,\"#0d0887\"],[0.1111111111111111,\"#46039f\"],[0.2222222222222222,\"#7201a8\"],[0.3333333333333333,\"#9c179e\"],[0.4444444444444444,\"#bd3786\"],[0.5555555555555556,\"#d8576b\"],[0.6666666666666666,\"#ed7953\"],[0.7777777777777778,\"#fb9f3a\"],[0.8888888888888888,\"#fdca26\"],[1.0,\"#f0f921\"]],\"sequentialminus\":[[0.0,\"#0d0887\"],[0.1111111111111111,\"#46039f\"],[0.2222222222222222,\"#7201a8\"],[0.3333333333333333,\"#9c179e\"],[0.4444444444444444,\"#bd3786\"],[0.5555555555555556,\"#d8576b\"],[0.6666666666666666,\"#ed7953\"],[0.7777777777777778,\"#fb9f3a\"],[0.8888888888888888,\"#fdca26\"],[1.0,\"#f0f921\"]]},\"colorway\":[\"#636efa\",\"#EF553B\",\"#00cc96\",\"#ab63fa\",\"#FFA15A\",\"#19d3f3\",\"#FF6692\",\"#B6E880\",\"#FF97FF\",\"#FECB52\"],\"font\":{\"color\":\"#2a3f5f\"},\"geo\":{\"bgcolor\":\"white\",\"lakecolor\":\"white\",\"landcolor\":\"#E5ECF6\",\"showlakes\":true,\"showland\":true,\"subunitcolor\":\"white\"},\"hoverlabel\":{\"align\":\"left\"},\"hovermode\":\"closest\",\"mapbox\":{\"style\":\"light\"},\"paper_bgcolor\":\"white\",\"plot_bgcolor\":\"#E5ECF6\",\"polar\":{\"angularaxis\":{\"gridcolor\":\"white\",\"linecolor\":\"white\",\"ticks\":\"\"},\"bgcolor\":\"#E5ECF6\",\"radialaxis\":{\"gridcolor\":\"white\",\"linecolor\":\"white\",\"ticks\":\"\"}},\"scene\":{\"xaxis\":{\"backgroundcolor\":\"#E5ECF6\",\"gridcolor\":\"white\",\"gridwidth\":2,\"linecolor\":\"white\",\"showbackground\":true,\"ticks\":\"\",\"zerolinecolor\":\"white\"},\"yaxis\":{\"backgroundcolor\":\"#E5ECF6\",\"gridcolor\":\"white\",\"gridwidth\":2,\"linecolor\":\"white\",\"showbackground\":true,\"ticks\":\"\",\"zerolinecolor\":\"white\"},\"zaxis\":{\"backgroundcolor\":\"#E5ECF6\",\"gridcolor\":\"white\",\"gridwidth\":2,\"linecolor\":\"white\",\"showbackground\":true,\"ticks\":\"\",\"zerolinecolor\":\"white\"}},\"shapedefaults\":{\"line\":{\"color\":\"#2a3f5f\"}},\"ternary\":{\"aaxis\":{\"gridcolor\":\"white\",\"linecolor\":\"white\",\"ticks\":\"\"},\"baxis\":{\"gridcolor\":\"white\",\"linecolor\":\"white\",\"ticks\":\"\"},\"bgcolor\":\"#E5ECF6\",\"caxis\":{\"gridcolor\":\"white\",\"linecolor\":\"white\",\"ticks\":\"\"}},\"title\":{\"x\":0.05},\"xaxis\":{\"automargin\":true,\"gridcolor\":\"white\",\"linecolor\":\"white\",\"ticks\":\"\",\"title\":{\"standoff\":15},\"zerolinecolor\":\"white\",\"zerolinewidth\":2},\"yaxis\":{\"automargin\":true,\"gridcolor\":\"white\",\"linecolor\":\"white\",\"ticks\":\"\",\"title\":{\"standoff\":15},\"zerolinecolor\":\"white\",\"zerolinewidth\":2}}},\"title\":{\"font\":{\"color\":\"#4D5663\"}},\"xaxis\":{\"gridcolor\":\"#E1E5ED\",\"showgrid\":true,\"tickfont\":{\"color\":\"#4D5663\"},\"title\":{\"font\":{\"color\":\"#4D5663\"},\"text\":\"\"},\"zerolinecolor\":\"#E1E5ED\"},\"yaxis\":{\"gridcolor\":\"#E1E5ED\",\"showgrid\":true,\"tickfont\":{\"color\":\"#4D5663\"},\"title\":{\"font\":{\"color\":\"#4D5663\"},\"text\":\"\"},\"zerolinecolor\":\"#E1E5ED\"}},                        {\"showLink\": true, \"linkText\": \"Export to plot.ly\", \"plotlyServerURL\": \"https://plot.ly\", \"responsive\": true}                    ).then(function(){\n",
       "                            \n",
       "var gd = document.getElementById('ace1b406-ce90-4b45-bb04-6362bace5df8');\n",
       "var x = new MutationObserver(function (mutations, observer) {{\n",
       "        var display = window.getComputedStyle(gd).display;\n",
       "        if (!display || display === 'none') {{\n",
       "            console.log([gd, 'removed!']);\n",
       "            Plotly.purge(gd);\n",
       "            observer.disconnect();\n",
       "        }}\n",
       "}});\n",
       "\n",
       "// Listen for the removal of the full notebook cells\n",
       "var notebookContainer = gd.closest('#notebook-container');\n",
       "if (notebookContainer) {{\n",
       "    x.observe(notebookContainer, {childList: true});\n",
       "}}\n",
       "\n",
       "// Listen for the clearing of the current output cell\n",
       "var outputEl = gd.closest('.output');\n",
       "if (outputEl) {{\n",
       "    x.observe(outputEl, {childList: true});\n",
       "}}\n",
       "\n",
       "                        })                };                });            </script>        </div>"
      ]
     },
     "metadata": {},
     "output_type": "display_data"
    }
   ],
   "source": [
    "df.iplot(kind='box')"
   ]
  },
  {
   "cell_type": "markdown",
   "metadata": {},
   "source": [
    "## 3d Surface"
   ]
  },
  {
   "cell_type": "code",
   "execution_count": 31,
   "metadata": {},
   "outputs": [
    {
     "data": {
      "application/vnd.plotly.v1+json": {
       "config": {
        "linkText": "Export to plot.ly",
        "plotlyServerURL": "https://plot.ly",
        "showLink": true
       },
       "data": [
        {
         "colorscale": [
          [
           0,
           "rgb(165,0,38)"
          ],
          [
           0.1,
           "rgb(215,48,39)"
          ],
          [
           0.2,
           "rgb(244,109,67)"
          ],
          [
           0.3,
           "rgb(253,174,97)"
          ],
          [
           0.4,
           "rgb(254,224,144)"
          ],
          [
           0.5,
           "rgb(255,255,191)"
          ],
          [
           0.6,
           "rgb(224,243,248)"
          ],
          [
           0.7,
           "rgb(171,217,233)"
          ],
          [
           0.8,
           "rgb(116,173,209)"
          ],
          [
           0.9,
           "rgb(69,117,180)"
          ],
          [
           1,
           "rgb(49,54,149)"
          ]
         ],
         "type": "surface",
         "x": [
          0,
          1,
          2,
          3,
          4
         ],
         "y": [
          "x",
          "y",
          "z"
         ],
         "z": [
          [
           1,
           2,
           3,
           4,
           5
          ],
          [
           10,
           20,
           30,
           20,
           10
          ],
          [
           5,
           4,
           3,
           2,
           1
          ]
         ]
        }
       ],
       "layout": {
        "legend": {
         "bgcolor": "#F5F6F9",
         "font": {
          "color": "#4D5663"
         }
        },
        "paper_bgcolor": "#F5F6F9",
        "plot_bgcolor": "#F5F6F9",
        "template": {
         "data": {
          "bar": [
           {
            "error_x": {
             "color": "#2a3f5f"
            },
            "error_y": {
             "color": "#2a3f5f"
            },
            "marker": {
             "line": {
              "color": "#E5ECF6",
              "width": 0.5
             },
             "pattern": {
              "fillmode": "overlay",
              "size": 10,
              "solidity": 0.2
             }
            },
            "type": "bar"
           }
          ],
          "barpolar": [
           {
            "marker": {
             "line": {
              "color": "#E5ECF6",
              "width": 0.5
             },
             "pattern": {
              "fillmode": "overlay",
              "size": 10,
              "solidity": 0.2
             }
            },
            "type": "barpolar"
           }
          ],
          "carpet": [
           {
            "aaxis": {
             "endlinecolor": "#2a3f5f",
             "gridcolor": "white",
             "linecolor": "white",
             "minorgridcolor": "white",
             "startlinecolor": "#2a3f5f"
            },
            "baxis": {
             "endlinecolor": "#2a3f5f",
             "gridcolor": "white",
             "linecolor": "white",
             "minorgridcolor": "white",
             "startlinecolor": "#2a3f5f"
            },
            "type": "carpet"
           }
          ],
          "choropleth": [
           {
            "colorbar": {
             "outlinewidth": 0,
             "ticks": ""
            },
            "type": "choropleth"
           }
          ],
          "contour": [
           {
            "colorbar": {
             "outlinewidth": 0,
             "ticks": ""
            },
            "colorscale": [
             [
              0,
              "#0d0887"
             ],
             [
              0.1111111111111111,
              "#46039f"
             ],
             [
              0.2222222222222222,
              "#7201a8"
             ],
             [
              0.3333333333333333,
              "#9c179e"
             ],
             [
              0.4444444444444444,
              "#bd3786"
             ],
             [
              0.5555555555555556,
              "#d8576b"
             ],
             [
              0.6666666666666666,
              "#ed7953"
             ],
             [
              0.7777777777777778,
              "#fb9f3a"
             ],
             [
              0.8888888888888888,
              "#fdca26"
             ],
             [
              1,
              "#f0f921"
             ]
            ],
            "type": "contour"
           }
          ],
          "contourcarpet": [
           {
            "colorbar": {
             "outlinewidth": 0,
             "ticks": ""
            },
            "type": "contourcarpet"
           }
          ],
          "heatmap": [
           {
            "colorbar": {
             "outlinewidth": 0,
             "ticks": ""
            },
            "colorscale": [
             [
              0,
              "#0d0887"
             ],
             [
              0.1111111111111111,
              "#46039f"
             ],
             [
              0.2222222222222222,
              "#7201a8"
             ],
             [
              0.3333333333333333,
              "#9c179e"
             ],
             [
              0.4444444444444444,
              "#bd3786"
             ],
             [
              0.5555555555555556,
              "#d8576b"
             ],
             [
              0.6666666666666666,
              "#ed7953"
             ],
             [
              0.7777777777777778,
              "#fb9f3a"
             ],
             [
              0.8888888888888888,
              "#fdca26"
             ],
             [
              1,
              "#f0f921"
             ]
            ],
            "type": "heatmap"
           }
          ],
          "heatmapgl": [
           {
            "colorbar": {
             "outlinewidth": 0,
             "ticks": ""
            },
            "colorscale": [
             [
              0,
              "#0d0887"
             ],
             [
              0.1111111111111111,
              "#46039f"
             ],
             [
              0.2222222222222222,
              "#7201a8"
             ],
             [
              0.3333333333333333,
              "#9c179e"
             ],
             [
              0.4444444444444444,
              "#bd3786"
             ],
             [
              0.5555555555555556,
              "#d8576b"
             ],
             [
              0.6666666666666666,
              "#ed7953"
             ],
             [
              0.7777777777777778,
              "#fb9f3a"
             ],
             [
              0.8888888888888888,
              "#fdca26"
             ],
             [
              1,
              "#f0f921"
             ]
            ],
            "type": "heatmapgl"
           }
          ],
          "histogram": [
           {
            "marker": {
             "pattern": {
              "fillmode": "overlay",
              "size": 10,
              "solidity": 0.2
             }
            },
            "type": "histogram"
           }
          ],
          "histogram2d": [
           {
            "colorbar": {
             "outlinewidth": 0,
             "ticks": ""
            },
            "colorscale": [
             [
              0,
              "#0d0887"
             ],
             [
              0.1111111111111111,
              "#46039f"
             ],
             [
              0.2222222222222222,
              "#7201a8"
             ],
             [
              0.3333333333333333,
              "#9c179e"
             ],
             [
              0.4444444444444444,
              "#bd3786"
             ],
             [
              0.5555555555555556,
              "#d8576b"
             ],
             [
              0.6666666666666666,
              "#ed7953"
             ],
             [
              0.7777777777777778,
              "#fb9f3a"
             ],
             [
              0.8888888888888888,
              "#fdca26"
             ],
             [
              1,
              "#f0f921"
             ]
            ],
            "type": "histogram2d"
           }
          ],
          "histogram2dcontour": [
           {
            "colorbar": {
             "outlinewidth": 0,
             "ticks": ""
            },
            "colorscale": [
             [
              0,
              "#0d0887"
             ],
             [
              0.1111111111111111,
              "#46039f"
             ],
             [
              0.2222222222222222,
              "#7201a8"
             ],
             [
              0.3333333333333333,
              "#9c179e"
             ],
             [
              0.4444444444444444,
              "#bd3786"
             ],
             [
              0.5555555555555556,
              "#d8576b"
             ],
             [
              0.6666666666666666,
              "#ed7953"
             ],
             [
              0.7777777777777778,
              "#fb9f3a"
             ],
             [
              0.8888888888888888,
              "#fdca26"
             ],
             [
              1,
              "#f0f921"
             ]
            ],
            "type": "histogram2dcontour"
           }
          ],
          "mesh3d": [
           {
            "colorbar": {
             "outlinewidth": 0,
             "ticks": ""
            },
            "type": "mesh3d"
           }
          ],
          "parcoords": [
           {
            "line": {
             "colorbar": {
              "outlinewidth": 0,
              "ticks": ""
             }
            },
            "type": "parcoords"
           }
          ],
          "pie": [
           {
            "automargin": true,
            "type": "pie"
           }
          ],
          "scatter": [
           {
            "fillpattern": {
             "fillmode": "overlay",
             "size": 10,
             "solidity": 0.2
            },
            "type": "scatter"
           }
          ],
          "scatter3d": [
           {
            "line": {
             "colorbar": {
              "outlinewidth": 0,
              "ticks": ""
             }
            },
            "marker": {
             "colorbar": {
              "outlinewidth": 0,
              "ticks": ""
             }
            },
            "type": "scatter3d"
           }
          ],
          "scattercarpet": [
           {
            "marker": {
             "colorbar": {
              "outlinewidth": 0,
              "ticks": ""
             }
            },
            "type": "scattercarpet"
           }
          ],
          "scattergeo": [
           {
            "marker": {
             "colorbar": {
              "outlinewidth": 0,
              "ticks": ""
             }
            },
            "type": "scattergeo"
           }
          ],
          "scattergl": [
           {
            "marker": {
             "colorbar": {
              "outlinewidth": 0,
              "ticks": ""
             }
            },
            "type": "scattergl"
           }
          ],
          "scattermapbox": [
           {
            "marker": {
             "colorbar": {
              "outlinewidth": 0,
              "ticks": ""
             }
            },
            "type": "scattermapbox"
           }
          ],
          "scatterpolar": [
           {
            "marker": {
             "colorbar": {
              "outlinewidth": 0,
              "ticks": ""
             }
            },
            "type": "scatterpolar"
           }
          ],
          "scatterpolargl": [
           {
            "marker": {
             "colorbar": {
              "outlinewidth": 0,
              "ticks": ""
             }
            },
            "type": "scatterpolargl"
           }
          ],
          "scatterternary": [
           {
            "marker": {
             "colorbar": {
              "outlinewidth": 0,
              "ticks": ""
             }
            },
            "type": "scatterternary"
           }
          ],
          "surface": [
           {
            "colorbar": {
             "outlinewidth": 0,
             "ticks": ""
            },
            "colorscale": [
             [
              0,
              "#0d0887"
             ],
             [
              0.1111111111111111,
              "#46039f"
             ],
             [
              0.2222222222222222,
              "#7201a8"
             ],
             [
              0.3333333333333333,
              "#9c179e"
             ],
             [
              0.4444444444444444,
              "#bd3786"
             ],
             [
              0.5555555555555556,
              "#d8576b"
             ],
             [
              0.6666666666666666,
              "#ed7953"
             ],
             [
              0.7777777777777778,
              "#fb9f3a"
             ],
             [
              0.8888888888888888,
              "#fdca26"
             ],
             [
              1,
              "#f0f921"
             ]
            ],
            "type": "surface"
           }
          ],
          "table": [
           {
            "cells": {
             "fill": {
              "color": "#EBF0F8"
             },
             "line": {
              "color": "white"
             }
            },
            "header": {
             "fill": {
              "color": "#C8D4E3"
             },
             "line": {
              "color": "white"
             }
            },
            "type": "table"
           }
          ]
         },
         "layout": {
          "annotationdefaults": {
           "arrowcolor": "#2a3f5f",
           "arrowhead": 0,
           "arrowwidth": 1
          },
          "autotypenumbers": "strict",
          "coloraxis": {
           "colorbar": {
            "outlinewidth": 0,
            "ticks": ""
           }
          },
          "colorscale": {
           "diverging": [
            [
             0,
             "#8e0152"
            ],
            [
             0.1,
             "#c51b7d"
            ],
            [
             0.2,
             "#de77ae"
            ],
            [
             0.3,
             "#f1b6da"
            ],
            [
             0.4,
             "#fde0ef"
            ],
            [
             0.5,
             "#f7f7f7"
            ],
            [
             0.6,
             "#e6f5d0"
            ],
            [
             0.7,
             "#b8e186"
            ],
            [
             0.8,
             "#7fbc41"
            ],
            [
             0.9,
             "#4d9221"
            ],
            [
             1,
             "#276419"
            ]
           ],
           "sequential": [
            [
             0,
             "#0d0887"
            ],
            [
             0.1111111111111111,
             "#46039f"
            ],
            [
             0.2222222222222222,
             "#7201a8"
            ],
            [
             0.3333333333333333,
             "#9c179e"
            ],
            [
             0.4444444444444444,
             "#bd3786"
            ],
            [
             0.5555555555555556,
             "#d8576b"
            ],
            [
             0.6666666666666666,
             "#ed7953"
            ],
            [
             0.7777777777777778,
             "#fb9f3a"
            ],
            [
             0.8888888888888888,
             "#fdca26"
            ],
            [
             1,
             "#f0f921"
            ]
           ],
           "sequentialminus": [
            [
             0,
             "#0d0887"
            ],
            [
             0.1111111111111111,
             "#46039f"
            ],
            [
             0.2222222222222222,
             "#7201a8"
            ],
            [
             0.3333333333333333,
             "#9c179e"
            ],
            [
             0.4444444444444444,
             "#bd3786"
            ],
            [
             0.5555555555555556,
             "#d8576b"
            ],
            [
             0.6666666666666666,
             "#ed7953"
            ],
            [
             0.7777777777777778,
             "#fb9f3a"
            ],
            [
             0.8888888888888888,
             "#fdca26"
            ],
            [
             1,
             "#f0f921"
            ]
           ]
          },
          "colorway": [
           "#636efa",
           "#EF553B",
           "#00cc96",
           "#ab63fa",
           "#FFA15A",
           "#19d3f3",
           "#FF6692",
           "#B6E880",
           "#FF97FF",
           "#FECB52"
          ],
          "font": {
           "color": "#2a3f5f"
          },
          "geo": {
           "bgcolor": "white",
           "lakecolor": "white",
           "landcolor": "#E5ECF6",
           "showlakes": true,
           "showland": true,
           "subunitcolor": "white"
          },
          "hoverlabel": {
           "align": "left"
          },
          "hovermode": "closest",
          "mapbox": {
           "style": "light"
          },
          "paper_bgcolor": "white",
          "plot_bgcolor": "#E5ECF6",
          "polar": {
           "angularaxis": {
            "gridcolor": "white",
            "linecolor": "white",
            "ticks": ""
           },
           "bgcolor": "#E5ECF6",
           "radialaxis": {
            "gridcolor": "white",
            "linecolor": "white",
            "ticks": ""
           }
          },
          "scene": {
           "xaxis": {
            "backgroundcolor": "#E5ECF6",
            "gridcolor": "white",
            "gridwidth": 2,
            "linecolor": "white",
            "showbackground": true,
            "ticks": "",
            "zerolinecolor": "white"
           },
           "yaxis": {
            "backgroundcolor": "#E5ECF6",
            "gridcolor": "white",
            "gridwidth": 2,
            "linecolor": "white",
            "showbackground": true,
            "ticks": "",
            "zerolinecolor": "white"
           },
           "zaxis": {
            "backgroundcolor": "#E5ECF6",
            "gridcolor": "white",
            "gridwidth": 2,
            "linecolor": "white",
            "showbackground": true,
            "ticks": "",
            "zerolinecolor": "white"
           }
          },
          "shapedefaults": {
           "line": {
            "color": "#2a3f5f"
           }
          },
          "ternary": {
           "aaxis": {
            "gridcolor": "white",
            "linecolor": "white",
            "ticks": ""
           },
           "baxis": {
            "gridcolor": "white",
            "linecolor": "white",
            "ticks": ""
           },
           "bgcolor": "#E5ECF6",
           "caxis": {
            "gridcolor": "white",
            "linecolor": "white",
            "ticks": ""
           }
          },
          "title": {
           "x": 0.05
          },
          "xaxis": {
           "automargin": true,
           "gridcolor": "white",
           "linecolor": "white",
           "ticks": "",
           "title": {
            "standoff": 15
           },
           "zerolinecolor": "white",
           "zerolinewidth": 2
          },
          "yaxis": {
           "automargin": true,
           "gridcolor": "white",
           "linecolor": "white",
           "ticks": "",
           "title": {
            "standoff": 15
           },
           "zerolinecolor": "white",
           "zerolinewidth": 2
          }
         }
        },
        "title": {
         "font": {
          "color": "#4D5663"
         }
        },
        "xaxis": {
         "gridcolor": "#E1E5ED",
         "showgrid": true,
         "tickfont": {
          "color": "#4D5663"
         },
         "title": {
          "font": {
           "color": "#4D5663"
          },
          "text": ""
         },
         "zerolinecolor": "#E1E5ED"
        },
        "yaxis": {
         "gridcolor": "#E1E5ED",
         "showgrid": true,
         "tickfont": {
          "color": "#4D5663"
         },
         "title": {
          "font": {
           "color": "#4D5663"
          },
          "text": ""
         },
         "zerolinecolor": "#E1E5ED"
        }
       }
      },
      "text/html": [
       "<div>                            <div id=\"9dd59429-1e57-4cbd-b3c7-fb82159a1e19\" class=\"plotly-graph-div\" style=\"height:525px; width:100%;\"></div>            <script type=\"text/javascript\">                require([\"plotly\"], function(Plotly) {                    window.PLOTLYENV=window.PLOTLYENV || {};\n",
       "                    window.PLOTLYENV.BASE_URL='https://plot.ly';                                    if (document.getElementById(\"9dd59429-1e57-4cbd-b3c7-fb82159a1e19\")) {                    Plotly.newPlot(                        \"9dd59429-1e57-4cbd-b3c7-fb82159a1e19\",                        [{\"colorscale\":[[0.0,\"rgb(165,0,38)\"],[0.1,\"rgb(215,48,39)\"],[0.2,\"rgb(244,109,67)\"],[0.3,\"rgb(253,174,97)\"],[0.4,\"rgb(254,224,144)\"],[0.5,\"rgb(255,255,191)\"],[0.6,\"rgb(224,243,248)\"],[0.7,\"rgb(171,217,233)\"],[0.8,\"rgb(116,173,209)\"],[0.9,\"rgb(69,117,180)\"],[1.0,\"rgb(49,54,149)\"]],\"x\":[0,1,2,3,4],\"y\":[\"x\",\"y\",\"z\"],\"z\":[[1,2,3,4,5],[10,20,30,20,10],[5,4,3,2,1]],\"type\":\"surface\"}],                        {\"legend\":{\"bgcolor\":\"#F5F6F9\",\"font\":{\"color\":\"#4D5663\"}},\"paper_bgcolor\":\"#F5F6F9\",\"plot_bgcolor\":\"#F5F6F9\",\"template\":{\"data\":{\"barpolar\":[{\"marker\":{\"line\":{\"color\":\"#E5ECF6\",\"width\":0.5},\"pattern\":{\"fillmode\":\"overlay\",\"size\":10,\"solidity\":0.2}},\"type\":\"barpolar\"}],\"bar\":[{\"error_x\":{\"color\":\"#2a3f5f\"},\"error_y\":{\"color\":\"#2a3f5f\"},\"marker\":{\"line\":{\"color\":\"#E5ECF6\",\"width\":0.5},\"pattern\":{\"fillmode\":\"overlay\",\"size\":10,\"solidity\":0.2}},\"type\":\"bar\"}],\"carpet\":[{\"aaxis\":{\"endlinecolor\":\"#2a3f5f\",\"gridcolor\":\"white\",\"linecolor\":\"white\",\"minorgridcolor\":\"white\",\"startlinecolor\":\"#2a3f5f\"},\"baxis\":{\"endlinecolor\":\"#2a3f5f\",\"gridcolor\":\"white\",\"linecolor\":\"white\",\"minorgridcolor\":\"white\",\"startlinecolor\":\"#2a3f5f\"},\"type\":\"carpet\"}],\"choropleth\":[{\"colorbar\":{\"outlinewidth\":0,\"ticks\":\"\"},\"type\":\"choropleth\"}],\"contourcarpet\":[{\"colorbar\":{\"outlinewidth\":0,\"ticks\":\"\"},\"type\":\"contourcarpet\"}],\"contour\":[{\"colorbar\":{\"outlinewidth\":0,\"ticks\":\"\"},\"colorscale\":[[0.0,\"#0d0887\"],[0.1111111111111111,\"#46039f\"],[0.2222222222222222,\"#7201a8\"],[0.3333333333333333,\"#9c179e\"],[0.4444444444444444,\"#bd3786\"],[0.5555555555555556,\"#d8576b\"],[0.6666666666666666,\"#ed7953\"],[0.7777777777777778,\"#fb9f3a\"],[0.8888888888888888,\"#fdca26\"],[1.0,\"#f0f921\"]],\"type\":\"contour\"}],\"heatmapgl\":[{\"colorbar\":{\"outlinewidth\":0,\"ticks\":\"\"},\"colorscale\":[[0.0,\"#0d0887\"],[0.1111111111111111,\"#46039f\"],[0.2222222222222222,\"#7201a8\"],[0.3333333333333333,\"#9c179e\"],[0.4444444444444444,\"#bd3786\"],[0.5555555555555556,\"#d8576b\"],[0.6666666666666666,\"#ed7953\"],[0.7777777777777778,\"#fb9f3a\"],[0.8888888888888888,\"#fdca26\"],[1.0,\"#f0f921\"]],\"type\":\"heatmapgl\"}],\"heatmap\":[{\"colorbar\":{\"outlinewidth\":0,\"ticks\":\"\"},\"colorscale\":[[0.0,\"#0d0887\"],[0.1111111111111111,\"#46039f\"],[0.2222222222222222,\"#7201a8\"],[0.3333333333333333,\"#9c179e\"],[0.4444444444444444,\"#bd3786\"],[0.5555555555555556,\"#d8576b\"],[0.6666666666666666,\"#ed7953\"],[0.7777777777777778,\"#fb9f3a\"],[0.8888888888888888,\"#fdca26\"],[1.0,\"#f0f921\"]],\"type\":\"heatmap\"}],\"histogram2dcontour\":[{\"colorbar\":{\"outlinewidth\":0,\"ticks\":\"\"},\"colorscale\":[[0.0,\"#0d0887\"],[0.1111111111111111,\"#46039f\"],[0.2222222222222222,\"#7201a8\"],[0.3333333333333333,\"#9c179e\"],[0.4444444444444444,\"#bd3786\"],[0.5555555555555556,\"#d8576b\"],[0.6666666666666666,\"#ed7953\"],[0.7777777777777778,\"#fb9f3a\"],[0.8888888888888888,\"#fdca26\"],[1.0,\"#f0f921\"]],\"type\":\"histogram2dcontour\"}],\"histogram2d\":[{\"colorbar\":{\"outlinewidth\":0,\"ticks\":\"\"},\"colorscale\":[[0.0,\"#0d0887\"],[0.1111111111111111,\"#46039f\"],[0.2222222222222222,\"#7201a8\"],[0.3333333333333333,\"#9c179e\"],[0.4444444444444444,\"#bd3786\"],[0.5555555555555556,\"#d8576b\"],[0.6666666666666666,\"#ed7953\"],[0.7777777777777778,\"#fb9f3a\"],[0.8888888888888888,\"#fdca26\"],[1.0,\"#f0f921\"]],\"type\":\"histogram2d\"}],\"histogram\":[{\"marker\":{\"pattern\":{\"fillmode\":\"overlay\",\"size\":10,\"solidity\":0.2}},\"type\":\"histogram\"}],\"mesh3d\":[{\"colorbar\":{\"outlinewidth\":0,\"ticks\":\"\"},\"type\":\"mesh3d\"}],\"parcoords\":[{\"line\":{\"colorbar\":{\"outlinewidth\":0,\"ticks\":\"\"}},\"type\":\"parcoords\"}],\"pie\":[{\"automargin\":true,\"type\":\"pie\"}],\"scatter3d\":[{\"line\":{\"colorbar\":{\"outlinewidth\":0,\"ticks\":\"\"}},\"marker\":{\"colorbar\":{\"outlinewidth\":0,\"ticks\":\"\"}},\"type\":\"scatter3d\"}],\"scattercarpet\":[{\"marker\":{\"colorbar\":{\"outlinewidth\":0,\"ticks\":\"\"}},\"type\":\"scattercarpet\"}],\"scattergeo\":[{\"marker\":{\"colorbar\":{\"outlinewidth\":0,\"ticks\":\"\"}},\"type\":\"scattergeo\"}],\"scattergl\":[{\"marker\":{\"colorbar\":{\"outlinewidth\":0,\"ticks\":\"\"}},\"type\":\"scattergl\"}],\"scattermapbox\":[{\"marker\":{\"colorbar\":{\"outlinewidth\":0,\"ticks\":\"\"}},\"type\":\"scattermapbox\"}],\"scatterpolargl\":[{\"marker\":{\"colorbar\":{\"outlinewidth\":0,\"ticks\":\"\"}},\"type\":\"scatterpolargl\"}],\"scatterpolar\":[{\"marker\":{\"colorbar\":{\"outlinewidth\":0,\"ticks\":\"\"}},\"type\":\"scatterpolar\"}],\"scatter\":[{\"fillpattern\":{\"fillmode\":\"overlay\",\"size\":10,\"solidity\":0.2},\"type\":\"scatter\"}],\"scatterternary\":[{\"marker\":{\"colorbar\":{\"outlinewidth\":0,\"ticks\":\"\"}},\"type\":\"scatterternary\"}],\"surface\":[{\"colorbar\":{\"outlinewidth\":0,\"ticks\":\"\"},\"colorscale\":[[0.0,\"#0d0887\"],[0.1111111111111111,\"#46039f\"],[0.2222222222222222,\"#7201a8\"],[0.3333333333333333,\"#9c179e\"],[0.4444444444444444,\"#bd3786\"],[0.5555555555555556,\"#d8576b\"],[0.6666666666666666,\"#ed7953\"],[0.7777777777777778,\"#fb9f3a\"],[0.8888888888888888,\"#fdca26\"],[1.0,\"#f0f921\"]],\"type\":\"surface\"}],\"table\":[{\"cells\":{\"fill\":{\"color\":\"#EBF0F8\"},\"line\":{\"color\":\"white\"}},\"header\":{\"fill\":{\"color\":\"#C8D4E3\"},\"line\":{\"color\":\"white\"}},\"type\":\"table\"}]},\"layout\":{\"annotationdefaults\":{\"arrowcolor\":\"#2a3f5f\",\"arrowhead\":0,\"arrowwidth\":1},\"autotypenumbers\":\"strict\",\"coloraxis\":{\"colorbar\":{\"outlinewidth\":0,\"ticks\":\"\"}},\"colorscale\":{\"diverging\":[[0,\"#8e0152\"],[0.1,\"#c51b7d\"],[0.2,\"#de77ae\"],[0.3,\"#f1b6da\"],[0.4,\"#fde0ef\"],[0.5,\"#f7f7f7\"],[0.6,\"#e6f5d0\"],[0.7,\"#b8e186\"],[0.8,\"#7fbc41\"],[0.9,\"#4d9221\"],[1,\"#276419\"]],\"sequential\":[[0.0,\"#0d0887\"],[0.1111111111111111,\"#46039f\"],[0.2222222222222222,\"#7201a8\"],[0.3333333333333333,\"#9c179e\"],[0.4444444444444444,\"#bd3786\"],[0.5555555555555556,\"#d8576b\"],[0.6666666666666666,\"#ed7953\"],[0.7777777777777778,\"#fb9f3a\"],[0.8888888888888888,\"#fdca26\"],[1.0,\"#f0f921\"]],\"sequentialminus\":[[0.0,\"#0d0887\"],[0.1111111111111111,\"#46039f\"],[0.2222222222222222,\"#7201a8\"],[0.3333333333333333,\"#9c179e\"],[0.4444444444444444,\"#bd3786\"],[0.5555555555555556,\"#d8576b\"],[0.6666666666666666,\"#ed7953\"],[0.7777777777777778,\"#fb9f3a\"],[0.8888888888888888,\"#fdca26\"],[1.0,\"#f0f921\"]]},\"colorway\":[\"#636efa\",\"#EF553B\",\"#00cc96\",\"#ab63fa\",\"#FFA15A\",\"#19d3f3\",\"#FF6692\",\"#B6E880\",\"#FF97FF\",\"#FECB52\"],\"font\":{\"color\":\"#2a3f5f\"},\"geo\":{\"bgcolor\":\"white\",\"lakecolor\":\"white\",\"landcolor\":\"#E5ECF6\",\"showlakes\":true,\"showland\":true,\"subunitcolor\":\"white\"},\"hoverlabel\":{\"align\":\"left\"},\"hovermode\":\"closest\",\"mapbox\":{\"style\":\"light\"},\"paper_bgcolor\":\"white\",\"plot_bgcolor\":\"#E5ECF6\",\"polar\":{\"angularaxis\":{\"gridcolor\":\"white\",\"linecolor\":\"white\",\"ticks\":\"\"},\"bgcolor\":\"#E5ECF6\",\"radialaxis\":{\"gridcolor\":\"white\",\"linecolor\":\"white\",\"ticks\":\"\"}},\"scene\":{\"xaxis\":{\"backgroundcolor\":\"#E5ECF6\",\"gridcolor\":\"white\",\"gridwidth\":2,\"linecolor\":\"white\",\"showbackground\":true,\"ticks\":\"\",\"zerolinecolor\":\"white\"},\"yaxis\":{\"backgroundcolor\":\"#E5ECF6\",\"gridcolor\":\"white\",\"gridwidth\":2,\"linecolor\":\"white\",\"showbackground\":true,\"ticks\":\"\",\"zerolinecolor\":\"white\"},\"zaxis\":{\"backgroundcolor\":\"#E5ECF6\",\"gridcolor\":\"white\",\"gridwidth\":2,\"linecolor\":\"white\",\"showbackground\":true,\"ticks\":\"\",\"zerolinecolor\":\"white\"}},\"shapedefaults\":{\"line\":{\"color\":\"#2a3f5f\"}},\"ternary\":{\"aaxis\":{\"gridcolor\":\"white\",\"linecolor\":\"white\",\"ticks\":\"\"},\"baxis\":{\"gridcolor\":\"white\",\"linecolor\":\"white\",\"ticks\":\"\"},\"bgcolor\":\"#E5ECF6\",\"caxis\":{\"gridcolor\":\"white\",\"linecolor\":\"white\",\"ticks\":\"\"}},\"title\":{\"x\":0.05},\"xaxis\":{\"automargin\":true,\"gridcolor\":\"white\",\"linecolor\":\"white\",\"ticks\":\"\",\"title\":{\"standoff\":15},\"zerolinecolor\":\"white\",\"zerolinewidth\":2},\"yaxis\":{\"automargin\":true,\"gridcolor\":\"white\",\"linecolor\":\"white\",\"ticks\":\"\",\"title\":{\"standoff\":15},\"zerolinecolor\":\"white\",\"zerolinewidth\":2}}},\"title\":{\"font\":{\"color\":\"#4D5663\"}},\"xaxis\":{\"gridcolor\":\"#E1E5ED\",\"showgrid\":true,\"tickfont\":{\"color\":\"#4D5663\"},\"title\":{\"font\":{\"color\":\"#4D5663\"},\"text\":\"\"},\"zerolinecolor\":\"#E1E5ED\"},\"yaxis\":{\"gridcolor\":\"#E1E5ED\",\"showgrid\":true,\"tickfont\":{\"color\":\"#4D5663\"},\"title\":{\"font\":{\"color\":\"#4D5663\"},\"text\":\"\"},\"zerolinecolor\":\"#E1E5ED\"}},                        {\"showLink\": true, \"linkText\": \"Export to plot.ly\", \"plotlyServerURL\": \"https://plot.ly\", \"responsive\": true}                    ).then(function(){\n",
       "                            \n",
       "var gd = document.getElementById('9dd59429-1e57-4cbd-b3c7-fb82159a1e19');\n",
       "var x = new MutationObserver(function (mutations, observer) {{\n",
       "        var display = window.getComputedStyle(gd).display;\n",
       "        if (!display || display === 'none') {{\n",
       "            console.log([gd, 'removed!']);\n",
       "            Plotly.purge(gd);\n",
       "            observer.disconnect();\n",
       "        }}\n",
       "}});\n",
       "\n",
       "// Listen for the removal of the full notebook cells\n",
       "var notebookContainer = gd.closest('#notebook-container');\n",
       "if (notebookContainer) {{\n",
       "    x.observe(notebookContainer, {childList: true});\n",
       "}}\n",
       "\n",
       "// Listen for the clearing of the current output cell\n",
       "var outputEl = gd.closest('.output');\n",
       "if (outputEl) {{\n",
       "    x.observe(outputEl, {childList: true});\n",
       "}}\n",
       "\n",
       "                        })                };                });            </script>        </div>"
      ]
     },
     "metadata": {},
     "output_type": "display_data"
    }
   ],
   "source": [
    "df3 = pd.DataFrame({'x':[1,2,3,4,5],'y':[10,20,30,20,10],'z':[5,4,3,2,1]})\n",
    "df3.iplot(kind='surface',colorscale='rdylbu')"
   ]
  },
  {
   "cell_type": "markdown",
   "metadata": {},
   "source": [
    "## Spread"
   ]
  },
  {
   "cell_type": "code",
   "execution_count": 32,
   "metadata": {},
   "outputs": [
    {
     "name": "stderr",
     "output_type": "stream",
     "text": [
      "C:\\Users\\anike\\anaconda3\\Lib\\site-packages\\cufflinks\\plotlytools.py:849: FutureWarning:\n",
      "\n",
      "The pandas.np module is deprecated and will be removed from pandas in a future version. Import numpy directly instead.\n",
      "\n",
      "C:\\Users\\anike\\anaconda3\\Lib\\site-packages\\cufflinks\\plotlytools.py:850: FutureWarning:\n",
      "\n",
      "The pandas.np module is deprecated and will be removed from pandas in a future version. Import numpy directly instead.\n",
      "\n"
     ]
    },
    {
     "data": {
      "application/vnd.plotly.v1+json": {
       "config": {
        "linkText": "Export to plot.ly",
        "plotlyServerURL": "https://plot.ly",
        "showLink": true
       },
       "data": [
        {
         "line": {
          "color": "rgba(255, 153, 51, 1.0)",
          "dash": "solid",
          "shape": "linear",
          "width": 1.3
         },
         "mode": "lines",
         "name": "A",
         "text": "",
         "type": "scatter",
         "x": [
          0,
          1,
          2,
          3,
          4,
          5,
          6,
          7,
          8,
          9,
          10,
          11,
          12,
          13,
          14,
          15,
          16,
          17,
          18,
          19,
          20,
          21,
          22,
          23,
          24,
          25,
          26,
          27,
          28,
          29,
          30,
          31,
          32,
          33,
          34,
          35,
          36,
          37,
          38,
          39,
          40,
          41,
          42,
          43,
          44,
          45,
          46,
          47,
          48,
          49,
          50,
          51,
          52,
          53,
          54,
          55,
          56,
          57,
          58,
          59,
          60,
          61,
          62,
          63,
          64,
          65,
          66,
          67,
          68,
          69,
          70,
          71,
          72,
          73,
          74,
          75,
          76,
          77,
          78,
          79,
          80,
          81,
          82,
          83,
          84,
          85,
          86,
          87,
          88,
          89,
          90,
          91,
          92,
          93,
          94,
          95,
          96,
          97,
          98,
          99
         ],
         "y": [
          -0.3983520986318105,
          -0.6162827135158706,
          2.099168429946755,
          0.49680194136560707,
          -1.07462082001314,
          1.9349510089752417,
          -2.4231933164169877,
          1.4470449807220553,
          -1.4999960796449026,
          -1.0945495325613395,
          0.6642788506356654,
          -0.49195583457573117,
          -0.6910826727920918,
          2.185441590057498,
          0.5131001184581482,
          0.674719629421702,
          0.20326375230828428,
          0.4949550563840638,
          1.4049673532147409,
          -0.14331104172596126,
          -0.3855718444977499,
          -0.21141543770944637,
          0.692414500334598,
          -1.5745230871640852,
          0.22429200145258757,
          -0.054580355994718846,
          0.7011313596097016,
          -0.7104053825194536,
          0.19309720375353737,
          0.5011860420595097,
          -0.13544250984575917,
          -1.3454410990573253,
          -0.12047204421392274,
          1.7560558189306235,
          0.3847089483023419,
          -1.0117420625874236,
          0.9164797757953848,
          0.8090796984007256,
          1.224431318037115,
          -0.6582058090452699,
          0.21452127600252371,
          -1.639673876779424,
          -1.1663156197618043,
          -0.15847458956823843,
          0.42473475884185624,
          -0.38660395544194304,
          -1.0130293175337957,
          -0.13664762695552973,
          1.1232879897184924,
          -1.1371616618950293,
          -0.07299308539521068,
          -0.5378171740332828,
          -1.7019495070466393,
          0.7459624013190475,
          0.27813535654079613,
          -0.2805369331929469,
          0.13963765034792444,
          -0.8166786213065517,
          0.170863291010852,
          0.3627638979559158,
          0.9251892035591921,
          -0.364802539096463,
          0.75720246115451,
          0.6971493229294524,
          -1.6710133918210957,
          -1.0312985576250868,
          0.8665470164781827,
          0.48918962517490755,
          -0.8274464881475612,
          1.7712724749541882,
          -0.2508356385745554,
          -0.42874012491286284,
          0.1233772385420985,
          -0.12822124751202227,
          0.5881947672940719,
          -0.9778504268571526,
          -0.30940316954708735,
          0.1613667105030798,
          -0.3001261485965345,
          -1.7313401143421838,
          0.12956150643595835,
          0.014778956330208861,
          0.36348543013152373,
          1.3969890902037807,
          0.6042087813381443,
          -0.27805222561920584,
          -2.0435509439758492,
          -0.0030770249422897933,
          0.5042478810220322,
          0.8029083832933929,
          -0.26315122741705216,
          1.7608604844319595,
          -0.4434264627398264,
          1.156664081932901,
          -0.5094711324408508,
          0.04128916792263781,
          -1.580156634490801,
          1.5399169357943356,
          -0.4085571732321778,
          0.3145272996081609
         ]
        },
        {
         "line": {
          "color": "rgba(55, 128, 191, 1.0)",
          "dash": "solid",
          "shape": "linear",
          "width": 1.3
         },
         "mode": "lines",
         "name": "B",
         "text": "",
         "type": "scatter",
         "x": [
          0,
          1,
          2,
          3,
          4,
          5,
          6,
          7,
          8,
          9,
          10,
          11,
          12,
          13,
          14,
          15,
          16,
          17,
          18,
          19,
          20,
          21,
          22,
          23,
          24,
          25,
          26,
          27,
          28,
          29,
          30,
          31,
          32,
          33,
          34,
          35,
          36,
          37,
          38,
          39,
          40,
          41,
          42,
          43,
          44,
          45,
          46,
          47,
          48,
          49,
          50,
          51,
          52,
          53,
          54,
          55,
          56,
          57,
          58,
          59,
          60,
          61,
          62,
          63,
          64,
          65,
          66,
          67,
          68,
          69,
          70,
          71,
          72,
          73,
          74,
          75,
          76,
          77,
          78,
          79,
          80,
          81,
          82,
          83,
          84,
          85,
          86,
          87,
          88,
          89,
          90,
          91,
          92,
          93,
          94,
          95,
          96,
          97,
          98,
          99
         ],
         "y": [
          0.12208332917629941,
          1.4270948640081371,
          0.9415756564617354,
          0.8514386613875572,
          -1.6079154146370516,
          0.23474977453446583,
          -1.3665712548990696,
          -0.5597744265445256,
          0.11704905592132613,
          -1.0761999807650133,
          0.4600018600959453,
          -0.9956908768988652,
          -1.7817190867875512,
          -0.31928955320845914,
          -1.298610373656051,
          -0.5889321850812367,
          1.0303232261552604,
          -0.09079621045016036,
          1.0498592223792036,
          0.4945195260593801,
          -0.7614604158288016,
          -0.2758685496285138,
          -0.4712323343948017,
          0.08107735706611524,
          0.2876616637370824,
          -0.3442145062143889,
          -0.24688584946805583,
          -1.8409003226008336,
          0.22256612235887274,
          0.4401227891529881,
          -0.8735826703886425,
          1.4686012634498118,
          -1.6748703428986085,
          -1.1605558826535318,
          0.10774587775563513,
          -0.8721569508808421,
          -1.745682698772934,
          -1.452721647399788,
          0.04819799834678428,
          -0.9061247463728632,
          0.9207690513874721,
          -0.25072273019599484,
          -1.0269905868847906,
          0.8214480131559797,
          -0.06130802406075241,
          0.8244671466603298,
          -1.0084027725753877,
          -0.1956529239009466,
          0.2886247444738875,
          0.18013738407397625,
          -0.21960299598628757,
          0.3033060435779998,
          1.7271676553473425,
          -0.48314073390233764,
          0.13768515634336445,
          -0.0533994239173276,
          1.7338014442135392,
          -1.9520406749002268,
          0.07869764470173318,
          -0.9335929111019033,
          -0.44122205140317033,
          -1.5497962478239262,
          -0.3182101659576731,
          -1.0171007251602078,
          0.8902179713444456,
          -0.1492023621732173,
          1.7529659316795176,
          0.6628395828509307,
          -1.096340275641719,
          1.9077958610885095,
          -0.5193627966641464,
          0.9629313460804836,
          2.1082307449244113,
          0.9745871209420388,
          -1.0097546804821036,
          -0.19762155195637537,
          -0.6085097342966207,
          0.5991802006769752,
          0.9470498884434012,
          -0.8728985442836582,
          1.5337368766467123,
          -1.5910808182844718,
          -0.8468706811371463,
          -0.38367407437863804,
          0.7776465368122711,
          1.6291788115590593,
          -0.24891560934335877,
          0.427583467757721,
          0.68939277525342,
          1.6845488764859788,
          -0.384370585796287,
          1.3277562924746618,
          0.6545543604797216,
          -1.2416959625466797,
          -0.6887152543938814,
          -0.9897569303738274,
          -1.1244890052144112,
          -1.6801441430246917,
          -0.3269438336106665,
          0.09831057172894017
         ]
        },
        {
         "connectgaps": false,
         "fill": "tozeroy",
         "line": {
          "color": "green",
          "dash": "solid",
          "shape": "linear",
          "width": 0.5
         },
         "mode": "lines",
         "name": "Spread",
         "showlegend": false,
         "type": "scatter",
         "x": [
          0,
          1,
          2,
          3,
          4,
          5,
          6,
          7,
          8,
          9,
          10,
          11,
          12,
          13,
          14,
          15,
          16,
          17,
          18,
          19,
          20,
          21,
          22,
          23,
          24,
          25,
          26,
          27,
          28,
          29,
          30,
          31,
          32,
          33,
          34,
          35,
          36,
          37,
          38,
          39,
          40,
          41,
          42,
          43,
          44,
          45,
          46,
          47,
          48,
          49,
          50,
          51,
          52,
          53,
          54,
          55,
          56,
          57,
          58,
          59,
          60,
          61,
          62,
          63,
          64,
          65,
          66,
          67,
          68,
          69,
          70,
          71,
          72,
          73,
          74,
          75,
          76,
          77,
          78,
          79,
          80,
          81,
          82,
          83,
          84,
          85,
          86,
          87,
          88,
          89,
          90,
          91,
          92,
          93,
          94,
          95,
          96,
          97,
          98,
          99
         ],
         "xaxis": "x2",
         "y": [
          "",
          "",
          1.1575927734850193,
          "",
          0.5332945946239116,
          1.700201234440776,
          "",
          2.006819407266581,
          "",
          "",
          0.2042769905397201,
          0.5037350423231339,
          1.0906364139954594,
          2.504731143265957,
          1.8117104921141993,
          1.2636518145029387,
          "",
          0.5857512668342242,
          0.3551081308355373,
          "",
          0.37588857133105175,
          0.06445311191906744,
          1.1636468347293998,
          "",
          "",
          0.2896341502196701,
          0.9480172090777574,
          1.13049494008138,
          "",
          0.06106325290652159,
          0.7381401605428832,
          "",
          1.5543982986846858,
          2.9166117015841553,
          0.27696307054670677,
          "",
          2.662162474568319,
          2.2618013458005137,
          1.1762333196903307,
          0.2479189373275933,
          "",
          "",
          "",
          "",
          0.48604278290260866,
          "",
          "",
          0.05900529694541687,
          0.834663245244605,
          "",
          0.1466099105910769,
          "",
          "",
          1.229103135221385,
          0.14045020019743168,
          "",
          "",
          1.135362053593675,
          0.0921656463091188,
          1.2963568090578192,
          1.3664112549623624,
          1.1849937087274633,
          1.075412627112183,
          1.71425004808966,
          "",
          "",
          "",
          "",
          0.26889378749415793,
          "",
          0.26852715808959104,
          "",
          "",
          "",
          1.5979494477761755,
          "",
          0.29910656474953334,
          "",
          "",
          "",
          "",
          1.6058597746146805,
          1.21035611126867,
          1.7806631645824187,
          "",
          "",
          "",
          "",
          "",
          "",
          0.12121935837923487,
          0.43310419195729777,
          "",
          2.3983600444795807,
          0.17924412195303052,
          1.031046098296465,
          "",
          3.220061078819027,
          "",
          0.21621672787922072
         ],
         "yaxis": "y2"
        },
        {
         "connectgaps": false,
         "fill": "tozeroy",
         "line": {
          "color": "red",
          "dash": "solid",
          "shape": "linear",
          "width": 0.5
         },
         "mode": "lines",
         "name": "Spread",
         "showlegend": false,
         "type": "scatter",
         "x": [
          0,
          1,
          2,
          3,
          4,
          5,
          6,
          7,
          8,
          9,
          10,
          11,
          12,
          13,
          14,
          15,
          16,
          17,
          18,
          19,
          20,
          21,
          22,
          23,
          24,
          25,
          26,
          27,
          28,
          29,
          30,
          31,
          32,
          33,
          34,
          35,
          36,
          37,
          38,
          39,
          40,
          41,
          42,
          43,
          44,
          45,
          46,
          47,
          48,
          49,
          50,
          51,
          52,
          53,
          54,
          55,
          56,
          57,
          58,
          59,
          60,
          61,
          62,
          63,
          64,
          65,
          66,
          67,
          68,
          69,
          70,
          71,
          72,
          73,
          74,
          75,
          76,
          77,
          78,
          79,
          80,
          81,
          82,
          83,
          84,
          85,
          86,
          87,
          88,
          89,
          90,
          91,
          92,
          93,
          94,
          95,
          96,
          97,
          98,
          99
         ],
         "xaxis": "x2",
         "y": [
          -0.5204354278081099,
          -2.0433775775240077,
          "",
          -0.3546367200219501,
          "",
          "",
          -1.056622061517918,
          "",
          -1.6170451355662288,
          -0.018349551796326136,
          "",
          "",
          "",
          "",
          "",
          "",
          -0.8270594738469761,
          "",
          "",
          -0.6378305677853413,
          "",
          "",
          "",
          -1.6556004442302004,
          -0.06336966228449484,
          "",
          "",
          "",
          -0.029468918605335376,
          "",
          "",
          -2.814042362507137,
          "",
          "",
          "",
          -0.1395851117065815,
          "",
          "",
          "",
          "",
          -0.7062477753849484,
          -1.3889511465834292,
          -0.1393250328770137,
          -0.9799226027242182,
          "",
          -1.2110711021022729,
          -0.004626544958407974,
          "",
          "",
          -1.3172990459690055,
          "",
          -0.8411232176112826,
          -3.4291171623939816,
          "",
          "",
          -0.22713750927561932,
          -1.5941637938656148,
          "",
          "",
          "",
          "",
          "",
          "",
          "",
          -2.5612313631655415,
          -0.8820961954518696,
          -0.886418915201335,
          -0.17364995767602315,
          "",
          -0.13652338613432136,
          "",
          -1.3916714709933464,
          -1.9848535063823127,
          -1.102808368454061,
          "",
          -0.7802288749007773,
          "",
          -0.43781349017389537,
          -1.2471760370399356,
          -0.8584415700585256,
          -1.404175370210754,
          "",
          "",
          "",
          -0.17343775547412688,
          -1.9072310371782653,
          -1.7946353346324906,
          -0.4306604927000108,
          -0.1851448942313878,
          -0.881640493192586,
          "",
          "",
          -1.097980823219548,
          "",
          "",
          "",
          -0.4556676292763897,
          "",
          -0.0816133396215113,
          ""
         ],
         "yaxis": "y2"
        }
       ],
       "layout": {
        "hovermode": "x",
        "legend": {
         "bgcolor": "#F5F6F9",
         "font": {
          "color": "#4D5663"
         }
        },
        "paper_bgcolor": "#F5F6F9",
        "plot_bgcolor": "#F5F6F9",
        "template": {
         "data": {
          "bar": [
           {
            "error_x": {
             "color": "#2a3f5f"
            },
            "error_y": {
             "color": "#2a3f5f"
            },
            "marker": {
             "line": {
              "color": "#E5ECF6",
              "width": 0.5
             },
             "pattern": {
              "fillmode": "overlay",
              "size": 10,
              "solidity": 0.2
             }
            },
            "type": "bar"
           }
          ],
          "barpolar": [
           {
            "marker": {
             "line": {
              "color": "#E5ECF6",
              "width": 0.5
             },
             "pattern": {
              "fillmode": "overlay",
              "size": 10,
              "solidity": 0.2
             }
            },
            "type": "barpolar"
           }
          ],
          "carpet": [
           {
            "aaxis": {
             "endlinecolor": "#2a3f5f",
             "gridcolor": "white",
             "linecolor": "white",
             "minorgridcolor": "white",
             "startlinecolor": "#2a3f5f"
            },
            "baxis": {
             "endlinecolor": "#2a3f5f",
             "gridcolor": "white",
             "linecolor": "white",
             "minorgridcolor": "white",
             "startlinecolor": "#2a3f5f"
            },
            "type": "carpet"
           }
          ],
          "choropleth": [
           {
            "colorbar": {
             "outlinewidth": 0,
             "ticks": ""
            },
            "type": "choropleth"
           }
          ],
          "contour": [
           {
            "colorbar": {
             "outlinewidth": 0,
             "ticks": ""
            },
            "colorscale": [
             [
              0,
              "#0d0887"
             ],
             [
              0.1111111111111111,
              "#46039f"
             ],
             [
              0.2222222222222222,
              "#7201a8"
             ],
             [
              0.3333333333333333,
              "#9c179e"
             ],
             [
              0.4444444444444444,
              "#bd3786"
             ],
             [
              0.5555555555555556,
              "#d8576b"
             ],
             [
              0.6666666666666666,
              "#ed7953"
             ],
             [
              0.7777777777777778,
              "#fb9f3a"
             ],
             [
              0.8888888888888888,
              "#fdca26"
             ],
             [
              1,
              "#f0f921"
             ]
            ],
            "type": "contour"
           }
          ],
          "contourcarpet": [
           {
            "colorbar": {
             "outlinewidth": 0,
             "ticks": ""
            },
            "type": "contourcarpet"
           }
          ],
          "heatmap": [
           {
            "colorbar": {
             "outlinewidth": 0,
             "ticks": ""
            },
            "colorscale": [
             [
              0,
              "#0d0887"
             ],
             [
              0.1111111111111111,
              "#46039f"
             ],
             [
              0.2222222222222222,
              "#7201a8"
             ],
             [
              0.3333333333333333,
              "#9c179e"
             ],
             [
              0.4444444444444444,
              "#bd3786"
             ],
             [
              0.5555555555555556,
              "#d8576b"
             ],
             [
              0.6666666666666666,
              "#ed7953"
             ],
             [
              0.7777777777777778,
              "#fb9f3a"
             ],
             [
              0.8888888888888888,
              "#fdca26"
             ],
             [
              1,
              "#f0f921"
             ]
            ],
            "type": "heatmap"
           }
          ],
          "heatmapgl": [
           {
            "colorbar": {
             "outlinewidth": 0,
             "ticks": ""
            },
            "colorscale": [
             [
              0,
              "#0d0887"
             ],
             [
              0.1111111111111111,
              "#46039f"
             ],
             [
              0.2222222222222222,
              "#7201a8"
             ],
             [
              0.3333333333333333,
              "#9c179e"
             ],
             [
              0.4444444444444444,
              "#bd3786"
             ],
             [
              0.5555555555555556,
              "#d8576b"
             ],
             [
              0.6666666666666666,
              "#ed7953"
             ],
             [
              0.7777777777777778,
              "#fb9f3a"
             ],
             [
              0.8888888888888888,
              "#fdca26"
             ],
             [
              1,
              "#f0f921"
             ]
            ],
            "type": "heatmapgl"
           }
          ],
          "histogram": [
           {
            "marker": {
             "pattern": {
              "fillmode": "overlay",
              "size": 10,
              "solidity": 0.2
             }
            },
            "type": "histogram"
           }
          ],
          "histogram2d": [
           {
            "colorbar": {
             "outlinewidth": 0,
             "ticks": ""
            },
            "colorscale": [
             [
              0,
              "#0d0887"
             ],
             [
              0.1111111111111111,
              "#46039f"
             ],
             [
              0.2222222222222222,
              "#7201a8"
             ],
             [
              0.3333333333333333,
              "#9c179e"
             ],
             [
              0.4444444444444444,
              "#bd3786"
             ],
             [
              0.5555555555555556,
              "#d8576b"
             ],
             [
              0.6666666666666666,
              "#ed7953"
             ],
             [
              0.7777777777777778,
              "#fb9f3a"
             ],
             [
              0.8888888888888888,
              "#fdca26"
             ],
             [
              1,
              "#f0f921"
             ]
            ],
            "type": "histogram2d"
           }
          ],
          "histogram2dcontour": [
           {
            "colorbar": {
             "outlinewidth": 0,
             "ticks": ""
            },
            "colorscale": [
             [
              0,
              "#0d0887"
             ],
             [
              0.1111111111111111,
              "#46039f"
             ],
             [
              0.2222222222222222,
              "#7201a8"
             ],
             [
              0.3333333333333333,
              "#9c179e"
             ],
             [
              0.4444444444444444,
              "#bd3786"
             ],
             [
              0.5555555555555556,
              "#d8576b"
             ],
             [
              0.6666666666666666,
              "#ed7953"
             ],
             [
              0.7777777777777778,
              "#fb9f3a"
             ],
             [
              0.8888888888888888,
              "#fdca26"
             ],
             [
              1,
              "#f0f921"
             ]
            ],
            "type": "histogram2dcontour"
           }
          ],
          "mesh3d": [
           {
            "colorbar": {
             "outlinewidth": 0,
             "ticks": ""
            },
            "type": "mesh3d"
           }
          ],
          "parcoords": [
           {
            "line": {
             "colorbar": {
              "outlinewidth": 0,
              "ticks": ""
             }
            },
            "type": "parcoords"
           }
          ],
          "pie": [
           {
            "automargin": true,
            "type": "pie"
           }
          ],
          "scatter": [
           {
            "fillpattern": {
             "fillmode": "overlay",
             "size": 10,
             "solidity": 0.2
            },
            "type": "scatter"
           }
          ],
          "scatter3d": [
           {
            "line": {
             "colorbar": {
              "outlinewidth": 0,
              "ticks": ""
             }
            },
            "marker": {
             "colorbar": {
              "outlinewidth": 0,
              "ticks": ""
             }
            },
            "type": "scatter3d"
           }
          ],
          "scattercarpet": [
           {
            "marker": {
             "colorbar": {
              "outlinewidth": 0,
              "ticks": ""
             }
            },
            "type": "scattercarpet"
           }
          ],
          "scattergeo": [
           {
            "marker": {
             "colorbar": {
              "outlinewidth": 0,
              "ticks": ""
             }
            },
            "type": "scattergeo"
           }
          ],
          "scattergl": [
           {
            "marker": {
             "colorbar": {
              "outlinewidth": 0,
              "ticks": ""
             }
            },
            "type": "scattergl"
           }
          ],
          "scattermapbox": [
           {
            "marker": {
             "colorbar": {
              "outlinewidth": 0,
              "ticks": ""
             }
            },
            "type": "scattermapbox"
           }
          ],
          "scatterpolar": [
           {
            "marker": {
             "colorbar": {
              "outlinewidth": 0,
              "ticks": ""
             }
            },
            "type": "scatterpolar"
           }
          ],
          "scatterpolargl": [
           {
            "marker": {
             "colorbar": {
              "outlinewidth": 0,
              "ticks": ""
             }
            },
            "type": "scatterpolargl"
           }
          ],
          "scatterternary": [
           {
            "marker": {
             "colorbar": {
              "outlinewidth": 0,
              "ticks": ""
             }
            },
            "type": "scatterternary"
           }
          ],
          "surface": [
           {
            "colorbar": {
             "outlinewidth": 0,
             "ticks": ""
            },
            "colorscale": [
             [
              0,
              "#0d0887"
             ],
             [
              0.1111111111111111,
              "#46039f"
             ],
             [
              0.2222222222222222,
              "#7201a8"
             ],
             [
              0.3333333333333333,
              "#9c179e"
             ],
             [
              0.4444444444444444,
              "#bd3786"
             ],
             [
              0.5555555555555556,
              "#d8576b"
             ],
             [
              0.6666666666666666,
              "#ed7953"
             ],
             [
              0.7777777777777778,
              "#fb9f3a"
             ],
             [
              0.8888888888888888,
              "#fdca26"
             ],
             [
              1,
              "#f0f921"
             ]
            ],
            "type": "surface"
           }
          ],
          "table": [
           {
            "cells": {
             "fill": {
              "color": "#EBF0F8"
             },
             "line": {
              "color": "white"
             }
            },
            "header": {
             "fill": {
              "color": "#C8D4E3"
             },
             "line": {
              "color": "white"
             }
            },
            "type": "table"
           }
          ]
         },
         "layout": {
          "annotationdefaults": {
           "arrowcolor": "#2a3f5f",
           "arrowhead": 0,
           "arrowwidth": 1
          },
          "autotypenumbers": "strict",
          "coloraxis": {
           "colorbar": {
            "outlinewidth": 0,
            "ticks": ""
           }
          },
          "colorscale": {
           "diverging": [
            [
             0,
             "#8e0152"
            ],
            [
             0.1,
             "#c51b7d"
            ],
            [
             0.2,
             "#de77ae"
            ],
            [
             0.3,
             "#f1b6da"
            ],
            [
             0.4,
             "#fde0ef"
            ],
            [
             0.5,
             "#f7f7f7"
            ],
            [
             0.6,
             "#e6f5d0"
            ],
            [
             0.7,
             "#b8e186"
            ],
            [
             0.8,
             "#7fbc41"
            ],
            [
             0.9,
             "#4d9221"
            ],
            [
             1,
             "#276419"
            ]
           ],
           "sequential": [
            [
             0,
             "#0d0887"
            ],
            [
             0.1111111111111111,
             "#46039f"
            ],
            [
             0.2222222222222222,
             "#7201a8"
            ],
            [
             0.3333333333333333,
             "#9c179e"
            ],
            [
             0.4444444444444444,
             "#bd3786"
            ],
            [
             0.5555555555555556,
             "#d8576b"
            ],
            [
             0.6666666666666666,
             "#ed7953"
            ],
            [
             0.7777777777777778,
             "#fb9f3a"
            ],
            [
             0.8888888888888888,
             "#fdca26"
            ],
            [
             1,
             "#f0f921"
            ]
           ],
           "sequentialminus": [
            [
             0,
             "#0d0887"
            ],
            [
             0.1111111111111111,
             "#46039f"
            ],
            [
             0.2222222222222222,
             "#7201a8"
            ],
            [
             0.3333333333333333,
             "#9c179e"
            ],
            [
             0.4444444444444444,
             "#bd3786"
            ],
            [
             0.5555555555555556,
             "#d8576b"
            ],
            [
             0.6666666666666666,
             "#ed7953"
            ],
            [
             0.7777777777777778,
             "#fb9f3a"
            ],
            [
             0.8888888888888888,
             "#fdca26"
            ],
            [
             1,
             "#f0f921"
            ]
           ]
          },
          "colorway": [
           "#636efa",
           "#EF553B",
           "#00cc96",
           "#ab63fa",
           "#FFA15A",
           "#19d3f3",
           "#FF6692",
           "#B6E880",
           "#FF97FF",
           "#FECB52"
          ],
          "font": {
           "color": "#2a3f5f"
          },
          "geo": {
           "bgcolor": "white",
           "lakecolor": "white",
           "landcolor": "#E5ECF6",
           "showlakes": true,
           "showland": true,
           "subunitcolor": "white"
          },
          "hoverlabel": {
           "align": "left"
          },
          "hovermode": "closest",
          "mapbox": {
           "style": "light"
          },
          "paper_bgcolor": "white",
          "plot_bgcolor": "#E5ECF6",
          "polar": {
           "angularaxis": {
            "gridcolor": "white",
            "linecolor": "white",
            "ticks": ""
           },
           "bgcolor": "#E5ECF6",
           "radialaxis": {
            "gridcolor": "white",
            "linecolor": "white",
            "ticks": ""
           }
          },
          "scene": {
           "xaxis": {
            "backgroundcolor": "#E5ECF6",
            "gridcolor": "white",
            "gridwidth": 2,
            "linecolor": "white",
            "showbackground": true,
            "ticks": "",
            "zerolinecolor": "white"
           },
           "yaxis": {
            "backgroundcolor": "#E5ECF6",
            "gridcolor": "white",
            "gridwidth": 2,
            "linecolor": "white",
            "showbackground": true,
            "ticks": "",
            "zerolinecolor": "white"
           },
           "zaxis": {
            "backgroundcolor": "#E5ECF6",
            "gridcolor": "white",
            "gridwidth": 2,
            "linecolor": "white",
            "showbackground": true,
            "ticks": "",
            "zerolinecolor": "white"
           }
          },
          "shapedefaults": {
           "line": {
            "color": "#2a3f5f"
           }
          },
          "ternary": {
           "aaxis": {
            "gridcolor": "white",
            "linecolor": "white",
            "ticks": ""
           },
           "baxis": {
            "gridcolor": "white",
            "linecolor": "white",
            "ticks": ""
           },
           "bgcolor": "#E5ECF6",
           "caxis": {
            "gridcolor": "white",
            "linecolor": "white",
            "ticks": ""
           }
          },
          "title": {
           "x": 0.05
          },
          "xaxis": {
           "automargin": true,
           "gridcolor": "white",
           "linecolor": "white",
           "ticks": "",
           "title": {
            "standoff": 15
           },
           "zerolinecolor": "white",
           "zerolinewidth": 2
          },
          "yaxis": {
           "automargin": true,
           "gridcolor": "white",
           "linecolor": "white",
           "ticks": "",
           "title": {
            "standoff": 15
           },
           "zerolinecolor": "white",
           "zerolinewidth": 2
          }
         }
        },
        "title": {
         "font": {
          "color": "#4D5663"
         }
        },
        "xaxis": {
         "gridcolor": "#E1E5ED",
         "showgrid": true,
         "tickfont": {
          "color": "#4D5663"
         },
         "title": {
          "font": {
           "color": "#4D5663"
          },
          "text": ""
         },
         "zerolinecolor": "#E1E5ED"
        },
        "xaxis2": {
         "anchor": "y2",
         "gridcolor": "#E1E5ED",
         "showgrid": true,
         "showticklabels": false,
         "tickfont": {
          "color": "#4D5663"
         },
         "title": {
          "font": {
           "color": "#4D5663"
          },
          "text": ""
         },
         "zerolinecolor": "#E1E5ED"
        },
        "yaxis": {
         "domain": [
          0.3,
          1
         ],
         "gridcolor": "#E1E5ED",
         "showgrid": true,
         "tickfont": {
          "color": "#4D5663"
         },
         "title": {
          "font": {
           "color": "#4D5663"
          },
          "text": ""
         },
         "zerolinecolor": "#E1E5ED"
        },
        "yaxis2": {
         "domain": [
          0,
          0.25
         ],
         "gridcolor": "#E1E5ED",
         "showgrid": true,
         "tickfont": {
          "color": "#4D5663"
         },
         "title": {
          "font": {
           "color": "#4D5663"
          },
          "text": "Spread"
         },
         "zerolinecolor": "#E1E5ED"
        }
       }
      },
      "text/html": [
       "<div>                            <div id=\"ad345f7b-ae52-4bc4-bfde-74ad96f67ebb\" class=\"plotly-graph-div\" style=\"height:525px; width:100%;\"></div>            <script type=\"text/javascript\">                require([\"plotly\"], function(Plotly) {                    window.PLOTLYENV=window.PLOTLYENV || {};\n",
       "                    window.PLOTLYENV.BASE_URL='https://plot.ly';                                    if (document.getElementById(\"ad345f7b-ae52-4bc4-bfde-74ad96f67ebb\")) {                    Plotly.newPlot(                        \"ad345f7b-ae52-4bc4-bfde-74ad96f67ebb\",                        [{\"line\":{\"color\":\"rgba(255, 153, 51, 1.0)\",\"dash\":\"solid\",\"shape\":\"linear\",\"width\":1.3},\"mode\":\"lines\",\"name\":\"A\",\"text\":\"\",\"x\":[0,1,2,3,4,5,6,7,8,9,10,11,12,13,14,15,16,17,18,19,20,21,22,23,24,25,26,27,28,29,30,31,32,33,34,35,36,37,38,39,40,41,42,43,44,45,46,47,48,49,50,51,52,53,54,55,56,57,58,59,60,61,62,63,64,65,66,67,68,69,70,71,72,73,74,75,76,77,78,79,80,81,82,83,84,85,86,87,88,89,90,91,92,93,94,95,96,97,98,99],\"y\":[-0.3983520986318105,-0.6162827135158706,2.099168429946755,0.49680194136560707,-1.07462082001314,1.9349510089752417,-2.4231933164169877,1.4470449807220553,-1.4999960796449026,-1.0945495325613395,0.6642788506356654,-0.49195583457573117,-0.6910826727920918,2.185441590057498,0.5131001184581482,0.674719629421702,0.20326375230828428,0.4949550563840638,1.4049673532147409,-0.14331104172596126,-0.3855718444977499,-0.21141543770944637,0.692414500334598,-1.5745230871640852,0.22429200145258757,-0.054580355994718846,0.7011313596097016,-0.7104053825194536,0.19309720375353737,0.5011860420595097,-0.13544250984575917,-1.3454410990573253,-0.12047204421392274,1.7560558189306235,0.3847089483023419,-1.0117420625874236,0.9164797757953848,0.8090796984007256,1.224431318037115,-0.6582058090452699,0.21452127600252371,-1.639673876779424,-1.1663156197618043,-0.15847458956823843,0.42473475884185624,-0.38660395544194304,-1.0130293175337957,-0.13664762695552973,1.1232879897184924,-1.1371616618950293,-0.07299308539521068,-0.5378171740332828,-1.7019495070466393,0.7459624013190475,0.27813535654079613,-0.2805369331929469,0.13963765034792444,-0.8166786213065517,0.170863291010852,0.3627638979559158,0.9251892035591921,-0.364802539096463,0.75720246115451,0.6971493229294524,-1.6710133918210957,-1.0312985576250868,0.8665470164781827,0.48918962517490755,-0.8274464881475612,1.7712724749541882,-0.2508356385745554,-0.42874012491286284,0.1233772385420985,-0.12822124751202227,0.5881947672940719,-0.9778504268571526,-0.30940316954708735,0.1613667105030798,-0.3001261485965345,-1.7313401143421838,0.12956150643595835,0.014778956330208861,0.36348543013152373,1.3969890902037807,0.6042087813381443,-0.27805222561920584,-2.0435509439758492,-0.0030770249422897933,0.5042478810220322,0.8029083832933929,-0.26315122741705216,1.7608604844319595,-0.4434264627398264,1.156664081932901,-0.5094711324408508,0.04128916792263781,-1.580156634490801,1.5399169357943356,-0.4085571732321778,0.3145272996081609],\"type\":\"scatter\"},{\"line\":{\"color\":\"rgba(55, 128, 191, 1.0)\",\"dash\":\"solid\",\"shape\":\"linear\",\"width\":1.3},\"mode\":\"lines\",\"name\":\"B\",\"text\":\"\",\"x\":[0,1,2,3,4,5,6,7,8,9,10,11,12,13,14,15,16,17,18,19,20,21,22,23,24,25,26,27,28,29,30,31,32,33,34,35,36,37,38,39,40,41,42,43,44,45,46,47,48,49,50,51,52,53,54,55,56,57,58,59,60,61,62,63,64,65,66,67,68,69,70,71,72,73,74,75,76,77,78,79,80,81,82,83,84,85,86,87,88,89,90,91,92,93,94,95,96,97,98,99],\"y\":[0.12208332917629941,1.4270948640081371,0.9415756564617354,0.8514386613875572,-1.6079154146370516,0.23474977453446583,-1.3665712548990696,-0.5597744265445256,0.11704905592132613,-1.0761999807650133,0.4600018600959453,-0.9956908768988652,-1.7817190867875512,-0.31928955320845914,-1.298610373656051,-0.5889321850812367,1.0303232261552604,-0.09079621045016036,1.0498592223792036,0.4945195260593801,-0.7614604158288016,-0.2758685496285138,-0.4712323343948017,0.08107735706611524,0.2876616637370824,-0.3442145062143889,-0.24688584946805583,-1.8409003226008336,0.22256612235887274,0.4401227891529881,-0.8735826703886425,1.4686012634498118,-1.6748703428986085,-1.1605558826535318,0.10774587775563513,-0.8721569508808421,-1.745682698772934,-1.452721647399788,0.04819799834678428,-0.9061247463728632,0.9207690513874721,-0.25072273019599484,-1.0269905868847906,0.8214480131559797,-0.06130802406075241,0.8244671466603298,-1.0084027725753877,-0.1956529239009466,0.2886247444738875,0.18013738407397625,-0.21960299598628757,0.3033060435779998,1.7271676553473425,-0.48314073390233764,0.13768515634336445,-0.0533994239173276,1.7338014442135392,-1.9520406749002268,0.07869764470173318,-0.9335929111019033,-0.44122205140317033,-1.5497962478239262,-0.3182101659576731,-1.0171007251602078,0.8902179713444456,-0.1492023621732173,1.7529659316795176,0.6628395828509307,-1.096340275641719,1.9077958610885095,-0.5193627966641464,0.9629313460804836,2.1082307449244113,0.9745871209420388,-1.0097546804821036,-0.19762155195637537,-0.6085097342966207,0.5991802006769752,0.9470498884434012,-0.8728985442836582,1.5337368766467123,-1.5910808182844718,-0.8468706811371463,-0.38367407437863804,0.7776465368122711,1.6291788115590593,-0.24891560934335877,0.427583467757721,0.68939277525342,1.6845488764859788,-0.384370585796287,1.3277562924746618,0.6545543604797216,-1.2416959625466797,-0.6887152543938814,-0.9897569303738274,-1.1244890052144112,-1.6801441430246917,-0.3269438336106665,0.09831057172894017],\"type\":\"scatter\"},{\"connectgaps\":false,\"fill\":\"tozeroy\",\"line\":{\"color\":\"green\",\"dash\":\"solid\",\"shape\":\"linear\",\"width\":0.5},\"mode\":\"lines\",\"name\":\"Spread\",\"showlegend\":false,\"x\":[0,1,2,3,4,5,6,7,8,9,10,11,12,13,14,15,16,17,18,19,20,21,22,23,24,25,26,27,28,29,30,31,32,33,34,35,36,37,38,39,40,41,42,43,44,45,46,47,48,49,50,51,52,53,54,55,56,57,58,59,60,61,62,63,64,65,66,67,68,69,70,71,72,73,74,75,76,77,78,79,80,81,82,83,84,85,86,87,88,89,90,91,92,93,94,95,96,97,98,99],\"xaxis\":\"x2\",\"y\":[\"\",\"\",1.1575927734850193,\"\",0.5332945946239116,1.700201234440776,\"\",2.006819407266581,\"\",\"\",0.2042769905397201,0.5037350423231339,1.0906364139954594,2.504731143265957,1.8117104921141993,1.2636518145029387,\"\",0.5857512668342242,0.3551081308355373,\"\",0.37588857133105175,0.06445311191906744,1.1636468347293998,\"\",\"\",0.2896341502196701,0.9480172090777574,1.13049494008138,\"\",0.06106325290652159,0.7381401605428832,\"\",1.5543982986846858,2.9166117015841553,0.27696307054670677,\"\",2.662162474568319,2.2618013458005137,1.1762333196903307,0.2479189373275933,\"\",\"\",\"\",\"\",0.48604278290260866,\"\",\"\",0.05900529694541687,0.834663245244605,\"\",0.1466099105910769,\"\",\"\",1.229103135221385,0.14045020019743168,\"\",\"\",1.135362053593675,0.0921656463091188,1.2963568090578192,1.3664112549623624,1.1849937087274633,1.075412627112183,1.71425004808966,\"\",\"\",\"\",\"\",0.26889378749415793,\"\",0.26852715808959104,\"\",\"\",\"\",1.5979494477761755,\"\",0.29910656474953334,\"\",\"\",\"\",\"\",1.6058597746146805,1.21035611126867,1.7806631645824187,\"\",\"\",\"\",\"\",\"\",\"\",0.12121935837923487,0.43310419195729777,\"\",2.3983600444795807,0.17924412195303052,1.031046098296465,\"\",3.220061078819027,\"\",0.21621672787922072],\"yaxis\":\"y2\",\"type\":\"scatter\"},{\"connectgaps\":false,\"fill\":\"tozeroy\",\"line\":{\"color\":\"red\",\"dash\":\"solid\",\"shape\":\"linear\",\"width\":0.5},\"mode\":\"lines\",\"name\":\"Spread\",\"showlegend\":false,\"x\":[0,1,2,3,4,5,6,7,8,9,10,11,12,13,14,15,16,17,18,19,20,21,22,23,24,25,26,27,28,29,30,31,32,33,34,35,36,37,38,39,40,41,42,43,44,45,46,47,48,49,50,51,52,53,54,55,56,57,58,59,60,61,62,63,64,65,66,67,68,69,70,71,72,73,74,75,76,77,78,79,80,81,82,83,84,85,86,87,88,89,90,91,92,93,94,95,96,97,98,99],\"xaxis\":\"x2\",\"y\":[-0.5204354278081099,-2.0433775775240077,\"\",-0.3546367200219501,\"\",\"\",-1.056622061517918,\"\",-1.6170451355662288,-0.018349551796326136,\"\",\"\",\"\",\"\",\"\",\"\",-0.8270594738469761,\"\",\"\",-0.6378305677853413,\"\",\"\",\"\",-1.6556004442302004,-0.06336966228449484,\"\",\"\",\"\",-0.029468918605335376,\"\",\"\",-2.814042362507137,\"\",\"\",\"\",-0.1395851117065815,\"\",\"\",\"\",\"\",-0.7062477753849484,-1.3889511465834292,-0.1393250328770137,-0.9799226027242182,\"\",-1.2110711021022729,-0.004626544958407974,\"\",\"\",-1.3172990459690055,\"\",-0.8411232176112826,-3.4291171623939816,\"\",\"\",-0.22713750927561932,-1.5941637938656148,\"\",\"\",\"\",\"\",\"\",\"\",\"\",-2.5612313631655415,-0.8820961954518696,-0.886418915201335,-0.17364995767602315,\"\",-0.13652338613432136,\"\",-1.3916714709933464,-1.9848535063823127,-1.102808368454061,\"\",-0.7802288749007773,\"\",-0.43781349017389537,-1.2471760370399356,-0.8584415700585256,-1.404175370210754,\"\",\"\",\"\",-0.17343775547412688,-1.9072310371782653,-1.7946353346324906,-0.4306604927000108,-0.1851448942313878,-0.881640493192586,\"\",\"\",-1.097980823219548,\"\",\"\",\"\",-0.4556676292763897,\"\",-0.0816133396215113,\"\"],\"yaxis\":\"y2\",\"type\":\"scatter\"}],                        {\"hovermode\":\"x\",\"legend\":{\"bgcolor\":\"#F5F6F9\",\"font\":{\"color\":\"#4D5663\"}},\"paper_bgcolor\":\"#F5F6F9\",\"plot_bgcolor\":\"#F5F6F9\",\"template\":{\"data\":{\"barpolar\":[{\"marker\":{\"line\":{\"color\":\"#E5ECF6\",\"width\":0.5},\"pattern\":{\"fillmode\":\"overlay\",\"size\":10,\"solidity\":0.2}},\"type\":\"barpolar\"}],\"bar\":[{\"error_x\":{\"color\":\"#2a3f5f\"},\"error_y\":{\"color\":\"#2a3f5f\"},\"marker\":{\"line\":{\"color\":\"#E5ECF6\",\"width\":0.5},\"pattern\":{\"fillmode\":\"overlay\",\"size\":10,\"solidity\":0.2}},\"type\":\"bar\"}],\"carpet\":[{\"aaxis\":{\"endlinecolor\":\"#2a3f5f\",\"gridcolor\":\"white\",\"linecolor\":\"white\",\"minorgridcolor\":\"white\",\"startlinecolor\":\"#2a3f5f\"},\"baxis\":{\"endlinecolor\":\"#2a3f5f\",\"gridcolor\":\"white\",\"linecolor\":\"white\",\"minorgridcolor\":\"white\",\"startlinecolor\":\"#2a3f5f\"},\"type\":\"carpet\"}],\"choropleth\":[{\"colorbar\":{\"outlinewidth\":0,\"ticks\":\"\"},\"type\":\"choropleth\"}],\"contourcarpet\":[{\"colorbar\":{\"outlinewidth\":0,\"ticks\":\"\"},\"type\":\"contourcarpet\"}],\"contour\":[{\"colorbar\":{\"outlinewidth\":0,\"ticks\":\"\"},\"colorscale\":[[0.0,\"#0d0887\"],[0.1111111111111111,\"#46039f\"],[0.2222222222222222,\"#7201a8\"],[0.3333333333333333,\"#9c179e\"],[0.4444444444444444,\"#bd3786\"],[0.5555555555555556,\"#d8576b\"],[0.6666666666666666,\"#ed7953\"],[0.7777777777777778,\"#fb9f3a\"],[0.8888888888888888,\"#fdca26\"],[1.0,\"#f0f921\"]],\"type\":\"contour\"}],\"heatmapgl\":[{\"colorbar\":{\"outlinewidth\":0,\"ticks\":\"\"},\"colorscale\":[[0.0,\"#0d0887\"],[0.1111111111111111,\"#46039f\"],[0.2222222222222222,\"#7201a8\"],[0.3333333333333333,\"#9c179e\"],[0.4444444444444444,\"#bd3786\"],[0.5555555555555556,\"#d8576b\"],[0.6666666666666666,\"#ed7953\"],[0.7777777777777778,\"#fb9f3a\"],[0.8888888888888888,\"#fdca26\"],[1.0,\"#f0f921\"]],\"type\":\"heatmapgl\"}],\"heatmap\":[{\"colorbar\":{\"outlinewidth\":0,\"ticks\":\"\"},\"colorscale\":[[0.0,\"#0d0887\"],[0.1111111111111111,\"#46039f\"],[0.2222222222222222,\"#7201a8\"],[0.3333333333333333,\"#9c179e\"],[0.4444444444444444,\"#bd3786\"],[0.5555555555555556,\"#d8576b\"],[0.6666666666666666,\"#ed7953\"],[0.7777777777777778,\"#fb9f3a\"],[0.8888888888888888,\"#fdca26\"],[1.0,\"#f0f921\"]],\"type\":\"heatmap\"}],\"histogram2dcontour\":[{\"colorbar\":{\"outlinewidth\":0,\"ticks\":\"\"},\"colorscale\":[[0.0,\"#0d0887\"],[0.1111111111111111,\"#46039f\"],[0.2222222222222222,\"#7201a8\"],[0.3333333333333333,\"#9c179e\"],[0.4444444444444444,\"#bd3786\"],[0.5555555555555556,\"#d8576b\"],[0.6666666666666666,\"#ed7953\"],[0.7777777777777778,\"#fb9f3a\"],[0.8888888888888888,\"#fdca26\"],[1.0,\"#f0f921\"]],\"type\":\"histogram2dcontour\"}],\"histogram2d\":[{\"colorbar\":{\"outlinewidth\":0,\"ticks\":\"\"},\"colorscale\":[[0.0,\"#0d0887\"],[0.1111111111111111,\"#46039f\"],[0.2222222222222222,\"#7201a8\"],[0.3333333333333333,\"#9c179e\"],[0.4444444444444444,\"#bd3786\"],[0.5555555555555556,\"#d8576b\"],[0.6666666666666666,\"#ed7953\"],[0.7777777777777778,\"#fb9f3a\"],[0.8888888888888888,\"#fdca26\"],[1.0,\"#f0f921\"]],\"type\":\"histogram2d\"}],\"histogram\":[{\"marker\":{\"pattern\":{\"fillmode\":\"overlay\",\"size\":10,\"solidity\":0.2}},\"type\":\"histogram\"}],\"mesh3d\":[{\"colorbar\":{\"outlinewidth\":0,\"ticks\":\"\"},\"type\":\"mesh3d\"}],\"parcoords\":[{\"line\":{\"colorbar\":{\"outlinewidth\":0,\"ticks\":\"\"}},\"type\":\"parcoords\"}],\"pie\":[{\"automargin\":true,\"type\":\"pie\"}],\"scatter3d\":[{\"line\":{\"colorbar\":{\"outlinewidth\":0,\"ticks\":\"\"}},\"marker\":{\"colorbar\":{\"outlinewidth\":0,\"ticks\":\"\"}},\"type\":\"scatter3d\"}],\"scattercarpet\":[{\"marker\":{\"colorbar\":{\"outlinewidth\":0,\"ticks\":\"\"}},\"type\":\"scattercarpet\"}],\"scattergeo\":[{\"marker\":{\"colorbar\":{\"outlinewidth\":0,\"ticks\":\"\"}},\"type\":\"scattergeo\"}],\"scattergl\":[{\"marker\":{\"colorbar\":{\"outlinewidth\":0,\"ticks\":\"\"}},\"type\":\"scattergl\"}],\"scattermapbox\":[{\"marker\":{\"colorbar\":{\"outlinewidth\":0,\"ticks\":\"\"}},\"type\":\"scattermapbox\"}],\"scatterpolargl\":[{\"marker\":{\"colorbar\":{\"outlinewidth\":0,\"ticks\":\"\"}},\"type\":\"scatterpolargl\"}],\"scatterpolar\":[{\"marker\":{\"colorbar\":{\"outlinewidth\":0,\"ticks\":\"\"}},\"type\":\"scatterpolar\"}],\"scatter\":[{\"fillpattern\":{\"fillmode\":\"overlay\",\"size\":10,\"solidity\":0.2},\"type\":\"scatter\"}],\"scatterternary\":[{\"marker\":{\"colorbar\":{\"outlinewidth\":0,\"ticks\":\"\"}},\"type\":\"scatterternary\"}],\"surface\":[{\"colorbar\":{\"outlinewidth\":0,\"ticks\":\"\"},\"colorscale\":[[0.0,\"#0d0887\"],[0.1111111111111111,\"#46039f\"],[0.2222222222222222,\"#7201a8\"],[0.3333333333333333,\"#9c179e\"],[0.4444444444444444,\"#bd3786\"],[0.5555555555555556,\"#d8576b\"],[0.6666666666666666,\"#ed7953\"],[0.7777777777777778,\"#fb9f3a\"],[0.8888888888888888,\"#fdca26\"],[1.0,\"#f0f921\"]],\"type\":\"surface\"}],\"table\":[{\"cells\":{\"fill\":{\"color\":\"#EBF0F8\"},\"line\":{\"color\":\"white\"}},\"header\":{\"fill\":{\"color\":\"#C8D4E3\"},\"line\":{\"color\":\"white\"}},\"type\":\"table\"}]},\"layout\":{\"annotationdefaults\":{\"arrowcolor\":\"#2a3f5f\",\"arrowhead\":0,\"arrowwidth\":1},\"autotypenumbers\":\"strict\",\"coloraxis\":{\"colorbar\":{\"outlinewidth\":0,\"ticks\":\"\"}},\"colorscale\":{\"diverging\":[[0,\"#8e0152\"],[0.1,\"#c51b7d\"],[0.2,\"#de77ae\"],[0.3,\"#f1b6da\"],[0.4,\"#fde0ef\"],[0.5,\"#f7f7f7\"],[0.6,\"#e6f5d0\"],[0.7,\"#b8e186\"],[0.8,\"#7fbc41\"],[0.9,\"#4d9221\"],[1,\"#276419\"]],\"sequential\":[[0.0,\"#0d0887\"],[0.1111111111111111,\"#46039f\"],[0.2222222222222222,\"#7201a8\"],[0.3333333333333333,\"#9c179e\"],[0.4444444444444444,\"#bd3786\"],[0.5555555555555556,\"#d8576b\"],[0.6666666666666666,\"#ed7953\"],[0.7777777777777778,\"#fb9f3a\"],[0.8888888888888888,\"#fdca26\"],[1.0,\"#f0f921\"]],\"sequentialminus\":[[0.0,\"#0d0887\"],[0.1111111111111111,\"#46039f\"],[0.2222222222222222,\"#7201a8\"],[0.3333333333333333,\"#9c179e\"],[0.4444444444444444,\"#bd3786\"],[0.5555555555555556,\"#d8576b\"],[0.6666666666666666,\"#ed7953\"],[0.7777777777777778,\"#fb9f3a\"],[0.8888888888888888,\"#fdca26\"],[1.0,\"#f0f921\"]]},\"colorway\":[\"#636efa\",\"#EF553B\",\"#00cc96\",\"#ab63fa\",\"#FFA15A\",\"#19d3f3\",\"#FF6692\",\"#B6E880\",\"#FF97FF\",\"#FECB52\"],\"font\":{\"color\":\"#2a3f5f\"},\"geo\":{\"bgcolor\":\"white\",\"lakecolor\":\"white\",\"landcolor\":\"#E5ECF6\",\"showlakes\":true,\"showland\":true,\"subunitcolor\":\"white\"},\"hoverlabel\":{\"align\":\"left\"},\"hovermode\":\"closest\",\"mapbox\":{\"style\":\"light\"},\"paper_bgcolor\":\"white\",\"plot_bgcolor\":\"#E5ECF6\",\"polar\":{\"angularaxis\":{\"gridcolor\":\"white\",\"linecolor\":\"white\",\"ticks\":\"\"},\"bgcolor\":\"#E5ECF6\",\"radialaxis\":{\"gridcolor\":\"white\",\"linecolor\":\"white\",\"ticks\":\"\"}},\"scene\":{\"xaxis\":{\"backgroundcolor\":\"#E5ECF6\",\"gridcolor\":\"white\",\"gridwidth\":2,\"linecolor\":\"white\",\"showbackground\":true,\"ticks\":\"\",\"zerolinecolor\":\"white\"},\"yaxis\":{\"backgroundcolor\":\"#E5ECF6\",\"gridcolor\":\"white\",\"gridwidth\":2,\"linecolor\":\"white\",\"showbackground\":true,\"ticks\":\"\",\"zerolinecolor\":\"white\"},\"zaxis\":{\"backgroundcolor\":\"#E5ECF6\",\"gridcolor\":\"white\",\"gridwidth\":2,\"linecolor\":\"white\",\"showbackground\":true,\"ticks\":\"\",\"zerolinecolor\":\"white\"}},\"shapedefaults\":{\"line\":{\"color\":\"#2a3f5f\"}},\"ternary\":{\"aaxis\":{\"gridcolor\":\"white\",\"linecolor\":\"white\",\"ticks\":\"\"},\"baxis\":{\"gridcolor\":\"white\",\"linecolor\":\"white\",\"ticks\":\"\"},\"bgcolor\":\"#E5ECF6\",\"caxis\":{\"gridcolor\":\"white\",\"linecolor\":\"white\",\"ticks\":\"\"}},\"title\":{\"x\":0.05},\"xaxis\":{\"automargin\":true,\"gridcolor\":\"white\",\"linecolor\":\"white\",\"ticks\":\"\",\"title\":{\"standoff\":15},\"zerolinecolor\":\"white\",\"zerolinewidth\":2},\"yaxis\":{\"automargin\":true,\"gridcolor\":\"white\",\"linecolor\":\"white\",\"ticks\":\"\",\"title\":{\"standoff\":15},\"zerolinecolor\":\"white\",\"zerolinewidth\":2}}},\"title\":{\"font\":{\"color\":\"#4D5663\"}},\"xaxis\":{\"gridcolor\":\"#E1E5ED\",\"showgrid\":true,\"tickfont\":{\"color\":\"#4D5663\"},\"title\":{\"font\":{\"color\":\"#4D5663\"},\"text\":\"\"},\"zerolinecolor\":\"#E1E5ED\"},\"yaxis\":{\"domain\":[0.3,1],\"gridcolor\":\"#E1E5ED\",\"showgrid\":true,\"tickfont\":{\"color\":\"#4D5663\"},\"title\":{\"font\":{\"color\":\"#4D5663\"},\"text\":\"\"},\"zerolinecolor\":\"#E1E5ED\"},\"yaxis2\":{\"domain\":[0,0.25],\"gridcolor\":\"#E1E5ED\",\"showgrid\":true,\"tickfont\":{\"color\":\"#4D5663\"},\"title\":{\"font\":{\"color\":\"#4D5663\"},\"text\":\"Spread\"},\"zerolinecolor\":\"#E1E5ED\"},\"xaxis2\":{\"anchor\":\"y2\",\"gridcolor\":\"#E1E5ED\",\"showgrid\":true,\"showticklabels\":false,\"tickfont\":{\"color\":\"#4D5663\"},\"title\":{\"font\":{\"color\":\"#4D5663\"},\"text\":\"\"},\"zerolinecolor\":\"#E1E5ED\"}},                        {\"showLink\": true, \"linkText\": \"Export to plot.ly\", \"plotlyServerURL\": \"https://plot.ly\", \"responsive\": true}                    ).then(function(){\n",
       "                            \n",
       "var gd = document.getElementById('ad345f7b-ae52-4bc4-bfde-74ad96f67ebb');\n",
       "var x = new MutationObserver(function (mutations, observer) {{\n",
       "        var display = window.getComputedStyle(gd).display;\n",
       "        if (!display || display === 'none') {{\n",
       "            console.log([gd, 'removed!']);\n",
       "            Plotly.purge(gd);\n",
       "            observer.disconnect();\n",
       "        }}\n",
       "}});\n",
       "\n",
       "// Listen for the removal of the full notebook cells\n",
       "var notebookContainer = gd.closest('#notebook-container');\n",
       "if (notebookContainer) {{\n",
       "    x.observe(notebookContainer, {childList: true});\n",
       "}}\n",
       "\n",
       "// Listen for the clearing of the current output cell\n",
       "var outputEl = gd.closest('.output');\n",
       "if (outputEl) {{\n",
       "    x.observe(outputEl, {childList: true});\n",
       "}}\n",
       "\n",
       "                        })                };                });            </script>        </div>"
      ]
     },
     "metadata": {},
     "output_type": "display_data"
    }
   ],
   "source": [
    "df[['A','B']].iplot(kind='spread')"
   ]
  },
  {
   "cell_type": "markdown",
   "metadata": {},
   "source": [
    "## histogram"
   ]
  },
  {
   "cell_type": "code",
   "execution_count": 33,
   "metadata": {},
   "outputs": [
    {
     "data": {
      "application/vnd.plotly.v1+json": {
       "config": {
        "linkText": "Export to plot.ly",
        "plotlyServerURL": "https://plot.ly",
        "showLink": true
       },
       "data": [
        {
         "histfunc": "count",
         "histnorm": "",
         "marker": {
          "color": "rgba(255, 153, 51, 1.0)",
          "line": {
           "color": "#4D5663",
           "width": 1.3
          }
         },
         "name": "A",
         "nbinsx": 25,
         "opacity": 0.8,
         "orientation": "v",
         "type": "histogram",
         "x": [
          -0.3983520986318105,
          -0.6162827135158706,
          2.099168429946755,
          0.49680194136560707,
          -1.07462082001314,
          1.9349510089752417,
          -2.4231933164169877,
          1.4470449807220553,
          -1.4999960796449026,
          -1.0945495325613395,
          0.6642788506356654,
          -0.49195583457573117,
          -0.6910826727920918,
          2.185441590057498,
          0.5131001184581482,
          0.674719629421702,
          0.20326375230828428,
          0.4949550563840638,
          1.4049673532147409,
          -0.14331104172596126,
          -0.3855718444977499,
          -0.21141543770944637,
          0.692414500334598,
          -1.5745230871640852,
          0.22429200145258757,
          -0.054580355994718846,
          0.7011313596097016,
          -0.7104053825194536,
          0.19309720375353737,
          0.5011860420595097,
          -0.13544250984575917,
          -1.3454410990573253,
          -0.12047204421392274,
          1.7560558189306235,
          0.3847089483023419,
          -1.0117420625874236,
          0.9164797757953848,
          0.8090796984007256,
          1.224431318037115,
          -0.6582058090452699,
          0.21452127600252371,
          -1.639673876779424,
          -1.1663156197618043,
          -0.15847458956823843,
          0.42473475884185624,
          -0.38660395544194304,
          -1.0130293175337957,
          -0.13664762695552973,
          1.1232879897184924,
          -1.1371616618950293,
          -0.07299308539521068,
          -0.5378171740332828,
          -1.7019495070466393,
          0.7459624013190475,
          0.27813535654079613,
          -0.2805369331929469,
          0.13963765034792444,
          -0.8166786213065517,
          0.170863291010852,
          0.3627638979559158,
          0.9251892035591921,
          -0.364802539096463,
          0.75720246115451,
          0.6971493229294524,
          -1.6710133918210957,
          -1.0312985576250868,
          0.8665470164781827,
          0.48918962517490755,
          -0.8274464881475612,
          1.7712724749541882,
          -0.2508356385745554,
          -0.42874012491286284,
          0.1233772385420985,
          -0.12822124751202227,
          0.5881947672940719,
          -0.9778504268571526,
          -0.30940316954708735,
          0.1613667105030798,
          -0.3001261485965345,
          -1.7313401143421838,
          0.12956150643595835,
          0.014778956330208861,
          0.36348543013152373,
          1.3969890902037807,
          0.6042087813381443,
          -0.27805222561920584,
          -2.0435509439758492,
          -0.0030770249422897933,
          0.5042478810220322,
          0.8029083832933929,
          -0.26315122741705216,
          1.7608604844319595,
          -0.4434264627398264,
          1.156664081932901,
          -0.5094711324408508,
          0.04128916792263781,
          -1.580156634490801,
          1.5399169357943356,
          -0.4085571732321778,
          0.3145272996081609
         ]
        }
       ],
       "layout": {
        "barmode": "overlay",
        "legend": {
         "bgcolor": "#F5F6F9",
         "font": {
          "color": "#4D5663"
         }
        },
        "paper_bgcolor": "#F5F6F9",
        "plot_bgcolor": "#F5F6F9",
        "template": {
         "data": {
          "bar": [
           {
            "error_x": {
             "color": "#2a3f5f"
            },
            "error_y": {
             "color": "#2a3f5f"
            },
            "marker": {
             "line": {
              "color": "#E5ECF6",
              "width": 0.5
             },
             "pattern": {
              "fillmode": "overlay",
              "size": 10,
              "solidity": 0.2
             }
            },
            "type": "bar"
           }
          ],
          "barpolar": [
           {
            "marker": {
             "line": {
              "color": "#E5ECF6",
              "width": 0.5
             },
             "pattern": {
              "fillmode": "overlay",
              "size": 10,
              "solidity": 0.2
             }
            },
            "type": "barpolar"
           }
          ],
          "carpet": [
           {
            "aaxis": {
             "endlinecolor": "#2a3f5f",
             "gridcolor": "white",
             "linecolor": "white",
             "minorgridcolor": "white",
             "startlinecolor": "#2a3f5f"
            },
            "baxis": {
             "endlinecolor": "#2a3f5f",
             "gridcolor": "white",
             "linecolor": "white",
             "minorgridcolor": "white",
             "startlinecolor": "#2a3f5f"
            },
            "type": "carpet"
           }
          ],
          "choropleth": [
           {
            "colorbar": {
             "outlinewidth": 0,
             "ticks": ""
            },
            "type": "choropleth"
           }
          ],
          "contour": [
           {
            "colorbar": {
             "outlinewidth": 0,
             "ticks": ""
            },
            "colorscale": [
             [
              0,
              "#0d0887"
             ],
             [
              0.1111111111111111,
              "#46039f"
             ],
             [
              0.2222222222222222,
              "#7201a8"
             ],
             [
              0.3333333333333333,
              "#9c179e"
             ],
             [
              0.4444444444444444,
              "#bd3786"
             ],
             [
              0.5555555555555556,
              "#d8576b"
             ],
             [
              0.6666666666666666,
              "#ed7953"
             ],
             [
              0.7777777777777778,
              "#fb9f3a"
             ],
             [
              0.8888888888888888,
              "#fdca26"
             ],
             [
              1,
              "#f0f921"
             ]
            ],
            "type": "contour"
           }
          ],
          "contourcarpet": [
           {
            "colorbar": {
             "outlinewidth": 0,
             "ticks": ""
            },
            "type": "contourcarpet"
           }
          ],
          "heatmap": [
           {
            "colorbar": {
             "outlinewidth": 0,
             "ticks": ""
            },
            "colorscale": [
             [
              0,
              "#0d0887"
             ],
             [
              0.1111111111111111,
              "#46039f"
             ],
             [
              0.2222222222222222,
              "#7201a8"
             ],
             [
              0.3333333333333333,
              "#9c179e"
             ],
             [
              0.4444444444444444,
              "#bd3786"
             ],
             [
              0.5555555555555556,
              "#d8576b"
             ],
             [
              0.6666666666666666,
              "#ed7953"
             ],
             [
              0.7777777777777778,
              "#fb9f3a"
             ],
             [
              0.8888888888888888,
              "#fdca26"
             ],
             [
              1,
              "#f0f921"
             ]
            ],
            "type": "heatmap"
           }
          ],
          "heatmapgl": [
           {
            "colorbar": {
             "outlinewidth": 0,
             "ticks": ""
            },
            "colorscale": [
             [
              0,
              "#0d0887"
             ],
             [
              0.1111111111111111,
              "#46039f"
             ],
             [
              0.2222222222222222,
              "#7201a8"
             ],
             [
              0.3333333333333333,
              "#9c179e"
             ],
             [
              0.4444444444444444,
              "#bd3786"
             ],
             [
              0.5555555555555556,
              "#d8576b"
             ],
             [
              0.6666666666666666,
              "#ed7953"
             ],
             [
              0.7777777777777778,
              "#fb9f3a"
             ],
             [
              0.8888888888888888,
              "#fdca26"
             ],
             [
              1,
              "#f0f921"
             ]
            ],
            "type": "heatmapgl"
           }
          ],
          "histogram": [
           {
            "marker": {
             "pattern": {
              "fillmode": "overlay",
              "size": 10,
              "solidity": 0.2
             }
            },
            "type": "histogram"
           }
          ],
          "histogram2d": [
           {
            "colorbar": {
             "outlinewidth": 0,
             "ticks": ""
            },
            "colorscale": [
             [
              0,
              "#0d0887"
             ],
             [
              0.1111111111111111,
              "#46039f"
             ],
             [
              0.2222222222222222,
              "#7201a8"
             ],
             [
              0.3333333333333333,
              "#9c179e"
             ],
             [
              0.4444444444444444,
              "#bd3786"
             ],
             [
              0.5555555555555556,
              "#d8576b"
             ],
             [
              0.6666666666666666,
              "#ed7953"
             ],
             [
              0.7777777777777778,
              "#fb9f3a"
             ],
             [
              0.8888888888888888,
              "#fdca26"
             ],
             [
              1,
              "#f0f921"
             ]
            ],
            "type": "histogram2d"
           }
          ],
          "histogram2dcontour": [
           {
            "colorbar": {
             "outlinewidth": 0,
             "ticks": ""
            },
            "colorscale": [
             [
              0,
              "#0d0887"
             ],
             [
              0.1111111111111111,
              "#46039f"
             ],
             [
              0.2222222222222222,
              "#7201a8"
             ],
             [
              0.3333333333333333,
              "#9c179e"
             ],
             [
              0.4444444444444444,
              "#bd3786"
             ],
             [
              0.5555555555555556,
              "#d8576b"
             ],
             [
              0.6666666666666666,
              "#ed7953"
             ],
             [
              0.7777777777777778,
              "#fb9f3a"
             ],
             [
              0.8888888888888888,
              "#fdca26"
             ],
             [
              1,
              "#f0f921"
             ]
            ],
            "type": "histogram2dcontour"
           }
          ],
          "mesh3d": [
           {
            "colorbar": {
             "outlinewidth": 0,
             "ticks": ""
            },
            "type": "mesh3d"
           }
          ],
          "parcoords": [
           {
            "line": {
             "colorbar": {
              "outlinewidth": 0,
              "ticks": ""
             }
            },
            "type": "parcoords"
           }
          ],
          "pie": [
           {
            "automargin": true,
            "type": "pie"
           }
          ],
          "scatter": [
           {
            "fillpattern": {
             "fillmode": "overlay",
             "size": 10,
             "solidity": 0.2
            },
            "type": "scatter"
           }
          ],
          "scatter3d": [
           {
            "line": {
             "colorbar": {
              "outlinewidth": 0,
              "ticks": ""
             }
            },
            "marker": {
             "colorbar": {
              "outlinewidth": 0,
              "ticks": ""
             }
            },
            "type": "scatter3d"
           }
          ],
          "scattercarpet": [
           {
            "marker": {
             "colorbar": {
              "outlinewidth": 0,
              "ticks": ""
             }
            },
            "type": "scattercarpet"
           }
          ],
          "scattergeo": [
           {
            "marker": {
             "colorbar": {
              "outlinewidth": 0,
              "ticks": ""
             }
            },
            "type": "scattergeo"
           }
          ],
          "scattergl": [
           {
            "marker": {
             "colorbar": {
              "outlinewidth": 0,
              "ticks": ""
             }
            },
            "type": "scattergl"
           }
          ],
          "scattermapbox": [
           {
            "marker": {
             "colorbar": {
              "outlinewidth": 0,
              "ticks": ""
             }
            },
            "type": "scattermapbox"
           }
          ],
          "scatterpolar": [
           {
            "marker": {
             "colorbar": {
              "outlinewidth": 0,
              "ticks": ""
             }
            },
            "type": "scatterpolar"
           }
          ],
          "scatterpolargl": [
           {
            "marker": {
             "colorbar": {
              "outlinewidth": 0,
              "ticks": ""
             }
            },
            "type": "scatterpolargl"
           }
          ],
          "scatterternary": [
           {
            "marker": {
             "colorbar": {
              "outlinewidth": 0,
              "ticks": ""
             }
            },
            "type": "scatterternary"
           }
          ],
          "surface": [
           {
            "colorbar": {
             "outlinewidth": 0,
             "ticks": ""
            },
            "colorscale": [
             [
              0,
              "#0d0887"
             ],
             [
              0.1111111111111111,
              "#46039f"
             ],
             [
              0.2222222222222222,
              "#7201a8"
             ],
             [
              0.3333333333333333,
              "#9c179e"
             ],
             [
              0.4444444444444444,
              "#bd3786"
             ],
             [
              0.5555555555555556,
              "#d8576b"
             ],
             [
              0.6666666666666666,
              "#ed7953"
             ],
             [
              0.7777777777777778,
              "#fb9f3a"
             ],
             [
              0.8888888888888888,
              "#fdca26"
             ],
             [
              1,
              "#f0f921"
             ]
            ],
            "type": "surface"
           }
          ],
          "table": [
           {
            "cells": {
             "fill": {
              "color": "#EBF0F8"
             },
             "line": {
              "color": "white"
             }
            },
            "header": {
             "fill": {
              "color": "#C8D4E3"
             },
             "line": {
              "color": "white"
             }
            },
            "type": "table"
           }
          ]
         },
         "layout": {
          "annotationdefaults": {
           "arrowcolor": "#2a3f5f",
           "arrowhead": 0,
           "arrowwidth": 1
          },
          "autotypenumbers": "strict",
          "coloraxis": {
           "colorbar": {
            "outlinewidth": 0,
            "ticks": ""
           }
          },
          "colorscale": {
           "diverging": [
            [
             0,
             "#8e0152"
            ],
            [
             0.1,
             "#c51b7d"
            ],
            [
             0.2,
             "#de77ae"
            ],
            [
             0.3,
             "#f1b6da"
            ],
            [
             0.4,
             "#fde0ef"
            ],
            [
             0.5,
             "#f7f7f7"
            ],
            [
             0.6,
             "#e6f5d0"
            ],
            [
             0.7,
             "#b8e186"
            ],
            [
             0.8,
             "#7fbc41"
            ],
            [
             0.9,
             "#4d9221"
            ],
            [
             1,
             "#276419"
            ]
           ],
           "sequential": [
            [
             0,
             "#0d0887"
            ],
            [
             0.1111111111111111,
             "#46039f"
            ],
            [
             0.2222222222222222,
             "#7201a8"
            ],
            [
             0.3333333333333333,
             "#9c179e"
            ],
            [
             0.4444444444444444,
             "#bd3786"
            ],
            [
             0.5555555555555556,
             "#d8576b"
            ],
            [
             0.6666666666666666,
             "#ed7953"
            ],
            [
             0.7777777777777778,
             "#fb9f3a"
            ],
            [
             0.8888888888888888,
             "#fdca26"
            ],
            [
             1,
             "#f0f921"
            ]
           ],
           "sequentialminus": [
            [
             0,
             "#0d0887"
            ],
            [
             0.1111111111111111,
             "#46039f"
            ],
            [
             0.2222222222222222,
             "#7201a8"
            ],
            [
             0.3333333333333333,
             "#9c179e"
            ],
            [
             0.4444444444444444,
             "#bd3786"
            ],
            [
             0.5555555555555556,
             "#d8576b"
            ],
            [
             0.6666666666666666,
             "#ed7953"
            ],
            [
             0.7777777777777778,
             "#fb9f3a"
            ],
            [
             0.8888888888888888,
             "#fdca26"
            ],
            [
             1,
             "#f0f921"
            ]
           ]
          },
          "colorway": [
           "#636efa",
           "#EF553B",
           "#00cc96",
           "#ab63fa",
           "#FFA15A",
           "#19d3f3",
           "#FF6692",
           "#B6E880",
           "#FF97FF",
           "#FECB52"
          ],
          "font": {
           "color": "#2a3f5f"
          },
          "geo": {
           "bgcolor": "white",
           "lakecolor": "white",
           "landcolor": "#E5ECF6",
           "showlakes": true,
           "showland": true,
           "subunitcolor": "white"
          },
          "hoverlabel": {
           "align": "left"
          },
          "hovermode": "closest",
          "mapbox": {
           "style": "light"
          },
          "paper_bgcolor": "white",
          "plot_bgcolor": "#E5ECF6",
          "polar": {
           "angularaxis": {
            "gridcolor": "white",
            "linecolor": "white",
            "ticks": ""
           },
           "bgcolor": "#E5ECF6",
           "radialaxis": {
            "gridcolor": "white",
            "linecolor": "white",
            "ticks": ""
           }
          },
          "scene": {
           "xaxis": {
            "backgroundcolor": "#E5ECF6",
            "gridcolor": "white",
            "gridwidth": 2,
            "linecolor": "white",
            "showbackground": true,
            "ticks": "",
            "zerolinecolor": "white"
           },
           "yaxis": {
            "backgroundcolor": "#E5ECF6",
            "gridcolor": "white",
            "gridwidth": 2,
            "linecolor": "white",
            "showbackground": true,
            "ticks": "",
            "zerolinecolor": "white"
           },
           "zaxis": {
            "backgroundcolor": "#E5ECF6",
            "gridcolor": "white",
            "gridwidth": 2,
            "linecolor": "white",
            "showbackground": true,
            "ticks": "",
            "zerolinecolor": "white"
           }
          },
          "shapedefaults": {
           "line": {
            "color": "#2a3f5f"
           }
          },
          "ternary": {
           "aaxis": {
            "gridcolor": "white",
            "linecolor": "white",
            "ticks": ""
           },
           "baxis": {
            "gridcolor": "white",
            "linecolor": "white",
            "ticks": ""
           },
           "bgcolor": "#E5ECF6",
           "caxis": {
            "gridcolor": "white",
            "linecolor": "white",
            "ticks": ""
           }
          },
          "title": {
           "x": 0.05
          },
          "xaxis": {
           "automargin": true,
           "gridcolor": "white",
           "linecolor": "white",
           "ticks": "",
           "title": {
            "standoff": 15
           },
           "zerolinecolor": "white",
           "zerolinewidth": 2
          },
          "yaxis": {
           "automargin": true,
           "gridcolor": "white",
           "linecolor": "white",
           "ticks": "",
           "title": {
            "standoff": 15
           },
           "zerolinecolor": "white",
           "zerolinewidth": 2
          }
         }
        },
        "title": {
         "font": {
          "color": "#4D5663"
         }
        },
        "xaxis": {
         "gridcolor": "#E1E5ED",
         "showgrid": true,
         "tickfont": {
          "color": "#4D5663"
         },
         "title": {
          "font": {
           "color": "#4D5663"
          },
          "text": ""
         },
         "zerolinecolor": "#E1E5ED"
        },
        "yaxis": {
         "gridcolor": "#E1E5ED",
         "showgrid": true,
         "tickfont": {
          "color": "#4D5663"
         },
         "title": {
          "font": {
           "color": "#4D5663"
          },
          "text": ""
         },
         "zerolinecolor": "#E1E5ED"
        }
       }
      },
      "text/html": [
       "<div>                            <div id=\"bcdff8f9-49be-4428-934b-005e897f20f5\" class=\"plotly-graph-div\" style=\"height:525px; width:100%;\"></div>            <script type=\"text/javascript\">                require([\"plotly\"], function(Plotly) {                    window.PLOTLYENV=window.PLOTLYENV || {};\n",
       "                    window.PLOTLYENV.BASE_URL='https://plot.ly';                                    if (document.getElementById(\"bcdff8f9-49be-4428-934b-005e897f20f5\")) {                    Plotly.newPlot(                        \"bcdff8f9-49be-4428-934b-005e897f20f5\",                        [{\"histfunc\":\"count\",\"histnorm\":\"\",\"marker\":{\"color\":\"rgba(255, 153, 51, 1.0)\",\"line\":{\"color\":\"#4D5663\",\"width\":1.3}},\"name\":\"A\",\"nbinsx\":25,\"opacity\":0.8,\"orientation\":\"v\",\"x\":[-0.3983520986318105,-0.6162827135158706,2.099168429946755,0.49680194136560707,-1.07462082001314,1.9349510089752417,-2.4231933164169877,1.4470449807220553,-1.4999960796449026,-1.0945495325613395,0.6642788506356654,-0.49195583457573117,-0.6910826727920918,2.185441590057498,0.5131001184581482,0.674719629421702,0.20326375230828428,0.4949550563840638,1.4049673532147409,-0.14331104172596126,-0.3855718444977499,-0.21141543770944637,0.692414500334598,-1.5745230871640852,0.22429200145258757,-0.054580355994718846,0.7011313596097016,-0.7104053825194536,0.19309720375353737,0.5011860420595097,-0.13544250984575917,-1.3454410990573253,-0.12047204421392274,1.7560558189306235,0.3847089483023419,-1.0117420625874236,0.9164797757953848,0.8090796984007256,1.224431318037115,-0.6582058090452699,0.21452127600252371,-1.639673876779424,-1.1663156197618043,-0.15847458956823843,0.42473475884185624,-0.38660395544194304,-1.0130293175337957,-0.13664762695552973,1.1232879897184924,-1.1371616618950293,-0.07299308539521068,-0.5378171740332828,-1.7019495070466393,0.7459624013190475,0.27813535654079613,-0.2805369331929469,0.13963765034792444,-0.8166786213065517,0.170863291010852,0.3627638979559158,0.9251892035591921,-0.364802539096463,0.75720246115451,0.6971493229294524,-1.6710133918210957,-1.0312985576250868,0.8665470164781827,0.48918962517490755,-0.8274464881475612,1.7712724749541882,-0.2508356385745554,-0.42874012491286284,0.1233772385420985,-0.12822124751202227,0.5881947672940719,-0.9778504268571526,-0.30940316954708735,0.1613667105030798,-0.3001261485965345,-1.7313401143421838,0.12956150643595835,0.014778956330208861,0.36348543013152373,1.3969890902037807,0.6042087813381443,-0.27805222561920584,-2.0435509439758492,-0.0030770249422897933,0.5042478810220322,0.8029083832933929,-0.26315122741705216,1.7608604844319595,-0.4434264627398264,1.156664081932901,-0.5094711324408508,0.04128916792263781,-1.580156634490801,1.5399169357943356,-0.4085571732321778,0.3145272996081609],\"type\":\"histogram\"}],                        {\"barmode\":\"overlay\",\"legend\":{\"bgcolor\":\"#F5F6F9\",\"font\":{\"color\":\"#4D5663\"}},\"paper_bgcolor\":\"#F5F6F9\",\"plot_bgcolor\":\"#F5F6F9\",\"template\":{\"data\":{\"barpolar\":[{\"marker\":{\"line\":{\"color\":\"#E5ECF6\",\"width\":0.5},\"pattern\":{\"fillmode\":\"overlay\",\"size\":10,\"solidity\":0.2}},\"type\":\"barpolar\"}],\"bar\":[{\"error_x\":{\"color\":\"#2a3f5f\"},\"error_y\":{\"color\":\"#2a3f5f\"},\"marker\":{\"line\":{\"color\":\"#E5ECF6\",\"width\":0.5},\"pattern\":{\"fillmode\":\"overlay\",\"size\":10,\"solidity\":0.2}},\"type\":\"bar\"}],\"carpet\":[{\"aaxis\":{\"endlinecolor\":\"#2a3f5f\",\"gridcolor\":\"white\",\"linecolor\":\"white\",\"minorgridcolor\":\"white\",\"startlinecolor\":\"#2a3f5f\"},\"baxis\":{\"endlinecolor\":\"#2a3f5f\",\"gridcolor\":\"white\",\"linecolor\":\"white\",\"minorgridcolor\":\"white\",\"startlinecolor\":\"#2a3f5f\"},\"type\":\"carpet\"}],\"choropleth\":[{\"colorbar\":{\"outlinewidth\":0,\"ticks\":\"\"},\"type\":\"choropleth\"}],\"contourcarpet\":[{\"colorbar\":{\"outlinewidth\":0,\"ticks\":\"\"},\"type\":\"contourcarpet\"}],\"contour\":[{\"colorbar\":{\"outlinewidth\":0,\"ticks\":\"\"},\"colorscale\":[[0.0,\"#0d0887\"],[0.1111111111111111,\"#46039f\"],[0.2222222222222222,\"#7201a8\"],[0.3333333333333333,\"#9c179e\"],[0.4444444444444444,\"#bd3786\"],[0.5555555555555556,\"#d8576b\"],[0.6666666666666666,\"#ed7953\"],[0.7777777777777778,\"#fb9f3a\"],[0.8888888888888888,\"#fdca26\"],[1.0,\"#f0f921\"]],\"type\":\"contour\"}],\"heatmapgl\":[{\"colorbar\":{\"outlinewidth\":0,\"ticks\":\"\"},\"colorscale\":[[0.0,\"#0d0887\"],[0.1111111111111111,\"#46039f\"],[0.2222222222222222,\"#7201a8\"],[0.3333333333333333,\"#9c179e\"],[0.4444444444444444,\"#bd3786\"],[0.5555555555555556,\"#d8576b\"],[0.6666666666666666,\"#ed7953\"],[0.7777777777777778,\"#fb9f3a\"],[0.8888888888888888,\"#fdca26\"],[1.0,\"#f0f921\"]],\"type\":\"heatmapgl\"}],\"heatmap\":[{\"colorbar\":{\"outlinewidth\":0,\"ticks\":\"\"},\"colorscale\":[[0.0,\"#0d0887\"],[0.1111111111111111,\"#46039f\"],[0.2222222222222222,\"#7201a8\"],[0.3333333333333333,\"#9c179e\"],[0.4444444444444444,\"#bd3786\"],[0.5555555555555556,\"#d8576b\"],[0.6666666666666666,\"#ed7953\"],[0.7777777777777778,\"#fb9f3a\"],[0.8888888888888888,\"#fdca26\"],[1.0,\"#f0f921\"]],\"type\":\"heatmap\"}],\"histogram2dcontour\":[{\"colorbar\":{\"outlinewidth\":0,\"ticks\":\"\"},\"colorscale\":[[0.0,\"#0d0887\"],[0.1111111111111111,\"#46039f\"],[0.2222222222222222,\"#7201a8\"],[0.3333333333333333,\"#9c179e\"],[0.4444444444444444,\"#bd3786\"],[0.5555555555555556,\"#d8576b\"],[0.6666666666666666,\"#ed7953\"],[0.7777777777777778,\"#fb9f3a\"],[0.8888888888888888,\"#fdca26\"],[1.0,\"#f0f921\"]],\"type\":\"histogram2dcontour\"}],\"histogram2d\":[{\"colorbar\":{\"outlinewidth\":0,\"ticks\":\"\"},\"colorscale\":[[0.0,\"#0d0887\"],[0.1111111111111111,\"#46039f\"],[0.2222222222222222,\"#7201a8\"],[0.3333333333333333,\"#9c179e\"],[0.4444444444444444,\"#bd3786\"],[0.5555555555555556,\"#d8576b\"],[0.6666666666666666,\"#ed7953\"],[0.7777777777777778,\"#fb9f3a\"],[0.8888888888888888,\"#fdca26\"],[1.0,\"#f0f921\"]],\"type\":\"histogram2d\"}],\"histogram\":[{\"marker\":{\"pattern\":{\"fillmode\":\"overlay\",\"size\":10,\"solidity\":0.2}},\"type\":\"histogram\"}],\"mesh3d\":[{\"colorbar\":{\"outlinewidth\":0,\"ticks\":\"\"},\"type\":\"mesh3d\"}],\"parcoords\":[{\"line\":{\"colorbar\":{\"outlinewidth\":0,\"ticks\":\"\"}},\"type\":\"parcoords\"}],\"pie\":[{\"automargin\":true,\"type\":\"pie\"}],\"scatter3d\":[{\"line\":{\"colorbar\":{\"outlinewidth\":0,\"ticks\":\"\"}},\"marker\":{\"colorbar\":{\"outlinewidth\":0,\"ticks\":\"\"}},\"type\":\"scatter3d\"}],\"scattercarpet\":[{\"marker\":{\"colorbar\":{\"outlinewidth\":0,\"ticks\":\"\"}},\"type\":\"scattercarpet\"}],\"scattergeo\":[{\"marker\":{\"colorbar\":{\"outlinewidth\":0,\"ticks\":\"\"}},\"type\":\"scattergeo\"}],\"scattergl\":[{\"marker\":{\"colorbar\":{\"outlinewidth\":0,\"ticks\":\"\"}},\"type\":\"scattergl\"}],\"scattermapbox\":[{\"marker\":{\"colorbar\":{\"outlinewidth\":0,\"ticks\":\"\"}},\"type\":\"scattermapbox\"}],\"scatterpolargl\":[{\"marker\":{\"colorbar\":{\"outlinewidth\":0,\"ticks\":\"\"}},\"type\":\"scatterpolargl\"}],\"scatterpolar\":[{\"marker\":{\"colorbar\":{\"outlinewidth\":0,\"ticks\":\"\"}},\"type\":\"scatterpolar\"}],\"scatter\":[{\"fillpattern\":{\"fillmode\":\"overlay\",\"size\":10,\"solidity\":0.2},\"type\":\"scatter\"}],\"scatterternary\":[{\"marker\":{\"colorbar\":{\"outlinewidth\":0,\"ticks\":\"\"}},\"type\":\"scatterternary\"}],\"surface\":[{\"colorbar\":{\"outlinewidth\":0,\"ticks\":\"\"},\"colorscale\":[[0.0,\"#0d0887\"],[0.1111111111111111,\"#46039f\"],[0.2222222222222222,\"#7201a8\"],[0.3333333333333333,\"#9c179e\"],[0.4444444444444444,\"#bd3786\"],[0.5555555555555556,\"#d8576b\"],[0.6666666666666666,\"#ed7953\"],[0.7777777777777778,\"#fb9f3a\"],[0.8888888888888888,\"#fdca26\"],[1.0,\"#f0f921\"]],\"type\":\"surface\"}],\"table\":[{\"cells\":{\"fill\":{\"color\":\"#EBF0F8\"},\"line\":{\"color\":\"white\"}},\"header\":{\"fill\":{\"color\":\"#C8D4E3\"},\"line\":{\"color\":\"white\"}},\"type\":\"table\"}]},\"layout\":{\"annotationdefaults\":{\"arrowcolor\":\"#2a3f5f\",\"arrowhead\":0,\"arrowwidth\":1},\"autotypenumbers\":\"strict\",\"coloraxis\":{\"colorbar\":{\"outlinewidth\":0,\"ticks\":\"\"}},\"colorscale\":{\"diverging\":[[0,\"#8e0152\"],[0.1,\"#c51b7d\"],[0.2,\"#de77ae\"],[0.3,\"#f1b6da\"],[0.4,\"#fde0ef\"],[0.5,\"#f7f7f7\"],[0.6,\"#e6f5d0\"],[0.7,\"#b8e186\"],[0.8,\"#7fbc41\"],[0.9,\"#4d9221\"],[1,\"#276419\"]],\"sequential\":[[0.0,\"#0d0887\"],[0.1111111111111111,\"#46039f\"],[0.2222222222222222,\"#7201a8\"],[0.3333333333333333,\"#9c179e\"],[0.4444444444444444,\"#bd3786\"],[0.5555555555555556,\"#d8576b\"],[0.6666666666666666,\"#ed7953\"],[0.7777777777777778,\"#fb9f3a\"],[0.8888888888888888,\"#fdca26\"],[1.0,\"#f0f921\"]],\"sequentialminus\":[[0.0,\"#0d0887\"],[0.1111111111111111,\"#46039f\"],[0.2222222222222222,\"#7201a8\"],[0.3333333333333333,\"#9c179e\"],[0.4444444444444444,\"#bd3786\"],[0.5555555555555556,\"#d8576b\"],[0.6666666666666666,\"#ed7953\"],[0.7777777777777778,\"#fb9f3a\"],[0.8888888888888888,\"#fdca26\"],[1.0,\"#f0f921\"]]},\"colorway\":[\"#636efa\",\"#EF553B\",\"#00cc96\",\"#ab63fa\",\"#FFA15A\",\"#19d3f3\",\"#FF6692\",\"#B6E880\",\"#FF97FF\",\"#FECB52\"],\"font\":{\"color\":\"#2a3f5f\"},\"geo\":{\"bgcolor\":\"white\",\"lakecolor\":\"white\",\"landcolor\":\"#E5ECF6\",\"showlakes\":true,\"showland\":true,\"subunitcolor\":\"white\"},\"hoverlabel\":{\"align\":\"left\"},\"hovermode\":\"closest\",\"mapbox\":{\"style\":\"light\"},\"paper_bgcolor\":\"white\",\"plot_bgcolor\":\"#E5ECF6\",\"polar\":{\"angularaxis\":{\"gridcolor\":\"white\",\"linecolor\":\"white\",\"ticks\":\"\"},\"bgcolor\":\"#E5ECF6\",\"radialaxis\":{\"gridcolor\":\"white\",\"linecolor\":\"white\",\"ticks\":\"\"}},\"scene\":{\"xaxis\":{\"backgroundcolor\":\"#E5ECF6\",\"gridcolor\":\"white\",\"gridwidth\":2,\"linecolor\":\"white\",\"showbackground\":true,\"ticks\":\"\",\"zerolinecolor\":\"white\"},\"yaxis\":{\"backgroundcolor\":\"#E5ECF6\",\"gridcolor\":\"white\",\"gridwidth\":2,\"linecolor\":\"white\",\"showbackground\":true,\"ticks\":\"\",\"zerolinecolor\":\"white\"},\"zaxis\":{\"backgroundcolor\":\"#E5ECF6\",\"gridcolor\":\"white\",\"gridwidth\":2,\"linecolor\":\"white\",\"showbackground\":true,\"ticks\":\"\",\"zerolinecolor\":\"white\"}},\"shapedefaults\":{\"line\":{\"color\":\"#2a3f5f\"}},\"ternary\":{\"aaxis\":{\"gridcolor\":\"white\",\"linecolor\":\"white\",\"ticks\":\"\"},\"baxis\":{\"gridcolor\":\"white\",\"linecolor\":\"white\",\"ticks\":\"\"},\"bgcolor\":\"#E5ECF6\",\"caxis\":{\"gridcolor\":\"white\",\"linecolor\":\"white\",\"ticks\":\"\"}},\"title\":{\"x\":0.05},\"xaxis\":{\"automargin\":true,\"gridcolor\":\"white\",\"linecolor\":\"white\",\"ticks\":\"\",\"title\":{\"standoff\":15},\"zerolinecolor\":\"white\",\"zerolinewidth\":2},\"yaxis\":{\"automargin\":true,\"gridcolor\":\"white\",\"linecolor\":\"white\",\"ticks\":\"\",\"title\":{\"standoff\":15},\"zerolinecolor\":\"white\",\"zerolinewidth\":2}}},\"title\":{\"font\":{\"color\":\"#4D5663\"}},\"xaxis\":{\"gridcolor\":\"#E1E5ED\",\"showgrid\":true,\"tickfont\":{\"color\":\"#4D5663\"},\"title\":{\"font\":{\"color\":\"#4D5663\"},\"text\":\"\"},\"zerolinecolor\":\"#E1E5ED\"},\"yaxis\":{\"gridcolor\":\"#E1E5ED\",\"showgrid\":true,\"tickfont\":{\"color\":\"#4D5663\"},\"title\":{\"font\":{\"color\":\"#4D5663\"},\"text\":\"\"},\"zerolinecolor\":\"#E1E5ED\"}},                        {\"showLink\": true, \"linkText\": \"Export to plot.ly\", \"plotlyServerURL\": \"https://plot.ly\", \"responsive\": true}                    ).then(function(){\n",
       "                            \n",
       "var gd = document.getElementById('bcdff8f9-49be-4428-934b-005e897f20f5');\n",
       "var x = new MutationObserver(function (mutations, observer) {{\n",
       "        var display = window.getComputedStyle(gd).display;\n",
       "        if (!display || display === 'none') {{\n",
       "            console.log([gd, 'removed!']);\n",
       "            Plotly.purge(gd);\n",
       "            observer.disconnect();\n",
       "        }}\n",
       "}});\n",
       "\n",
       "// Listen for the removal of the full notebook cells\n",
       "var notebookContainer = gd.closest('#notebook-container');\n",
       "if (notebookContainer) {{\n",
       "    x.observe(notebookContainer, {childList: true});\n",
       "}}\n",
       "\n",
       "// Listen for the clearing of the current output cell\n",
       "var outputEl = gd.closest('.output');\n",
       "if (outputEl) {{\n",
       "    x.observe(outputEl, {childList: true});\n",
       "}}\n",
       "\n",
       "                        })                };                });            </script>        </div>"
      ]
     },
     "metadata": {},
     "output_type": "display_data"
    }
   ],
   "source": [
    "df['A'].iplot(kind='hist',bins=25)"
   ]
  },
  {
   "cell_type": "code",
   "execution_count": 34,
   "metadata": {},
   "outputs": [
    {
     "data": {
      "application/vnd.plotly.v1+json": {
       "config": {
        "linkText": "Export to plot.ly",
        "plotlyServerURL": "https://plot.ly",
        "showLink": true
       },
       "data": [
        {
         "marker": {
          "color": [
           "rgb(255, 153, 51)",
           "rgb(55, 128, 191)",
           "rgb(50, 171, 96)",
           "rgb(128, 0, 128)",
           "rgb(219, 64, 82)",
           "rgb(0, 128, 128)",
           "rgb(255, 255, 51)",
           "rgb(128, 128, 0)",
           "rgb(251, 128, 114)",
           "rgb(128, 177, 211)"
          ],
          "line": {
           "width": 1.3
          },
          "size": [
           66,
           94,
           88,
           54,
           66,
           51,
           57,
           66,
           32,
           74,
           57,
           87,
           102,
           110,
           43,
           89,
           60,
           74,
           35,
           86,
           59,
           94,
           63,
           78,
           64,
           89,
           38,
           86,
           84,
           81,
           82,
           76,
           95,
           85,
           57,
           54,
           64,
           46,
           51,
           94,
           78,
           83,
           65,
           95,
           81,
           73,
           81,
           67,
           62,
           83,
           47,
           41,
           47,
           93,
           107,
           105,
           112,
           71,
           101,
           61,
           107,
           87,
           56,
           57,
           64,
           67,
           75,
           82,
           98,
           67,
           83,
           49,
           83,
           73,
           106,
           80,
           70,
           84,
           45,
           68,
           51,
           96,
           62,
           71,
           15,
           86,
           56,
           73,
           91,
           62,
           33,
           76,
           53,
           34,
           12,
           51,
           63,
           83,
           71,
           67
          ],
          "symbol": "circle"
         },
         "mode": "markers",
         "text": "",
         "type": "scatter",
         "x": [
          -0.3983520986318105,
          -0.6162827135158706,
          2.099168429946755,
          0.49680194136560707,
          -1.07462082001314,
          1.9349510089752417,
          -2.4231933164169877,
          1.4470449807220553,
          -1.4999960796449026,
          -1.0945495325613395,
          0.6642788506356654,
          -0.49195583457573117,
          -0.6910826727920918,
          2.185441590057498,
          0.5131001184581482,
          0.674719629421702,
          0.20326375230828428,
          0.4949550563840638,
          1.4049673532147409,
          -0.14331104172596126,
          -0.3855718444977499,
          -0.21141543770944637,
          0.692414500334598,
          -1.5745230871640852,
          0.22429200145258757,
          -0.054580355994718846,
          0.7011313596097016,
          -0.7104053825194536,
          0.19309720375353737,
          0.5011860420595097,
          -0.13544250984575917,
          -1.3454410990573253,
          -0.12047204421392274,
          1.7560558189306235,
          0.3847089483023419,
          -1.0117420625874236,
          0.9164797757953848,
          0.8090796984007256,
          1.224431318037115,
          -0.6582058090452699,
          0.21452127600252371,
          -1.639673876779424,
          -1.1663156197618043,
          -0.15847458956823843,
          0.42473475884185624,
          -0.38660395544194304,
          -1.0130293175337957,
          -0.13664762695552973,
          1.1232879897184924,
          -1.1371616618950293,
          -0.07299308539521068,
          -0.5378171740332828,
          -1.7019495070466393,
          0.7459624013190475,
          0.27813535654079613,
          -0.2805369331929469,
          0.13963765034792444,
          -0.8166786213065517,
          0.170863291010852,
          0.3627638979559158,
          0.9251892035591921,
          -0.364802539096463,
          0.75720246115451,
          0.6971493229294524,
          -1.6710133918210957,
          -1.0312985576250868,
          0.8665470164781827,
          0.48918962517490755,
          -0.8274464881475612,
          1.7712724749541882,
          -0.2508356385745554,
          -0.42874012491286284,
          0.1233772385420985,
          -0.12822124751202227,
          0.5881947672940719,
          -0.9778504268571526,
          -0.30940316954708735,
          0.1613667105030798,
          -0.3001261485965345,
          -1.7313401143421838,
          0.12956150643595835,
          0.014778956330208861,
          0.36348543013152373,
          1.3969890902037807,
          0.6042087813381443,
          -0.27805222561920584,
          -2.0435509439758492,
          -0.0030770249422897933,
          0.5042478810220322,
          0.8029083832933929,
          -0.26315122741705216,
          1.7608604844319595,
          -0.4434264627398264,
          1.156664081932901,
          -0.5094711324408508,
          0.04128916792263781,
          -1.580156634490801,
          1.5399169357943356,
          -0.4085571732321778,
          0.3145272996081609
         ],
         "y": [
          0.12208332917629941,
          1.4270948640081371,
          0.9415756564617354,
          0.8514386613875572,
          -1.6079154146370516,
          0.23474977453446583,
          -1.3665712548990696,
          -0.5597744265445256,
          0.11704905592132613,
          -1.0761999807650133,
          0.4600018600959453,
          -0.9956908768988652,
          -1.7817190867875512,
          -0.31928955320845914,
          -1.298610373656051,
          -0.5889321850812367,
          1.0303232261552604,
          -0.09079621045016036,
          1.0498592223792036,
          0.4945195260593801,
          -0.7614604158288016,
          -0.2758685496285138,
          -0.4712323343948017,
          0.08107735706611524,
          0.2876616637370824,
          -0.3442145062143889,
          -0.24688584946805583,
          -1.8409003226008336,
          0.22256612235887274,
          0.4401227891529881,
          -0.8735826703886425,
          1.4686012634498118,
          -1.6748703428986085,
          -1.1605558826535318,
          0.10774587775563513,
          -0.8721569508808421,
          -1.745682698772934,
          -1.452721647399788,
          0.04819799834678428,
          -0.9061247463728632,
          0.9207690513874721,
          -0.25072273019599484,
          -1.0269905868847906,
          0.8214480131559797,
          -0.06130802406075241,
          0.8244671466603298,
          -1.0084027725753877,
          -0.1956529239009466,
          0.2886247444738875,
          0.18013738407397625,
          -0.21960299598628757,
          0.3033060435779998,
          1.7271676553473425,
          -0.48314073390233764,
          0.13768515634336445,
          -0.0533994239173276,
          1.7338014442135392,
          -1.9520406749002268,
          0.07869764470173318,
          -0.9335929111019033,
          -0.44122205140317033,
          -1.5497962478239262,
          -0.3182101659576731,
          -1.0171007251602078,
          0.8902179713444456,
          -0.1492023621732173,
          1.7529659316795176,
          0.6628395828509307,
          -1.096340275641719,
          1.9077958610885095,
          -0.5193627966641464,
          0.9629313460804836,
          2.1082307449244113,
          0.9745871209420388,
          -1.0097546804821036,
          -0.19762155195637537,
          -0.6085097342966207,
          0.5991802006769752,
          0.9470498884434012,
          -0.8728985442836582,
          1.5337368766467123,
          -1.5910808182844718,
          -0.8468706811371463,
          -0.38367407437863804,
          0.7776465368122711,
          1.6291788115590593,
          -0.24891560934335877,
          0.427583467757721,
          0.68939277525342,
          1.6845488764859788,
          -0.384370585796287,
          1.3277562924746618,
          0.6545543604797216,
          -1.2416959625466797,
          -0.6887152543938814,
          -0.9897569303738274,
          -1.1244890052144112,
          -1.6801441430246917,
          -0.3269438336106665,
          0.09831057172894017
         ]
        }
       ],
       "layout": {
        "legend": {
         "bgcolor": "#F5F6F9",
         "font": {
          "color": "#4D5663"
         }
        },
        "paper_bgcolor": "#F5F6F9",
        "plot_bgcolor": "#F5F6F9",
        "template": {
         "data": {
          "bar": [
           {
            "error_x": {
             "color": "#2a3f5f"
            },
            "error_y": {
             "color": "#2a3f5f"
            },
            "marker": {
             "line": {
              "color": "#E5ECF6",
              "width": 0.5
             },
             "pattern": {
              "fillmode": "overlay",
              "size": 10,
              "solidity": 0.2
             }
            },
            "type": "bar"
           }
          ],
          "barpolar": [
           {
            "marker": {
             "line": {
              "color": "#E5ECF6",
              "width": 0.5
             },
             "pattern": {
              "fillmode": "overlay",
              "size": 10,
              "solidity": 0.2
             }
            },
            "type": "barpolar"
           }
          ],
          "carpet": [
           {
            "aaxis": {
             "endlinecolor": "#2a3f5f",
             "gridcolor": "white",
             "linecolor": "white",
             "minorgridcolor": "white",
             "startlinecolor": "#2a3f5f"
            },
            "baxis": {
             "endlinecolor": "#2a3f5f",
             "gridcolor": "white",
             "linecolor": "white",
             "minorgridcolor": "white",
             "startlinecolor": "#2a3f5f"
            },
            "type": "carpet"
           }
          ],
          "choropleth": [
           {
            "colorbar": {
             "outlinewidth": 0,
             "ticks": ""
            },
            "type": "choropleth"
           }
          ],
          "contour": [
           {
            "colorbar": {
             "outlinewidth": 0,
             "ticks": ""
            },
            "colorscale": [
             [
              0,
              "#0d0887"
             ],
             [
              0.1111111111111111,
              "#46039f"
             ],
             [
              0.2222222222222222,
              "#7201a8"
             ],
             [
              0.3333333333333333,
              "#9c179e"
             ],
             [
              0.4444444444444444,
              "#bd3786"
             ],
             [
              0.5555555555555556,
              "#d8576b"
             ],
             [
              0.6666666666666666,
              "#ed7953"
             ],
             [
              0.7777777777777778,
              "#fb9f3a"
             ],
             [
              0.8888888888888888,
              "#fdca26"
             ],
             [
              1,
              "#f0f921"
             ]
            ],
            "type": "contour"
           }
          ],
          "contourcarpet": [
           {
            "colorbar": {
             "outlinewidth": 0,
             "ticks": ""
            },
            "type": "contourcarpet"
           }
          ],
          "heatmap": [
           {
            "colorbar": {
             "outlinewidth": 0,
             "ticks": ""
            },
            "colorscale": [
             [
              0,
              "#0d0887"
             ],
             [
              0.1111111111111111,
              "#46039f"
             ],
             [
              0.2222222222222222,
              "#7201a8"
             ],
             [
              0.3333333333333333,
              "#9c179e"
             ],
             [
              0.4444444444444444,
              "#bd3786"
             ],
             [
              0.5555555555555556,
              "#d8576b"
             ],
             [
              0.6666666666666666,
              "#ed7953"
             ],
             [
              0.7777777777777778,
              "#fb9f3a"
             ],
             [
              0.8888888888888888,
              "#fdca26"
             ],
             [
              1,
              "#f0f921"
             ]
            ],
            "type": "heatmap"
           }
          ],
          "heatmapgl": [
           {
            "colorbar": {
             "outlinewidth": 0,
             "ticks": ""
            },
            "colorscale": [
             [
              0,
              "#0d0887"
             ],
             [
              0.1111111111111111,
              "#46039f"
             ],
             [
              0.2222222222222222,
              "#7201a8"
             ],
             [
              0.3333333333333333,
              "#9c179e"
             ],
             [
              0.4444444444444444,
              "#bd3786"
             ],
             [
              0.5555555555555556,
              "#d8576b"
             ],
             [
              0.6666666666666666,
              "#ed7953"
             ],
             [
              0.7777777777777778,
              "#fb9f3a"
             ],
             [
              0.8888888888888888,
              "#fdca26"
             ],
             [
              1,
              "#f0f921"
             ]
            ],
            "type": "heatmapgl"
           }
          ],
          "histogram": [
           {
            "marker": {
             "pattern": {
              "fillmode": "overlay",
              "size": 10,
              "solidity": 0.2
             }
            },
            "type": "histogram"
           }
          ],
          "histogram2d": [
           {
            "colorbar": {
             "outlinewidth": 0,
             "ticks": ""
            },
            "colorscale": [
             [
              0,
              "#0d0887"
             ],
             [
              0.1111111111111111,
              "#46039f"
             ],
             [
              0.2222222222222222,
              "#7201a8"
             ],
             [
              0.3333333333333333,
              "#9c179e"
             ],
             [
              0.4444444444444444,
              "#bd3786"
             ],
             [
              0.5555555555555556,
              "#d8576b"
             ],
             [
              0.6666666666666666,
              "#ed7953"
             ],
             [
              0.7777777777777778,
              "#fb9f3a"
             ],
             [
              0.8888888888888888,
              "#fdca26"
             ],
             [
              1,
              "#f0f921"
             ]
            ],
            "type": "histogram2d"
           }
          ],
          "histogram2dcontour": [
           {
            "colorbar": {
             "outlinewidth": 0,
             "ticks": ""
            },
            "colorscale": [
             [
              0,
              "#0d0887"
             ],
             [
              0.1111111111111111,
              "#46039f"
             ],
             [
              0.2222222222222222,
              "#7201a8"
             ],
             [
              0.3333333333333333,
              "#9c179e"
             ],
             [
              0.4444444444444444,
              "#bd3786"
             ],
             [
              0.5555555555555556,
              "#d8576b"
             ],
             [
              0.6666666666666666,
              "#ed7953"
             ],
             [
              0.7777777777777778,
              "#fb9f3a"
             ],
             [
              0.8888888888888888,
              "#fdca26"
             ],
             [
              1,
              "#f0f921"
             ]
            ],
            "type": "histogram2dcontour"
           }
          ],
          "mesh3d": [
           {
            "colorbar": {
             "outlinewidth": 0,
             "ticks": ""
            },
            "type": "mesh3d"
           }
          ],
          "parcoords": [
           {
            "line": {
             "colorbar": {
              "outlinewidth": 0,
              "ticks": ""
             }
            },
            "type": "parcoords"
           }
          ],
          "pie": [
           {
            "automargin": true,
            "type": "pie"
           }
          ],
          "scatter": [
           {
            "fillpattern": {
             "fillmode": "overlay",
             "size": 10,
             "solidity": 0.2
            },
            "type": "scatter"
           }
          ],
          "scatter3d": [
           {
            "line": {
             "colorbar": {
              "outlinewidth": 0,
              "ticks": ""
             }
            },
            "marker": {
             "colorbar": {
              "outlinewidth": 0,
              "ticks": ""
             }
            },
            "type": "scatter3d"
           }
          ],
          "scattercarpet": [
           {
            "marker": {
             "colorbar": {
              "outlinewidth": 0,
              "ticks": ""
             }
            },
            "type": "scattercarpet"
           }
          ],
          "scattergeo": [
           {
            "marker": {
             "colorbar": {
              "outlinewidth": 0,
              "ticks": ""
             }
            },
            "type": "scattergeo"
           }
          ],
          "scattergl": [
           {
            "marker": {
             "colorbar": {
              "outlinewidth": 0,
              "ticks": ""
             }
            },
            "type": "scattergl"
           }
          ],
          "scattermapbox": [
           {
            "marker": {
             "colorbar": {
              "outlinewidth": 0,
              "ticks": ""
             }
            },
            "type": "scattermapbox"
           }
          ],
          "scatterpolar": [
           {
            "marker": {
             "colorbar": {
              "outlinewidth": 0,
              "ticks": ""
             }
            },
            "type": "scatterpolar"
           }
          ],
          "scatterpolargl": [
           {
            "marker": {
             "colorbar": {
              "outlinewidth": 0,
              "ticks": ""
             }
            },
            "type": "scatterpolargl"
           }
          ],
          "scatterternary": [
           {
            "marker": {
             "colorbar": {
              "outlinewidth": 0,
              "ticks": ""
             }
            },
            "type": "scatterternary"
           }
          ],
          "surface": [
           {
            "colorbar": {
             "outlinewidth": 0,
             "ticks": ""
            },
            "colorscale": [
             [
              0,
              "#0d0887"
             ],
             [
              0.1111111111111111,
              "#46039f"
             ],
             [
              0.2222222222222222,
              "#7201a8"
             ],
             [
              0.3333333333333333,
              "#9c179e"
             ],
             [
              0.4444444444444444,
              "#bd3786"
             ],
             [
              0.5555555555555556,
              "#d8576b"
             ],
             [
              0.6666666666666666,
              "#ed7953"
             ],
             [
              0.7777777777777778,
              "#fb9f3a"
             ],
             [
              0.8888888888888888,
              "#fdca26"
             ],
             [
              1,
              "#f0f921"
             ]
            ],
            "type": "surface"
           }
          ],
          "table": [
           {
            "cells": {
             "fill": {
              "color": "#EBF0F8"
             },
             "line": {
              "color": "white"
             }
            },
            "header": {
             "fill": {
              "color": "#C8D4E3"
             },
             "line": {
              "color": "white"
             }
            },
            "type": "table"
           }
          ]
         },
         "layout": {
          "annotationdefaults": {
           "arrowcolor": "#2a3f5f",
           "arrowhead": 0,
           "arrowwidth": 1
          },
          "autotypenumbers": "strict",
          "coloraxis": {
           "colorbar": {
            "outlinewidth": 0,
            "ticks": ""
           }
          },
          "colorscale": {
           "diverging": [
            [
             0,
             "#8e0152"
            ],
            [
             0.1,
             "#c51b7d"
            ],
            [
             0.2,
             "#de77ae"
            ],
            [
             0.3,
             "#f1b6da"
            ],
            [
             0.4,
             "#fde0ef"
            ],
            [
             0.5,
             "#f7f7f7"
            ],
            [
             0.6,
             "#e6f5d0"
            ],
            [
             0.7,
             "#b8e186"
            ],
            [
             0.8,
             "#7fbc41"
            ],
            [
             0.9,
             "#4d9221"
            ],
            [
             1,
             "#276419"
            ]
           ],
           "sequential": [
            [
             0,
             "#0d0887"
            ],
            [
             0.1111111111111111,
             "#46039f"
            ],
            [
             0.2222222222222222,
             "#7201a8"
            ],
            [
             0.3333333333333333,
             "#9c179e"
            ],
            [
             0.4444444444444444,
             "#bd3786"
            ],
            [
             0.5555555555555556,
             "#d8576b"
            ],
            [
             0.6666666666666666,
             "#ed7953"
            ],
            [
             0.7777777777777778,
             "#fb9f3a"
            ],
            [
             0.8888888888888888,
             "#fdca26"
            ],
            [
             1,
             "#f0f921"
            ]
           ],
           "sequentialminus": [
            [
             0,
             "#0d0887"
            ],
            [
             0.1111111111111111,
             "#46039f"
            ],
            [
             0.2222222222222222,
             "#7201a8"
            ],
            [
             0.3333333333333333,
             "#9c179e"
            ],
            [
             0.4444444444444444,
             "#bd3786"
            ],
            [
             0.5555555555555556,
             "#d8576b"
            ],
            [
             0.6666666666666666,
             "#ed7953"
            ],
            [
             0.7777777777777778,
             "#fb9f3a"
            ],
            [
             0.8888888888888888,
             "#fdca26"
            ],
            [
             1,
             "#f0f921"
            ]
           ]
          },
          "colorway": [
           "#636efa",
           "#EF553B",
           "#00cc96",
           "#ab63fa",
           "#FFA15A",
           "#19d3f3",
           "#FF6692",
           "#B6E880",
           "#FF97FF",
           "#FECB52"
          ],
          "font": {
           "color": "#2a3f5f"
          },
          "geo": {
           "bgcolor": "white",
           "lakecolor": "white",
           "landcolor": "#E5ECF6",
           "showlakes": true,
           "showland": true,
           "subunitcolor": "white"
          },
          "hoverlabel": {
           "align": "left"
          },
          "hovermode": "closest",
          "mapbox": {
           "style": "light"
          },
          "paper_bgcolor": "white",
          "plot_bgcolor": "#E5ECF6",
          "polar": {
           "angularaxis": {
            "gridcolor": "white",
            "linecolor": "white",
            "ticks": ""
           },
           "bgcolor": "#E5ECF6",
           "radialaxis": {
            "gridcolor": "white",
            "linecolor": "white",
            "ticks": ""
           }
          },
          "scene": {
           "xaxis": {
            "backgroundcolor": "#E5ECF6",
            "gridcolor": "white",
            "gridwidth": 2,
            "linecolor": "white",
            "showbackground": true,
            "ticks": "",
            "zerolinecolor": "white"
           },
           "yaxis": {
            "backgroundcolor": "#E5ECF6",
            "gridcolor": "white",
            "gridwidth": 2,
            "linecolor": "white",
            "showbackground": true,
            "ticks": "",
            "zerolinecolor": "white"
           },
           "zaxis": {
            "backgroundcolor": "#E5ECF6",
            "gridcolor": "white",
            "gridwidth": 2,
            "linecolor": "white",
            "showbackground": true,
            "ticks": "",
            "zerolinecolor": "white"
           }
          },
          "shapedefaults": {
           "line": {
            "color": "#2a3f5f"
           }
          },
          "ternary": {
           "aaxis": {
            "gridcolor": "white",
            "linecolor": "white",
            "ticks": ""
           },
           "baxis": {
            "gridcolor": "white",
            "linecolor": "white",
            "ticks": ""
           },
           "bgcolor": "#E5ECF6",
           "caxis": {
            "gridcolor": "white",
            "linecolor": "white",
            "ticks": ""
           }
          },
          "title": {
           "x": 0.05
          },
          "xaxis": {
           "automargin": true,
           "gridcolor": "white",
           "linecolor": "white",
           "ticks": "",
           "title": {
            "standoff": 15
           },
           "zerolinecolor": "white",
           "zerolinewidth": 2
          },
          "yaxis": {
           "automargin": true,
           "gridcolor": "white",
           "linecolor": "white",
           "ticks": "",
           "title": {
            "standoff": 15
           },
           "zerolinecolor": "white",
           "zerolinewidth": 2
          }
         }
        },
        "title": {
         "font": {
          "color": "#4D5663"
         }
        },
        "xaxis": {
         "gridcolor": "#E1E5ED",
         "showgrid": true,
         "tickfont": {
          "color": "#4D5663"
         },
         "title": {
          "font": {
           "color": "#4D5663"
          },
          "text": ""
         },
         "zerolinecolor": "#E1E5ED"
        },
        "yaxis": {
         "gridcolor": "#E1E5ED",
         "showgrid": true,
         "tickfont": {
          "color": "#4D5663"
         },
         "title": {
          "font": {
           "color": "#4D5663"
          },
          "text": ""
         },
         "zerolinecolor": "#E1E5ED"
        }
       }
      },
      "text/html": [
       "<div>                            <div id=\"87ae45b9-86cb-40f5-8c13-8e16f68b18fe\" class=\"plotly-graph-div\" style=\"height:525px; width:100%;\"></div>            <script type=\"text/javascript\">                require([\"plotly\"], function(Plotly) {                    window.PLOTLYENV=window.PLOTLYENV || {};\n",
       "                    window.PLOTLYENV.BASE_URL='https://plot.ly';                                    if (document.getElementById(\"87ae45b9-86cb-40f5-8c13-8e16f68b18fe\")) {                    Plotly.newPlot(                        \"87ae45b9-86cb-40f5-8c13-8e16f68b18fe\",                        [{\"marker\":{\"color\":[\"rgb(255, 153, 51)\",\"rgb(55, 128, 191)\",\"rgb(50, 171, 96)\",\"rgb(128, 0, 128)\",\"rgb(219, 64, 82)\",\"rgb(0, 128, 128)\",\"rgb(255, 255, 51)\",\"rgb(128, 128, 0)\",\"rgb(251, 128, 114)\",\"rgb(128, 177, 211)\"],\"line\":{\"width\":1.3},\"size\":[66,94,88,54,66,51,57,66,32,74,57,87,102,110,43,89,60,74,35,86,59,94,63,78,64,89,38,86,84,81,82,76,95,85,57,54,64,46,51,94,78,83,65,95,81,73,81,67,62,83,47,41,47,93,107,105,112,71,101,61,107,87,56,57,64,67,75,82,98,67,83,49,83,73,106,80,70,84,45,68,51,96,62,71,15,86,56,73,91,62,33,76,53,34,12,51,63,83,71,67],\"symbol\":\"circle\"},\"mode\":\"markers\",\"text\":\"\",\"x\":[-0.3983520986318105,-0.6162827135158706,2.099168429946755,0.49680194136560707,-1.07462082001314,1.9349510089752417,-2.4231933164169877,1.4470449807220553,-1.4999960796449026,-1.0945495325613395,0.6642788506356654,-0.49195583457573117,-0.6910826727920918,2.185441590057498,0.5131001184581482,0.674719629421702,0.20326375230828428,0.4949550563840638,1.4049673532147409,-0.14331104172596126,-0.3855718444977499,-0.21141543770944637,0.692414500334598,-1.5745230871640852,0.22429200145258757,-0.054580355994718846,0.7011313596097016,-0.7104053825194536,0.19309720375353737,0.5011860420595097,-0.13544250984575917,-1.3454410990573253,-0.12047204421392274,1.7560558189306235,0.3847089483023419,-1.0117420625874236,0.9164797757953848,0.8090796984007256,1.224431318037115,-0.6582058090452699,0.21452127600252371,-1.639673876779424,-1.1663156197618043,-0.15847458956823843,0.42473475884185624,-0.38660395544194304,-1.0130293175337957,-0.13664762695552973,1.1232879897184924,-1.1371616618950293,-0.07299308539521068,-0.5378171740332828,-1.7019495070466393,0.7459624013190475,0.27813535654079613,-0.2805369331929469,0.13963765034792444,-0.8166786213065517,0.170863291010852,0.3627638979559158,0.9251892035591921,-0.364802539096463,0.75720246115451,0.6971493229294524,-1.6710133918210957,-1.0312985576250868,0.8665470164781827,0.48918962517490755,-0.8274464881475612,1.7712724749541882,-0.2508356385745554,-0.42874012491286284,0.1233772385420985,-0.12822124751202227,0.5881947672940719,-0.9778504268571526,-0.30940316954708735,0.1613667105030798,-0.3001261485965345,-1.7313401143421838,0.12956150643595835,0.014778956330208861,0.36348543013152373,1.3969890902037807,0.6042087813381443,-0.27805222561920584,-2.0435509439758492,-0.0030770249422897933,0.5042478810220322,0.8029083832933929,-0.26315122741705216,1.7608604844319595,-0.4434264627398264,1.156664081932901,-0.5094711324408508,0.04128916792263781,-1.580156634490801,1.5399169357943356,-0.4085571732321778,0.3145272996081609],\"y\":[0.12208332917629941,1.4270948640081371,0.9415756564617354,0.8514386613875572,-1.6079154146370516,0.23474977453446583,-1.3665712548990696,-0.5597744265445256,0.11704905592132613,-1.0761999807650133,0.4600018600959453,-0.9956908768988652,-1.7817190867875512,-0.31928955320845914,-1.298610373656051,-0.5889321850812367,1.0303232261552604,-0.09079621045016036,1.0498592223792036,0.4945195260593801,-0.7614604158288016,-0.2758685496285138,-0.4712323343948017,0.08107735706611524,0.2876616637370824,-0.3442145062143889,-0.24688584946805583,-1.8409003226008336,0.22256612235887274,0.4401227891529881,-0.8735826703886425,1.4686012634498118,-1.6748703428986085,-1.1605558826535318,0.10774587775563513,-0.8721569508808421,-1.745682698772934,-1.452721647399788,0.04819799834678428,-0.9061247463728632,0.9207690513874721,-0.25072273019599484,-1.0269905868847906,0.8214480131559797,-0.06130802406075241,0.8244671466603298,-1.0084027725753877,-0.1956529239009466,0.2886247444738875,0.18013738407397625,-0.21960299598628757,0.3033060435779998,1.7271676553473425,-0.48314073390233764,0.13768515634336445,-0.0533994239173276,1.7338014442135392,-1.9520406749002268,0.07869764470173318,-0.9335929111019033,-0.44122205140317033,-1.5497962478239262,-0.3182101659576731,-1.0171007251602078,0.8902179713444456,-0.1492023621732173,1.7529659316795176,0.6628395828509307,-1.096340275641719,1.9077958610885095,-0.5193627966641464,0.9629313460804836,2.1082307449244113,0.9745871209420388,-1.0097546804821036,-0.19762155195637537,-0.6085097342966207,0.5991802006769752,0.9470498884434012,-0.8728985442836582,1.5337368766467123,-1.5910808182844718,-0.8468706811371463,-0.38367407437863804,0.7776465368122711,1.6291788115590593,-0.24891560934335877,0.427583467757721,0.68939277525342,1.6845488764859788,-0.384370585796287,1.3277562924746618,0.6545543604797216,-1.2416959625466797,-0.6887152543938814,-0.9897569303738274,-1.1244890052144112,-1.6801441430246917,-0.3269438336106665,0.09831057172894017],\"type\":\"scatter\"}],                        {\"legend\":{\"bgcolor\":\"#F5F6F9\",\"font\":{\"color\":\"#4D5663\"}},\"paper_bgcolor\":\"#F5F6F9\",\"plot_bgcolor\":\"#F5F6F9\",\"template\":{\"data\":{\"barpolar\":[{\"marker\":{\"line\":{\"color\":\"#E5ECF6\",\"width\":0.5},\"pattern\":{\"fillmode\":\"overlay\",\"size\":10,\"solidity\":0.2}},\"type\":\"barpolar\"}],\"bar\":[{\"error_x\":{\"color\":\"#2a3f5f\"},\"error_y\":{\"color\":\"#2a3f5f\"},\"marker\":{\"line\":{\"color\":\"#E5ECF6\",\"width\":0.5},\"pattern\":{\"fillmode\":\"overlay\",\"size\":10,\"solidity\":0.2}},\"type\":\"bar\"}],\"carpet\":[{\"aaxis\":{\"endlinecolor\":\"#2a3f5f\",\"gridcolor\":\"white\",\"linecolor\":\"white\",\"minorgridcolor\":\"white\",\"startlinecolor\":\"#2a3f5f\"},\"baxis\":{\"endlinecolor\":\"#2a3f5f\",\"gridcolor\":\"white\",\"linecolor\":\"white\",\"minorgridcolor\":\"white\",\"startlinecolor\":\"#2a3f5f\"},\"type\":\"carpet\"}],\"choropleth\":[{\"colorbar\":{\"outlinewidth\":0,\"ticks\":\"\"},\"type\":\"choropleth\"}],\"contourcarpet\":[{\"colorbar\":{\"outlinewidth\":0,\"ticks\":\"\"},\"type\":\"contourcarpet\"}],\"contour\":[{\"colorbar\":{\"outlinewidth\":0,\"ticks\":\"\"},\"colorscale\":[[0.0,\"#0d0887\"],[0.1111111111111111,\"#46039f\"],[0.2222222222222222,\"#7201a8\"],[0.3333333333333333,\"#9c179e\"],[0.4444444444444444,\"#bd3786\"],[0.5555555555555556,\"#d8576b\"],[0.6666666666666666,\"#ed7953\"],[0.7777777777777778,\"#fb9f3a\"],[0.8888888888888888,\"#fdca26\"],[1.0,\"#f0f921\"]],\"type\":\"contour\"}],\"heatmapgl\":[{\"colorbar\":{\"outlinewidth\":0,\"ticks\":\"\"},\"colorscale\":[[0.0,\"#0d0887\"],[0.1111111111111111,\"#46039f\"],[0.2222222222222222,\"#7201a8\"],[0.3333333333333333,\"#9c179e\"],[0.4444444444444444,\"#bd3786\"],[0.5555555555555556,\"#d8576b\"],[0.6666666666666666,\"#ed7953\"],[0.7777777777777778,\"#fb9f3a\"],[0.8888888888888888,\"#fdca26\"],[1.0,\"#f0f921\"]],\"type\":\"heatmapgl\"}],\"heatmap\":[{\"colorbar\":{\"outlinewidth\":0,\"ticks\":\"\"},\"colorscale\":[[0.0,\"#0d0887\"],[0.1111111111111111,\"#46039f\"],[0.2222222222222222,\"#7201a8\"],[0.3333333333333333,\"#9c179e\"],[0.4444444444444444,\"#bd3786\"],[0.5555555555555556,\"#d8576b\"],[0.6666666666666666,\"#ed7953\"],[0.7777777777777778,\"#fb9f3a\"],[0.8888888888888888,\"#fdca26\"],[1.0,\"#f0f921\"]],\"type\":\"heatmap\"}],\"histogram2dcontour\":[{\"colorbar\":{\"outlinewidth\":0,\"ticks\":\"\"},\"colorscale\":[[0.0,\"#0d0887\"],[0.1111111111111111,\"#46039f\"],[0.2222222222222222,\"#7201a8\"],[0.3333333333333333,\"#9c179e\"],[0.4444444444444444,\"#bd3786\"],[0.5555555555555556,\"#d8576b\"],[0.6666666666666666,\"#ed7953\"],[0.7777777777777778,\"#fb9f3a\"],[0.8888888888888888,\"#fdca26\"],[1.0,\"#f0f921\"]],\"type\":\"histogram2dcontour\"}],\"histogram2d\":[{\"colorbar\":{\"outlinewidth\":0,\"ticks\":\"\"},\"colorscale\":[[0.0,\"#0d0887\"],[0.1111111111111111,\"#46039f\"],[0.2222222222222222,\"#7201a8\"],[0.3333333333333333,\"#9c179e\"],[0.4444444444444444,\"#bd3786\"],[0.5555555555555556,\"#d8576b\"],[0.6666666666666666,\"#ed7953\"],[0.7777777777777778,\"#fb9f3a\"],[0.8888888888888888,\"#fdca26\"],[1.0,\"#f0f921\"]],\"type\":\"histogram2d\"}],\"histogram\":[{\"marker\":{\"pattern\":{\"fillmode\":\"overlay\",\"size\":10,\"solidity\":0.2}},\"type\":\"histogram\"}],\"mesh3d\":[{\"colorbar\":{\"outlinewidth\":0,\"ticks\":\"\"},\"type\":\"mesh3d\"}],\"parcoords\":[{\"line\":{\"colorbar\":{\"outlinewidth\":0,\"ticks\":\"\"}},\"type\":\"parcoords\"}],\"pie\":[{\"automargin\":true,\"type\":\"pie\"}],\"scatter3d\":[{\"line\":{\"colorbar\":{\"outlinewidth\":0,\"ticks\":\"\"}},\"marker\":{\"colorbar\":{\"outlinewidth\":0,\"ticks\":\"\"}},\"type\":\"scatter3d\"}],\"scattercarpet\":[{\"marker\":{\"colorbar\":{\"outlinewidth\":0,\"ticks\":\"\"}},\"type\":\"scattercarpet\"}],\"scattergeo\":[{\"marker\":{\"colorbar\":{\"outlinewidth\":0,\"ticks\":\"\"}},\"type\":\"scattergeo\"}],\"scattergl\":[{\"marker\":{\"colorbar\":{\"outlinewidth\":0,\"ticks\":\"\"}},\"type\":\"scattergl\"}],\"scattermapbox\":[{\"marker\":{\"colorbar\":{\"outlinewidth\":0,\"ticks\":\"\"}},\"type\":\"scattermapbox\"}],\"scatterpolargl\":[{\"marker\":{\"colorbar\":{\"outlinewidth\":0,\"ticks\":\"\"}},\"type\":\"scatterpolargl\"}],\"scatterpolar\":[{\"marker\":{\"colorbar\":{\"outlinewidth\":0,\"ticks\":\"\"}},\"type\":\"scatterpolar\"}],\"scatter\":[{\"fillpattern\":{\"fillmode\":\"overlay\",\"size\":10,\"solidity\":0.2},\"type\":\"scatter\"}],\"scatterternary\":[{\"marker\":{\"colorbar\":{\"outlinewidth\":0,\"ticks\":\"\"}},\"type\":\"scatterternary\"}],\"surface\":[{\"colorbar\":{\"outlinewidth\":0,\"ticks\":\"\"},\"colorscale\":[[0.0,\"#0d0887\"],[0.1111111111111111,\"#46039f\"],[0.2222222222222222,\"#7201a8\"],[0.3333333333333333,\"#9c179e\"],[0.4444444444444444,\"#bd3786\"],[0.5555555555555556,\"#d8576b\"],[0.6666666666666666,\"#ed7953\"],[0.7777777777777778,\"#fb9f3a\"],[0.8888888888888888,\"#fdca26\"],[1.0,\"#f0f921\"]],\"type\":\"surface\"}],\"table\":[{\"cells\":{\"fill\":{\"color\":\"#EBF0F8\"},\"line\":{\"color\":\"white\"}},\"header\":{\"fill\":{\"color\":\"#C8D4E3\"},\"line\":{\"color\":\"white\"}},\"type\":\"table\"}]},\"layout\":{\"annotationdefaults\":{\"arrowcolor\":\"#2a3f5f\",\"arrowhead\":0,\"arrowwidth\":1},\"autotypenumbers\":\"strict\",\"coloraxis\":{\"colorbar\":{\"outlinewidth\":0,\"ticks\":\"\"}},\"colorscale\":{\"diverging\":[[0,\"#8e0152\"],[0.1,\"#c51b7d\"],[0.2,\"#de77ae\"],[0.3,\"#f1b6da\"],[0.4,\"#fde0ef\"],[0.5,\"#f7f7f7\"],[0.6,\"#e6f5d0\"],[0.7,\"#b8e186\"],[0.8,\"#7fbc41\"],[0.9,\"#4d9221\"],[1,\"#276419\"]],\"sequential\":[[0.0,\"#0d0887\"],[0.1111111111111111,\"#46039f\"],[0.2222222222222222,\"#7201a8\"],[0.3333333333333333,\"#9c179e\"],[0.4444444444444444,\"#bd3786\"],[0.5555555555555556,\"#d8576b\"],[0.6666666666666666,\"#ed7953\"],[0.7777777777777778,\"#fb9f3a\"],[0.8888888888888888,\"#fdca26\"],[1.0,\"#f0f921\"]],\"sequentialminus\":[[0.0,\"#0d0887\"],[0.1111111111111111,\"#46039f\"],[0.2222222222222222,\"#7201a8\"],[0.3333333333333333,\"#9c179e\"],[0.4444444444444444,\"#bd3786\"],[0.5555555555555556,\"#d8576b\"],[0.6666666666666666,\"#ed7953\"],[0.7777777777777778,\"#fb9f3a\"],[0.8888888888888888,\"#fdca26\"],[1.0,\"#f0f921\"]]},\"colorway\":[\"#636efa\",\"#EF553B\",\"#00cc96\",\"#ab63fa\",\"#FFA15A\",\"#19d3f3\",\"#FF6692\",\"#B6E880\",\"#FF97FF\",\"#FECB52\"],\"font\":{\"color\":\"#2a3f5f\"},\"geo\":{\"bgcolor\":\"white\",\"lakecolor\":\"white\",\"landcolor\":\"#E5ECF6\",\"showlakes\":true,\"showland\":true,\"subunitcolor\":\"white\"},\"hoverlabel\":{\"align\":\"left\"},\"hovermode\":\"closest\",\"mapbox\":{\"style\":\"light\"},\"paper_bgcolor\":\"white\",\"plot_bgcolor\":\"#E5ECF6\",\"polar\":{\"angularaxis\":{\"gridcolor\":\"white\",\"linecolor\":\"white\",\"ticks\":\"\"},\"bgcolor\":\"#E5ECF6\",\"radialaxis\":{\"gridcolor\":\"white\",\"linecolor\":\"white\",\"ticks\":\"\"}},\"scene\":{\"xaxis\":{\"backgroundcolor\":\"#E5ECF6\",\"gridcolor\":\"white\",\"gridwidth\":2,\"linecolor\":\"white\",\"showbackground\":true,\"ticks\":\"\",\"zerolinecolor\":\"white\"},\"yaxis\":{\"backgroundcolor\":\"#E5ECF6\",\"gridcolor\":\"white\",\"gridwidth\":2,\"linecolor\":\"white\",\"showbackground\":true,\"ticks\":\"\",\"zerolinecolor\":\"white\"},\"zaxis\":{\"backgroundcolor\":\"#E5ECF6\",\"gridcolor\":\"white\",\"gridwidth\":2,\"linecolor\":\"white\",\"showbackground\":true,\"ticks\":\"\",\"zerolinecolor\":\"white\"}},\"shapedefaults\":{\"line\":{\"color\":\"#2a3f5f\"}},\"ternary\":{\"aaxis\":{\"gridcolor\":\"white\",\"linecolor\":\"white\",\"ticks\":\"\"},\"baxis\":{\"gridcolor\":\"white\",\"linecolor\":\"white\",\"ticks\":\"\"},\"bgcolor\":\"#E5ECF6\",\"caxis\":{\"gridcolor\":\"white\",\"linecolor\":\"white\",\"ticks\":\"\"}},\"title\":{\"x\":0.05},\"xaxis\":{\"automargin\":true,\"gridcolor\":\"white\",\"linecolor\":\"white\",\"ticks\":\"\",\"title\":{\"standoff\":15},\"zerolinecolor\":\"white\",\"zerolinewidth\":2},\"yaxis\":{\"automargin\":true,\"gridcolor\":\"white\",\"linecolor\":\"white\",\"ticks\":\"\",\"title\":{\"standoff\":15},\"zerolinecolor\":\"white\",\"zerolinewidth\":2}}},\"title\":{\"font\":{\"color\":\"#4D5663\"}},\"xaxis\":{\"gridcolor\":\"#E1E5ED\",\"showgrid\":true,\"tickfont\":{\"color\":\"#4D5663\"},\"title\":{\"font\":{\"color\":\"#4D5663\"},\"text\":\"\"},\"zerolinecolor\":\"#E1E5ED\"},\"yaxis\":{\"gridcolor\":\"#E1E5ED\",\"showgrid\":true,\"tickfont\":{\"color\":\"#4D5663\"},\"title\":{\"font\":{\"color\":\"#4D5663\"},\"text\":\"\"},\"zerolinecolor\":\"#E1E5ED\"}},                        {\"showLink\": true, \"linkText\": \"Export to plot.ly\", \"plotlyServerURL\": \"https://plot.ly\", \"responsive\": true}                    ).then(function(){\n",
       "                            \n",
       "var gd = document.getElementById('87ae45b9-86cb-40f5-8c13-8e16f68b18fe');\n",
       "var x = new MutationObserver(function (mutations, observer) {{\n",
       "        var display = window.getComputedStyle(gd).display;\n",
       "        if (!display || display === 'none') {{\n",
       "            console.log([gd, 'removed!']);\n",
       "            Plotly.purge(gd);\n",
       "            observer.disconnect();\n",
       "        }}\n",
       "}});\n",
       "\n",
       "// Listen for the removal of the full notebook cells\n",
       "var notebookContainer = gd.closest('#notebook-container');\n",
       "if (notebookContainer) {{\n",
       "    x.observe(notebookContainer, {childList: true});\n",
       "}}\n",
       "\n",
       "// Listen for the clearing of the current output cell\n",
       "var outputEl = gd.closest('.output');\n",
       "if (outputEl) {{\n",
       "    x.observe(outputEl, {childList: true});\n",
       "}}\n",
       "\n",
       "                        })                };                });            </script>        </div>"
      ]
     },
     "metadata": {},
     "output_type": "display_data"
    }
   ],
   "source": [
    "df.iplot(kind='bubble',x='A',y='B',size='C')"
   ]
  },
  {
   "cell_type": "markdown",
   "metadata": {},
   "source": [
    "## scatter_matrix()\n",
    "\n",
    "Similar to sns.pairplot()"
   ]
  },
  {
   "cell_type": "code",
   "execution_count": 35,
   "metadata": {},
   "outputs": [
    {
     "data": {
      "application/vnd.plotly.v1+json": {
       "config": {
        "linkText": "Export to plot.ly",
        "plotlyServerURL": "https://plot.ly",
        "showLink": true
       },
       "data": [
        {
         "histfunc": "count",
         "histnorm": "",
         "marker": {
          "color": "rgba(255, 153, 51, 1.0)",
          "line": {
           "color": "#4D5663",
           "width": 1.3
          }
         },
         "name": "A",
         "nbinsx": 10,
         "opacity": 0.8,
         "orientation": "v",
         "type": "histogram",
         "x": [
          -0.3983520986318105,
          -0.6162827135158706,
          2.099168429946755,
          0.49680194136560707,
          -1.07462082001314,
          1.9349510089752417,
          -2.4231933164169877,
          1.4470449807220553,
          -1.4999960796449026,
          -1.0945495325613395,
          0.6642788506356654,
          -0.49195583457573117,
          -0.6910826727920918,
          2.185441590057498,
          0.5131001184581482,
          0.674719629421702,
          0.20326375230828428,
          0.4949550563840638,
          1.4049673532147409,
          -0.14331104172596126,
          -0.3855718444977499,
          -0.21141543770944637,
          0.692414500334598,
          -1.5745230871640852,
          0.22429200145258757,
          -0.054580355994718846,
          0.7011313596097016,
          -0.7104053825194536,
          0.19309720375353737,
          0.5011860420595097,
          -0.13544250984575917,
          -1.3454410990573253,
          -0.12047204421392274,
          1.7560558189306235,
          0.3847089483023419,
          -1.0117420625874236,
          0.9164797757953848,
          0.8090796984007256,
          1.224431318037115,
          -0.6582058090452699,
          0.21452127600252371,
          -1.639673876779424,
          -1.1663156197618043,
          -0.15847458956823843,
          0.42473475884185624,
          -0.38660395544194304,
          -1.0130293175337957,
          -0.13664762695552973,
          1.1232879897184924,
          -1.1371616618950293,
          -0.07299308539521068,
          -0.5378171740332828,
          -1.7019495070466393,
          0.7459624013190475,
          0.27813535654079613,
          -0.2805369331929469,
          0.13963765034792444,
          -0.8166786213065517,
          0.170863291010852,
          0.3627638979559158,
          0.9251892035591921,
          -0.364802539096463,
          0.75720246115451,
          0.6971493229294524,
          -1.6710133918210957,
          -1.0312985576250868,
          0.8665470164781827,
          0.48918962517490755,
          -0.8274464881475612,
          1.7712724749541882,
          -0.2508356385745554,
          -0.42874012491286284,
          0.1233772385420985,
          -0.12822124751202227,
          0.5881947672940719,
          -0.9778504268571526,
          -0.30940316954708735,
          0.1613667105030798,
          -0.3001261485965345,
          -1.7313401143421838,
          0.12956150643595835,
          0.014778956330208861,
          0.36348543013152373,
          1.3969890902037807,
          0.6042087813381443,
          -0.27805222561920584,
          -2.0435509439758492,
          -0.0030770249422897933,
          0.5042478810220322,
          0.8029083832933929,
          -0.26315122741705216,
          1.7608604844319595,
          -0.4434264627398264,
          1.156664081932901,
          -0.5094711324408508,
          0.04128916792263781,
          -1.580156634490801,
          1.5399169357943356,
          -0.4085571732321778,
          0.3145272996081609
         ],
         "xaxis": "x",
         "yaxis": "y"
        },
        {
         "line": {
          "color": "rgba(128, 128, 128, 1.0)",
          "dash": "solid",
          "shape": "linear",
          "width": 1.3
         },
         "marker": {
          "size": 2,
          "symbol": "circle"
         },
         "mode": "markers",
         "name": "A",
         "text": "",
         "type": "scatter",
         "x": [
          0.12208332917629941,
          1.4270948640081371,
          0.9415756564617354,
          0.8514386613875572,
          -1.6079154146370516,
          0.23474977453446583,
          -1.3665712548990696,
          -0.5597744265445256,
          0.11704905592132613,
          -1.0761999807650133,
          0.4600018600959453,
          -0.9956908768988652,
          -1.7817190867875512,
          -0.31928955320845914,
          -1.298610373656051,
          -0.5889321850812367,
          1.0303232261552604,
          -0.09079621045016036,
          1.0498592223792036,
          0.4945195260593801,
          -0.7614604158288016,
          -0.2758685496285138,
          -0.4712323343948017,
          0.08107735706611524,
          0.2876616637370824,
          -0.3442145062143889,
          -0.24688584946805583,
          -1.8409003226008336,
          0.22256612235887274,
          0.4401227891529881,
          -0.8735826703886425,
          1.4686012634498118,
          -1.6748703428986085,
          -1.1605558826535318,
          0.10774587775563513,
          -0.8721569508808421,
          -1.745682698772934,
          -1.452721647399788,
          0.04819799834678428,
          -0.9061247463728632,
          0.9207690513874721,
          -0.25072273019599484,
          -1.0269905868847906,
          0.8214480131559797,
          -0.06130802406075241,
          0.8244671466603298,
          -1.0084027725753877,
          -0.1956529239009466,
          0.2886247444738875,
          0.18013738407397625,
          -0.21960299598628757,
          0.3033060435779998,
          1.7271676553473425,
          -0.48314073390233764,
          0.13768515634336445,
          -0.0533994239173276,
          1.7338014442135392,
          -1.9520406749002268,
          0.07869764470173318,
          -0.9335929111019033,
          -0.44122205140317033,
          -1.5497962478239262,
          -0.3182101659576731,
          -1.0171007251602078,
          0.8902179713444456,
          -0.1492023621732173,
          1.7529659316795176,
          0.6628395828509307,
          -1.096340275641719,
          1.9077958610885095,
          -0.5193627966641464,
          0.9629313460804836,
          2.1082307449244113,
          0.9745871209420388,
          -1.0097546804821036,
          -0.19762155195637537,
          -0.6085097342966207,
          0.5991802006769752,
          0.9470498884434012,
          -0.8728985442836582,
          1.5337368766467123,
          -1.5910808182844718,
          -0.8468706811371463,
          -0.38367407437863804,
          0.7776465368122711,
          1.6291788115590593,
          -0.24891560934335877,
          0.427583467757721,
          0.68939277525342,
          1.6845488764859788,
          -0.384370585796287,
          1.3277562924746618,
          0.6545543604797216,
          -1.2416959625466797,
          -0.6887152543938814,
          -0.9897569303738274,
          -1.1244890052144112,
          -1.6801441430246917,
          -0.3269438336106665,
          0.09831057172894017
         ],
         "xaxis": "x2",
         "y": [
          -0.3983520986318105,
          -0.6162827135158706,
          2.099168429946755,
          0.49680194136560707,
          -1.07462082001314,
          1.9349510089752417,
          -2.4231933164169877,
          1.4470449807220553,
          -1.4999960796449026,
          -1.0945495325613395,
          0.6642788506356654,
          -0.49195583457573117,
          -0.6910826727920918,
          2.185441590057498,
          0.5131001184581482,
          0.674719629421702,
          0.20326375230828428,
          0.4949550563840638,
          1.4049673532147409,
          -0.14331104172596126,
          -0.3855718444977499,
          -0.21141543770944637,
          0.692414500334598,
          -1.5745230871640852,
          0.22429200145258757,
          -0.054580355994718846,
          0.7011313596097016,
          -0.7104053825194536,
          0.19309720375353737,
          0.5011860420595097,
          -0.13544250984575917,
          -1.3454410990573253,
          -0.12047204421392274,
          1.7560558189306235,
          0.3847089483023419,
          -1.0117420625874236,
          0.9164797757953848,
          0.8090796984007256,
          1.224431318037115,
          -0.6582058090452699,
          0.21452127600252371,
          -1.639673876779424,
          -1.1663156197618043,
          -0.15847458956823843,
          0.42473475884185624,
          -0.38660395544194304,
          -1.0130293175337957,
          -0.13664762695552973,
          1.1232879897184924,
          -1.1371616618950293,
          -0.07299308539521068,
          -0.5378171740332828,
          -1.7019495070466393,
          0.7459624013190475,
          0.27813535654079613,
          -0.2805369331929469,
          0.13963765034792444,
          -0.8166786213065517,
          0.170863291010852,
          0.3627638979559158,
          0.9251892035591921,
          -0.364802539096463,
          0.75720246115451,
          0.6971493229294524,
          -1.6710133918210957,
          -1.0312985576250868,
          0.8665470164781827,
          0.48918962517490755,
          -0.8274464881475612,
          1.7712724749541882,
          -0.2508356385745554,
          -0.42874012491286284,
          0.1233772385420985,
          -0.12822124751202227,
          0.5881947672940719,
          -0.9778504268571526,
          -0.30940316954708735,
          0.1613667105030798,
          -0.3001261485965345,
          -1.7313401143421838,
          0.12956150643595835,
          0.014778956330208861,
          0.36348543013152373,
          1.3969890902037807,
          0.6042087813381443,
          -0.27805222561920584,
          -2.0435509439758492,
          -0.0030770249422897933,
          0.5042478810220322,
          0.8029083832933929,
          -0.26315122741705216,
          1.7608604844319595,
          -0.4434264627398264,
          1.156664081932901,
          -0.5094711324408508,
          0.04128916792263781,
          -1.580156634490801,
          1.5399169357943356,
          -0.4085571732321778,
          0.3145272996081609
         ],
         "yaxis": "y2"
        },
        {
         "line": {
          "color": "rgba(128, 128, 128, 1.0)",
          "dash": "solid",
          "shape": "linear",
          "width": 1.3
         },
         "marker": {
          "size": 2,
          "symbol": "circle"
         },
         "mode": "markers",
         "name": "A",
         "text": "",
         "type": "scatter",
         "x": [
          -0.29148985395471677,
          1.0623192840314113,
          0.7889824802723888,
          -0.8263016174507869,
          -0.2932207084544145,
          -0.9755427137500423,
          -0.6968185285385623,
          -0.26767197539285326,
          -1.896806581235527,
          0.1005586735542141,
          -0.7211678197152294,
          0.714535732301503,
          1.4274663654041149,
          1.8141047561912682,
          -1.3858769144995062,
          0.8471377683390111,
          -0.5687078741499456,
          0.09915338015635412,
          -1.731576840340989,
          0.6832953787966262,
          -0.601222059394738,
          1.0712143459877694,
          -0.42969366889555627,
          0.2834153504375238,
          -0.3813626860244084,
          0.8422846513272353,
          -1.615123396659075,
          0.7060441246896761,
          0.5708971692833249,
          0.4363374031458981,
          0.48933617591121764,
          0.2216169781697169,
          1.1032610962751956,
          0.6189924950665961,
          -0.7056850960195947,
          -0.8399327839206575,
          -0.37693560883104393,
          -1.214424624544691,
          -0.9824208294647261,
          1.07111295573096,
          0.2993150824633953,
          0.5391321655291645,
          -0.30855014838707623,
          1.1397938492145294,
          0.45415528878378597,
          0.08275481849550818,
          0.4258716036049616,
          -0.20205799094399646,
          -0.44930743284924174,
          0.5369240056296196,
          -1.1662429861915933,
          -1.4759404572946662,
          -1.1656633971966528,
          1.0074587142346831,
          1.6658958181533354,
          1.5707070126993063,
          1.9040959389709713,
          -0.05237860458607489,
          1.404923332759848,
          -0.5076288665983928,
          1.6692811859886714,
          0.7350607783305309,
          -0.7346694659828406,
          -0.7225899803020552,
          -0.3777196974125393,
          -0.23886911214296572,
          0.17465496864010308,
          0.4815103878145468,
          1.2423405073516578,
          -0.20398342970969435,
          0.528007863231704,
          -1.059549721691455,
          0.5551476363472752,
          0.042602653053775696,
          1.6383428464594012,
          0.39053803717752006,
          -0.07497875653927707,
          0.602995873861361,
          -1.2659224343532185,
          -0.15846382723660227,
          -0.9821482993238668,
          1.169129504047249,
          -0.4801042694784227,
          -0.03927277533042933,
          -2.697446820613888,
          0.667717761645663,
          -0.7598229418804644,
          0.060198281353660316,
          0.9325913229966135,
          -0.4460009935902679,
          -1.8361341727225688,
          0.23186112181292243,
          -0.8667052430557932,
          -1.8213096093449288,
          -2.8727655770736296,
          -0.9789949647010906,
          -0.3903490898617929,
          0.5576591238292142,
          -0.02574772349388132,
          -0.20922752110118553
         ],
         "xaxis": "x3",
         "y": [
          -0.3983520986318105,
          -0.6162827135158706,
          2.099168429946755,
          0.49680194136560707,
          -1.07462082001314,
          1.9349510089752417,
          -2.4231933164169877,
          1.4470449807220553,
          -1.4999960796449026,
          -1.0945495325613395,
          0.6642788506356654,
          -0.49195583457573117,
          -0.6910826727920918,
          2.185441590057498,
          0.5131001184581482,
          0.674719629421702,
          0.20326375230828428,
          0.4949550563840638,
          1.4049673532147409,
          -0.14331104172596126,
          -0.3855718444977499,
          -0.21141543770944637,
          0.692414500334598,
          -1.5745230871640852,
          0.22429200145258757,
          -0.054580355994718846,
          0.7011313596097016,
          -0.7104053825194536,
          0.19309720375353737,
          0.5011860420595097,
          -0.13544250984575917,
          -1.3454410990573253,
          -0.12047204421392274,
          1.7560558189306235,
          0.3847089483023419,
          -1.0117420625874236,
          0.9164797757953848,
          0.8090796984007256,
          1.224431318037115,
          -0.6582058090452699,
          0.21452127600252371,
          -1.639673876779424,
          -1.1663156197618043,
          -0.15847458956823843,
          0.42473475884185624,
          -0.38660395544194304,
          -1.0130293175337957,
          -0.13664762695552973,
          1.1232879897184924,
          -1.1371616618950293,
          -0.07299308539521068,
          -0.5378171740332828,
          -1.7019495070466393,
          0.7459624013190475,
          0.27813535654079613,
          -0.2805369331929469,
          0.13963765034792444,
          -0.8166786213065517,
          0.170863291010852,
          0.3627638979559158,
          0.9251892035591921,
          -0.364802539096463,
          0.75720246115451,
          0.6971493229294524,
          -1.6710133918210957,
          -1.0312985576250868,
          0.8665470164781827,
          0.48918962517490755,
          -0.8274464881475612,
          1.7712724749541882,
          -0.2508356385745554,
          -0.42874012491286284,
          0.1233772385420985,
          -0.12822124751202227,
          0.5881947672940719,
          -0.9778504268571526,
          -0.30940316954708735,
          0.1613667105030798,
          -0.3001261485965345,
          -1.7313401143421838,
          0.12956150643595835,
          0.014778956330208861,
          0.36348543013152373,
          1.3969890902037807,
          0.6042087813381443,
          -0.27805222561920584,
          -2.0435509439758492,
          -0.0030770249422897933,
          0.5042478810220322,
          0.8029083832933929,
          -0.26315122741705216,
          1.7608604844319595,
          -0.4434264627398264,
          1.156664081932901,
          -0.5094711324408508,
          0.04128916792263781,
          -1.580156634490801,
          1.5399169357943356,
          -0.4085571732321778,
          0.3145272996081609
         ],
         "yaxis": "y3"
        },
        {
         "line": {
          "color": "rgba(128, 128, 128, 1.0)",
          "dash": "solid",
          "shape": "linear",
          "width": 1.3
         },
         "marker": {
          "size": 2,
          "symbol": "circle"
         },
         "mode": "markers",
         "name": "A",
         "text": "",
         "type": "scatter",
         "x": [
          -1.066630833301036,
          0.29265836582538346,
          0.1591606198584185,
          0.7622368322562274,
          -0.31886158521673247,
          -1.4718604665980832,
          -0.7942216520581787,
          -1.4911879505837673,
          -0.6061066859506782,
          -1.5157010582591202,
          0.40032614454481,
          -0.9443926165588304,
          -0.9333213894477778,
          0.2373250569771554,
          0.003495411918664375,
          0.2797243757917062,
          -1.7310876483893218,
          -0.43268860484750843,
          0.4984287063307684,
          -0.46778851287520473,
          -0.32888185899693234,
          0.6232682745273248,
          -0.7316017254728788,
          0.4711007440846479,
          0.4029539941799019,
          -0.2604478654563585,
          0.3582768756292048,
          -0.8561994831494832,
          -1.913726686773174,
          -0.46358832632663377,
          1.1901905701532403,
          0.4934040771654728,
          -1.2673630739278083,
          -0.776929161687946,
          0.12342919559962855,
          -0.30602487347655555,
          1.9130807488548334,
          -0.7131376626908961,
          0.5702353616922338,
          0.7544639853442335,
          -2.0060898019039954,
          -0.11525049488824148,
          0.10467455570986987,
          -1.2868277520052525,
          -0.5654071697000354,
          1.7481832326836808,
          0.6891892289617946,
          -0.19572310883303518,
          0.18710866747798385,
          -0.9968036751947746,
          -0.8730661425675862,
          -0.06451644096699462,
          -0.5830400236991375,
          -0.20591015210862196,
          1.2077339490268855,
          1.4181201936965127,
          0.5385070678744326,
          1.1206361454713019,
          -0.5863832540958245,
          -1.6322724434980052,
          -0.586135362960711,
          1.9271409828103283,
          -0.09300998837520326,
          0.7747759181042786,
          -0.6248833852014862,
          -0.4063310951523854,
          -1.573605393885346,
          2.6186807404587644,
          1.7087005422662134,
          -0.007114002565482575,
          0.25111679091412836,
          1.5570577991342196,
          -0.43429707906838105,
          2.1651550574299265,
          0.4363737233095151,
          0.2539187595310245,
          1.4231369726498155,
          -1.618480855798506,
          -0.3141703345317573,
          -0.45265785873287134,
          -0.5228801374626685,
          -2.064489489396664,
          -1.2982645066101959,
          0.6698083430019409,
          0.4346329311968929,
          0.40972413201503993,
          0.7575840109241605,
          -0.15294080210870659,
          1.2003583234609856,
          -0.14191145348018816,
          1.0553412259865629,
          -1.087106698144118,
          -1.4607267662321068,
          0.6604172689615183,
          -1.5413739823566173,
          -1.5358751844625966,
          -0.40535830362125563,
          -0.18006651091900314,
          0.8602767621118976,
          1.8570706187242754
         ],
         "xaxis": "x4",
         "y": [
          -0.3983520986318105,
          -0.6162827135158706,
          2.099168429946755,
          0.49680194136560707,
          -1.07462082001314,
          1.9349510089752417,
          -2.4231933164169877,
          1.4470449807220553,
          -1.4999960796449026,
          -1.0945495325613395,
          0.6642788506356654,
          -0.49195583457573117,
          -0.6910826727920918,
          2.185441590057498,
          0.5131001184581482,
          0.674719629421702,
          0.20326375230828428,
          0.4949550563840638,
          1.4049673532147409,
          -0.14331104172596126,
          -0.3855718444977499,
          -0.21141543770944637,
          0.692414500334598,
          -1.5745230871640852,
          0.22429200145258757,
          -0.054580355994718846,
          0.7011313596097016,
          -0.7104053825194536,
          0.19309720375353737,
          0.5011860420595097,
          -0.13544250984575917,
          -1.3454410990573253,
          -0.12047204421392274,
          1.7560558189306235,
          0.3847089483023419,
          -1.0117420625874236,
          0.9164797757953848,
          0.8090796984007256,
          1.224431318037115,
          -0.6582058090452699,
          0.21452127600252371,
          -1.639673876779424,
          -1.1663156197618043,
          -0.15847458956823843,
          0.42473475884185624,
          -0.38660395544194304,
          -1.0130293175337957,
          -0.13664762695552973,
          1.1232879897184924,
          -1.1371616618950293,
          -0.07299308539521068,
          -0.5378171740332828,
          -1.7019495070466393,
          0.7459624013190475,
          0.27813535654079613,
          -0.2805369331929469,
          0.13963765034792444,
          -0.8166786213065517,
          0.170863291010852,
          0.3627638979559158,
          0.9251892035591921,
          -0.364802539096463,
          0.75720246115451,
          0.6971493229294524,
          -1.6710133918210957,
          -1.0312985576250868,
          0.8665470164781827,
          0.48918962517490755,
          -0.8274464881475612,
          1.7712724749541882,
          -0.2508356385745554,
          -0.42874012491286284,
          0.1233772385420985,
          -0.12822124751202227,
          0.5881947672940719,
          -0.9778504268571526,
          -0.30940316954708735,
          0.1613667105030798,
          -0.3001261485965345,
          -1.7313401143421838,
          0.12956150643595835,
          0.014778956330208861,
          0.36348543013152373,
          1.3969890902037807,
          0.6042087813381443,
          -0.27805222561920584,
          -2.0435509439758492,
          -0.0030770249422897933,
          0.5042478810220322,
          0.8029083832933929,
          -0.26315122741705216,
          1.7608604844319595,
          -0.4434264627398264,
          1.156664081932901,
          -0.5094711324408508,
          0.04128916792263781,
          -1.580156634490801,
          1.5399169357943356,
          -0.4085571732321778,
          0.3145272996081609
         ],
         "yaxis": "y4"
        },
        {
         "line": {
          "color": "rgba(128, 128, 128, 1.0)",
          "dash": "solid",
          "shape": "linear",
          "width": 1.3
         },
         "marker": {
          "size": 2,
          "symbol": "circle"
         },
         "mode": "markers",
         "name": "B",
         "text": "",
         "type": "scatter",
         "x": [
          -0.3983520986318105,
          -0.6162827135158706,
          2.099168429946755,
          0.49680194136560707,
          -1.07462082001314,
          1.9349510089752417,
          -2.4231933164169877,
          1.4470449807220553,
          -1.4999960796449026,
          -1.0945495325613395,
          0.6642788506356654,
          -0.49195583457573117,
          -0.6910826727920918,
          2.185441590057498,
          0.5131001184581482,
          0.674719629421702,
          0.20326375230828428,
          0.4949550563840638,
          1.4049673532147409,
          -0.14331104172596126,
          -0.3855718444977499,
          -0.21141543770944637,
          0.692414500334598,
          -1.5745230871640852,
          0.22429200145258757,
          -0.054580355994718846,
          0.7011313596097016,
          -0.7104053825194536,
          0.19309720375353737,
          0.5011860420595097,
          -0.13544250984575917,
          -1.3454410990573253,
          -0.12047204421392274,
          1.7560558189306235,
          0.3847089483023419,
          -1.0117420625874236,
          0.9164797757953848,
          0.8090796984007256,
          1.224431318037115,
          -0.6582058090452699,
          0.21452127600252371,
          -1.639673876779424,
          -1.1663156197618043,
          -0.15847458956823843,
          0.42473475884185624,
          -0.38660395544194304,
          -1.0130293175337957,
          -0.13664762695552973,
          1.1232879897184924,
          -1.1371616618950293,
          -0.07299308539521068,
          -0.5378171740332828,
          -1.7019495070466393,
          0.7459624013190475,
          0.27813535654079613,
          -0.2805369331929469,
          0.13963765034792444,
          -0.8166786213065517,
          0.170863291010852,
          0.3627638979559158,
          0.9251892035591921,
          -0.364802539096463,
          0.75720246115451,
          0.6971493229294524,
          -1.6710133918210957,
          -1.0312985576250868,
          0.8665470164781827,
          0.48918962517490755,
          -0.8274464881475612,
          1.7712724749541882,
          -0.2508356385745554,
          -0.42874012491286284,
          0.1233772385420985,
          -0.12822124751202227,
          0.5881947672940719,
          -0.9778504268571526,
          -0.30940316954708735,
          0.1613667105030798,
          -0.3001261485965345,
          -1.7313401143421838,
          0.12956150643595835,
          0.014778956330208861,
          0.36348543013152373,
          1.3969890902037807,
          0.6042087813381443,
          -0.27805222561920584,
          -2.0435509439758492,
          -0.0030770249422897933,
          0.5042478810220322,
          0.8029083832933929,
          -0.26315122741705216,
          1.7608604844319595,
          -0.4434264627398264,
          1.156664081932901,
          -0.5094711324408508,
          0.04128916792263781,
          -1.580156634490801,
          1.5399169357943356,
          -0.4085571732321778,
          0.3145272996081609
         ],
         "xaxis": "x5",
         "y": [
          0.12208332917629941,
          1.4270948640081371,
          0.9415756564617354,
          0.8514386613875572,
          -1.6079154146370516,
          0.23474977453446583,
          -1.3665712548990696,
          -0.5597744265445256,
          0.11704905592132613,
          -1.0761999807650133,
          0.4600018600959453,
          -0.9956908768988652,
          -1.7817190867875512,
          -0.31928955320845914,
          -1.298610373656051,
          -0.5889321850812367,
          1.0303232261552604,
          -0.09079621045016036,
          1.0498592223792036,
          0.4945195260593801,
          -0.7614604158288016,
          -0.2758685496285138,
          -0.4712323343948017,
          0.08107735706611524,
          0.2876616637370824,
          -0.3442145062143889,
          -0.24688584946805583,
          -1.8409003226008336,
          0.22256612235887274,
          0.4401227891529881,
          -0.8735826703886425,
          1.4686012634498118,
          -1.6748703428986085,
          -1.1605558826535318,
          0.10774587775563513,
          -0.8721569508808421,
          -1.745682698772934,
          -1.452721647399788,
          0.04819799834678428,
          -0.9061247463728632,
          0.9207690513874721,
          -0.25072273019599484,
          -1.0269905868847906,
          0.8214480131559797,
          -0.06130802406075241,
          0.8244671466603298,
          -1.0084027725753877,
          -0.1956529239009466,
          0.2886247444738875,
          0.18013738407397625,
          -0.21960299598628757,
          0.3033060435779998,
          1.7271676553473425,
          -0.48314073390233764,
          0.13768515634336445,
          -0.0533994239173276,
          1.7338014442135392,
          -1.9520406749002268,
          0.07869764470173318,
          -0.9335929111019033,
          -0.44122205140317033,
          -1.5497962478239262,
          -0.3182101659576731,
          -1.0171007251602078,
          0.8902179713444456,
          -0.1492023621732173,
          1.7529659316795176,
          0.6628395828509307,
          -1.096340275641719,
          1.9077958610885095,
          -0.5193627966641464,
          0.9629313460804836,
          2.1082307449244113,
          0.9745871209420388,
          -1.0097546804821036,
          -0.19762155195637537,
          -0.6085097342966207,
          0.5991802006769752,
          0.9470498884434012,
          -0.8728985442836582,
          1.5337368766467123,
          -1.5910808182844718,
          -0.8468706811371463,
          -0.38367407437863804,
          0.7776465368122711,
          1.6291788115590593,
          -0.24891560934335877,
          0.427583467757721,
          0.68939277525342,
          1.6845488764859788,
          -0.384370585796287,
          1.3277562924746618,
          0.6545543604797216,
          -1.2416959625466797,
          -0.6887152543938814,
          -0.9897569303738274,
          -1.1244890052144112,
          -1.6801441430246917,
          -0.3269438336106665,
          0.09831057172894017
         ],
         "yaxis": "y5"
        },
        {
         "histfunc": "count",
         "histnorm": "",
         "marker": {
          "color": "rgba(55, 128, 191, 1.0)",
          "line": {
           "color": "#4D5663",
           "width": 1.3
          }
         },
         "name": "B",
         "nbinsx": 10,
         "opacity": 0.8,
         "orientation": "v",
         "type": "histogram",
         "x": [
          0.12208332917629941,
          1.4270948640081371,
          0.9415756564617354,
          0.8514386613875572,
          -1.6079154146370516,
          0.23474977453446583,
          -1.3665712548990696,
          -0.5597744265445256,
          0.11704905592132613,
          -1.0761999807650133,
          0.4600018600959453,
          -0.9956908768988652,
          -1.7817190867875512,
          -0.31928955320845914,
          -1.298610373656051,
          -0.5889321850812367,
          1.0303232261552604,
          -0.09079621045016036,
          1.0498592223792036,
          0.4945195260593801,
          -0.7614604158288016,
          -0.2758685496285138,
          -0.4712323343948017,
          0.08107735706611524,
          0.2876616637370824,
          -0.3442145062143889,
          -0.24688584946805583,
          -1.8409003226008336,
          0.22256612235887274,
          0.4401227891529881,
          -0.8735826703886425,
          1.4686012634498118,
          -1.6748703428986085,
          -1.1605558826535318,
          0.10774587775563513,
          -0.8721569508808421,
          -1.745682698772934,
          -1.452721647399788,
          0.04819799834678428,
          -0.9061247463728632,
          0.9207690513874721,
          -0.25072273019599484,
          -1.0269905868847906,
          0.8214480131559797,
          -0.06130802406075241,
          0.8244671466603298,
          -1.0084027725753877,
          -0.1956529239009466,
          0.2886247444738875,
          0.18013738407397625,
          -0.21960299598628757,
          0.3033060435779998,
          1.7271676553473425,
          -0.48314073390233764,
          0.13768515634336445,
          -0.0533994239173276,
          1.7338014442135392,
          -1.9520406749002268,
          0.07869764470173318,
          -0.9335929111019033,
          -0.44122205140317033,
          -1.5497962478239262,
          -0.3182101659576731,
          -1.0171007251602078,
          0.8902179713444456,
          -0.1492023621732173,
          1.7529659316795176,
          0.6628395828509307,
          -1.096340275641719,
          1.9077958610885095,
          -0.5193627966641464,
          0.9629313460804836,
          2.1082307449244113,
          0.9745871209420388,
          -1.0097546804821036,
          -0.19762155195637537,
          -0.6085097342966207,
          0.5991802006769752,
          0.9470498884434012,
          -0.8728985442836582,
          1.5337368766467123,
          -1.5910808182844718,
          -0.8468706811371463,
          -0.38367407437863804,
          0.7776465368122711,
          1.6291788115590593,
          -0.24891560934335877,
          0.427583467757721,
          0.68939277525342,
          1.6845488764859788,
          -0.384370585796287,
          1.3277562924746618,
          0.6545543604797216,
          -1.2416959625466797,
          -0.6887152543938814,
          -0.9897569303738274,
          -1.1244890052144112,
          -1.6801441430246917,
          -0.3269438336106665,
          0.09831057172894017
         ],
         "xaxis": "x6",
         "yaxis": "y6"
        },
        {
         "line": {
          "color": "rgba(128, 128, 128, 1.0)",
          "dash": "solid",
          "shape": "linear",
          "width": 1.3
         },
         "marker": {
          "size": 2,
          "symbol": "circle"
         },
         "mode": "markers",
         "name": "B",
         "text": "",
         "type": "scatter",
         "x": [
          -0.29148985395471677,
          1.0623192840314113,
          0.7889824802723888,
          -0.8263016174507869,
          -0.2932207084544145,
          -0.9755427137500423,
          -0.6968185285385623,
          -0.26767197539285326,
          -1.896806581235527,
          0.1005586735542141,
          -0.7211678197152294,
          0.714535732301503,
          1.4274663654041149,
          1.8141047561912682,
          -1.3858769144995062,
          0.8471377683390111,
          -0.5687078741499456,
          0.09915338015635412,
          -1.731576840340989,
          0.6832953787966262,
          -0.601222059394738,
          1.0712143459877694,
          -0.42969366889555627,
          0.2834153504375238,
          -0.3813626860244084,
          0.8422846513272353,
          -1.615123396659075,
          0.7060441246896761,
          0.5708971692833249,
          0.4363374031458981,
          0.48933617591121764,
          0.2216169781697169,
          1.1032610962751956,
          0.6189924950665961,
          -0.7056850960195947,
          -0.8399327839206575,
          -0.37693560883104393,
          -1.214424624544691,
          -0.9824208294647261,
          1.07111295573096,
          0.2993150824633953,
          0.5391321655291645,
          -0.30855014838707623,
          1.1397938492145294,
          0.45415528878378597,
          0.08275481849550818,
          0.4258716036049616,
          -0.20205799094399646,
          -0.44930743284924174,
          0.5369240056296196,
          -1.1662429861915933,
          -1.4759404572946662,
          -1.1656633971966528,
          1.0074587142346831,
          1.6658958181533354,
          1.5707070126993063,
          1.9040959389709713,
          -0.05237860458607489,
          1.404923332759848,
          -0.5076288665983928,
          1.6692811859886714,
          0.7350607783305309,
          -0.7346694659828406,
          -0.7225899803020552,
          -0.3777196974125393,
          -0.23886911214296572,
          0.17465496864010308,
          0.4815103878145468,
          1.2423405073516578,
          -0.20398342970969435,
          0.528007863231704,
          -1.059549721691455,
          0.5551476363472752,
          0.042602653053775696,
          1.6383428464594012,
          0.39053803717752006,
          -0.07497875653927707,
          0.602995873861361,
          -1.2659224343532185,
          -0.15846382723660227,
          -0.9821482993238668,
          1.169129504047249,
          -0.4801042694784227,
          -0.03927277533042933,
          -2.697446820613888,
          0.667717761645663,
          -0.7598229418804644,
          0.060198281353660316,
          0.9325913229966135,
          -0.4460009935902679,
          -1.8361341727225688,
          0.23186112181292243,
          -0.8667052430557932,
          -1.8213096093449288,
          -2.8727655770736296,
          -0.9789949647010906,
          -0.3903490898617929,
          0.5576591238292142,
          -0.02574772349388132,
          -0.20922752110118553
         ],
         "xaxis": "x7",
         "y": [
          0.12208332917629941,
          1.4270948640081371,
          0.9415756564617354,
          0.8514386613875572,
          -1.6079154146370516,
          0.23474977453446583,
          -1.3665712548990696,
          -0.5597744265445256,
          0.11704905592132613,
          -1.0761999807650133,
          0.4600018600959453,
          -0.9956908768988652,
          -1.7817190867875512,
          -0.31928955320845914,
          -1.298610373656051,
          -0.5889321850812367,
          1.0303232261552604,
          -0.09079621045016036,
          1.0498592223792036,
          0.4945195260593801,
          -0.7614604158288016,
          -0.2758685496285138,
          -0.4712323343948017,
          0.08107735706611524,
          0.2876616637370824,
          -0.3442145062143889,
          -0.24688584946805583,
          -1.8409003226008336,
          0.22256612235887274,
          0.4401227891529881,
          -0.8735826703886425,
          1.4686012634498118,
          -1.6748703428986085,
          -1.1605558826535318,
          0.10774587775563513,
          -0.8721569508808421,
          -1.745682698772934,
          -1.452721647399788,
          0.04819799834678428,
          -0.9061247463728632,
          0.9207690513874721,
          -0.25072273019599484,
          -1.0269905868847906,
          0.8214480131559797,
          -0.06130802406075241,
          0.8244671466603298,
          -1.0084027725753877,
          -0.1956529239009466,
          0.2886247444738875,
          0.18013738407397625,
          -0.21960299598628757,
          0.3033060435779998,
          1.7271676553473425,
          -0.48314073390233764,
          0.13768515634336445,
          -0.0533994239173276,
          1.7338014442135392,
          -1.9520406749002268,
          0.07869764470173318,
          -0.9335929111019033,
          -0.44122205140317033,
          -1.5497962478239262,
          -0.3182101659576731,
          -1.0171007251602078,
          0.8902179713444456,
          -0.1492023621732173,
          1.7529659316795176,
          0.6628395828509307,
          -1.096340275641719,
          1.9077958610885095,
          -0.5193627966641464,
          0.9629313460804836,
          2.1082307449244113,
          0.9745871209420388,
          -1.0097546804821036,
          -0.19762155195637537,
          -0.6085097342966207,
          0.5991802006769752,
          0.9470498884434012,
          -0.8728985442836582,
          1.5337368766467123,
          -1.5910808182844718,
          -0.8468706811371463,
          -0.38367407437863804,
          0.7776465368122711,
          1.6291788115590593,
          -0.24891560934335877,
          0.427583467757721,
          0.68939277525342,
          1.6845488764859788,
          -0.384370585796287,
          1.3277562924746618,
          0.6545543604797216,
          -1.2416959625466797,
          -0.6887152543938814,
          -0.9897569303738274,
          -1.1244890052144112,
          -1.6801441430246917,
          -0.3269438336106665,
          0.09831057172894017
         ],
         "yaxis": "y7"
        },
        {
         "line": {
          "color": "rgba(128, 128, 128, 1.0)",
          "dash": "solid",
          "shape": "linear",
          "width": 1.3
         },
         "marker": {
          "size": 2,
          "symbol": "circle"
         },
         "mode": "markers",
         "name": "B",
         "text": "",
         "type": "scatter",
         "x": [
          -1.066630833301036,
          0.29265836582538346,
          0.1591606198584185,
          0.7622368322562274,
          -0.31886158521673247,
          -1.4718604665980832,
          -0.7942216520581787,
          -1.4911879505837673,
          -0.6061066859506782,
          -1.5157010582591202,
          0.40032614454481,
          -0.9443926165588304,
          -0.9333213894477778,
          0.2373250569771554,
          0.003495411918664375,
          0.2797243757917062,
          -1.7310876483893218,
          -0.43268860484750843,
          0.4984287063307684,
          -0.46778851287520473,
          -0.32888185899693234,
          0.6232682745273248,
          -0.7316017254728788,
          0.4711007440846479,
          0.4029539941799019,
          -0.2604478654563585,
          0.3582768756292048,
          -0.8561994831494832,
          -1.913726686773174,
          -0.46358832632663377,
          1.1901905701532403,
          0.4934040771654728,
          -1.2673630739278083,
          -0.776929161687946,
          0.12342919559962855,
          -0.30602487347655555,
          1.9130807488548334,
          -0.7131376626908961,
          0.5702353616922338,
          0.7544639853442335,
          -2.0060898019039954,
          -0.11525049488824148,
          0.10467455570986987,
          -1.2868277520052525,
          -0.5654071697000354,
          1.7481832326836808,
          0.6891892289617946,
          -0.19572310883303518,
          0.18710866747798385,
          -0.9968036751947746,
          -0.8730661425675862,
          -0.06451644096699462,
          -0.5830400236991375,
          -0.20591015210862196,
          1.2077339490268855,
          1.4181201936965127,
          0.5385070678744326,
          1.1206361454713019,
          -0.5863832540958245,
          -1.6322724434980052,
          -0.586135362960711,
          1.9271409828103283,
          -0.09300998837520326,
          0.7747759181042786,
          -0.6248833852014862,
          -0.4063310951523854,
          -1.573605393885346,
          2.6186807404587644,
          1.7087005422662134,
          -0.007114002565482575,
          0.25111679091412836,
          1.5570577991342196,
          -0.43429707906838105,
          2.1651550574299265,
          0.4363737233095151,
          0.2539187595310245,
          1.4231369726498155,
          -1.618480855798506,
          -0.3141703345317573,
          -0.45265785873287134,
          -0.5228801374626685,
          -2.064489489396664,
          -1.2982645066101959,
          0.6698083430019409,
          0.4346329311968929,
          0.40972413201503993,
          0.7575840109241605,
          -0.15294080210870659,
          1.2003583234609856,
          -0.14191145348018816,
          1.0553412259865629,
          -1.087106698144118,
          -1.4607267662321068,
          0.6604172689615183,
          -1.5413739823566173,
          -1.5358751844625966,
          -0.40535830362125563,
          -0.18006651091900314,
          0.8602767621118976,
          1.8570706187242754
         ],
         "xaxis": "x8",
         "y": [
          0.12208332917629941,
          1.4270948640081371,
          0.9415756564617354,
          0.8514386613875572,
          -1.6079154146370516,
          0.23474977453446583,
          -1.3665712548990696,
          -0.5597744265445256,
          0.11704905592132613,
          -1.0761999807650133,
          0.4600018600959453,
          -0.9956908768988652,
          -1.7817190867875512,
          -0.31928955320845914,
          -1.298610373656051,
          -0.5889321850812367,
          1.0303232261552604,
          -0.09079621045016036,
          1.0498592223792036,
          0.4945195260593801,
          -0.7614604158288016,
          -0.2758685496285138,
          -0.4712323343948017,
          0.08107735706611524,
          0.2876616637370824,
          -0.3442145062143889,
          -0.24688584946805583,
          -1.8409003226008336,
          0.22256612235887274,
          0.4401227891529881,
          -0.8735826703886425,
          1.4686012634498118,
          -1.6748703428986085,
          -1.1605558826535318,
          0.10774587775563513,
          -0.8721569508808421,
          -1.745682698772934,
          -1.452721647399788,
          0.04819799834678428,
          -0.9061247463728632,
          0.9207690513874721,
          -0.25072273019599484,
          -1.0269905868847906,
          0.8214480131559797,
          -0.06130802406075241,
          0.8244671466603298,
          -1.0084027725753877,
          -0.1956529239009466,
          0.2886247444738875,
          0.18013738407397625,
          -0.21960299598628757,
          0.3033060435779998,
          1.7271676553473425,
          -0.48314073390233764,
          0.13768515634336445,
          -0.0533994239173276,
          1.7338014442135392,
          -1.9520406749002268,
          0.07869764470173318,
          -0.9335929111019033,
          -0.44122205140317033,
          -1.5497962478239262,
          -0.3182101659576731,
          -1.0171007251602078,
          0.8902179713444456,
          -0.1492023621732173,
          1.7529659316795176,
          0.6628395828509307,
          -1.096340275641719,
          1.9077958610885095,
          -0.5193627966641464,
          0.9629313460804836,
          2.1082307449244113,
          0.9745871209420388,
          -1.0097546804821036,
          -0.19762155195637537,
          -0.6085097342966207,
          0.5991802006769752,
          0.9470498884434012,
          -0.8728985442836582,
          1.5337368766467123,
          -1.5910808182844718,
          -0.8468706811371463,
          -0.38367407437863804,
          0.7776465368122711,
          1.6291788115590593,
          -0.24891560934335877,
          0.427583467757721,
          0.68939277525342,
          1.6845488764859788,
          -0.384370585796287,
          1.3277562924746618,
          0.6545543604797216,
          -1.2416959625466797,
          -0.6887152543938814,
          -0.9897569303738274,
          -1.1244890052144112,
          -1.6801441430246917,
          -0.3269438336106665,
          0.09831057172894017
         ],
         "yaxis": "y8"
        },
        {
         "line": {
          "color": "rgba(128, 128, 128, 1.0)",
          "dash": "solid",
          "shape": "linear",
          "width": 1.3
         },
         "marker": {
          "size": 2,
          "symbol": "circle"
         },
         "mode": "markers",
         "name": "C",
         "text": "",
         "type": "scatter",
         "x": [
          -0.3983520986318105,
          -0.6162827135158706,
          2.099168429946755,
          0.49680194136560707,
          -1.07462082001314,
          1.9349510089752417,
          -2.4231933164169877,
          1.4470449807220553,
          -1.4999960796449026,
          -1.0945495325613395,
          0.6642788506356654,
          -0.49195583457573117,
          -0.6910826727920918,
          2.185441590057498,
          0.5131001184581482,
          0.674719629421702,
          0.20326375230828428,
          0.4949550563840638,
          1.4049673532147409,
          -0.14331104172596126,
          -0.3855718444977499,
          -0.21141543770944637,
          0.692414500334598,
          -1.5745230871640852,
          0.22429200145258757,
          -0.054580355994718846,
          0.7011313596097016,
          -0.7104053825194536,
          0.19309720375353737,
          0.5011860420595097,
          -0.13544250984575917,
          -1.3454410990573253,
          -0.12047204421392274,
          1.7560558189306235,
          0.3847089483023419,
          -1.0117420625874236,
          0.9164797757953848,
          0.8090796984007256,
          1.224431318037115,
          -0.6582058090452699,
          0.21452127600252371,
          -1.639673876779424,
          -1.1663156197618043,
          -0.15847458956823843,
          0.42473475884185624,
          -0.38660395544194304,
          -1.0130293175337957,
          -0.13664762695552973,
          1.1232879897184924,
          -1.1371616618950293,
          -0.07299308539521068,
          -0.5378171740332828,
          -1.7019495070466393,
          0.7459624013190475,
          0.27813535654079613,
          -0.2805369331929469,
          0.13963765034792444,
          -0.8166786213065517,
          0.170863291010852,
          0.3627638979559158,
          0.9251892035591921,
          -0.364802539096463,
          0.75720246115451,
          0.6971493229294524,
          -1.6710133918210957,
          -1.0312985576250868,
          0.8665470164781827,
          0.48918962517490755,
          -0.8274464881475612,
          1.7712724749541882,
          -0.2508356385745554,
          -0.42874012491286284,
          0.1233772385420985,
          -0.12822124751202227,
          0.5881947672940719,
          -0.9778504268571526,
          -0.30940316954708735,
          0.1613667105030798,
          -0.3001261485965345,
          -1.7313401143421838,
          0.12956150643595835,
          0.014778956330208861,
          0.36348543013152373,
          1.3969890902037807,
          0.6042087813381443,
          -0.27805222561920584,
          -2.0435509439758492,
          -0.0030770249422897933,
          0.5042478810220322,
          0.8029083832933929,
          -0.26315122741705216,
          1.7608604844319595,
          -0.4434264627398264,
          1.156664081932901,
          -0.5094711324408508,
          0.04128916792263781,
          -1.580156634490801,
          1.5399169357943356,
          -0.4085571732321778,
          0.3145272996081609
         ],
         "xaxis": "x9",
         "y": [
          -0.29148985395471677,
          1.0623192840314113,
          0.7889824802723888,
          -0.8263016174507869,
          -0.2932207084544145,
          -0.9755427137500423,
          -0.6968185285385623,
          -0.26767197539285326,
          -1.896806581235527,
          0.1005586735542141,
          -0.7211678197152294,
          0.714535732301503,
          1.4274663654041149,
          1.8141047561912682,
          -1.3858769144995062,
          0.8471377683390111,
          -0.5687078741499456,
          0.09915338015635412,
          -1.731576840340989,
          0.6832953787966262,
          -0.601222059394738,
          1.0712143459877694,
          -0.42969366889555627,
          0.2834153504375238,
          -0.3813626860244084,
          0.8422846513272353,
          -1.615123396659075,
          0.7060441246896761,
          0.5708971692833249,
          0.4363374031458981,
          0.48933617591121764,
          0.2216169781697169,
          1.1032610962751956,
          0.6189924950665961,
          -0.7056850960195947,
          -0.8399327839206575,
          -0.37693560883104393,
          -1.214424624544691,
          -0.9824208294647261,
          1.07111295573096,
          0.2993150824633953,
          0.5391321655291645,
          -0.30855014838707623,
          1.1397938492145294,
          0.45415528878378597,
          0.08275481849550818,
          0.4258716036049616,
          -0.20205799094399646,
          -0.44930743284924174,
          0.5369240056296196,
          -1.1662429861915933,
          -1.4759404572946662,
          -1.1656633971966528,
          1.0074587142346831,
          1.6658958181533354,
          1.5707070126993063,
          1.9040959389709713,
          -0.05237860458607489,
          1.404923332759848,
          -0.5076288665983928,
          1.6692811859886714,
          0.7350607783305309,
          -0.7346694659828406,
          -0.7225899803020552,
          -0.3777196974125393,
          -0.23886911214296572,
          0.17465496864010308,
          0.4815103878145468,
          1.2423405073516578,
          -0.20398342970969435,
          0.528007863231704,
          -1.059549721691455,
          0.5551476363472752,
          0.042602653053775696,
          1.6383428464594012,
          0.39053803717752006,
          -0.07497875653927707,
          0.602995873861361,
          -1.2659224343532185,
          -0.15846382723660227,
          -0.9821482993238668,
          1.169129504047249,
          -0.4801042694784227,
          -0.03927277533042933,
          -2.697446820613888,
          0.667717761645663,
          -0.7598229418804644,
          0.060198281353660316,
          0.9325913229966135,
          -0.4460009935902679,
          -1.8361341727225688,
          0.23186112181292243,
          -0.8667052430557932,
          -1.8213096093449288,
          -2.8727655770736296,
          -0.9789949647010906,
          -0.3903490898617929,
          0.5576591238292142,
          -0.02574772349388132,
          -0.20922752110118553
         ],
         "yaxis": "y9"
        },
        {
         "line": {
          "color": "rgba(128, 128, 128, 1.0)",
          "dash": "solid",
          "shape": "linear",
          "width": 1.3
         },
         "marker": {
          "size": 2,
          "symbol": "circle"
         },
         "mode": "markers",
         "name": "C",
         "text": "",
         "type": "scatter",
         "x": [
          0.12208332917629941,
          1.4270948640081371,
          0.9415756564617354,
          0.8514386613875572,
          -1.6079154146370516,
          0.23474977453446583,
          -1.3665712548990696,
          -0.5597744265445256,
          0.11704905592132613,
          -1.0761999807650133,
          0.4600018600959453,
          -0.9956908768988652,
          -1.7817190867875512,
          -0.31928955320845914,
          -1.298610373656051,
          -0.5889321850812367,
          1.0303232261552604,
          -0.09079621045016036,
          1.0498592223792036,
          0.4945195260593801,
          -0.7614604158288016,
          -0.2758685496285138,
          -0.4712323343948017,
          0.08107735706611524,
          0.2876616637370824,
          -0.3442145062143889,
          -0.24688584946805583,
          -1.8409003226008336,
          0.22256612235887274,
          0.4401227891529881,
          -0.8735826703886425,
          1.4686012634498118,
          -1.6748703428986085,
          -1.1605558826535318,
          0.10774587775563513,
          -0.8721569508808421,
          -1.745682698772934,
          -1.452721647399788,
          0.04819799834678428,
          -0.9061247463728632,
          0.9207690513874721,
          -0.25072273019599484,
          -1.0269905868847906,
          0.8214480131559797,
          -0.06130802406075241,
          0.8244671466603298,
          -1.0084027725753877,
          -0.1956529239009466,
          0.2886247444738875,
          0.18013738407397625,
          -0.21960299598628757,
          0.3033060435779998,
          1.7271676553473425,
          -0.48314073390233764,
          0.13768515634336445,
          -0.0533994239173276,
          1.7338014442135392,
          -1.9520406749002268,
          0.07869764470173318,
          -0.9335929111019033,
          -0.44122205140317033,
          -1.5497962478239262,
          -0.3182101659576731,
          -1.0171007251602078,
          0.8902179713444456,
          -0.1492023621732173,
          1.7529659316795176,
          0.6628395828509307,
          -1.096340275641719,
          1.9077958610885095,
          -0.5193627966641464,
          0.9629313460804836,
          2.1082307449244113,
          0.9745871209420388,
          -1.0097546804821036,
          -0.19762155195637537,
          -0.6085097342966207,
          0.5991802006769752,
          0.9470498884434012,
          -0.8728985442836582,
          1.5337368766467123,
          -1.5910808182844718,
          -0.8468706811371463,
          -0.38367407437863804,
          0.7776465368122711,
          1.6291788115590593,
          -0.24891560934335877,
          0.427583467757721,
          0.68939277525342,
          1.6845488764859788,
          -0.384370585796287,
          1.3277562924746618,
          0.6545543604797216,
          -1.2416959625466797,
          -0.6887152543938814,
          -0.9897569303738274,
          -1.1244890052144112,
          -1.6801441430246917,
          -0.3269438336106665,
          0.09831057172894017
         ],
         "xaxis": "x10",
         "y": [
          -0.29148985395471677,
          1.0623192840314113,
          0.7889824802723888,
          -0.8263016174507869,
          -0.2932207084544145,
          -0.9755427137500423,
          -0.6968185285385623,
          -0.26767197539285326,
          -1.896806581235527,
          0.1005586735542141,
          -0.7211678197152294,
          0.714535732301503,
          1.4274663654041149,
          1.8141047561912682,
          -1.3858769144995062,
          0.8471377683390111,
          -0.5687078741499456,
          0.09915338015635412,
          -1.731576840340989,
          0.6832953787966262,
          -0.601222059394738,
          1.0712143459877694,
          -0.42969366889555627,
          0.2834153504375238,
          -0.3813626860244084,
          0.8422846513272353,
          -1.615123396659075,
          0.7060441246896761,
          0.5708971692833249,
          0.4363374031458981,
          0.48933617591121764,
          0.2216169781697169,
          1.1032610962751956,
          0.6189924950665961,
          -0.7056850960195947,
          -0.8399327839206575,
          -0.37693560883104393,
          -1.214424624544691,
          -0.9824208294647261,
          1.07111295573096,
          0.2993150824633953,
          0.5391321655291645,
          -0.30855014838707623,
          1.1397938492145294,
          0.45415528878378597,
          0.08275481849550818,
          0.4258716036049616,
          -0.20205799094399646,
          -0.44930743284924174,
          0.5369240056296196,
          -1.1662429861915933,
          -1.4759404572946662,
          -1.1656633971966528,
          1.0074587142346831,
          1.6658958181533354,
          1.5707070126993063,
          1.9040959389709713,
          -0.05237860458607489,
          1.404923332759848,
          -0.5076288665983928,
          1.6692811859886714,
          0.7350607783305309,
          -0.7346694659828406,
          -0.7225899803020552,
          -0.3777196974125393,
          -0.23886911214296572,
          0.17465496864010308,
          0.4815103878145468,
          1.2423405073516578,
          -0.20398342970969435,
          0.528007863231704,
          -1.059549721691455,
          0.5551476363472752,
          0.042602653053775696,
          1.6383428464594012,
          0.39053803717752006,
          -0.07497875653927707,
          0.602995873861361,
          -1.2659224343532185,
          -0.15846382723660227,
          -0.9821482993238668,
          1.169129504047249,
          -0.4801042694784227,
          -0.03927277533042933,
          -2.697446820613888,
          0.667717761645663,
          -0.7598229418804644,
          0.060198281353660316,
          0.9325913229966135,
          -0.4460009935902679,
          -1.8361341727225688,
          0.23186112181292243,
          -0.8667052430557932,
          -1.8213096093449288,
          -2.8727655770736296,
          -0.9789949647010906,
          -0.3903490898617929,
          0.5576591238292142,
          -0.02574772349388132,
          -0.20922752110118553
         ],
         "yaxis": "y10"
        },
        {
         "histfunc": "count",
         "histnorm": "",
         "marker": {
          "color": "rgba(50, 171, 96, 1.0)",
          "line": {
           "color": "#4D5663",
           "width": 1.3
          }
         },
         "name": "C",
         "nbinsx": 10,
         "opacity": 0.8,
         "orientation": "v",
         "type": "histogram",
         "x": [
          -0.29148985395471677,
          1.0623192840314113,
          0.7889824802723888,
          -0.8263016174507869,
          -0.2932207084544145,
          -0.9755427137500423,
          -0.6968185285385623,
          -0.26767197539285326,
          -1.896806581235527,
          0.1005586735542141,
          -0.7211678197152294,
          0.714535732301503,
          1.4274663654041149,
          1.8141047561912682,
          -1.3858769144995062,
          0.8471377683390111,
          -0.5687078741499456,
          0.09915338015635412,
          -1.731576840340989,
          0.6832953787966262,
          -0.601222059394738,
          1.0712143459877694,
          -0.42969366889555627,
          0.2834153504375238,
          -0.3813626860244084,
          0.8422846513272353,
          -1.615123396659075,
          0.7060441246896761,
          0.5708971692833249,
          0.4363374031458981,
          0.48933617591121764,
          0.2216169781697169,
          1.1032610962751956,
          0.6189924950665961,
          -0.7056850960195947,
          -0.8399327839206575,
          -0.37693560883104393,
          -1.214424624544691,
          -0.9824208294647261,
          1.07111295573096,
          0.2993150824633953,
          0.5391321655291645,
          -0.30855014838707623,
          1.1397938492145294,
          0.45415528878378597,
          0.08275481849550818,
          0.4258716036049616,
          -0.20205799094399646,
          -0.44930743284924174,
          0.5369240056296196,
          -1.1662429861915933,
          -1.4759404572946662,
          -1.1656633971966528,
          1.0074587142346831,
          1.6658958181533354,
          1.5707070126993063,
          1.9040959389709713,
          -0.05237860458607489,
          1.404923332759848,
          -0.5076288665983928,
          1.6692811859886714,
          0.7350607783305309,
          -0.7346694659828406,
          -0.7225899803020552,
          -0.3777196974125393,
          -0.23886911214296572,
          0.17465496864010308,
          0.4815103878145468,
          1.2423405073516578,
          -0.20398342970969435,
          0.528007863231704,
          -1.059549721691455,
          0.5551476363472752,
          0.042602653053775696,
          1.6383428464594012,
          0.39053803717752006,
          -0.07497875653927707,
          0.602995873861361,
          -1.2659224343532185,
          -0.15846382723660227,
          -0.9821482993238668,
          1.169129504047249,
          -0.4801042694784227,
          -0.03927277533042933,
          -2.697446820613888,
          0.667717761645663,
          -0.7598229418804644,
          0.060198281353660316,
          0.9325913229966135,
          -0.4460009935902679,
          -1.8361341727225688,
          0.23186112181292243,
          -0.8667052430557932,
          -1.8213096093449288,
          -2.8727655770736296,
          -0.9789949647010906,
          -0.3903490898617929,
          0.5576591238292142,
          -0.02574772349388132,
          -0.20922752110118553
         ],
         "xaxis": "x11",
         "yaxis": "y11"
        },
        {
         "line": {
          "color": "rgba(128, 128, 128, 1.0)",
          "dash": "solid",
          "shape": "linear",
          "width": 1.3
         },
         "marker": {
          "size": 2,
          "symbol": "circle"
         },
         "mode": "markers",
         "name": "C",
         "text": "",
         "type": "scatter",
         "x": [
          -1.066630833301036,
          0.29265836582538346,
          0.1591606198584185,
          0.7622368322562274,
          -0.31886158521673247,
          -1.4718604665980832,
          -0.7942216520581787,
          -1.4911879505837673,
          -0.6061066859506782,
          -1.5157010582591202,
          0.40032614454481,
          -0.9443926165588304,
          -0.9333213894477778,
          0.2373250569771554,
          0.003495411918664375,
          0.2797243757917062,
          -1.7310876483893218,
          -0.43268860484750843,
          0.4984287063307684,
          -0.46778851287520473,
          -0.32888185899693234,
          0.6232682745273248,
          -0.7316017254728788,
          0.4711007440846479,
          0.4029539941799019,
          -0.2604478654563585,
          0.3582768756292048,
          -0.8561994831494832,
          -1.913726686773174,
          -0.46358832632663377,
          1.1901905701532403,
          0.4934040771654728,
          -1.2673630739278083,
          -0.776929161687946,
          0.12342919559962855,
          -0.30602487347655555,
          1.9130807488548334,
          -0.7131376626908961,
          0.5702353616922338,
          0.7544639853442335,
          -2.0060898019039954,
          -0.11525049488824148,
          0.10467455570986987,
          -1.2868277520052525,
          -0.5654071697000354,
          1.7481832326836808,
          0.6891892289617946,
          -0.19572310883303518,
          0.18710866747798385,
          -0.9968036751947746,
          -0.8730661425675862,
          -0.06451644096699462,
          -0.5830400236991375,
          -0.20591015210862196,
          1.2077339490268855,
          1.4181201936965127,
          0.5385070678744326,
          1.1206361454713019,
          -0.5863832540958245,
          -1.6322724434980052,
          -0.586135362960711,
          1.9271409828103283,
          -0.09300998837520326,
          0.7747759181042786,
          -0.6248833852014862,
          -0.4063310951523854,
          -1.573605393885346,
          2.6186807404587644,
          1.7087005422662134,
          -0.007114002565482575,
          0.25111679091412836,
          1.5570577991342196,
          -0.43429707906838105,
          2.1651550574299265,
          0.4363737233095151,
          0.2539187595310245,
          1.4231369726498155,
          -1.618480855798506,
          -0.3141703345317573,
          -0.45265785873287134,
          -0.5228801374626685,
          -2.064489489396664,
          -1.2982645066101959,
          0.6698083430019409,
          0.4346329311968929,
          0.40972413201503993,
          0.7575840109241605,
          -0.15294080210870659,
          1.2003583234609856,
          -0.14191145348018816,
          1.0553412259865629,
          -1.087106698144118,
          -1.4607267662321068,
          0.6604172689615183,
          -1.5413739823566173,
          -1.5358751844625966,
          -0.40535830362125563,
          -0.18006651091900314,
          0.8602767621118976,
          1.8570706187242754
         ],
         "xaxis": "x12",
         "y": [
          -0.29148985395471677,
          1.0623192840314113,
          0.7889824802723888,
          -0.8263016174507869,
          -0.2932207084544145,
          -0.9755427137500423,
          -0.6968185285385623,
          -0.26767197539285326,
          -1.896806581235527,
          0.1005586735542141,
          -0.7211678197152294,
          0.714535732301503,
          1.4274663654041149,
          1.8141047561912682,
          -1.3858769144995062,
          0.8471377683390111,
          -0.5687078741499456,
          0.09915338015635412,
          -1.731576840340989,
          0.6832953787966262,
          -0.601222059394738,
          1.0712143459877694,
          -0.42969366889555627,
          0.2834153504375238,
          -0.3813626860244084,
          0.8422846513272353,
          -1.615123396659075,
          0.7060441246896761,
          0.5708971692833249,
          0.4363374031458981,
          0.48933617591121764,
          0.2216169781697169,
          1.1032610962751956,
          0.6189924950665961,
          -0.7056850960195947,
          -0.8399327839206575,
          -0.37693560883104393,
          -1.214424624544691,
          -0.9824208294647261,
          1.07111295573096,
          0.2993150824633953,
          0.5391321655291645,
          -0.30855014838707623,
          1.1397938492145294,
          0.45415528878378597,
          0.08275481849550818,
          0.4258716036049616,
          -0.20205799094399646,
          -0.44930743284924174,
          0.5369240056296196,
          -1.1662429861915933,
          -1.4759404572946662,
          -1.1656633971966528,
          1.0074587142346831,
          1.6658958181533354,
          1.5707070126993063,
          1.9040959389709713,
          -0.05237860458607489,
          1.404923332759848,
          -0.5076288665983928,
          1.6692811859886714,
          0.7350607783305309,
          -0.7346694659828406,
          -0.7225899803020552,
          -0.3777196974125393,
          -0.23886911214296572,
          0.17465496864010308,
          0.4815103878145468,
          1.2423405073516578,
          -0.20398342970969435,
          0.528007863231704,
          -1.059549721691455,
          0.5551476363472752,
          0.042602653053775696,
          1.6383428464594012,
          0.39053803717752006,
          -0.07497875653927707,
          0.602995873861361,
          -1.2659224343532185,
          -0.15846382723660227,
          -0.9821482993238668,
          1.169129504047249,
          -0.4801042694784227,
          -0.03927277533042933,
          -2.697446820613888,
          0.667717761645663,
          -0.7598229418804644,
          0.060198281353660316,
          0.9325913229966135,
          -0.4460009935902679,
          -1.8361341727225688,
          0.23186112181292243,
          -0.8667052430557932,
          -1.8213096093449288,
          -2.8727655770736296,
          -0.9789949647010906,
          -0.3903490898617929,
          0.5576591238292142,
          -0.02574772349388132,
          -0.20922752110118553
         ],
         "yaxis": "y12"
        },
        {
         "line": {
          "color": "rgba(128, 128, 128, 1.0)",
          "dash": "solid",
          "shape": "linear",
          "width": 1.3
         },
         "marker": {
          "size": 2,
          "symbol": "circle"
         },
         "mode": "markers",
         "name": "D",
         "text": "",
         "type": "scatter",
         "x": [
          -0.3983520986318105,
          -0.6162827135158706,
          2.099168429946755,
          0.49680194136560707,
          -1.07462082001314,
          1.9349510089752417,
          -2.4231933164169877,
          1.4470449807220553,
          -1.4999960796449026,
          -1.0945495325613395,
          0.6642788506356654,
          -0.49195583457573117,
          -0.6910826727920918,
          2.185441590057498,
          0.5131001184581482,
          0.674719629421702,
          0.20326375230828428,
          0.4949550563840638,
          1.4049673532147409,
          -0.14331104172596126,
          -0.3855718444977499,
          -0.21141543770944637,
          0.692414500334598,
          -1.5745230871640852,
          0.22429200145258757,
          -0.054580355994718846,
          0.7011313596097016,
          -0.7104053825194536,
          0.19309720375353737,
          0.5011860420595097,
          -0.13544250984575917,
          -1.3454410990573253,
          -0.12047204421392274,
          1.7560558189306235,
          0.3847089483023419,
          -1.0117420625874236,
          0.9164797757953848,
          0.8090796984007256,
          1.224431318037115,
          -0.6582058090452699,
          0.21452127600252371,
          -1.639673876779424,
          -1.1663156197618043,
          -0.15847458956823843,
          0.42473475884185624,
          -0.38660395544194304,
          -1.0130293175337957,
          -0.13664762695552973,
          1.1232879897184924,
          -1.1371616618950293,
          -0.07299308539521068,
          -0.5378171740332828,
          -1.7019495070466393,
          0.7459624013190475,
          0.27813535654079613,
          -0.2805369331929469,
          0.13963765034792444,
          -0.8166786213065517,
          0.170863291010852,
          0.3627638979559158,
          0.9251892035591921,
          -0.364802539096463,
          0.75720246115451,
          0.6971493229294524,
          -1.6710133918210957,
          -1.0312985576250868,
          0.8665470164781827,
          0.48918962517490755,
          -0.8274464881475612,
          1.7712724749541882,
          -0.2508356385745554,
          -0.42874012491286284,
          0.1233772385420985,
          -0.12822124751202227,
          0.5881947672940719,
          -0.9778504268571526,
          -0.30940316954708735,
          0.1613667105030798,
          -0.3001261485965345,
          -1.7313401143421838,
          0.12956150643595835,
          0.014778956330208861,
          0.36348543013152373,
          1.3969890902037807,
          0.6042087813381443,
          -0.27805222561920584,
          -2.0435509439758492,
          -0.0030770249422897933,
          0.5042478810220322,
          0.8029083832933929,
          -0.26315122741705216,
          1.7608604844319595,
          -0.4434264627398264,
          1.156664081932901,
          -0.5094711324408508,
          0.04128916792263781,
          -1.580156634490801,
          1.5399169357943356,
          -0.4085571732321778,
          0.3145272996081609
         ],
         "xaxis": "x13",
         "y": [
          -1.066630833301036,
          0.29265836582538346,
          0.1591606198584185,
          0.7622368322562274,
          -0.31886158521673247,
          -1.4718604665980832,
          -0.7942216520581787,
          -1.4911879505837673,
          -0.6061066859506782,
          -1.5157010582591202,
          0.40032614454481,
          -0.9443926165588304,
          -0.9333213894477778,
          0.2373250569771554,
          0.003495411918664375,
          0.2797243757917062,
          -1.7310876483893218,
          -0.43268860484750843,
          0.4984287063307684,
          -0.46778851287520473,
          -0.32888185899693234,
          0.6232682745273248,
          -0.7316017254728788,
          0.4711007440846479,
          0.4029539941799019,
          -0.2604478654563585,
          0.3582768756292048,
          -0.8561994831494832,
          -1.913726686773174,
          -0.46358832632663377,
          1.1901905701532403,
          0.4934040771654728,
          -1.2673630739278083,
          -0.776929161687946,
          0.12342919559962855,
          -0.30602487347655555,
          1.9130807488548334,
          -0.7131376626908961,
          0.5702353616922338,
          0.7544639853442335,
          -2.0060898019039954,
          -0.11525049488824148,
          0.10467455570986987,
          -1.2868277520052525,
          -0.5654071697000354,
          1.7481832326836808,
          0.6891892289617946,
          -0.19572310883303518,
          0.18710866747798385,
          -0.9968036751947746,
          -0.8730661425675862,
          -0.06451644096699462,
          -0.5830400236991375,
          -0.20591015210862196,
          1.2077339490268855,
          1.4181201936965127,
          0.5385070678744326,
          1.1206361454713019,
          -0.5863832540958245,
          -1.6322724434980052,
          -0.586135362960711,
          1.9271409828103283,
          -0.09300998837520326,
          0.7747759181042786,
          -0.6248833852014862,
          -0.4063310951523854,
          -1.573605393885346,
          2.6186807404587644,
          1.7087005422662134,
          -0.007114002565482575,
          0.25111679091412836,
          1.5570577991342196,
          -0.43429707906838105,
          2.1651550574299265,
          0.4363737233095151,
          0.2539187595310245,
          1.4231369726498155,
          -1.618480855798506,
          -0.3141703345317573,
          -0.45265785873287134,
          -0.5228801374626685,
          -2.064489489396664,
          -1.2982645066101959,
          0.6698083430019409,
          0.4346329311968929,
          0.40972413201503993,
          0.7575840109241605,
          -0.15294080210870659,
          1.2003583234609856,
          -0.14191145348018816,
          1.0553412259865629,
          -1.087106698144118,
          -1.4607267662321068,
          0.6604172689615183,
          -1.5413739823566173,
          -1.5358751844625966,
          -0.40535830362125563,
          -0.18006651091900314,
          0.8602767621118976,
          1.8570706187242754
         ],
         "yaxis": "y13"
        },
        {
         "line": {
          "color": "rgba(128, 128, 128, 1.0)",
          "dash": "solid",
          "shape": "linear",
          "width": 1.3
         },
         "marker": {
          "size": 2,
          "symbol": "circle"
         },
         "mode": "markers",
         "name": "D",
         "text": "",
         "type": "scatter",
         "x": [
          0.12208332917629941,
          1.4270948640081371,
          0.9415756564617354,
          0.8514386613875572,
          -1.6079154146370516,
          0.23474977453446583,
          -1.3665712548990696,
          -0.5597744265445256,
          0.11704905592132613,
          -1.0761999807650133,
          0.4600018600959453,
          -0.9956908768988652,
          -1.7817190867875512,
          -0.31928955320845914,
          -1.298610373656051,
          -0.5889321850812367,
          1.0303232261552604,
          -0.09079621045016036,
          1.0498592223792036,
          0.4945195260593801,
          -0.7614604158288016,
          -0.2758685496285138,
          -0.4712323343948017,
          0.08107735706611524,
          0.2876616637370824,
          -0.3442145062143889,
          -0.24688584946805583,
          -1.8409003226008336,
          0.22256612235887274,
          0.4401227891529881,
          -0.8735826703886425,
          1.4686012634498118,
          -1.6748703428986085,
          -1.1605558826535318,
          0.10774587775563513,
          -0.8721569508808421,
          -1.745682698772934,
          -1.452721647399788,
          0.04819799834678428,
          -0.9061247463728632,
          0.9207690513874721,
          -0.25072273019599484,
          -1.0269905868847906,
          0.8214480131559797,
          -0.06130802406075241,
          0.8244671466603298,
          -1.0084027725753877,
          -0.1956529239009466,
          0.2886247444738875,
          0.18013738407397625,
          -0.21960299598628757,
          0.3033060435779998,
          1.7271676553473425,
          -0.48314073390233764,
          0.13768515634336445,
          -0.0533994239173276,
          1.7338014442135392,
          -1.9520406749002268,
          0.07869764470173318,
          -0.9335929111019033,
          -0.44122205140317033,
          -1.5497962478239262,
          -0.3182101659576731,
          -1.0171007251602078,
          0.8902179713444456,
          -0.1492023621732173,
          1.7529659316795176,
          0.6628395828509307,
          -1.096340275641719,
          1.9077958610885095,
          -0.5193627966641464,
          0.9629313460804836,
          2.1082307449244113,
          0.9745871209420388,
          -1.0097546804821036,
          -0.19762155195637537,
          -0.6085097342966207,
          0.5991802006769752,
          0.9470498884434012,
          -0.8728985442836582,
          1.5337368766467123,
          -1.5910808182844718,
          -0.8468706811371463,
          -0.38367407437863804,
          0.7776465368122711,
          1.6291788115590593,
          -0.24891560934335877,
          0.427583467757721,
          0.68939277525342,
          1.6845488764859788,
          -0.384370585796287,
          1.3277562924746618,
          0.6545543604797216,
          -1.2416959625466797,
          -0.6887152543938814,
          -0.9897569303738274,
          -1.1244890052144112,
          -1.6801441430246917,
          -0.3269438336106665,
          0.09831057172894017
         ],
         "xaxis": "x14",
         "y": [
          -1.066630833301036,
          0.29265836582538346,
          0.1591606198584185,
          0.7622368322562274,
          -0.31886158521673247,
          -1.4718604665980832,
          -0.7942216520581787,
          -1.4911879505837673,
          -0.6061066859506782,
          -1.5157010582591202,
          0.40032614454481,
          -0.9443926165588304,
          -0.9333213894477778,
          0.2373250569771554,
          0.003495411918664375,
          0.2797243757917062,
          -1.7310876483893218,
          -0.43268860484750843,
          0.4984287063307684,
          -0.46778851287520473,
          -0.32888185899693234,
          0.6232682745273248,
          -0.7316017254728788,
          0.4711007440846479,
          0.4029539941799019,
          -0.2604478654563585,
          0.3582768756292048,
          -0.8561994831494832,
          -1.913726686773174,
          -0.46358832632663377,
          1.1901905701532403,
          0.4934040771654728,
          -1.2673630739278083,
          -0.776929161687946,
          0.12342919559962855,
          -0.30602487347655555,
          1.9130807488548334,
          -0.7131376626908961,
          0.5702353616922338,
          0.7544639853442335,
          -2.0060898019039954,
          -0.11525049488824148,
          0.10467455570986987,
          -1.2868277520052525,
          -0.5654071697000354,
          1.7481832326836808,
          0.6891892289617946,
          -0.19572310883303518,
          0.18710866747798385,
          -0.9968036751947746,
          -0.8730661425675862,
          -0.06451644096699462,
          -0.5830400236991375,
          -0.20591015210862196,
          1.2077339490268855,
          1.4181201936965127,
          0.5385070678744326,
          1.1206361454713019,
          -0.5863832540958245,
          -1.6322724434980052,
          -0.586135362960711,
          1.9271409828103283,
          -0.09300998837520326,
          0.7747759181042786,
          -0.6248833852014862,
          -0.4063310951523854,
          -1.573605393885346,
          2.6186807404587644,
          1.7087005422662134,
          -0.007114002565482575,
          0.25111679091412836,
          1.5570577991342196,
          -0.43429707906838105,
          2.1651550574299265,
          0.4363737233095151,
          0.2539187595310245,
          1.4231369726498155,
          -1.618480855798506,
          -0.3141703345317573,
          -0.45265785873287134,
          -0.5228801374626685,
          -2.064489489396664,
          -1.2982645066101959,
          0.6698083430019409,
          0.4346329311968929,
          0.40972413201503993,
          0.7575840109241605,
          -0.15294080210870659,
          1.2003583234609856,
          -0.14191145348018816,
          1.0553412259865629,
          -1.087106698144118,
          -1.4607267662321068,
          0.6604172689615183,
          -1.5413739823566173,
          -1.5358751844625966,
          -0.40535830362125563,
          -0.18006651091900314,
          0.8602767621118976,
          1.8570706187242754
         ],
         "yaxis": "y14"
        },
        {
         "line": {
          "color": "rgba(128, 128, 128, 1.0)",
          "dash": "solid",
          "shape": "linear",
          "width": 1.3
         },
         "marker": {
          "size": 2,
          "symbol": "circle"
         },
         "mode": "markers",
         "name": "D",
         "text": "",
         "type": "scatter",
         "x": [
          -0.29148985395471677,
          1.0623192840314113,
          0.7889824802723888,
          -0.8263016174507869,
          -0.2932207084544145,
          -0.9755427137500423,
          -0.6968185285385623,
          -0.26767197539285326,
          -1.896806581235527,
          0.1005586735542141,
          -0.7211678197152294,
          0.714535732301503,
          1.4274663654041149,
          1.8141047561912682,
          -1.3858769144995062,
          0.8471377683390111,
          -0.5687078741499456,
          0.09915338015635412,
          -1.731576840340989,
          0.6832953787966262,
          -0.601222059394738,
          1.0712143459877694,
          -0.42969366889555627,
          0.2834153504375238,
          -0.3813626860244084,
          0.8422846513272353,
          -1.615123396659075,
          0.7060441246896761,
          0.5708971692833249,
          0.4363374031458981,
          0.48933617591121764,
          0.2216169781697169,
          1.1032610962751956,
          0.6189924950665961,
          -0.7056850960195947,
          -0.8399327839206575,
          -0.37693560883104393,
          -1.214424624544691,
          -0.9824208294647261,
          1.07111295573096,
          0.2993150824633953,
          0.5391321655291645,
          -0.30855014838707623,
          1.1397938492145294,
          0.45415528878378597,
          0.08275481849550818,
          0.4258716036049616,
          -0.20205799094399646,
          -0.44930743284924174,
          0.5369240056296196,
          -1.1662429861915933,
          -1.4759404572946662,
          -1.1656633971966528,
          1.0074587142346831,
          1.6658958181533354,
          1.5707070126993063,
          1.9040959389709713,
          -0.05237860458607489,
          1.404923332759848,
          -0.5076288665983928,
          1.6692811859886714,
          0.7350607783305309,
          -0.7346694659828406,
          -0.7225899803020552,
          -0.3777196974125393,
          -0.23886911214296572,
          0.17465496864010308,
          0.4815103878145468,
          1.2423405073516578,
          -0.20398342970969435,
          0.528007863231704,
          -1.059549721691455,
          0.5551476363472752,
          0.042602653053775696,
          1.6383428464594012,
          0.39053803717752006,
          -0.07497875653927707,
          0.602995873861361,
          -1.2659224343532185,
          -0.15846382723660227,
          -0.9821482993238668,
          1.169129504047249,
          -0.4801042694784227,
          -0.03927277533042933,
          -2.697446820613888,
          0.667717761645663,
          -0.7598229418804644,
          0.060198281353660316,
          0.9325913229966135,
          -0.4460009935902679,
          -1.8361341727225688,
          0.23186112181292243,
          -0.8667052430557932,
          -1.8213096093449288,
          -2.8727655770736296,
          -0.9789949647010906,
          -0.3903490898617929,
          0.5576591238292142,
          -0.02574772349388132,
          -0.20922752110118553
         ],
         "xaxis": "x15",
         "y": [
          -1.066630833301036,
          0.29265836582538346,
          0.1591606198584185,
          0.7622368322562274,
          -0.31886158521673247,
          -1.4718604665980832,
          -0.7942216520581787,
          -1.4911879505837673,
          -0.6061066859506782,
          -1.5157010582591202,
          0.40032614454481,
          -0.9443926165588304,
          -0.9333213894477778,
          0.2373250569771554,
          0.003495411918664375,
          0.2797243757917062,
          -1.7310876483893218,
          -0.43268860484750843,
          0.4984287063307684,
          -0.46778851287520473,
          -0.32888185899693234,
          0.6232682745273248,
          -0.7316017254728788,
          0.4711007440846479,
          0.4029539941799019,
          -0.2604478654563585,
          0.3582768756292048,
          -0.8561994831494832,
          -1.913726686773174,
          -0.46358832632663377,
          1.1901905701532403,
          0.4934040771654728,
          -1.2673630739278083,
          -0.776929161687946,
          0.12342919559962855,
          -0.30602487347655555,
          1.9130807488548334,
          -0.7131376626908961,
          0.5702353616922338,
          0.7544639853442335,
          -2.0060898019039954,
          -0.11525049488824148,
          0.10467455570986987,
          -1.2868277520052525,
          -0.5654071697000354,
          1.7481832326836808,
          0.6891892289617946,
          -0.19572310883303518,
          0.18710866747798385,
          -0.9968036751947746,
          -0.8730661425675862,
          -0.06451644096699462,
          -0.5830400236991375,
          -0.20591015210862196,
          1.2077339490268855,
          1.4181201936965127,
          0.5385070678744326,
          1.1206361454713019,
          -0.5863832540958245,
          -1.6322724434980052,
          -0.586135362960711,
          1.9271409828103283,
          -0.09300998837520326,
          0.7747759181042786,
          -0.6248833852014862,
          -0.4063310951523854,
          -1.573605393885346,
          2.6186807404587644,
          1.7087005422662134,
          -0.007114002565482575,
          0.25111679091412836,
          1.5570577991342196,
          -0.43429707906838105,
          2.1651550574299265,
          0.4363737233095151,
          0.2539187595310245,
          1.4231369726498155,
          -1.618480855798506,
          -0.3141703345317573,
          -0.45265785873287134,
          -0.5228801374626685,
          -2.064489489396664,
          -1.2982645066101959,
          0.6698083430019409,
          0.4346329311968929,
          0.40972413201503993,
          0.7575840109241605,
          -0.15294080210870659,
          1.2003583234609856,
          -0.14191145348018816,
          1.0553412259865629,
          -1.087106698144118,
          -1.4607267662321068,
          0.6604172689615183,
          -1.5413739823566173,
          -1.5358751844625966,
          -0.40535830362125563,
          -0.18006651091900314,
          0.8602767621118976,
          1.8570706187242754
         ],
         "yaxis": "y15"
        },
        {
         "histfunc": "count",
         "histnorm": "",
         "marker": {
          "color": "rgba(128, 0, 128, 1.0)",
          "line": {
           "color": "#4D5663",
           "width": 1.3
          }
         },
         "name": "D",
         "nbinsx": 10,
         "opacity": 0.8,
         "orientation": "v",
         "type": "histogram",
         "x": [
          -1.066630833301036,
          0.29265836582538346,
          0.1591606198584185,
          0.7622368322562274,
          -0.31886158521673247,
          -1.4718604665980832,
          -0.7942216520581787,
          -1.4911879505837673,
          -0.6061066859506782,
          -1.5157010582591202,
          0.40032614454481,
          -0.9443926165588304,
          -0.9333213894477778,
          0.2373250569771554,
          0.003495411918664375,
          0.2797243757917062,
          -1.7310876483893218,
          -0.43268860484750843,
          0.4984287063307684,
          -0.46778851287520473,
          -0.32888185899693234,
          0.6232682745273248,
          -0.7316017254728788,
          0.4711007440846479,
          0.4029539941799019,
          -0.2604478654563585,
          0.3582768756292048,
          -0.8561994831494832,
          -1.913726686773174,
          -0.46358832632663377,
          1.1901905701532403,
          0.4934040771654728,
          -1.2673630739278083,
          -0.776929161687946,
          0.12342919559962855,
          -0.30602487347655555,
          1.9130807488548334,
          -0.7131376626908961,
          0.5702353616922338,
          0.7544639853442335,
          -2.0060898019039954,
          -0.11525049488824148,
          0.10467455570986987,
          -1.2868277520052525,
          -0.5654071697000354,
          1.7481832326836808,
          0.6891892289617946,
          -0.19572310883303518,
          0.18710866747798385,
          -0.9968036751947746,
          -0.8730661425675862,
          -0.06451644096699462,
          -0.5830400236991375,
          -0.20591015210862196,
          1.2077339490268855,
          1.4181201936965127,
          0.5385070678744326,
          1.1206361454713019,
          -0.5863832540958245,
          -1.6322724434980052,
          -0.586135362960711,
          1.9271409828103283,
          -0.09300998837520326,
          0.7747759181042786,
          -0.6248833852014862,
          -0.4063310951523854,
          -1.573605393885346,
          2.6186807404587644,
          1.7087005422662134,
          -0.007114002565482575,
          0.25111679091412836,
          1.5570577991342196,
          -0.43429707906838105,
          2.1651550574299265,
          0.4363737233095151,
          0.2539187595310245,
          1.4231369726498155,
          -1.618480855798506,
          -0.3141703345317573,
          -0.45265785873287134,
          -0.5228801374626685,
          -2.064489489396664,
          -1.2982645066101959,
          0.6698083430019409,
          0.4346329311968929,
          0.40972413201503993,
          0.7575840109241605,
          -0.15294080210870659,
          1.2003583234609856,
          -0.14191145348018816,
          1.0553412259865629,
          -1.087106698144118,
          -1.4607267662321068,
          0.6604172689615183,
          -1.5413739823566173,
          -1.5358751844625966,
          -0.40535830362125563,
          -0.18006651091900314,
          0.8602767621118976,
          1.8570706187242754
         ],
         "xaxis": "x16",
         "yaxis": "y16"
        }
       ],
       "layout": {
        "bargap": 0.02,
        "legend": {
         "bgcolor": "#F5F6F9",
         "font": {
          "color": "#4D5663"
         }
        },
        "paper_bgcolor": "#F5F6F9",
        "plot_bgcolor": "#F5F6F9",
        "showlegend": false,
        "template": {
         "data": {
          "bar": [
           {
            "error_x": {
             "color": "#2a3f5f"
            },
            "error_y": {
             "color": "#2a3f5f"
            },
            "marker": {
             "line": {
              "color": "#E5ECF6",
              "width": 0.5
             },
             "pattern": {
              "fillmode": "overlay",
              "size": 10,
              "solidity": 0.2
             }
            },
            "type": "bar"
           }
          ],
          "barpolar": [
           {
            "marker": {
             "line": {
              "color": "#E5ECF6",
              "width": 0.5
             },
             "pattern": {
              "fillmode": "overlay",
              "size": 10,
              "solidity": 0.2
             }
            },
            "type": "barpolar"
           }
          ],
          "carpet": [
           {
            "aaxis": {
             "endlinecolor": "#2a3f5f",
             "gridcolor": "white",
             "linecolor": "white",
             "minorgridcolor": "white",
             "startlinecolor": "#2a3f5f"
            },
            "baxis": {
             "endlinecolor": "#2a3f5f",
             "gridcolor": "white",
             "linecolor": "white",
             "minorgridcolor": "white",
             "startlinecolor": "#2a3f5f"
            },
            "type": "carpet"
           }
          ],
          "choropleth": [
           {
            "colorbar": {
             "outlinewidth": 0,
             "ticks": ""
            },
            "type": "choropleth"
           }
          ],
          "contour": [
           {
            "colorbar": {
             "outlinewidth": 0,
             "ticks": ""
            },
            "colorscale": [
             [
              0,
              "#0d0887"
             ],
             [
              0.1111111111111111,
              "#46039f"
             ],
             [
              0.2222222222222222,
              "#7201a8"
             ],
             [
              0.3333333333333333,
              "#9c179e"
             ],
             [
              0.4444444444444444,
              "#bd3786"
             ],
             [
              0.5555555555555556,
              "#d8576b"
             ],
             [
              0.6666666666666666,
              "#ed7953"
             ],
             [
              0.7777777777777778,
              "#fb9f3a"
             ],
             [
              0.8888888888888888,
              "#fdca26"
             ],
             [
              1,
              "#f0f921"
             ]
            ],
            "type": "contour"
           }
          ],
          "contourcarpet": [
           {
            "colorbar": {
             "outlinewidth": 0,
             "ticks": ""
            },
            "type": "contourcarpet"
           }
          ],
          "heatmap": [
           {
            "colorbar": {
             "outlinewidth": 0,
             "ticks": ""
            },
            "colorscale": [
             [
              0,
              "#0d0887"
             ],
             [
              0.1111111111111111,
              "#46039f"
             ],
             [
              0.2222222222222222,
              "#7201a8"
             ],
             [
              0.3333333333333333,
              "#9c179e"
             ],
             [
              0.4444444444444444,
              "#bd3786"
             ],
             [
              0.5555555555555556,
              "#d8576b"
             ],
             [
              0.6666666666666666,
              "#ed7953"
             ],
             [
              0.7777777777777778,
              "#fb9f3a"
             ],
             [
              0.8888888888888888,
              "#fdca26"
             ],
             [
              1,
              "#f0f921"
             ]
            ],
            "type": "heatmap"
           }
          ],
          "heatmapgl": [
           {
            "colorbar": {
             "outlinewidth": 0,
             "ticks": ""
            },
            "colorscale": [
             [
              0,
              "#0d0887"
             ],
             [
              0.1111111111111111,
              "#46039f"
             ],
             [
              0.2222222222222222,
              "#7201a8"
             ],
             [
              0.3333333333333333,
              "#9c179e"
             ],
             [
              0.4444444444444444,
              "#bd3786"
             ],
             [
              0.5555555555555556,
              "#d8576b"
             ],
             [
              0.6666666666666666,
              "#ed7953"
             ],
             [
              0.7777777777777778,
              "#fb9f3a"
             ],
             [
              0.8888888888888888,
              "#fdca26"
             ],
             [
              1,
              "#f0f921"
             ]
            ],
            "type": "heatmapgl"
           }
          ],
          "histogram": [
           {
            "marker": {
             "pattern": {
              "fillmode": "overlay",
              "size": 10,
              "solidity": 0.2
             }
            },
            "type": "histogram"
           }
          ],
          "histogram2d": [
           {
            "colorbar": {
             "outlinewidth": 0,
             "ticks": ""
            },
            "colorscale": [
             [
              0,
              "#0d0887"
             ],
             [
              0.1111111111111111,
              "#46039f"
             ],
             [
              0.2222222222222222,
              "#7201a8"
             ],
             [
              0.3333333333333333,
              "#9c179e"
             ],
             [
              0.4444444444444444,
              "#bd3786"
             ],
             [
              0.5555555555555556,
              "#d8576b"
             ],
             [
              0.6666666666666666,
              "#ed7953"
             ],
             [
              0.7777777777777778,
              "#fb9f3a"
             ],
             [
              0.8888888888888888,
              "#fdca26"
             ],
             [
              1,
              "#f0f921"
             ]
            ],
            "type": "histogram2d"
           }
          ],
          "histogram2dcontour": [
           {
            "colorbar": {
             "outlinewidth": 0,
             "ticks": ""
            },
            "colorscale": [
             [
              0,
              "#0d0887"
             ],
             [
              0.1111111111111111,
              "#46039f"
             ],
             [
              0.2222222222222222,
              "#7201a8"
             ],
             [
              0.3333333333333333,
              "#9c179e"
             ],
             [
              0.4444444444444444,
              "#bd3786"
             ],
             [
              0.5555555555555556,
              "#d8576b"
             ],
             [
              0.6666666666666666,
              "#ed7953"
             ],
             [
              0.7777777777777778,
              "#fb9f3a"
             ],
             [
              0.8888888888888888,
              "#fdca26"
             ],
             [
              1,
              "#f0f921"
             ]
            ],
            "type": "histogram2dcontour"
           }
          ],
          "mesh3d": [
           {
            "colorbar": {
             "outlinewidth": 0,
             "ticks": ""
            },
            "type": "mesh3d"
           }
          ],
          "parcoords": [
           {
            "line": {
             "colorbar": {
              "outlinewidth": 0,
              "ticks": ""
             }
            },
            "type": "parcoords"
           }
          ],
          "pie": [
           {
            "automargin": true,
            "type": "pie"
           }
          ],
          "scatter": [
           {
            "fillpattern": {
             "fillmode": "overlay",
             "size": 10,
             "solidity": 0.2
            },
            "type": "scatter"
           }
          ],
          "scatter3d": [
           {
            "line": {
             "colorbar": {
              "outlinewidth": 0,
              "ticks": ""
             }
            },
            "marker": {
             "colorbar": {
              "outlinewidth": 0,
              "ticks": ""
             }
            },
            "type": "scatter3d"
           }
          ],
          "scattercarpet": [
           {
            "marker": {
             "colorbar": {
              "outlinewidth": 0,
              "ticks": ""
             }
            },
            "type": "scattercarpet"
           }
          ],
          "scattergeo": [
           {
            "marker": {
             "colorbar": {
              "outlinewidth": 0,
              "ticks": ""
             }
            },
            "type": "scattergeo"
           }
          ],
          "scattergl": [
           {
            "marker": {
             "colorbar": {
              "outlinewidth": 0,
              "ticks": ""
             }
            },
            "type": "scattergl"
           }
          ],
          "scattermapbox": [
           {
            "marker": {
             "colorbar": {
              "outlinewidth": 0,
              "ticks": ""
             }
            },
            "type": "scattermapbox"
           }
          ],
          "scatterpolar": [
           {
            "marker": {
             "colorbar": {
              "outlinewidth": 0,
              "ticks": ""
             }
            },
            "type": "scatterpolar"
           }
          ],
          "scatterpolargl": [
           {
            "marker": {
             "colorbar": {
              "outlinewidth": 0,
              "ticks": ""
             }
            },
            "type": "scatterpolargl"
           }
          ],
          "scatterternary": [
           {
            "marker": {
             "colorbar": {
              "outlinewidth": 0,
              "ticks": ""
             }
            },
            "type": "scatterternary"
           }
          ],
          "surface": [
           {
            "colorbar": {
             "outlinewidth": 0,
             "ticks": ""
            },
            "colorscale": [
             [
              0,
              "#0d0887"
             ],
             [
              0.1111111111111111,
              "#46039f"
             ],
             [
              0.2222222222222222,
              "#7201a8"
             ],
             [
              0.3333333333333333,
              "#9c179e"
             ],
             [
              0.4444444444444444,
              "#bd3786"
             ],
             [
              0.5555555555555556,
              "#d8576b"
             ],
             [
              0.6666666666666666,
              "#ed7953"
             ],
             [
              0.7777777777777778,
              "#fb9f3a"
             ],
             [
              0.8888888888888888,
              "#fdca26"
             ],
             [
              1,
              "#f0f921"
             ]
            ],
            "type": "surface"
           }
          ],
          "table": [
           {
            "cells": {
             "fill": {
              "color": "#EBF0F8"
             },
             "line": {
              "color": "white"
             }
            },
            "header": {
             "fill": {
              "color": "#C8D4E3"
             },
             "line": {
              "color": "white"
             }
            },
            "type": "table"
           }
          ]
         },
         "layout": {
          "annotationdefaults": {
           "arrowcolor": "#2a3f5f",
           "arrowhead": 0,
           "arrowwidth": 1
          },
          "autotypenumbers": "strict",
          "coloraxis": {
           "colorbar": {
            "outlinewidth": 0,
            "ticks": ""
           }
          },
          "colorscale": {
           "diverging": [
            [
             0,
             "#8e0152"
            ],
            [
             0.1,
             "#c51b7d"
            ],
            [
             0.2,
             "#de77ae"
            ],
            [
             0.3,
             "#f1b6da"
            ],
            [
             0.4,
             "#fde0ef"
            ],
            [
             0.5,
             "#f7f7f7"
            ],
            [
             0.6,
             "#e6f5d0"
            ],
            [
             0.7,
             "#b8e186"
            ],
            [
             0.8,
             "#7fbc41"
            ],
            [
             0.9,
             "#4d9221"
            ],
            [
             1,
             "#276419"
            ]
           ],
           "sequential": [
            [
             0,
             "#0d0887"
            ],
            [
             0.1111111111111111,
             "#46039f"
            ],
            [
             0.2222222222222222,
             "#7201a8"
            ],
            [
             0.3333333333333333,
             "#9c179e"
            ],
            [
             0.4444444444444444,
             "#bd3786"
            ],
            [
             0.5555555555555556,
             "#d8576b"
            ],
            [
             0.6666666666666666,
             "#ed7953"
            ],
            [
             0.7777777777777778,
             "#fb9f3a"
            ],
            [
             0.8888888888888888,
             "#fdca26"
            ],
            [
             1,
             "#f0f921"
            ]
           ],
           "sequentialminus": [
            [
             0,
             "#0d0887"
            ],
            [
             0.1111111111111111,
             "#46039f"
            ],
            [
             0.2222222222222222,
             "#7201a8"
            ],
            [
             0.3333333333333333,
             "#9c179e"
            ],
            [
             0.4444444444444444,
             "#bd3786"
            ],
            [
             0.5555555555555556,
             "#d8576b"
            ],
            [
             0.6666666666666666,
             "#ed7953"
            ],
            [
             0.7777777777777778,
             "#fb9f3a"
            ],
            [
             0.8888888888888888,
             "#fdca26"
            ],
            [
             1,
             "#f0f921"
            ]
           ]
          },
          "colorway": [
           "#636efa",
           "#EF553B",
           "#00cc96",
           "#ab63fa",
           "#FFA15A",
           "#19d3f3",
           "#FF6692",
           "#B6E880",
           "#FF97FF",
           "#FECB52"
          ],
          "font": {
           "color": "#2a3f5f"
          },
          "geo": {
           "bgcolor": "white",
           "lakecolor": "white",
           "landcolor": "#E5ECF6",
           "showlakes": true,
           "showland": true,
           "subunitcolor": "white"
          },
          "hoverlabel": {
           "align": "left"
          },
          "hovermode": "closest",
          "mapbox": {
           "style": "light"
          },
          "paper_bgcolor": "white",
          "plot_bgcolor": "#E5ECF6",
          "polar": {
           "angularaxis": {
            "gridcolor": "white",
            "linecolor": "white",
            "ticks": ""
           },
           "bgcolor": "#E5ECF6",
           "radialaxis": {
            "gridcolor": "white",
            "linecolor": "white",
            "ticks": ""
           }
          },
          "scene": {
           "xaxis": {
            "backgroundcolor": "#E5ECF6",
            "gridcolor": "white",
            "gridwidth": 2,
            "linecolor": "white",
            "showbackground": true,
            "ticks": "",
            "zerolinecolor": "white"
           },
           "yaxis": {
            "backgroundcolor": "#E5ECF6",
            "gridcolor": "white",
            "gridwidth": 2,
            "linecolor": "white",
            "showbackground": true,
            "ticks": "",
            "zerolinecolor": "white"
           },
           "zaxis": {
            "backgroundcolor": "#E5ECF6",
            "gridcolor": "white",
            "gridwidth": 2,
            "linecolor": "white",
            "showbackground": true,
            "ticks": "",
            "zerolinecolor": "white"
           }
          },
          "shapedefaults": {
           "line": {
            "color": "#2a3f5f"
           }
          },
          "ternary": {
           "aaxis": {
            "gridcolor": "white",
            "linecolor": "white",
            "ticks": ""
           },
           "baxis": {
            "gridcolor": "white",
            "linecolor": "white",
            "ticks": ""
           },
           "bgcolor": "#E5ECF6",
           "caxis": {
            "gridcolor": "white",
            "linecolor": "white",
            "ticks": ""
           }
          },
          "title": {
           "x": 0.05
          },
          "xaxis": {
           "automargin": true,
           "gridcolor": "white",
           "linecolor": "white",
           "ticks": "",
           "title": {
            "standoff": 15
           },
           "zerolinecolor": "white",
           "zerolinewidth": 2
          },
          "yaxis": {
           "automargin": true,
           "gridcolor": "white",
           "linecolor": "white",
           "ticks": "",
           "title": {
            "standoff": 15
           },
           "zerolinecolor": "white",
           "zerolinewidth": 2
          }
         }
        },
        "title": {
         "font": {
          "color": "#4D5663"
         }
        },
        "xaxis": {
         "anchor": "y",
         "domain": [
          0,
          0.2125
         ],
         "gridcolor": "#E1E5ED",
         "showgrid": false,
         "tickfont": {
          "color": "#4D5663"
         },
         "title": {
          "font": {
           "color": "#4D5663"
          },
          "text": ""
         },
         "zerolinecolor": "#E1E5ED"
        },
        "xaxis10": {
         "anchor": "y10",
         "domain": [
          0.2625,
          0.475
         ],
         "gridcolor": "#E1E5ED",
         "showgrid": false,
         "tickfont": {
          "color": "#4D5663"
         },
         "title": {
          "font": {
           "color": "#4D5663"
          },
          "text": ""
         },
         "zerolinecolor": "#E1E5ED"
        },
        "xaxis11": {
         "anchor": "y11",
         "domain": [
          0.525,
          0.7375
         ],
         "gridcolor": "#E1E5ED",
         "showgrid": false,
         "tickfont": {
          "color": "#4D5663"
         },
         "title": {
          "font": {
           "color": "#4D5663"
          },
          "text": ""
         },
         "zerolinecolor": "#E1E5ED"
        },
        "xaxis12": {
         "anchor": "y12",
         "domain": [
          0.7875,
          1
         ],
         "gridcolor": "#E1E5ED",
         "showgrid": false,
         "tickfont": {
          "color": "#4D5663"
         },
         "title": {
          "font": {
           "color": "#4D5663"
          },
          "text": ""
         },
         "zerolinecolor": "#E1E5ED"
        },
        "xaxis13": {
         "anchor": "y13",
         "domain": [
          0,
          0.2125
         ],
         "gridcolor": "#E1E5ED",
         "showgrid": false,
         "tickfont": {
          "color": "#4D5663"
         },
         "title": {
          "font": {
           "color": "#4D5663"
          },
          "text": ""
         },
         "zerolinecolor": "#E1E5ED"
        },
        "xaxis14": {
         "anchor": "y14",
         "domain": [
          0.2625,
          0.475
         ],
         "gridcolor": "#E1E5ED",
         "showgrid": false,
         "tickfont": {
          "color": "#4D5663"
         },
         "title": {
          "font": {
           "color": "#4D5663"
          },
          "text": ""
         },
         "zerolinecolor": "#E1E5ED"
        },
        "xaxis15": {
         "anchor": "y15",
         "domain": [
          0.525,
          0.7375
         ],
         "gridcolor": "#E1E5ED",
         "showgrid": false,
         "tickfont": {
          "color": "#4D5663"
         },
         "title": {
          "font": {
           "color": "#4D5663"
          },
          "text": ""
         },
         "zerolinecolor": "#E1E5ED"
        },
        "xaxis16": {
         "anchor": "y16",
         "domain": [
          0.7875,
          1
         ],
         "gridcolor": "#E1E5ED",
         "showgrid": false,
         "tickfont": {
          "color": "#4D5663"
         },
         "title": {
          "font": {
           "color": "#4D5663"
          },
          "text": ""
         },
         "zerolinecolor": "#E1E5ED"
        },
        "xaxis2": {
         "anchor": "y2",
         "domain": [
          0.2625,
          0.475
         ],
         "gridcolor": "#E1E5ED",
         "showgrid": false,
         "tickfont": {
          "color": "#4D5663"
         },
         "title": {
          "font": {
           "color": "#4D5663"
          },
          "text": ""
         },
         "zerolinecolor": "#E1E5ED"
        },
        "xaxis3": {
         "anchor": "y3",
         "domain": [
          0.525,
          0.7375
         ],
         "gridcolor": "#E1E5ED",
         "showgrid": false,
         "tickfont": {
          "color": "#4D5663"
         },
         "title": {
          "font": {
           "color": "#4D5663"
          },
          "text": ""
         },
         "zerolinecolor": "#E1E5ED"
        },
        "xaxis4": {
         "anchor": "y4",
         "domain": [
          0.7875,
          1
         ],
         "gridcolor": "#E1E5ED",
         "showgrid": false,
         "tickfont": {
          "color": "#4D5663"
         },
         "title": {
          "font": {
           "color": "#4D5663"
          },
          "text": ""
         },
         "zerolinecolor": "#E1E5ED"
        },
        "xaxis5": {
         "anchor": "y5",
         "domain": [
          0,
          0.2125
         ],
         "gridcolor": "#E1E5ED",
         "showgrid": false,
         "tickfont": {
          "color": "#4D5663"
         },
         "title": {
          "font": {
           "color": "#4D5663"
          },
          "text": ""
         },
         "zerolinecolor": "#E1E5ED"
        },
        "xaxis6": {
         "anchor": "y6",
         "domain": [
          0.2625,
          0.475
         ],
         "gridcolor": "#E1E5ED",
         "showgrid": false,
         "tickfont": {
          "color": "#4D5663"
         },
         "title": {
          "font": {
           "color": "#4D5663"
          },
          "text": ""
         },
         "zerolinecolor": "#E1E5ED"
        },
        "xaxis7": {
         "anchor": "y7",
         "domain": [
          0.525,
          0.7375
         ],
         "gridcolor": "#E1E5ED",
         "showgrid": false,
         "tickfont": {
          "color": "#4D5663"
         },
         "title": {
          "font": {
           "color": "#4D5663"
          },
          "text": ""
         },
         "zerolinecolor": "#E1E5ED"
        },
        "xaxis8": {
         "anchor": "y8",
         "domain": [
          0.7875,
          1
         ],
         "gridcolor": "#E1E5ED",
         "showgrid": false,
         "tickfont": {
          "color": "#4D5663"
         },
         "title": {
          "font": {
           "color": "#4D5663"
          },
          "text": ""
         },
         "zerolinecolor": "#E1E5ED"
        },
        "xaxis9": {
         "anchor": "y9",
         "domain": [
          0,
          0.2125
         ],
         "gridcolor": "#E1E5ED",
         "showgrid": false,
         "tickfont": {
          "color": "#4D5663"
         },
         "title": {
          "font": {
           "color": "#4D5663"
          },
          "text": ""
         },
         "zerolinecolor": "#E1E5ED"
        },
        "yaxis": {
         "anchor": "x",
         "domain": [
          0.8025,
          1
         ],
         "gridcolor": "#E1E5ED",
         "showgrid": false,
         "tickfont": {
          "color": "#4D5663"
         },
         "title": {
          "font": {
           "color": "#4D5663"
          },
          "text": ""
         },
         "zerolinecolor": "#E1E5ED"
        },
        "yaxis10": {
         "anchor": "x10",
         "domain": [
          0.2675,
          0.465
         ],
         "gridcolor": "#E1E5ED",
         "showgrid": false,
         "tickfont": {
          "color": "#4D5663"
         },
         "title": {
          "font": {
           "color": "#4D5663"
          },
          "text": ""
         },
         "zerolinecolor": "#E1E5ED"
        },
        "yaxis11": {
         "anchor": "x11",
         "domain": [
          0.2675,
          0.465
         ],
         "gridcolor": "#E1E5ED",
         "showgrid": false,
         "tickfont": {
          "color": "#4D5663"
         },
         "title": {
          "font": {
           "color": "#4D5663"
          },
          "text": ""
         },
         "zerolinecolor": "#E1E5ED"
        },
        "yaxis12": {
         "anchor": "x12",
         "domain": [
          0.2675,
          0.465
         ],
         "gridcolor": "#E1E5ED",
         "showgrid": false,
         "tickfont": {
          "color": "#4D5663"
         },
         "title": {
          "font": {
           "color": "#4D5663"
          },
          "text": ""
         },
         "zerolinecolor": "#E1E5ED"
        },
        "yaxis13": {
         "anchor": "x13",
         "domain": [
          0,
          0.1975
         ],
         "gridcolor": "#E1E5ED",
         "showgrid": false,
         "tickfont": {
          "color": "#4D5663"
         },
         "title": {
          "font": {
           "color": "#4D5663"
          },
          "text": ""
         },
         "zerolinecolor": "#E1E5ED"
        },
        "yaxis14": {
         "anchor": "x14",
         "domain": [
          0,
          0.1975
         ],
         "gridcolor": "#E1E5ED",
         "showgrid": false,
         "tickfont": {
          "color": "#4D5663"
         },
         "title": {
          "font": {
           "color": "#4D5663"
          },
          "text": ""
         },
         "zerolinecolor": "#E1E5ED"
        },
        "yaxis15": {
         "anchor": "x15",
         "domain": [
          0,
          0.1975
         ],
         "gridcolor": "#E1E5ED",
         "showgrid": false,
         "tickfont": {
          "color": "#4D5663"
         },
         "title": {
          "font": {
           "color": "#4D5663"
          },
          "text": ""
         },
         "zerolinecolor": "#E1E5ED"
        },
        "yaxis16": {
         "anchor": "x16",
         "domain": [
          0,
          0.1975
         ],
         "gridcolor": "#E1E5ED",
         "showgrid": false,
         "tickfont": {
          "color": "#4D5663"
         },
         "title": {
          "font": {
           "color": "#4D5663"
          },
          "text": ""
         },
         "zerolinecolor": "#E1E5ED"
        },
        "yaxis2": {
         "anchor": "x2",
         "domain": [
          0.8025,
          1
         ],
         "gridcolor": "#E1E5ED",
         "showgrid": false,
         "tickfont": {
          "color": "#4D5663"
         },
         "title": {
          "font": {
           "color": "#4D5663"
          },
          "text": ""
         },
         "zerolinecolor": "#E1E5ED"
        },
        "yaxis3": {
         "anchor": "x3",
         "domain": [
          0.8025,
          1
         ],
         "gridcolor": "#E1E5ED",
         "showgrid": false,
         "tickfont": {
          "color": "#4D5663"
         },
         "title": {
          "font": {
           "color": "#4D5663"
          },
          "text": ""
         },
         "zerolinecolor": "#E1E5ED"
        },
        "yaxis4": {
         "anchor": "x4",
         "domain": [
          0.8025,
          1
         ],
         "gridcolor": "#E1E5ED",
         "showgrid": false,
         "tickfont": {
          "color": "#4D5663"
         },
         "title": {
          "font": {
           "color": "#4D5663"
          },
          "text": ""
         },
         "zerolinecolor": "#E1E5ED"
        },
        "yaxis5": {
         "anchor": "x5",
         "domain": [
          0.535,
          0.7325
         ],
         "gridcolor": "#E1E5ED",
         "showgrid": false,
         "tickfont": {
          "color": "#4D5663"
         },
         "title": {
          "font": {
           "color": "#4D5663"
          },
          "text": ""
         },
         "zerolinecolor": "#E1E5ED"
        },
        "yaxis6": {
         "anchor": "x6",
         "domain": [
          0.535,
          0.7325
         ],
         "gridcolor": "#E1E5ED",
         "showgrid": false,
         "tickfont": {
          "color": "#4D5663"
         },
         "title": {
          "font": {
           "color": "#4D5663"
          },
          "text": ""
         },
         "zerolinecolor": "#E1E5ED"
        },
        "yaxis7": {
         "anchor": "x7",
         "domain": [
          0.535,
          0.7325
         ],
         "gridcolor": "#E1E5ED",
         "showgrid": false,
         "tickfont": {
          "color": "#4D5663"
         },
         "title": {
          "font": {
           "color": "#4D5663"
          },
          "text": ""
         },
         "zerolinecolor": "#E1E5ED"
        },
        "yaxis8": {
         "anchor": "x8",
         "domain": [
          0.535,
          0.7325
         ],
         "gridcolor": "#E1E5ED",
         "showgrid": false,
         "tickfont": {
          "color": "#4D5663"
         },
         "title": {
          "font": {
           "color": "#4D5663"
          },
          "text": ""
         },
         "zerolinecolor": "#E1E5ED"
        },
        "yaxis9": {
         "anchor": "x9",
         "domain": [
          0.2675,
          0.465
         ],
         "gridcolor": "#E1E5ED",
         "showgrid": false,
         "tickfont": {
          "color": "#4D5663"
         },
         "title": {
          "font": {
           "color": "#4D5663"
          },
          "text": ""
         },
         "zerolinecolor": "#E1E5ED"
        }
       }
      },
      "text/html": [
       "<div>                            <div id=\"b45ec2a0-1b9b-4fa6-aa33-4b746ff39bcf\" class=\"plotly-graph-div\" style=\"height:525px; width:100%;\"></div>            <script type=\"text/javascript\">                require([\"plotly\"], function(Plotly) {                    window.PLOTLYENV=window.PLOTLYENV || {};\n",
       "                    window.PLOTLYENV.BASE_URL='https://plot.ly';                                    if (document.getElementById(\"b45ec2a0-1b9b-4fa6-aa33-4b746ff39bcf\")) {                    Plotly.newPlot(                        \"b45ec2a0-1b9b-4fa6-aa33-4b746ff39bcf\",                        [{\"histfunc\":\"count\",\"histnorm\":\"\",\"marker\":{\"color\":\"rgba(255, 153, 51, 1.0)\",\"line\":{\"color\":\"#4D5663\",\"width\":1.3}},\"name\":\"A\",\"nbinsx\":10,\"opacity\":0.8,\"orientation\":\"v\",\"x\":[-0.3983520986318105,-0.6162827135158706,2.099168429946755,0.49680194136560707,-1.07462082001314,1.9349510089752417,-2.4231933164169877,1.4470449807220553,-1.4999960796449026,-1.0945495325613395,0.6642788506356654,-0.49195583457573117,-0.6910826727920918,2.185441590057498,0.5131001184581482,0.674719629421702,0.20326375230828428,0.4949550563840638,1.4049673532147409,-0.14331104172596126,-0.3855718444977499,-0.21141543770944637,0.692414500334598,-1.5745230871640852,0.22429200145258757,-0.054580355994718846,0.7011313596097016,-0.7104053825194536,0.19309720375353737,0.5011860420595097,-0.13544250984575917,-1.3454410990573253,-0.12047204421392274,1.7560558189306235,0.3847089483023419,-1.0117420625874236,0.9164797757953848,0.8090796984007256,1.224431318037115,-0.6582058090452699,0.21452127600252371,-1.639673876779424,-1.1663156197618043,-0.15847458956823843,0.42473475884185624,-0.38660395544194304,-1.0130293175337957,-0.13664762695552973,1.1232879897184924,-1.1371616618950293,-0.07299308539521068,-0.5378171740332828,-1.7019495070466393,0.7459624013190475,0.27813535654079613,-0.2805369331929469,0.13963765034792444,-0.8166786213065517,0.170863291010852,0.3627638979559158,0.9251892035591921,-0.364802539096463,0.75720246115451,0.6971493229294524,-1.6710133918210957,-1.0312985576250868,0.8665470164781827,0.48918962517490755,-0.8274464881475612,1.7712724749541882,-0.2508356385745554,-0.42874012491286284,0.1233772385420985,-0.12822124751202227,0.5881947672940719,-0.9778504268571526,-0.30940316954708735,0.1613667105030798,-0.3001261485965345,-1.7313401143421838,0.12956150643595835,0.014778956330208861,0.36348543013152373,1.3969890902037807,0.6042087813381443,-0.27805222561920584,-2.0435509439758492,-0.0030770249422897933,0.5042478810220322,0.8029083832933929,-0.26315122741705216,1.7608604844319595,-0.4434264627398264,1.156664081932901,-0.5094711324408508,0.04128916792263781,-1.580156634490801,1.5399169357943356,-0.4085571732321778,0.3145272996081609],\"xaxis\":\"x\",\"yaxis\":\"y\",\"type\":\"histogram\"},{\"line\":{\"color\":\"rgba(128, 128, 128, 1.0)\",\"dash\":\"solid\",\"shape\":\"linear\",\"width\":1.3},\"marker\":{\"size\":2,\"symbol\":\"circle\"},\"mode\":\"markers\",\"name\":\"A\",\"text\":\"\",\"x\":[0.12208332917629941,1.4270948640081371,0.9415756564617354,0.8514386613875572,-1.6079154146370516,0.23474977453446583,-1.3665712548990696,-0.5597744265445256,0.11704905592132613,-1.0761999807650133,0.4600018600959453,-0.9956908768988652,-1.7817190867875512,-0.31928955320845914,-1.298610373656051,-0.5889321850812367,1.0303232261552604,-0.09079621045016036,1.0498592223792036,0.4945195260593801,-0.7614604158288016,-0.2758685496285138,-0.4712323343948017,0.08107735706611524,0.2876616637370824,-0.3442145062143889,-0.24688584946805583,-1.8409003226008336,0.22256612235887274,0.4401227891529881,-0.8735826703886425,1.4686012634498118,-1.6748703428986085,-1.1605558826535318,0.10774587775563513,-0.8721569508808421,-1.745682698772934,-1.452721647399788,0.04819799834678428,-0.9061247463728632,0.9207690513874721,-0.25072273019599484,-1.0269905868847906,0.8214480131559797,-0.06130802406075241,0.8244671466603298,-1.0084027725753877,-0.1956529239009466,0.2886247444738875,0.18013738407397625,-0.21960299598628757,0.3033060435779998,1.7271676553473425,-0.48314073390233764,0.13768515634336445,-0.0533994239173276,1.7338014442135392,-1.9520406749002268,0.07869764470173318,-0.9335929111019033,-0.44122205140317033,-1.5497962478239262,-0.3182101659576731,-1.0171007251602078,0.8902179713444456,-0.1492023621732173,1.7529659316795176,0.6628395828509307,-1.096340275641719,1.9077958610885095,-0.5193627966641464,0.9629313460804836,2.1082307449244113,0.9745871209420388,-1.0097546804821036,-0.19762155195637537,-0.6085097342966207,0.5991802006769752,0.9470498884434012,-0.8728985442836582,1.5337368766467123,-1.5910808182844718,-0.8468706811371463,-0.38367407437863804,0.7776465368122711,1.6291788115590593,-0.24891560934335877,0.427583467757721,0.68939277525342,1.6845488764859788,-0.384370585796287,1.3277562924746618,0.6545543604797216,-1.2416959625466797,-0.6887152543938814,-0.9897569303738274,-1.1244890052144112,-1.6801441430246917,-0.3269438336106665,0.09831057172894017],\"xaxis\":\"x2\",\"y\":[-0.3983520986318105,-0.6162827135158706,2.099168429946755,0.49680194136560707,-1.07462082001314,1.9349510089752417,-2.4231933164169877,1.4470449807220553,-1.4999960796449026,-1.0945495325613395,0.6642788506356654,-0.49195583457573117,-0.6910826727920918,2.185441590057498,0.5131001184581482,0.674719629421702,0.20326375230828428,0.4949550563840638,1.4049673532147409,-0.14331104172596126,-0.3855718444977499,-0.21141543770944637,0.692414500334598,-1.5745230871640852,0.22429200145258757,-0.054580355994718846,0.7011313596097016,-0.7104053825194536,0.19309720375353737,0.5011860420595097,-0.13544250984575917,-1.3454410990573253,-0.12047204421392274,1.7560558189306235,0.3847089483023419,-1.0117420625874236,0.9164797757953848,0.8090796984007256,1.224431318037115,-0.6582058090452699,0.21452127600252371,-1.639673876779424,-1.1663156197618043,-0.15847458956823843,0.42473475884185624,-0.38660395544194304,-1.0130293175337957,-0.13664762695552973,1.1232879897184924,-1.1371616618950293,-0.07299308539521068,-0.5378171740332828,-1.7019495070466393,0.7459624013190475,0.27813535654079613,-0.2805369331929469,0.13963765034792444,-0.8166786213065517,0.170863291010852,0.3627638979559158,0.9251892035591921,-0.364802539096463,0.75720246115451,0.6971493229294524,-1.6710133918210957,-1.0312985576250868,0.8665470164781827,0.48918962517490755,-0.8274464881475612,1.7712724749541882,-0.2508356385745554,-0.42874012491286284,0.1233772385420985,-0.12822124751202227,0.5881947672940719,-0.9778504268571526,-0.30940316954708735,0.1613667105030798,-0.3001261485965345,-1.7313401143421838,0.12956150643595835,0.014778956330208861,0.36348543013152373,1.3969890902037807,0.6042087813381443,-0.27805222561920584,-2.0435509439758492,-0.0030770249422897933,0.5042478810220322,0.8029083832933929,-0.26315122741705216,1.7608604844319595,-0.4434264627398264,1.156664081932901,-0.5094711324408508,0.04128916792263781,-1.580156634490801,1.5399169357943356,-0.4085571732321778,0.3145272996081609],\"yaxis\":\"y2\",\"type\":\"scatter\"},{\"line\":{\"color\":\"rgba(128, 128, 128, 1.0)\",\"dash\":\"solid\",\"shape\":\"linear\",\"width\":1.3},\"marker\":{\"size\":2,\"symbol\":\"circle\"},\"mode\":\"markers\",\"name\":\"A\",\"text\":\"\",\"x\":[-0.29148985395471677,1.0623192840314113,0.7889824802723888,-0.8263016174507869,-0.2932207084544145,-0.9755427137500423,-0.6968185285385623,-0.26767197539285326,-1.896806581235527,0.1005586735542141,-0.7211678197152294,0.714535732301503,1.4274663654041149,1.8141047561912682,-1.3858769144995062,0.8471377683390111,-0.5687078741499456,0.09915338015635412,-1.731576840340989,0.6832953787966262,-0.601222059394738,1.0712143459877694,-0.42969366889555627,0.2834153504375238,-0.3813626860244084,0.8422846513272353,-1.615123396659075,0.7060441246896761,0.5708971692833249,0.4363374031458981,0.48933617591121764,0.2216169781697169,1.1032610962751956,0.6189924950665961,-0.7056850960195947,-0.8399327839206575,-0.37693560883104393,-1.214424624544691,-0.9824208294647261,1.07111295573096,0.2993150824633953,0.5391321655291645,-0.30855014838707623,1.1397938492145294,0.45415528878378597,0.08275481849550818,0.4258716036049616,-0.20205799094399646,-0.44930743284924174,0.5369240056296196,-1.1662429861915933,-1.4759404572946662,-1.1656633971966528,1.0074587142346831,1.6658958181533354,1.5707070126993063,1.9040959389709713,-0.05237860458607489,1.404923332759848,-0.5076288665983928,1.6692811859886714,0.7350607783305309,-0.7346694659828406,-0.7225899803020552,-0.3777196974125393,-0.23886911214296572,0.17465496864010308,0.4815103878145468,1.2423405073516578,-0.20398342970969435,0.528007863231704,-1.059549721691455,0.5551476363472752,0.042602653053775696,1.6383428464594012,0.39053803717752006,-0.07497875653927707,0.602995873861361,-1.2659224343532185,-0.15846382723660227,-0.9821482993238668,1.169129504047249,-0.4801042694784227,-0.03927277533042933,-2.697446820613888,0.667717761645663,-0.7598229418804644,0.060198281353660316,0.9325913229966135,-0.4460009935902679,-1.8361341727225688,0.23186112181292243,-0.8667052430557932,-1.8213096093449288,-2.8727655770736296,-0.9789949647010906,-0.3903490898617929,0.5576591238292142,-0.02574772349388132,-0.20922752110118553],\"xaxis\":\"x3\",\"y\":[-0.3983520986318105,-0.6162827135158706,2.099168429946755,0.49680194136560707,-1.07462082001314,1.9349510089752417,-2.4231933164169877,1.4470449807220553,-1.4999960796449026,-1.0945495325613395,0.6642788506356654,-0.49195583457573117,-0.6910826727920918,2.185441590057498,0.5131001184581482,0.674719629421702,0.20326375230828428,0.4949550563840638,1.4049673532147409,-0.14331104172596126,-0.3855718444977499,-0.21141543770944637,0.692414500334598,-1.5745230871640852,0.22429200145258757,-0.054580355994718846,0.7011313596097016,-0.7104053825194536,0.19309720375353737,0.5011860420595097,-0.13544250984575917,-1.3454410990573253,-0.12047204421392274,1.7560558189306235,0.3847089483023419,-1.0117420625874236,0.9164797757953848,0.8090796984007256,1.224431318037115,-0.6582058090452699,0.21452127600252371,-1.639673876779424,-1.1663156197618043,-0.15847458956823843,0.42473475884185624,-0.38660395544194304,-1.0130293175337957,-0.13664762695552973,1.1232879897184924,-1.1371616618950293,-0.07299308539521068,-0.5378171740332828,-1.7019495070466393,0.7459624013190475,0.27813535654079613,-0.2805369331929469,0.13963765034792444,-0.8166786213065517,0.170863291010852,0.3627638979559158,0.9251892035591921,-0.364802539096463,0.75720246115451,0.6971493229294524,-1.6710133918210957,-1.0312985576250868,0.8665470164781827,0.48918962517490755,-0.8274464881475612,1.7712724749541882,-0.2508356385745554,-0.42874012491286284,0.1233772385420985,-0.12822124751202227,0.5881947672940719,-0.9778504268571526,-0.30940316954708735,0.1613667105030798,-0.3001261485965345,-1.7313401143421838,0.12956150643595835,0.014778956330208861,0.36348543013152373,1.3969890902037807,0.6042087813381443,-0.27805222561920584,-2.0435509439758492,-0.0030770249422897933,0.5042478810220322,0.8029083832933929,-0.26315122741705216,1.7608604844319595,-0.4434264627398264,1.156664081932901,-0.5094711324408508,0.04128916792263781,-1.580156634490801,1.5399169357943356,-0.4085571732321778,0.3145272996081609],\"yaxis\":\"y3\",\"type\":\"scatter\"},{\"line\":{\"color\":\"rgba(128, 128, 128, 1.0)\",\"dash\":\"solid\",\"shape\":\"linear\",\"width\":1.3},\"marker\":{\"size\":2,\"symbol\":\"circle\"},\"mode\":\"markers\",\"name\":\"A\",\"text\":\"\",\"x\":[-1.066630833301036,0.29265836582538346,0.1591606198584185,0.7622368322562274,-0.31886158521673247,-1.4718604665980832,-0.7942216520581787,-1.4911879505837673,-0.6061066859506782,-1.5157010582591202,0.40032614454481,-0.9443926165588304,-0.9333213894477778,0.2373250569771554,0.003495411918664375,0.2797243757917062,-1.7310876483893218,-0.43268860484750843,0.4984287063307684,-0.46778851287520473,-0.32888185899693234,0.6232682745273248,-0.7316017254728788,0.4711007440846479,0.4029539941799019,-0.2604478654563585,0.3582768756292048,-0.8561994831494832,-1.913726686773174,-0.46358832632663377,1.1901905701532403,0.4934040771654728,-1.2673630739278083,-0.776929161687946,0.12342919559962855,-0.30602487347655555,1.9130807488548334,-0.7131376626908961,0.5702353616922338,0.7544639853442335,-2.0060898019039954,-0.11525049488824148,0.10467455570986987,-1.2868277520052525,-0.5654071697000354,1.7481832326836808,0.6891892289617946,-0.19572310883303518,0.18710866747798385,-0.9968036751947746,-0.8730661425675862,-0.06451644096699462,-0.5830400236991375,-0.20591015210862196,1.2077339490268855,1.4181201936965127,0.5385070678744326,1.1206361454713019,-0.5863832540958245,-1.6322724434980052,-0.586135362960711,1.9271409828103283,-0.09300998837520326,0.7747759181042786,-0.6248833852014862,-0.4063310951523854,-1.573605393885346,2.6186807404587644,1.7087005422662134,-0.007114002565482575,0.25111679091412836,1.5570577991342196,-0.43429707906838105,2.1651550574299265,0.4363737233095151,0.2539187595310245,1.4231369726498155,-1.618480855798506,-0.3141703345317573,-0.45265785873287134,-0.5228801374626685,-2.064489489396664,-1.2982645066101959,0.6698083430019409,0.4346329311968929,0.40972413201503993,0.7575840109241605,-0.15294080210870659,1.2003583234609856,-0.14191145348018816,1.0553412259865629,-1.087106698144118,-1.4607267662321068,0.6604172689615183,-1.5413739823566173,-1.5358751844625966,-0.40535830362125563,-0.18006651091900314,0.8602767621118976,1.8570706187242754],\"xaxis\":\"x4\",\"y\":[-0.3983520986318105,-0.6162827135158706,2.099168429946755,0.49680194136560707,-1.07462082001314,1.9349510089752417,-2.4231933164169877,1.4470449807220553,-1.4999960796449026,-1.0945495325613395,0.6642788506356654,-0.49195583457573117,-0.6910826727920918,2.185441590057498,0.5131001184581482,0.674719629421702,0.20326375230828428,0.4949550563840638,1.4049673532147409,-0.14331104172596126,-0.3855718444977499,-0.21141543770944637,0.692414500334598,-1.5745230871640852,0.22429200145258757,-0.054580355994718846,0.7011313596097016,-0.7104053825194536,0.19309720375353737,0.5011860420595097,-0.13544250984575917,-1.3454410990573253,-0.12047204421392274,1.7560558189306235,0.3847089483023419,-1.0117420625874236,0.9164797757953848,0.8090796984007256,1.224431318037115,-0.6582058090452699,0.21452127600252371,-1.639673876779424,-1.1663156197618043,-0.15847458956823843,0.42473475884185624,-0.38660395544194304,-1.0130293175337957,-0.13664762695552973,1.1232879897184924,-1.1371616618950293,-0.07299308539521068,-0.5378171740332828,-1.7019495070466393,0.7459624013190475,0.27813535654079613,-0.2805369331929469,0.13963765034792444,-0.8166786213065517,0.170863291010852,0.3627638979559158,0.9251892035591921,-0.364802539096463,0.75720246115451,0.6971493229294524,-1.6710133918210957,-1.0312985576250868,0.8665470164781827,0.48918962517490755,-0.8274464881475612,1.7712724749541882,-0.2508356385745554,-0.42874012491286284,0.1233772385420985,-0.12822124751202227,0.5881947672940719,-0.9778504268571526,-0.30940316954708735,0.1613667105030798,-0.3001261485965345,-1.7313401143421838,0.12956150643595835,0.014778956330208861,0.36348543013152373,1.3969890902037807,0.6042087813381443,-0.27805222561920584,-2.0435509439758492,-0.0030770249422897933,0.5042478810220322,0.8029083832933929,-0.26315122741705216,1.7608604844319595,-0.4434264627398264,1.156664081932901,-0.5094711324408508,0.04128916792263781,-1.580156634490801,1.5399169357943356,-0.4085571732321778,0.3145272996081609],\"yaxis\":\"y4\",\"type\":\"scatter\"},{\"line\":{\"color\":\"rgba(128, 128, 128, 1.0)\",\"dash\":\"solid\",\"shape\":\"linear\",\"width\":1.3},\"marker\":{\"size\":2,\"symbol\":\"circle\"},\"mode\":\"markers\",\"name\":\"B\",\"text\":\"\",\"x\":[-0.3983520986318105,-0.6162827135158706,2.099168429946755,0.49680194136560707,-1.07462082001314,1.9349510089752417,-2.4231933164169877,1.4470449807220553,-1.4999960796449026,-1.0945495325613395,0.6642788506356654,-0.49195583457573117,-0.6910826727920918,2.185441590057498,0.5131001184581482,0.674719629421702,0.20326375230828428,0.4949550563840638,1.4049673532147409,-0.14331104172596126,-0.3855718444977499,-0.21141543770944637,0.692414500334598,-1.5745230871640852,0.22429200145258757,-0.054580355994718846,0.7011313596097016,-0.7104053825194536,0.19309720375353737,0.5011860420595097,-0.13544250984575917,-1.3454410990573253,-0.12047204421392274,1.7560558189306235,0.3847089483023419,-1.0117420625874236,0.9164797757953848,0.8090796984007256,1.224431318037115,-0.6582058090452699,0.21452127600252371,-1.639673876779424,-1.1663156197618043,-0.15847458956823843,0.42473475884185624,-0.38660395544194304,-1.0130293175337957,-0.13664762695552973,1.1232879897184924,-1.1371616618950293,-0.07299308539521068,-0.5378171740332828,-1.7019495070466393,0.7459624013190475,0.27813535654079613,-0.2805369331929469,0.13963765034792444,-0.8166786213065517,0.170863291010852,0.3627638979559158,0.9251892035591921,-0.364802539096463,0.75720246115451,0.6971493229294524,-1.6710133918210957,-1.0312985576250868,0.8665470164781827,0.48918962517490755,-0.8274464881475612,1.7712724749541882,-0.2508356385745554,-0.42874012491286284,0.1233772385420985,-0.12822124751202227,0.5881947672940719,-0.9778504268571526,-0.30940316954708735,0.1613667105030798,-0.3001261485965345,-1.7313401143421838,0.12956150643595835,0.014778956330208861,0.36348543013152373,1.3969890902037807,0.6042087813381443,-0.27805222561920584,-2.0435509439758492,-0.0030770249422897933,0.5042478810220322,0.8029083832933929,-0.26315122741705216,1.7608604844319595,-0.4434264627398264,1.156664081932901,-0.5094711324408508,0.04128916792263781,-1.580156634490801,1.5399169357943356,-0.4085571732321778,0.3145272996081609],\"xaxis\":\"x5\",\"y\":[0.12208332917629941,1.4270948640081371,0.9415756564617354,0.8514386613875572,-1.6079154146370516,0.23474977453446583,-1.3665712548990696,-0.5597744265445256,0.11704905592132613,-1.0761999807650133,0.4600018600959453,-0.9956908768988652,-1.7817190867875512,-0.31928955320845914,-1.298610373656051,-0.5889321850812367,1.0303232261552604,-0.09079621045016036,1.0498592223792036,0.4945195260593801,-0.7614604158288016,-0.2758685496285138,-0.4712323343948017,0.08107735706611524,0.2876616637370824,-0.3442145062143889,-0.24688584946805583,-1.8409003226008336,0.22256612235887274,0.4401227891529881,-0.8735826703886425,1.4686012634498118,-1.6748703428986085,-1.1605558826535318,0.10774587775563513,-0.8721569508808421,-1.745682698772934,-1.452721647399788,0.04819799834678428,-0.9061247463728632,0.9207690513874721,-0.25072273019599484,-1.0269905868847906,0.8214480131559797,-0.06130802406075241,0.8244671466603298,-1.0084027725753877,-0.1956529239009466,0.2886247444738875,0.18013738407397625,-0.21960299598628757,0.3033060435779998,1.7271676553473425,-0.48314073390233764,0.13768515634336445,-0.0533994239173276,1.7338014442135392,-1.9520406749002268,0.07869764470173318,-0.9335929111019033,-0.44122205140317033,-1.5497962478239262,-0.3182101659576731,-1.0171007251602078,0.8902179713444456,-0.1492023621732173,1.7529659316795176,0.6628395828509307,-1.096340275641719,1.9077958610885095,-0.5193627966641464,0.9629313460804836,2.1082307449244113,0.9745871209420388,-1.0097546804821036,-0.19762155195637537,-0.6085097342966207,0.5991802006769752,0.9470498884434012,-0.8728985442836582,1.5337368766467123,-1.5910808182844718,-0.8468706811371463,-0.38367407437863804,0.7776465368122711,1.6291788115590593,-0.24891560934335877,0.427583467757721,0.68939277525342,1.6845488764859788,-0.384370585796287,1.3277562924746618,0.6545543604797216,-1.2416959625466797,-0.6887152543938814,-0.9897569303738274,-1.1244890052144112,-1.6801441430246917,-0.3269438336106665,0.09831057172894017],\"yaxis\":\"y5\",\"type\":\"scatter\"},{\"histfunc\":\"count\",\"histnorm\":\"\",\"marker\":{\"color\":\"rgba(55, 128, 191, 1.0)\",\"line\":{\"color\":\"#4D5663\",\"width\":1.3}},\"name\":\"B\",\"nbinsx\":10,\"opacity\":0.8,\"orientation\":\"v\",\"x\":[0.12208332917629941,1.4270948640081371,0.9415756564617354,0.8514386613875572,-1.6079154146370516,0.23474977453446583,-1.3665712548990696,-0.5597744265445256,0.11704905592132613,-1.0761999807650133,0.4600018600959453,-0.9956908768988652,-1.7817190867875512,-0.31928955320845914,-1.298610373656051,-0.5889321850812367,1.0303232261552604,-0.09079621045016036,1.0498592223792036,0.4945195260593801,-0.7614604158288016,-0.2758685496285138,-0.4712323343948017,0.08107735706611524,0.2876616637370824,-0.3442145062143889,-0.24688584946805583,-1.8409003226008336,0.22256612235887274,0.4401227891529881,-0.8735826703886425,1.4686012634498118,-1.6748703428986085,-1.1605558826535318,0.10774587775563513,-0.8721569508808421,-1.745682698772934,-1.452721647399788,0.04819799834678428,-0.9061247463728632,0.9207690513874721,-0.25072273019599484,-1.0269905868847906,0.8214480131559797,-0.06130802406075241,0.8244671466603298,-1.0084027725753877,-0.1956529239009466,0.2886247444738875,0.18013738407397625,-0.21960299598628757,0.3033060435779998,1.7271676553473425,-0.48314073390233764,0.13768515634336445,-0.0533994239173276,1.7338014442135392,-1.9520406749002268,0.07869764470173318,-0.9335929111019033,-0.44122205140317033,-1.5497962478239262,-0.3182101659576731,-1.0171007251602078,0.8902179713444456,-0.1492023621732173,1.7529659316795176,0.6628395828509307,-1.096340275641719,1.9077958610885095,-0.5193627966641464,0.9629313460804836,2.1082307449244113,0.9745871209420388,-1.0097546804821036,-0.19762155195637537,-0.6085097342966207,0.5991802006769752,0.9470498884434012,-0.8728985442836582,1.5337368766467123,-1.5910808182844718,-0.8468706811371463,-0.38367407437863804,0.7776465368122711,1.6291788115590593,-0.24891560934335877,0.427583467757721,0.68939277525342,1.6845488764859788,-0.384370585796287,1.3277562924746618,0.6545543604797216,-1.2416959625466797,-0.6887152543938814,-0.9897569303738274,-1.1244890052144112,-1.6801441430246917,-0.3269438336106665,0.09831057172894017],\"xaxis\":\"x6\",\"yaxis\":\"y6\",\"type\":\"histogram\"},{\"line\":{\"color\":\"rgba(128, 128, 128, 1.0)\",\"dash\":\"solid\",\"shape\":\"linear\",\"width\":1.3},\"marker\":{\"size\":2,\"symbol\":\"circle\"},\"mode\":\"markers\",\"name\":\"B\",\"text\":\"\",\"x\":[-0.29148985395471677,1.0623192840314113,0.7889824802723888,-0.8263016174507869,-0.2932207084544145,-0.9755427137500423,-0.6968185285385623,-0.26767197539285326,-1.896806581235527,0.1005586735542141,-0.7211678197152294,0.714535732301503,1.4274663654041149,1.8141047561912682,-1.3858769144995062,0.8471377683390111,-0.5687078741499456,0.09915338015635412,-1.731576840340989,0.6832953787966262,-0.601222059394738,1.0712143459877694,-0.42969366889555627,0.2834153504375238,-0.3813626860244084,0.8422846513272353,-1.615123396659075,0.7060441246896761,0.5708971692833249,0.4363374031458981,0.48933617591121764,0.2216169781697169,1.1032610962751956,0.6189924950665961,-0.7056850960195947,-0.8399327839206575,-0.37693560883104393,-1.214424624544691,-0.9824208294647261,1.07111295573096,0.2993150824633953,0.5391321655291645,-0.30855014838707623,1.1397938492145294,0.45415528878378597,0.08275481849550818,0.4258716036049616,-0.20205799094399646,-0.44930743284924174,0.5369240056296196,-1.1662429861915933,-1.4759404572946662,-1.1656633971966528,1.0074587142346831,1.6658958181533354,1.5707070126993063,1.9040959389709713,-0.05237860458607489,1.404923332759848,-0.5076288665983928,1.6692811859886714,0.7350607783305309,-0.7346694659828406,-0.7225899803020552,-0.3777196974125393,-0.23886911214296572,0.17465496864010308,0.4815103878145468,1.2423405073516578,-0.20398342970969435,0.528007863231704,-1.059549721691455,0.5551476363472752,0.042602653053775696,1.6383428464594012,0.39053803717752006,-0.07497875653927707,0.602995873861361,-1.2659224343532185,-0.15846382723660227,-0.9821482993238668,1.169129504047249,-0.4801042694784227,-0.03927277533042933,-2.697446820613888,0.667717761645663,-0.7598229418804644,0.060198281353660316,0.9325913229966135,-0.4460009935902679,-1.8361341727225688,0.23186112181292243,-0.8667052430557932,-1.8213096093449288,-2.8727655770736296,-0.9789949647010906,-0.3903490898617929,0.5576591238292142,-0.02574772349388132,-0.20922752110118553],\"xaxis\":\"x7\",\"y\":[0.12208332917629941,1.4270948640081371,0.9415756564617354,0.8514386613875572,-1.6079154146370516,0.23474977453446583,-1.3665712548990696,-0.5597744265445256,0.11704905592132613,-1.0761999807650133,0.4600018600959453,-0.9956908768988652,-1.7817190867875512,-0.31928955320845914,-1.298610373656051,-0.5889321850812367,1.0303232261552604,-0.09079621045016036,1.0498592223792036,0.4945195260593801,-0.7614604158288016,-0.2758685496285138,-0.4712323343948017,0.08107735706611524,0.2876616637370824,-0.3442145062143889,-0.24688584946805583,-1.8409003226008336,0.22256612235887274,0.4401227891529881,-0.8735826703886425,1.4686012634498118,-1.6748703428986085,-1.1605558826535318,0.10774587775563513,-0.8721569508808421,-1.745682698772934,-1.452721647399788,0.04819799834678428,-0.9061247463728632,0.9207690513874721,-0.25072273019599484,-1.0269905868847906,0.8214480131559797,-0.06130802406075241,0.8244671466603298,-1.0084027725753877,-0.1956529239009466,0.2886247444738875,0.18013738407397625,-0.21960299598628757,0.3033060435779998,1.7271676553473425,-0.48314073390233764,0.13768515634336445,-0.0533994239173276,1.7338014442135392,-1.9520406749002268,0.07869764470173318,-0.9335929111019033,-0.44122205140317033,-1.5497962478239262,-0.3182101659576731,-1.0171007251602078,0.8902179713444456,-0.1492023621732173,1.7529659316795176,0.6628395828509307,-1.096340275641719,1.9077958610885095,-0.5193627966641464,0.9629313460804836,2.1082307449244113,0.9745871209420388,-1.0097546804821036,-0.19762155195637537,-0.6085097342966207,0.5991802006769752,0.9470498884434012,-0.8728985442836582,1.5337368766467123,-1.5910808182844718,-0.8468706811371463,-0.38367407437863804,0.7776465368122711,1.6291788115590593,-0.24891560934335877,0.427583467757721,0.68939277525342,1.6845488764859788,-0.384370585796287,1.3277562924746618,0.6545543604797216,-1.2416959625466797,-0.6887152543938814,-0.9897569303738274,-1.1244890052144112,-1.6801441430246917,-0.3269438336106665,0.09831057172894017],\"yaxis\":\"y7\",\"type\":\"scatter\"},{\"line\":{\"color\":\"rgba(128, 128, 128, 1.0)\",\"dash\":\"solid\",\"shape\":\"linear\",\"width\":1.3},\"marker\":{\"size\":2,\"symbol\":\"circle\"},\"mode\":\"markers\",\"name\":\"B\",\"text\":\"\",\"x\":[-1.066630833301036,0.29265836582538346,0.1591606198584185,0.7622368322562274,-0.31886158521673247,-1.4718604665980832,-0.7942216520581787,-1.4911879505837673,-0.6061066859506782,-1.5157010582591202,0.40032614454481,-0.9443926165588304,-0.9333213894477778,0.2373250569771554,0.003495411918664375,0.2797243757917062,-1.7310876483893218,-0.43268860484750843,0.4984287063307684,-0.46778851287520473,-0.32888185899693234,0.6232682745273248,-0.7316017254728788,0.4711007440846479,0.4029539941799019,-0.2604478654563585,0.3582768756292048,-0.8561994831494832,-1.913726686773174,-0.46358832632663377,1.1901905701532403,0.4934040771654728,-1.2673630739278083,-0.776929161687946,0.12342919559962855,-0.30602487347655555,1.9130807488548334,-0.7131376626908961,0.5702353616922338,0.7544639853442335,-2.0060898019039954,-0.11525049488824148,0.10467455570986987,-1.2868277520052525,-0.5654071697000354,1.7481832326836808,0.6891892289617946,-0.19572310883303518,0.18710866747798385,-0.9968036751947746,-0.8730661425675862,-0.06451644096699462,-0.5830400236991375,-0.20591015210862196,1.2077339490268855,1.4181201936965127,0.5385070678744326,1.1206361454713019,-0.5863832540958245,-1.6322724434980052,-0.586135362960711,1.9271409828103283,-0.09300998837520326,0.7747759181042786,-0.6248833852014862,-0.4063310951523854,-1.573605393885346,2.6186807404587644,1.7087005422662134,-0.007114002565482575,0.25111679091412836,1.5570577991342196,-0.43429707906838105,2.1651550574299265,0.4363737233095151,0.2539187595310245,1.4231369726498155,-1.618480855798506,-0.3141703345317573,-0.45265785873287134,-0.5228801374626685,-2.064489489396664,-1.2982645066101959,0.6698083430019409,0.4346329311968929,0.40972413201503993,0.7575840109241605,-0.15294080210870659,1.2003583234609856,-0.14191145348018816,1.0553412259865629,-1.087106698144118,-1.4607267662321068,0.6604172689615183,-1.5413739823566173,-1.5358751844625966,-0.40535830362125563,-0.18006651091900314,0.8602767621118976,1.8570706187242754],\"xaxis\":\"x8\",\"y\":[0.12208332917629941,1.4270948640081371,0.9415756564617354,0.8514386613875572,-1.6079154146370516,0.23474977453446583,-1.3665712548990696,-0.5597744265445256,0.11704905592132613,-1.0761999807650133,0.4600018600959453,-0.9956908768988652,-1.7817190867875512,-0.31928955320845914,-1.298610373656051,-0.5889321850812367,1.0303232261552604,-0.09079621045016036,1.0498592223792036,0.4945195260593801,-0.7614604158288016,-0.2758685496285138,-0.4712323343948017,0.08107735706611524,0.2876616637370824,-0.3442145062143889,-0.24688584946805583,-1.8409003226008336,0.22256612235887274,0.4401227891529881,-0.8735826703886425,1.4686012634498118,-1.6748703428986085,-1.1605558826535318,0.10774587775563513,-0.8721569508808421,-1.745682698772934,-1.452721647399788,0.04819799834678428,-0.9061247463728632,0.9207690513874721,-0.25072273019599484,-1.0269905868847906,0.8214480131559797,-0.06130802406075241,0.8244671466603298,-1.0084027725753877,-0.1956529239009466,0.2886247444738875,0.18013738407397625,-0.21960299598628757,0.3033060435779998,1.7271676553473425,-0.48314073390233764,0.13768515634336445,-0.0533994239173276,1.7338014442135392,-1.9520406749002268,0.07869764470173318,-0.9335929111019033,-0.44122205140317033,-1.5497962478239262,-0.3182101659576731,-1.0171007251602078,0.8902179713444456,-0.1492023621732173,1.7529659316795176,0.6628395828509307,-1.096340275641719,1.9077958610885095,-0.5193627966641464,0.9629313460804836,2.1082307449244113,0.9745871209420388,-1.0097546804821036,-0.19762155195637537,-0.6085097342966207,0.5991802006769752,0.9470498884434012,-0.8728985442836582,1.5337368766467123,-1.5910808182844718,-0.8468706811371463,-0.38367407437863804,0.7776465368122711,1.6291788115590593,-0.24891560934335877,0.427583467757721,0.68939277525342,1.6845488764859788,-0.384370585796287,1.3277562924746618,0.6545543604797216,-1.2416959625466797,-0.6887152543938814,-0.9897569303738274,-1.1244890052144112,-1.6801441430246917,-0.3269438336106665,0.09831057172894017],\"yaxis\":\"y8\",\"type\":\"scatter\"},{\"line\":{\"color\":\"rgba(128, 128, 128, 1.0)\",\"dash\":\"solid\",\"shape\":\"linear\",\"width\":1.3},\"marker\":{\"size\":2,\"symbol\":\"circle\"},\"mode\":\"markers\",\"name\":\"C\",\"text\":\"\",\"x\":[-0.3983520986318105,-0.6162827135158706,2.099168429946755,0.49680194136560707,-1.07462082001314,1.9349510089752417,-2.4231933164169877,1.4470449807220553,-1.4999960796449026,-1.0945495325613395,0.6642788506356654,-0.49195583457573117,-0.6910826727920918,2.185441590057498,0.5131001184581482,0.674719629421702,0.20326375230828428,0.4949550563840638,1.4049673532147409,-0.14331104172596126,-0.3855718444977499,-0.21141543770944637,0.692414500334598,-1.5745230871640852,0.22429200145258757,-0.054580355994718846,0.7011313596097016,-0.7104053825194536,0.19309720375353737,0.5011860420595097,-0.13544250984575917,-1.3454410990573253,-0.12047204421392274,1.7560558189306235,0.3847089483023419,-1.0117420625874236,0.9164797757953848,0.8090796984007256,1.224431318037115,-0.6582058090452699,0.21452127600252371,-1.639673876779424,-1.1663156197618043,-0.15847458956823843,0.42473475884185624,-0.38660395544194304,-1.0130293175337957,-0.13664762695552973,1.1232879897184924,-1.1371616618950293,-0.07299308539521068,-0.5378171740332828,-1.7019495070466393,0.7459624013190475,0.27813535654079613,-0.2805369331929469,0.13963765034792444,-0.8166786213065517,0.170863291010852,0.3627638979559158,0.9251892035591921,-0.364802539096463,0.75720246115451,0.6971493229294524,-1.6710133918210957,-1.0312985576250868,0.8665470164781827,0.48918962517490755,-0.8274464881475612,1.7712724749541882,-0.2508356385745554,-0.42874012491286284,0.1233772385420985,-0.12822124751202227,0.5881947672940719,-0.9778504268571526,-0.30940316954708735,0.1613667105030798,-0.3001261485965345,-1.7313401143421838,0.12956150643595835,0.014778956330208861,0.36348543013152373,1.3969890902037807,0.6042087813381443,-0.27805222561920584,-2.0435509439758492,-0.0030770249422897933,0.5042478810220322,0.8029083832933929,-0.26315122741705216,1.7608604844319595,-0.4434264627398264,1.156664081932901,-0.5094711324408508,0.04128916792263781,-1.580156634490801,1.5399169357943356,-0.4085571732321778,0.3145272996081609],\"xaxis\":\"x9\",\"y\":[-0.29148985395471677,1.0623192840314113,0.7889824802723888,-0.8263016174507869,-0.2932207084544145,-0.9755427137500423,-0.6968185285385623,-0.26767197539285326,-1.896806581235527,0.1005586735542141,-0.7211678197152294,0.714535732301503,1.4274663654041149,1.8141047561912682,-1.3858769144995062,0.8471377683390111,-0.5687078741499456,0.09915338015635412,-1.731576840340989,0.6832953787966262,-0.601222059394738,1.0712143459877694,-0.42969366889555627,0.2834153504375238,-0.3813626860244084,0.8422846513272353,-1.615123396659075,0.7060441246896761,0.5708971692833249,0.4363374031458981,0.48933617591121764,0.2216169781697169,1.1032610962751956,0.6189924950665961,-0.7056850960195947,-0.8399327839206575,-0.37693560883104393,-1.214424624544691,-0.9824208294647261,1.07111295573096,0.2993150824633953,0.5391321655291645,-0.30855014838707623,1.1397938492145294,0.45415528878378597,0.08275481849550818,0.4258716036049616,-0.20205799094399646,-0.44930743284924174,0.5369240056296196,-1.1662429861915933,-1.4759404572946662,-1.1656633971966528,1.0074587142346831,1.6658958181533354,1.5707070126993063,1.9040959389709713,-0.05237860458607489,1.404923332759848,-0.5076288665983928,1.6692811859886714,0.7350607783305309,-0.7346694659828406,-0.7225899803020552,-0.3777196974125393,-0.23886911214296572,0.17465496864010308,0.4815103878145468,1.2423405073516578,-0.20398342970969435,0.528007863231704,-1.059549721691455,0.5551476363472752,0.042602653053775696,1.6383428464594012,0.39053803717752006,-0.07497875653927707,0.602995873861361,-1.2659224343532185,-0.15846382723660227,-0.9821482993238668,1.169129504047249,-0.4801042694784227,-0.03927277533042933,-2.697446820613888,0.667717761645663,-0.7598229418804644,0.060198281353660316,0.9325913229966135,-0.4460009935902679,-1.8361341727225688,0.23186112181292243,-0.8667052430557932,-1.8213096093449288,-2.8727655770736296,-0.9789949647010906,-0.3903490898617929,0.5576591238292142,-0.02574772349388132,-0.20922752110118553],\"yaxis\":\"y9\",\"type\":\"scatter\"},{\"line\":{\"color\":\"rgba(128, 128, 128, 1.0)\",\"dash\":\"solid\",\"shape\":\"linear\",\"width\":1.3},\"marker\":{\"size\":2,\"symbol\":\"circle\"},\"mode\":\"markers\",\"name\":\"C\",\"text\":\"\",\"x\":[0.12208332917629941,1.4270948640081371,0.9415756564617354,0.8514386613875572,-1.6079154146370516,0.23474977453446583,-1.3665712548990696,-0.5597744265445256,0.11704905592132613,-1.0761999807650133,0.4600018600959453,-0.9956908768988652,-1.7817190867875512,-0.31928955320845914,-1.298610373656051,-0.5889321850812367,1.0303232261552604,-0.09079621045016036,1.0498592223792036,0.4945195260593801,-0.7614604158288016,-0.2758685496285138,-0.4712323343948017,0.08107735706611524,0.2876616637370824,-0.3442145062143889,-0.24688584946805583,-1.8409003226008336,0.22256612235887274,0.4401227891529881,-0.8735826703886425,1.4686012634498118,-1.6748703428986085,-1.1605558826535318,0.10774587775563513,-0.8721569508808421,-1.745682698772934,-1.452721647399788,0.04819799834678428,-0.9061247463728632,0.9207690513874721,-0.25072273019599484,-1.0269905868847906,0.8214480131559797,-0.06130802406075241,0.8244671466603298,-1.0084027725753877,-0.1956529239009466,0.2886247444738875,0.18013738407397625,-0.21960299598628757,0.3033060435779998,1.7271676553473425,-0.48314073390233764,0.13768515634336445,-0.0533994239173276,1.7338014442135392,-1.9520406749002268,0.07869764470173318,-0.9335929111019033,-0.44122205140317033,-1.5497962478239262,-0.3182101659576731,-1.0171007251602078,0.8902179713444456,-0.1492023621732173,1.7529659316795176,0.6628395828509307,-1.096340275641719,1.9077958610885095,-0.5193627966641464,0.9629313460804836,2.1082307449244113,0.9745871209420388,-1.0097546804821036,-0.19762155195637537,-0.6085097342966207,0.5991802006769752,0.9470498884434012,-0.8728985442836582,1.5337368766467123,-1.5910808182844718,-0.8468706811371463,-0.38367407437863804,0.7776465368122711,1.6291788115590593,-0.24891560934335877,0.427583467757721,0.68939277525342,1.6845488764859788,-0.384370585796287,1.3277562924746618,0.6545543604797216,-1.2416959625466797,-0.6887152543938814,-0.9897569303738274,-1.1244890052144112,-1.6801441430246917,-0.3269438336106665,0.09831057172894017],\"xaxis\":\"x10\",\"y\":[-0.29148985395471677,1.0623192840314113,0.7889824802723888,-0.8263016174507869,-0.2932207084544145,-0.9755427137500423,-0.6968185285385623,-0.26767197539285326,-1.896806581235527,0.1005586735542141,-0.7211678197152294,0.714535732301503,1.4274663654041149,1.8141047561912682,-1.3858769144995062,0.8471377683390111,-0.5687078741499456,0.09915338015635412,-1.731576840340989,0.6832953787966262,-0.601222059394738,1.0712143459877694,-0.42969366889555627,0.2834153504375238,-0.3813626860244084,0.8422846513272353,-1.615123396659075,0.7060441246896761,0.5708971692833249,0.4363374031458981,0.48933617591121764,0.2216169781697169,1.1032610962751956,0.6189924950665961,-0.7056850960195947,-0.8399327839206575,-0.37693560883104393,-1.214424624544691,-0.9824208294647261,1.07111295573096,0.2993150824633953,0.5391321655291645,-0.30855014838707623,1.1397938492145294,0.45415528878378597,0.08275481849550818,0.4258716036049616,-0.20205799094399646,-0.44930743284924174,0.5369240056296196,-1.1662429861915933,-1.4759404572946662,-1.1656633971966528,1.0074587142346831,1.6658958181533354,1.5707070126993063,1.9040959389709713,-0.05237860458607489,1.404923332759848,-0.5076288665983928,1.6692811859886714,0.7350607783305309,-0.7346694659828406,-0.7225899803020552,-0.3777196974125393,-0.23886911214296572,0.17465496864010308,0.4815103878145468,1.2423405073516578,-0.20398342970969435,0.528007863231704,-1.059549721691455,0.5551476363472752,0.042602653053775696,1.6383428464594012,0.39053803717752006,-0.07497875653927707,0.602995873861361,-1.2659224343532185,-0.15846382723660227,-0.9821482993238668,1.169129504047249,-0.4801042694784227,-0.03927277533042933,-2.697446820613888,0.667717761645663,-0.7598229418804644,0.060198281353660316,0.9325913229966135,-0.4460009935902679,-1.8361341727225688,0.23186112181292243,-0.8667052430557932,-1.8213096093449288,-2.8727655770736296,-0.9789949647010906,-0.3903490898617929,0.5576591238292142,-0.02574772349388132,-0.20922752110118553],\"yaxis\":\"y10\",\"type\":\"scatter\"},{\"histfunc\":\"count\",\"histnorm\":\"\",\"marker\":{\"color\":\"rgba(50, 171, 96, 1.0)\",\"line\":{\"color\":\"#4D5663\",\"width\":1.3}},\"name\":\"C\",\"nbinsx\":10,\"opacity\":0.8,\"orientation\":\"v\",\"x\":[-0.29148985395471677,1.0623192840314113,0.7889824802723888,-0.8263016174507869,-0.2932207084544145,-0.9755427137500423,-0.6968185285385623,-0.26767197539285326,-1.896806581235527,0.1005586735542141,-0.7211678197152294,0.714535732301503,1.4274663654041149,1.8141047561912682,-1.3858769144995062,0.8471377683390111,-0.5687078741499456,0.09915338015635412,-1.731576840340989,0.6832953787966262,-0.601222059394738,1.0712143459877694,-0.42969366889555627,0.2834153504375238,-0.3813626860244084,0.8422846513272353,-1.615123396659075,0.7060441246896761,0.5708971692833249,0.4363374031458981,0.48933617591121764,0.2216169781697169,1.1032610962751956,0.6189924950665961,-0.7056850960195947,-0.8399327839206575,-0.37693560883104393,-1.214424624544691,-0.9824208294647261,1.07111295573096,0.2993150824633953,0.5391321655291645,-0.30855014838707623,1.1397938492145294,0.45415528878378597,0.08275481849550818,0.4258716036049616,-0.20205799094399646,-0.44930743284924174,0.5369240056296196,-1.1662429861915933,-1.4759404572946662,-1.1656633971966528,1.0074587142346831,1.6658958181533354,1.5707070126993063,1.9040959389709713,-0.05237860458607489,1.404923332759848,-0.5076288665983928,1.6692811859886714,0.7350607783305309,-0.7346694659828406,-0.7225899803020552,-0.3777196974125393,-0.23886911214296572,0.17465496864010308,0.4815103878145468,1.2423405073516578,-0.20398342970969435,0.528007863231704,-1.059549721691455,0.5551476363472752,0.042602653053775696,1.6383428464594012,0.39053803717752006,-0.07497875653927707,0.602995873861361,-1.2659224343532185,-0.15846382723660227,-0.9821482993238668,1.169129504047249,-0.4801042694784227,-0.03927277533042933,-2.697446820613888,0.667717761645663,-0.7598229418804644,0.060198281353660316,0.9325913229966135,-0.4460009935902679,-1.8361341727225688,0.23186112181292243,-0.8667052430557932,-1.8213096093449288,-2.8727655770736296,-0.9789949647010906,-0.3903490898617929,0.5576591238292142,-0.02574772349388132,-0.20922752110118553],\"xaxis\":\"x11\",\"yaxis\":\"y11\",\"type\":\"histogram\"},{\"line\":{\"color\":\"rgba(128, 128, 128, 1.0)\",\"dash\":\"solid\",\"shape\":\"linear\",\"width\":1.3},\"marker\":{\"size\":2,\"symbol\":\"circle\"},\"mode\":\"markers\",\"name\":\"C\",\"text\":\"\",\"x\":[-1.066630833301036,0.29265836582538346,0.1591606198584185,0.7622368322562274,-0.31886158521673247,-1.4718604665980832,-0.7942216520581787,-1.4911879505837673,-0.6061066859506782,-1.5157010582591202,0.40032614454481,-0.9443926165588304,-0.9333213894477778,0.2373250569771554,0.003495411918664375,0.2797243757917062,-1.7310876483893218,-0.43268860484750843,0.4984287063307684,-0.46778851287520473,-0.32888185899693234,0.6232682745273248,-0.7316017254728788,0.4711007440846479,0.4029539941799019,-0.2604478654563585,0.3582768756292048,-0.8561994831494832,-1.913726686773174,-0.46358832632663377,1.1901905701532403,0.4934040771654728,-1.2673630739278083,-0.776929161687946,0.12342919559962855,-0.30602487347655555,1.9130807488548334,-0.7131376626908961,0.5702353616922338,0.7544639853442335,-2.0060898019039954,-0.11525049488824148,0.10467455570986987,-1.2868277520052525,-0.5654071697000354,1.7481832326836808,0.6891892289617946,-0.19572310883303518,0.18710866747798385,-0.9968036751947746,-0.8730661425675862,-0.06451644096699462,-0.5830400236991375,-0.20591015210862196,1.2077339490268855,1.4181201936965127,0.5385070678744326,1.1206361454713019,-0.5863832540958245,-1.6322724434980052,-0.586135362960711,1.9271409828103283,-0.09300998837520326,0.7747759181042786,-0.6248833852014862,-0.4063310951523854,-1.573605393885346,2.6186807404587644,1.7087005422662134,-0.007114002565482575,0.25111679091412836,1.5570577991342196,-0.43429707906838105,2.1651550574299265,0.4363737233095151,0.2539187595310245,1.4231369726498155,-1.618480855798506,-0.3141703345317573,-0.45265785873287134,-0.5228801374626685,-2.064489489396664,-1.2982645066101959,0.6698083430019409,0.4346329311968929,0.40972413201503993,0.7575840109241605,-0.15294080210870659,1.2003583234609856,-0.14191145348018816,1.0553412259865629,-1.087106698144118,-1.4607267662321068,0.6604172689615183,-1.5413739823566173,-1.5358751844625966,-0.40535830362125563,-0.18006651091900314,0.8602767621118976,1.8570706187242754],\"xaxis\":\"x12\",\"y\":[-0.29148985395471677,1.0623192840314113,0.7889824802723888,-0.8263016174507869,-0.2932207084544145,-0.9755427137500423,-0.6968185285385623,-0.26767197539285326,-1.896806581235527,0.1005586735542141,-0.7211678197152294,0.714535732301503,1.4274663654041149,1.8141047561912682,-1.3858769144995062,0.8471377683390111,-0.5687078741499456,0.09915338015635412,-1.731576840340989,0.6832953787966262,-0.601222059394738,1.0712143459877694,-0.42969366889555627,0.2834153504375238,-0.3813626860244084,0.8422846513272353,-1.615123396659075,0.7060441246896761,0.5708971692833249,0.4363374031458981,0.48933617591121764,0.2216169781697169,1.1032610962751956,0.6189924950665961,-0.7056850960195947,-0.8399327839206575,-0.37693560883104393,-1.214424624544691,-0.9824208294647261,1.07111295573096,0.2993150824633953,0.5391321655291645,-0.30855014838707623,1.1397938492145294,0.45415528878378597,0.08275481849550818,0.4258716036049616,-0.20205799094399646,-0.44930743284924174,0.5369240056296196,-1.1662429861915933,-1.4759404572946662,-1.1656633971966528,1.0074587142346831,1.6658958181533354,1.5707070126993063,1.9040959389709713,-0.05237860458607489,1.404923332759848,-0.5076288665983928,1.6692811859886714,0.7350607783305309,-0.7346694659828406,-0.7225899803020552,-0.3777196974125393,-0.23886911214296572,0.17465496864010308,0.4815103878145468,1.2423405073516578,-0.20398342970969435,0.528007863231704,-1.059549721691455,0.5551476363472752,0.042602653053775696,1.6383428464594012,0.39053803717752006,-0.07497875653927707,0.602995873861361,-1.2659224343532185,-0.15846382723660227,-0.9821482993238668,1.169129504047249,-0.4801042694784227,-0.03927277533042933,-2.697446820613888,0.667717761645663,-0.7598229418804644,0.060198281353660316,0.9325913229966135,-0.4460009935902679,-1.8361341727225688,0.23186112181292243,-0.8667052430557932,-1.8213096093449288,-2.8727655770736296,-0.9789949647010906,-0.3903490898617929,0.5576591238292142,-0.02574772349388132,-0.20922752110118553],\"yaxis\":\"y12\",\"type\":\"scatter\"},{\"line\":{\"color\":\"rgba(128, 128, 128, 1.0)\",\"dash\":\"solid\",\"shape\":\"linear\",\"width\":1.3},\"marker\":{\"size\":2,\"symbol\":\"circle\"},\"mode\":\"markers\",\"name\":\"D\",\"text\":\"\",\"x\":[-0.3983520986318105,-0.6162827135158706,2.099168429946755,0.49680194136560707,-1.07462082001314,1.9349510089752417,-2.4231933164169877,1.4470449807220553,-1.4999960796449026,-1.0945495325613395,0.6642788506356654,-0.49195583457573117,-0.6910826727920918,2.185441590057498,0.5131001184581482,0.674719629421702,0.20326375230828428,0.4949550563840638,1.4049673532147409,-0.14331104172596126,-0.3855718444977499,-0.21141543770944637,0.692414500334598,-1.5745230871640852,0.22429200145258757,-0.054580355994718846,0.7011313596097016,-0.7104053825194536,0.19309720375353737,0.5011860420595097,-0.13544250984575917,-1.3454410990573253,-0.12047204421392274,1.7560558189306235,0.3847089483023419,-1.0117420625874236,0.9164797757953848,0.8090796984007256,1.224431318037115,-0.6582058090452699,0.21452127600252371,-1.639673876779424,-1.1663156197618043,-0.15847458956823843,0.42473475884185624,-0.38660395544194304,-1.0130293175337957,-0.13664762695552973,1.1232879897184924,-1.1371616618950293,-0.07299308539521068,-0.5378171740332828,-1.7019495070466393,0.7459624013190475,0.27813535654079613,-0.2805369331929469,0.13963765034792444,-0.8166786213065517,0.170863291010852,0.3627638979559158,0.9251892035591921,-0.364802539096463,0.75720246115451,0.6971493229294524,-1.6710133918210957,-1.0312985576250868,0.8665470164781827,0.48918962517490755,-0.8274464881475612,1.7712724749541882,-0.2508356385745554,-0.42874012491286284,0.1233772385420985,-0.12822124751202227,0.5881947672940719,-0.9778504268571526,-0.30940316954708735,0.1613667105030798,-0.3001261485965345,-1.7313401143421838,0.12956150643595835,0.014778956330208861,0.36348543013152373,1.3969890902037807,0.6042087813381443,-0.27805222561920584,-2.0435509439758492,-0.0030770249422897933,0.5042478810220322,0.8029083832933929,-0.26315122741705216,1.7608604844319595,-0.4434264627398264,1.156664081932901,-0.5094711324408508,0.04128916792263781,-1.580156634490801,1.5399169357943356,-0.4085571732321778,0.3145272996081609],\"xaxis\":\"x13\",\"y\":[-1.066630833301036,0.29265836582538346,0.1591606198584185,0.7622368322562274,-0.31886158521673247,-1.4718604665980832,-0.7942216520581787,-1.4911879505837673,-0.6061066859506782,-1.5157010582591202,0.40032614454481,-0.9443926165588304,-0.9333213894477778,0.2373250569771554,0.003495411918664375,0.2797243757917062,-1.7310876483893218,-0.43268860484750843,0.4984287063307684,-0.46778851287520473,-0.32888185899693234,0.6232682745273248,-0.7316017254728788,0.4711007440846479,0.4029539941799019,-0.2604478654563585,0.3582768756292048,-0.8561994831494832,-1.913726686773174,-0.46358832632663377,1.1901905701532403,0.4934040771654728,-1.2673630739278083,-0.776929161687946,0.12342919559962855,-0.30602487347655555,1.9130807488548334,-0.7131376626908961,0.5702353616922338,0.7544639853442335,-2.0060898019039954,-0.11525049488824148,0.10467455570986987,-1.2868277520052525,-0.5654071697000354,1.7481832326836808,0.6891892289617946,-0.19572310883303518,0.18710866747798385,-0.9968036751947746,-0.8730661425675862,-0.06451644096699462,-0.5830400236991375,-0.20591015210862196,1.2077339490268855,1.4181201936965127,0.5385070678744326,1.1206361454713019,-0.5863832540958245,-1.6322724434980052,-0.586135362960711,1.9271409828103283,-0.09300998837520326,0.7747759181042786,-0.6248833852014862,-0.4063310951523854,-1.573605393885346,2.6186807404587644,1.7087005422662134,-0.007114002565482575,0.25111679091412836,1.5570577991342196,-0.43429707906838105,2.1651550574299265,0.4363737233095151,0.2539187595310245,1.4231369726498155,-1.618480855798506,-0.3141703345317573,-0.45265785873287134,-0.5228801374626685,-2.064489489396664,-1.2982645066101959,0.6698083430019409,0.4346329311968929,0.40972413201503993,0.7575840109241605,-0.15294080210870659,1.2003583234609856,-0.14191145348018816,1.0553412259865629,-1.087106698144118,-1.4607267662321068,0.6604172689615183,-1.5413739823566173,-1.5358751844625966,-0.40535830362125563,-0.18006651091900314,0.8602767621118976,1.8570706187242754],\"yaxis\":\"y13\",\"type\":\"scatter\"},{\"line\":{\"color\":\"rgba(128, 128, 128, 1.0)\",\"dash\":\"solid\",\"shape\":\"linear\",\"width\":1.3},\"marker\":{\"size\":2,\"symbol\":\"circle\"},\"mode\":\"markers\",\"name\":\"D\",\"text\":\"\",\"x\":[0.12208332917629941,1.4270948640081371,0.9415756564617354,0.8514386613875572,-1.6079154146370516,0.23474977453446583,-1.3665712548990696,-0.5597744265445256,0.11704905592132613,-1.0761999807650133,0.4600018600959453,-0.9956908768988652,-1.7817190867875512,-0.31928955320845914,-1.298610373656051,-0.5889321850812367,1.0303232261552604,-0.09079621045016036,1.0498592223792036,0.4945195260593801,-0.7614604158288016,-0.2758685496285138,-0.4712323343948017,0.08107735706611524,0.2876616637370824,-0.3442145062143889,-0.24688584946805583,-1.8409003226008336,0.22256612235887274,0.4401227891529881,-0.8735826703886425,1.4686012634498118,-1.6748703428986085,-1.1605558826535318,0.10774587775563513,-0.8721569508808421,-1.745682698772934,-1.452721647399788,0.04819799834678428,-0.9061247463728632,0.9207690513874721,-0.25072273019599484,-1.0269905868847906,0.8214480131559797,-0.06130802406075241,0.8244671466603298,-1.0084027725753877,-0.1956529239009466,0.2886247444738875,0.18013738407397625,-0.21960299598628757,0.3033060435779998,1.7271676553473425,-0.48314073390233764,0.13768515634336445,-0.0533994239173276,1.7338014442135392,-1.9520406749002268,0.07869764470173318,-0.9335929111019033,-0.44122205140317033,-1.5497962478239262,-0.3182101659576731,-1.0171007251602078,0.8902179713444456,-0.1492023621732173,1.7529659316795176,0.6628395828509307,-1.096340275641719,1.9077958610885095,-0.5193627966641464,0.9629313460804836,2.1082307449244113,0.9745871209420388,-1.0097546804821036,-0.19762155195637537,-0.6085097342966207,0.5991802006769752,0.9470498884434012,-0.8728985442836582,1.5337368766467123,-1.5910808182844718,-0.8468706811371463,-0.38367407437863804,0.7776465368122711,1.6291788115590593,-0.24891560934335877,0.427583467757721,0.68939277525342,1.6845488764859788,-0.384370585796287,1.3277562924746618,0.6545543604797216,-1.2416959625466797,-0.6887152543938814,-0.9897569303738274,-1.1244890052144112,-1.6801441430246917,-0.3269438336106665,0.09831057172894017],\"xaxis\":\"x14\",\"y\":[-1.066630833301036,0.29265836582538346,0.1591606198584185,0.7622368322562274,-0.31886158521673247,-1.4718604665980832,-0.7942216520581787,-1.4911879505837673,-0.6061066859506782,-1.5157010582591202,0.40032614454481,-0.9443926165588304,-0.9333213894477778,0.2373250569771554,0.003495411918664375,0.2797243757917062,-1.7310876483893218,-0.43268860484750843,0.4984287063307684,-0.46778851287520473,-0.32888185899693234,0.6232682745273248,-0.7316017254728788,0.4711007440846479,0.4029539941799019,-0.2604478654563585,0.3582768756292048,-0.8561994831494832,-1.913726686773174,-0.46358832632663377,1.1901905701532403,0.4934040771654728,-1.2673630739278083,-0.776929161687946,0.12342919559962855,-0.30602487347655555,1.9130807488548334,-0.7131376626908961,0.5702353616922338,0.7544639853442335,-2.0060898019039954,-0.11525049488824148,0.10467455570986987,-1.2868277520052525,-0.5654071697000354,1.7481832326836808,0.6891892289617946,-0.19572310883303518,0.18710866747798385,-0.9968036751947746,-0.8730661425675862,-0.06451644096699462,-0.5830400236991375,-0.20591015210862196,1.2077339490268855,1.4181201936965127,0.5385070678744326,1.1206361454713019,-0.5863832540958245,-1.6322724434980052,-0.586135362960711,1.9271409828103283,-0.09300998837520326,0.7747759181042786,-0.6248833852014862,-0.4063310951523854,-1.573605393885346,2.6186807404587644,1.7087005422662134,-0.007114002565482575,0.25111679091412836,1.5570577991342196,-0.43429707906838105,2.1651550574299265,0.4363737233095151,0.2539187595310245,1.4231369726498155,-1.618480855798506,-0.3141703345317573,-0.45265785873287134,-0.5228801374626685,-2.064489489396664,-1.2982645066101959,0.6698083430019409,0.4346329311968929,0.40972413201503993,0.7575840109241605,-0.15294080210870659,1.2003583234609856,-0.14191145348018816,1.0553412259865629,-1.087106698144118,-1.4607267662321068,0.6604172689615183,-1.5413739823566173,-1.5358751844625966,-0.40535830362125563,-0.18006651091900314,0.8602767621118976,1.8570706187242754],\"yaxis\":\"y14\",\"type\":\"scatter\"},{\"line\":{\"color\":\"rgba(128, 128, 128, 1.0)\",\"dash\":\"solid\",\"shape\":\"linear\",\"width\":1.3},\"marker\":{\"size\":2,\"symbol\":\"circle\"},\"mode\":\"markers\",\"name\":\"D\",\"text\":\"\",\"x\":[-0.29148985395471677,1.0623192840314113,0.7889824802723888,-0.8263016174507869,-0.2932207084544145,-0.9755427137500423,-0.6968185285385623,-0.26767197539285326,-1.896806581235527,0.1005586735542141,-0.7211678197152294,0.714535732301503,1.4274663654041149,1.8141047561912682,-1.3858769144995062,0.8471377683390111,-0.5687078741499456,0.09915338015635412,-1.731576840340989,0.6832953787966262,-0.601222059394738,1.0712143459877694,-0.42969366889555627,0.2834153504375238,-0.3813626860244084,0.8422846513272353,-1.615123396659075,0.7060441246896761,0.5708971692833249,0.4363374031458981,0.48933617591121764,0.2216169781697169,1.1032610962751956,0.6189924950665961,-0.7056850960195947,-0.8399327839206575,-0.37693560883104393,-1.214424624544691,-0.9824208294647261,1.07111295573096,0.2993150824633953,0.5391321655291645,-0.30855014838707623,1.1397938492145294,0.45415528878378597,0.08275481849550818,0.4258716036049616,-0.20205799094399646,-0.44930743284924174,0.5369240056296196,-1.1662429861915933,-1.4759404572946662,-1.1656633971966528,1.0074587142346831,1.6658958181533354,1.5707070126993063,1.9040959389709713,-0.05237860458607489,1.404923332759848,-0.5076288665983928,1.6692811859886714,0.7350607783305309,-0.7346694659828406,-0.7225899803020552,-0.3777196974125393,-0.23886911214296572,0.17465496864010308,0.4815103878145468,1.2423405073516578,-0.20398342970969435,0.528007863231704,-1.059549721691455,0.5551476363472752,0.042602653053775696,1.6383428464594012,0.39053803717752006,-0.07497875653927707,0.602995873861361,-1.2659224343532185,-0.15846382723660227,-0.9821482993238668,1.169129504047249,-0.4801042694784227,-0.03927277533042933,-2.697446820613888,0.667717761645663,-0.7598229418804644,0.060198281353660316,0.9325913229966135,-0.4460009935902679,-1.8361341727225688,0.23186112181292243,-0.8667052430557932,-1.8213096093449288,-2.8727655770736296,-0.9789949647010906,-0.3903490898617929,0.5576591238292142,-0.02574772349388132,-0.20922752110118553],\"xaxis\":\"x15\",\"y\":[-1.066630833301036,0.29265836582538346,0.1591606198584185,0.7622368322562274,-0.31886158521673247,-1.4718604665980832,-0.7942216520581787,-1.4911879505837673,-0.6061066859506782,-1.5157010582591202,0.40032614454481,-0.9443926165588304,-0.9333213894477778,0.2373250569771554,0.003495411918664375,0.2797243757917062,-1.7310876483893218,-0.43268860484750843,0.4984287063307684,-0.46778851287520473,-0.32888185899693234,0.6232682745273248,-0.7316017254728788,0.4711007440846479,0.4029539941799019,-0.2604478654563585,0.3582768756292048,-0.8561994831494832,-1.913726686773174,-0.46358832632663377,1.1901905701532403,0.4934040771654728,-1.2673630739278083,-0.776929161687946,0.12342919559962855,-0.30602487347655555,1.9130807488548334,-0.7131376626908961,0.5702353616922338,0.7544639853442335,-2.0060898019039954,-0.11525049488824148,0.10467455570986987,-1.2868277520052525,-0.5654071697000354,1.7481832326836808,0.6891892289617946,-0.19572310883303518,0.18710866747798385,-0.9968036751947746,-0.8730661425675862,-0.06451644096699462,-0.5830400236991375,-0.20591015210862196,1.2077339490268855,1.4181201936965127,0.5385070678744326,1.1206361454713019,-0.5863832540958245,-1.6322724434980052,-0.586135362960711,1.9271409828103283,-0.09300998837520326,0.7747759181042786,-0.6248833852014862,-0.4063310951523854,-1.573605393885346,2.6186807404587644,1.7087005422662134,-0.007114002565482575,0.25111679091412836,1.5570577991342196,-0.43429707906838105,2.1651550574299265,0.4363737233095151,0.2539187595310245,1.4231369726498155,-1.618480855798506,-0.3141703345317573,-0.45265785873287134,-0.5228801374626685,-2.064489489396664,-1.2982645066101959,0.6698083430019409,0.4346329311968929,0.40972413201503993,0.7575840109241605,-0.15294080210870659,1.2003583234609856,-0.14191145348018816,1.0553412259865629,-1.087106698144118,-1.4607267662321068,0.6604172689615183,-1.5413739823566173,-1.5358751844625966,-0.40535830362125563,-0.18006651091900314,0.8602767621118976,1.8570706187242754],\"yaxis\":\"y15\",\"type\":\"scatter\"},{\"histfunc\":\"count\",\"histnorm\":\"\",\"marker\":{\"color\":\"rgba(128, 0, 128, 1.0)\",\"line\":{\"color\":\"#4D5663\",\"width\":1.3}},\"name\":\"D\",\"nbinsx\":10,\"opacity\":0.8,\"orientation\":\"v\",\"x\":[-1.066630833301036,0.29265836582538346,0.1591606198584185,0.7622368322562274,-0.31886158521673247,-1.4718604665980832,-0.7942216520581787,-1.4911879505837673,-0.6061066859506782,-1.5157010582591202,0.40032614454481,-0.9443926165588304,-0.9333213894477778,0.2373250569771554,0.003495411918664375,0.2797243757917062,-1.7310876483893218,-0.43268860484750843,0.4984287063307684,-0.46778851287520473,-0.32888185899693234,0.6232682745273248,-0.7316017254728788,0.4711007440846479,0.4029539941799019,-0.2604478654563585,0.3582768756292048,-0.8561994831494832,-1.913726686773174,-0.46358832632663377,1.1901905701532403,0.4934040771654728,-1.2673630739278083,-0.776929161687946,0.12342919559962855,-0.30602487347655555,1.9130807488548334,-0.7131376626908961,0.5702353616922338,0.7544639853442335,-2.0060898019039954,-0.11525049488824148,0.10467455570986987,-1.2868277520052525,-0.5654071697000354,1.7481832326836808,0.6891892289617946,-0.19572310883303518,0.18710866747798385,-0.9968036751947746,-0.8730661425675862,-0.06451644096699462,-0.5830400236991375,-0.20591015210862196,1.2077339490268855,1.4181201936965127,0.5385070678744326,1.1206361454713019,-0.5863832540958245,-1.6322724434980052,-0.586135362960711,1.9271409828103283,-0.09300998837520326,0.7747759181042786,-0.6248833852014862,-0.4063310951523854,-1.573605393885346,2.6186807404587644,1.7087005422662134,-0.007114002565482575,0.25111679091412836,1.5570577991342196,-0.43429707906838105,2.1651550574299265,0.4363737233095151,0.2539187595310245,1.4231369726498155,-1.618480855798506,-0.3141703345317573,-0.45265785873287134,-0.5228801374626685,-2.064489489396664,-1.2982645066101959,0.6698083430019409,0.4346329311968929,0.40972413201503993,0.7575840109241605,-0.15294080210870659,1.2003583234609856,-0.14191145348018816,1.0553412259865629,-1.087106698144118,-1.4607267662321068,0.6604172689615183,-1.5413739823566173,-1.5358751844625966,-0.40535830362125563,-0.18006651091900314,0.8602767621118976,1.8570706187242754],\"xaxis\":\"x16\",\"yaxis\":\"y16\",\"type\":\"histogram\"}],                        {\"bargap\":0.02,\"legend\":{\"bgcolor\":\"#F5F6F9\",\"font\":{\"color\":\"#4D5663\"}},\"paper_bgcolor\":\"#F5F6F9\",\"plot_bgcolor\":\"#F5F6F9\",\"showlegend\":false,\"template\":{\"data\":{\"barpolar\":[{\"marker\":{\"line\":{\"color\":\"#E5ECF6\",\"width\":0.5},\"pattern\":{\"fillmode\":\"overlay\",\"size\":10,\"solidity\":0.2}},\"type\":\"barpolar\"}],\"bar\":[{\"error_x\":{\"color\":\"#2a3f5f\"},\"error_y\":{\"color\":\"#2a3f5f\"},\"marker\":{\"line\":{\"color\":\"#E5ECF6\",\"width\":0.5},\"pattern\":{\"fillmode\":\"overlay\",\"size\":10,\"solidity\":0.2}},\"type\":\"bar\"}],\"carpet\":[{\"aaxis\":{\"endlinecolor\":\"#2a3f5f\",\"gridcolor\":\"white\",\"linecolor\":\"white\",\"minorgridcolor\":\"white\",\"startlinecolor\":\"#2a3f5f\"},\"baxis\":{\"endlinecolor\":\"#2a3f5f\",\"gridcolor\":\"white\",\"linecolor\":\"white\",\"minorgridcolor\":\"white\",\"startlinecolor\":\"#2a3f5f\"},\"type\":\"carpet\"}],\"choropleth\":[{\"colorbar\":{\"outlinewidth\":0,\"ticks\":\"\"},\"type\":\"choropleth\"}],\"contourcarpet\":[{\"colorbar\":{\"outlinewidth\":0,\"ticks\":\"\"},\"type\":\"contourcarpet\"}],\"contour\":[{\"colorbar\":{\"outlinewidth\":0,\"ticks\":\"\"},\"colorscale\":[[0.0,\"#0d0887\"],[0.1111111111111111,\"#46039f\"],[0.2222222222222222,\"#7201a8\"],[0.3333333333333333,\"#9c179e\"],[0.4444444444444444,\"#bd3786\"],[0.5555555555555556,\"#d8576b\"],[0.6666666666666666,\"#ed7953\"],[0.7777777777777778,\"#fb9f3a\"],[0.8888888888888888,\"#fdca26\"],[1.0,\"#f0f921\"]],\"type\":\"contour\"}],\"heatmapgl\":[{\"colorbar\":{\"outlinewidth\":0,\"ticks\":\"\"},\"colorscale\":[[0.0,\"#0d0887\"],[0.1111111111111111,\"#46039f\"],[0.2222222222222222,\"#7201a8\"],[0.3333333333333333,\"#9c179e\"],[0.4444444444444444,\"#bd3786\"],[0.5555555555555556,\"#d8576b\"],[0.6666666666666666,\"#ed7953\"],[0.7777777777777778,\"#fb9f3a\"],[0.8888888888888888,\"#fdca26\"],[1.0,\"#f0f921\"]],\"type\":\"heatmapgl\"}],\"heatmap\":[{\"colorbar\":{\"outlinewidth\":0,\"ticks\":\"\"},\"colorscale\":[[0.0,\"#0d0887\"],[0.1111111111111111,\"#46039f\"],[0.2222222222222222,\"#7201a8\"],[0.3333333333333333,\"#9c179e\"],[0.4444444444444444,\"#bd3786\"],[0.5555555555555556,\"#d8576b\"],[0.6666666666666666,\"#ed7953\"],[0.7777777777777778,\"#fb9f3a\"],[0.8888888888888888,\"#fdca26\"],[1.0,\"#f0f921\"]],\"type\":\"heatmap\"}],\"histogram2dcontour\":[{\"colorbar\":{\"outlinewidth\":0,\"ticks\":\"\"},\"colorscale\":[[0.0,\"#0d0887\"],[0.1111111111111111,\"#46039f\"],[0.2222222222222222,\"#7201a8\"],[0.3333333333333333,\"#9c179e\"],[0.4444444444444444,\"#bd3786\"],[0.5555555555555556,\"#d8576b\"],[0.6666666666666666,\"#ed7953\"],[0.7777777777777778,\"#fb9f3a\"],[0.8888888888888888,\"#fdca26\"],[1.0,\"#f0f921\"]],\"type\":\"histogram2dcontour\"}],\"histogram2d\":[{\"colorbar\":{\"outlinewidth\":0,\"ticks\":\"\"},\"colorscale\":[[0.0,\"#0d0887\"],[0.1111111111111111,\"#46039f\"],[0.2222222222222222,\"#7201a8\"],[0.3333333333333333,\"#9c179e\"],[0.4444444444444444,\"#bd3786\"],[0.5555555555555556,\"#d8576b\"],[0.6666666666666666,\"#ed7953\"],[0.7777777777777778,\"#fb9f3a\"],[0.8888888888888888,\"#fdca26\"],[1.0,\"#f0f921\"]],\"type\":\"histogram2d\"}],\"histogram\":[{\"marker\":{\"pattern\":{\"fillmode\":\"overlay\",\"size\":10,\"solidity\":0.2}},\"type\":\"histogram\"}],\"mesh3d\":[{\"colorbar\":{\"outlinewidth\":0,\"ticks\":\"\"},\"type\":\"mesh3d\"}],\"parcoords\":[{\"line\":{\"colorbar\":{\"outlinewidth\":0,\"ticks\":\"\"}},\"type\":\"parcoords\"}],\"pie\":[{\"automargin\":true,\"type\":\"pie\"}],\"scatter3d\":[{\"line\":{\"colorbar\":{\"outlinewidth\":0,\"ticks\":\"\"}},\"marker\":{\"colorbar\":{\"outlinewidth\":0,\"ticks\":\"\"}},\"type\":\"scatter3d\"}],\"scattercarpet\":[{\"marker\":{\"colorbar\":{\"outlinewidth\":0,\"ticks\":\"\"}},\"type\":\"scattercarpet\"}],\"scattergeo\":[{\"marker\":{\"colorbar\":{\"outlinewidth\":0,\"ticks\":\"\"}},\"type\":\"scattergeo\"}],\"scattergl\":[{\"marker\":{\"colorbar\":{\"outlinewidth\":0,\"ticks\":\"\"}},\"type\":\"scattergl\"}],\"scattermapbox\":[{\"marker\":{\"colorbar\":{\"outlinewidth\":0,\"ticks\":\"\"}},\"type\":\"scattermapbox\"}],\"scatterpolargl\":[{\"marker\":{\"colorbar\":{\"outlinewidth\":0,\"ticks\":\"\"}},\"type\":\"scatterpolargl\"}],\"scatterpolar\":[{\"marker\":{\"colorbar\":{\"outlinewidth\":0,\"ticks\":\"\"}},\"type\":\"scatterpolar\"}],\"scatter\":[{\"fillpattern\":{\"fillmode\":\"overlay\",\"size\":10,\"solidity\":0.2},\"type\":\"scatter\"}],\"scatterternary\":[{\"marker\":{\"colorbar\":{\"outlinewidth\":0,\"ticks\":\"\"}},\"type\":\"scatterternary\"}],\"surface\":[{\"colorbar\":{\"outlinewidth\":0,\"ticks\":\"\"},\"colorscale\":[[0.0,\"#0d0887\"],[0.1111111111111111,\"#46039f\"],[0.2222222222222222,\"#7201a8\"],[0.3333333333333333,\"#9c179e\"],[0.4444444444444444,\"#bd3786\"],[0.5555555555555556,\"#d8576b\"],[0.6666666666666666,\"#ed7953\"],[0.7777777777777778,\"#fb9f3a\"],[0.8888888888888888,\"#fdca26\"],[1.0,\"#f0f921\"]],\"type\":\"surface\"}],\"table\":[{\"cells\":{\"fill\":{\"color\":\"#EBF0F8\"},\"line\":{\"color\":\"white\"}},\"header\":{\"fill\":{\"color\":\"#C8D4E3\"},\"line\":{\"color\":\"white\"}},\"type\":\"table\"}]},\"layout\":{\"annotationdefaults\":{\"arrowcolor\":\"#2a3f5f\",\"arrowhead\":0,\"arrowwidth\":1},\"autotypenumbers\":\"strict\",\"coloraxis\":{\"colorbar\":{\"outlinewidth\":0,\"ticks\":\"\"}},\"colorscale\":{\"diverging\":[[0,\"#8e0152\"],[0.1,\"#c51b7d\"],[0.2,\"#de77ae\"],[0.3,\"#f1b6da\"],[0.4,\"#fde0ef\"],[0.5,\"#f7f7f7\"],[0.6,\"#e6f5d0\"],[0.7,\"#b8e186\"],[0.8,\"#7fbc41\"],[0.9,\"#4d9221\"],[1,\"#276419\"]],\"sequential\":[[0.0,\"#0d0887\"],[0.1111111111111111,\"#46039f\"],[0.2222222222222222,\"#7201a8\"],[0.3333333333333333,\"#9c179e\"],[0.4444444444444444,\"#bd3786\"],[0.5555555555555556,\"#d8576b\"],[0.6666666666666666,\"#ed7953\"],[0.7777777777777778,\"#fb9f3a\"],[0.8888888888888888,\"#fdca26\"],[1.0,\"#f0f921\"]],\"sequentialminus\":[[0.0,\"#0d0887\"],[0.1111111111111111,\"#46039f\"],[0.2222222222222222,\"#7201a8\"],[0.3333333333333333,\"#9c179e\"],[0.4444444444444444,\"#bd3786\"],[0.5555555555555556,\"#d8576b\"],[0.6666666666666666,\"#ed7953\"],[0.7777777777777778,\"#fb9f3a\"],[0.8888888888888888,\"#fdca26\"],[1.0,\"#f0f921\"]]},\"colorway\":[\"#636efa\",\"#EF553B\",\"#00cc96\",\"#ab63fa\",\"#FFA15A\",\"#19d3f3\",\"#FF6692\",\"#B6E880\",\"#FF97FF\",\"#FECB52\"],\"font\":{\"color\":\"#2a3f5f\"},\"geo\":{\"bgcolor\":\"white\",\"lakecolor\":\"white\",\"landcolor\":\"#E5ECF6\",\"showlakes\":true,\"showland\":true,\"subunitcolor\":\"white\"},\"hoverlabel\":{\"align\":\"left\"},\"hovermode\":\"closest\",\"mapbox\":{\"style\":\"light\"},\"paper_bgcolor\":\"white\",\"plot_bgcolor\":\"#E5ECF6\",\"polar\":{\"angularaxis\":{\"gridcolor\":\"white\",\"linecolor\":\"white\",\"ticks\":\"\"},\"bgcolor\":\"#E5ECF6\",\"radialaxis\":{\"gridcolor\":\"white\",\"linecolor\":\"white\",\"ticks\":\"\"}},\"scene\":{\"xaxis\":{\"backgroundcolor\":\"#E5ECF6\",\"gridcolor\":\"white\",\"gridwidth\":2,\"linecolor\":\"white\",\"showbackground\":true,\"ticks\":\"\",\"zerolinecolor\":\"white\"},\"yaxis\":{\"backgroundcolor\":\"#E5ECF6\",\"gridcolor\":\"white\",\"gridwidth\":2,\"linecolor\":\"white\",\"showbackground\":true,\"ticks\":\"\",\"zerolinecolor\":\"white\"},\"zaxis\":{\"backgroundcolor\":\"#E5ECF6\",\"gridcolor\":\"white\",\"gridwidth\":2,\"linecolor\":\"white\",\"showbackground\":true,\"ticks\":\"\",\"zerolinecolor\":\"white\"}},\"shapedefaults\":{\"line\":{\"color\":\"#2a3f5f\"}},\"ternary\":{\"aaxis\":{\"gridcolor\":\"white\",\"linecolor\":\"white\",\"ticks\":\"\"},\"baxis\":{\"gridcolor\":\"white\",\"linecolor\":\"white\",\"ticks\":\"\"},\"bgcolor\":\"#E5ECF6\",\"caxis\":{\"gridcolor\":\"white\",\"linecolor\":\"white\",\"ticks\":\"\"}},\"title\":{\"x\":0.05},\"xaxis\":{\"automargin\":true,\"gridcolor\":\"white\",\"linecolor\":\"white\",\"ticks\":\"\",\"title\":{\"standoff\":15},\"zerolinecolor\":\"white\",\"zerolinewidth\":2},\"yaxis\":{\"automargin\":true,\"gridcolor\":\"white\",\"linecolor\":\"white\",\"ticks\":\"\",\"title\":{\"standoff\":15},\"zerolinecolor\":\"white\",\"zerolinewidth\":2}}},\"title\":{\"font\":{\"color\":\"#4D5663\"}},\"xaxis\":{\"anchor\":\"y\",\"domain\":[0.0,0.2125],\"gridcolor\":\"#E1E5ED\",\"showgrid\":false,\"tickfont\":{\"color\":\"#4D5663\"},\"title\":{\"font\":{\"color\":\"#4D5663\"},\"text\":\"\"},\"zerolinecolor\":\"#E1E5ED\"},\"yaxis\":{\"anchor\":\"x\",\"domain\":[0.8025,1.0],\"gridcolor\":\"#E1E5ED\",\"showgrid\":false,\"tickfont\":{\"color\":\"#4D5663\"},\"title\":{\"font\":{\"color\":\"#4D5663\"},\"text\":\"\"},\"zerolinecolor\":\"#E1E5ED\"},\"xaxis2\":{\"anchor\":\"y2\",\"domain\":[0.2625,0.475],\"gridcolor\":\"#E1E5ED\",\"showgrid\":false,\"tickfont\":{\"color\":\"#4D5663\"},\"title\":{\"font\":{\"color\":\"#4D5663\"},\"text\":\"\"},\"zerolinecolor\":\"#E1E5ED\"},\"yaxis2\":{\"anchor\":\"x2\",\"domain\":[0.8025,1.0],\"gridcolor\":\"#E1E5ED\",\"showgrid\":false,\"tickfont\":{\"color\":\"#4D5663\"},\"title\":{\"font\":{\"color\":\"#4D5663\"},\"text\":\"\"},\"zerolinecolor\":\"#E1E5ED\"},\"xaxis3\":{\"anchor\":\"y3\",\"domain\":[0.525,0.7375],\"gridcolor\":\"#E1E5ED\",\"showgrid\":false,\"tickfont\":{\"color\":\"#4D5663\"},\"title\":{\"font\":{\"color\":\"#4D5663\"},\"text\":\"\"},\"zerolinecolor\":\"#E1E5ED\"},\"yaxis3\":{\"anchor\":\"x3\",\"domain\":[0.8025,1.0],\"gridcolor\":\"#E1E5ED\",\"showgrid\":false,\"tickfont\":{\"color\":\"#4D5663\"},\"title\":{\"font\":{\"color\":\"#4D5663\"},\"text\":\"\"},\"zerolinecolor\":\"#E1E5ED\"},\"xaxis4\":{\"anchor\":\"y4\",\"domain\":[0.7875,1.0],\"gridcolor\":\"#E1E5ED\",\"showgrid\":false,\"tickfont\":{\"color\":\"#4D5663\"},\"title\":{\"font\":{\"color\":\"#4D5663\"},\"text\":\"\"},\"zerolinecolor\":\"#E1E5ED\"},\"yaxis4\":{\"anchor\":\"x4\",\"domain\":[0.8025,1.0],\"gridcolor\":\"#E1E5ED\",\"showgrid\":false,\"tickfont\":{\"color\":\"#4D5663\"},\"title\":{\"font\":{\"color\":\"#4D5663\"},\"text\":\"\"},\"zerolinecolor\":\"#E1E5ED\"},\"xaxis5\":{\"anchor\":\"y5\",\"domain\":[0.0,0.2125],\"gridcolor\":\"#E1E5ED\",\"showgrid\":false,\"tickfont\":{\"color\":\"#4D5663\"},\"title\":{\"font\":{\"color\":\"#4D5663\"},\"text\":\"\"},\"zerolinecolor\":\"#E1E5ED\"},\"yaxis5\":{\"anchor\":\"x5\",\"domain\":[0.535,0.7325],\"gridcolor\":\"#E1E5ED\",\"showgrid\":false,\"tickfont\":{\"color\":\"#4D5663\"},\"title\":{\"font\":{\"color\":\"#4D5663\"},\"text\":\"\"},\"zerolinecolor\":\"#E1E5ED\"},\"xaxis6\":{\"anchor\":\"y6\",\"domain\":[0.2625,0.475],\"gridcolor\":\"#E1E5ED\",\"showgrid\":false,\"tickfont\":{\"color\":\"#4D5663\"},\"title\":{\"font\":{\"color\":\"#4D5663\"},\"text\":\"\"},\"zerolinecolor\":\"#E1E5ED\"},\"yaxis6\":{\"anchor\":\"x6\",\"domain\":[0.535,0.7325],\"gridcolor\":\"#E1E5ED\",\"showgrid\":false,\"tickfont\":{\"color\":\"#4D5663\"},\"title\":{\"font\":{\"color\":\"#4D5663\"},\"text\":\"\"},\"zerolinecolor\":\"#E1E5ED\"},\"xaxis7\":{\"anchor\":\"y7\",\"domain\":[0.525,0.7375],\"gridcolor\":\"#E1E5ED\",\"showgrid\":false,\"tickfont\":{\"color\":\"#4D5663\"},\"title\":{\"font\":{\"color\":\"#4D5663\"},\"text\":\"\"},\"zerolinecolor\":\"#E1E5ED\"},\"yaxis7\":{\"anchor\":\"x7\",\"domain\":[0.535,0.7325],\"gridcolor\":\"#E1E5ED\",\"showgrid\":false,\"tickfont\":{\"color\":\"#4D5663\"},\"title\":{\"font\":{\"color\":\"#4D5663\"},\"text\":\"\"},\"zerolinecolor\":\"#E1E5ED\"},\"xaxis8\":{\"anchor\":\"y8\",\"domain\":[0.7875,1.0],\"gridcolor\":\"#E1E5ED\",\"showgrid\":false,\"tickfont\":{\"color\":\"#4D5663\"},\"title\":{\"font\":{\"color\":\"#4D5663\"},\"text\":\"\"},\"zerolinecolor\":\"#E1E5ED\"},\"yaxis8\":{\"anchor\":\"x8\",\"domain\":[0.535,0.7325],\"gridcolor\":\"#E1E5ED\",\"showgrid\":false,\"tickfont\":{\"color\":\"#4D5663\"},\"title\":{\"font\":{\"color\":\"#4D5663\"},\"text\":\"\"},\"zerolinecolor\":\"#E1E5ED\"},\"xaxis9\":{\"anchor\":\"y9\",\"domain\":[0.0,0.2125],\"gridcolor\":\"#E1E5ED\",\"showgrid\":false,\"tickfont\":{\"color\":\"#4D5663\"},\"title\":{\"font\":{\"color\":\"#4D5663\"},\"text\":\"\"},\"zerolinecolor\":\"#E1E5ED\"},\"yaxis9\":{\"anchor\":\"x9\",\"domain\":[0.2675,0.465],\"gridcolor\":\"#E1E5ED\",\"showgrid\":false,\"tickfont\":{\"color\":\"#4D5663\"},\"title\":{\"font\":{\"color\":\"#4D5663\"},\"text\":\"\"},\"zerolinecolor\":\"#E1E5ED\"},\"xaxis10\":{\"anchor\":\"y10\",\"domain\":[0.2625,0.475],\"gridcolor\":\"#E1E5ED\",\"showgrid\":false,\"tickfont\":{\"color\":\"#4D5663\"},\"title\":{\"font\":{\"color\":\"#4D5663\"},\"text\":\"\"},\"zerolinecolor\":\"#E1E5ED\"},\"yaxis10\":{\"anchor\":\"x10\",\"domain\":[0.2675,0.465],\"gridcolor\":\"#E1E5ED\",\"showgrid\":false,\"tickfont\":{\"color\":\"#4D5663\"},\"title\":{\"font\":{\"color\":\"#4D5663\"},\"text\":\"\"},\"zerolinecolor\":\"#E1E5ED\"},\"xaxis11\":{\"anchor\":\"y11\",\"domain\":[0.525,0.7375],\"gridcolor\":\"#E1E5ED\",\"showgrid\":false,\"tickfont\":{\"color\":\"#4D5663\"},\"title\":{\"font\":{\"color\":\"#4D5663\"},\"text\":\"\"},\"zerolinecolor\":\"#E1E5ED\"},\"yaxis11\":{\"anchor\":\"x11\",\"domain\":[0.2675,0.465],\"gridcolor\":\"#E1E5ED\",\"showgrid\":false,\"tickfont\":{\"color\":\"#4D5663\"},\"title\":{\"font\":{\"color\":\"#4D5663\"},\"text\":\"\"},\"zerolinecolor\":\"#E1E5ED\"},\"xaxis12\":{\"anchor\":\"y12\",\"domain\":[0.7875,1.0],\"gridcolor\":\"#E1E5ED\",\"showgrid\":false,\"tickfont\":{\"color\":\"#4D5663\"},\"title\":{\"font\":{\"color\":\"#4D5663\"},\"text\":\"\"},\"zerolinecolor\":\"#E1E5ED\"},\"yaxis12\":{\"anchor\":\"x12\",\"domain\":[0.2675,0.465],\"gridcolor\":\"#E1E5ED\",\"showgrid\":false,\"tickfont\":{\"color\":\"#4D5663\"},\"title\":{\"font\":{\"color\":\"#4D5663\"},\"text\":\"\"},\"zerolinecolor\":\"#E1E5ED\"},\"xaxis13\":{\"anchor\":\"y13\",\"domain\":[0.0,0.2125],\"gridcolor\":\"#E1E5ED\",\"showgrid\":false,\"tickfont\":{\"color\":\"#4D5663\"},\"title\":{\"font\":{\"color\":\"#4D5663\"},\"text\":\"\"},\"zerolinecolor\":\"#E1E5ED\"},\"yaxis13\":{\"anchor\":\"x13\",\"domain\":[0.0,0.1975],\"gridcolor\":\"#E1E5ED\",\"showgrid\":false,\"tickfont\":{\"color\":\"#4D5663\"},\"title\":{\"font\":{\"color\":\"#4D5663\"},\"text\":\"\"},\"zerolinecolor\":\"#E1E5ED\"},\"xaxis14\":{\"anchor\":\"y14\",\"domain\":[0.2625,0.475],\"gridcolor\":\"#E1E5ED\",\"showgrid\":false,\"tickfont\":{\"color\":\"#4D5663\"},\"title\":{\"font\":{\"color\":\"#4D5663\"},\"text\":\"\"},\"zerolinecolor\":\"#E1E5ED\"},\"yaxis14\":{\"anchor\":\"x14\",\"domain\":[0.0,0.1975],\"gridcolor\":\"#E1E5ED\",\"showgrid\":false,\"tickfont\":{\"color\":\"#4D5663\"},\"title\":{\"font\":{\"color\":\"#4D5663\"},\"text\":\"\"},\"zerolinecolor\":\"#E1E5ED\"},\"xaxis15\":{\"anchor\":\"y15\",\"domain\":[0.525,0.7375],\"gridcolor\":\"#E1E5ED\",\"showgrid\":false,\"tickfont\":{\"color\":\"#4D5663\"},\"title\":{\"font\":{\"color\":\"#4D5663\"},\"text\":\"\"},\"zerolinecolor\":\"#E1E5ED\"},\"yaxis15\":{\"anchor\":\"x15\",\"domain\":[0.0,0.1975],\"gridcolor\":\"#E1E5ED\",\"showgrid\":false,\"tickfont\":{\"color\":\"#4D5663\"},\"title\":{\"font\":{\"color\":\"#4D5663\"},\"text\":\"\"},\"zerolinecolor\":\"#E1E5ED\"},\"xaxis16\":{\"anchor\":\"y16\",\"domain\":[0.7875,1.0],\"gridcolor\":\"#E1E5ED\",\"showgrid\":false,\"tickfont\":{\"color\":\"#4D5663\"},\"title\":{\"font\":{\"color\":\"#4D5663\"},\"text\":\"\"},\"zerolinecolor\":\"#E1E5ED\"},\"yaxis16\":{\"anchor\":\"x16\",\"domain\":[0.0,0.1975],\"gridcolor\":\"#E1E5ED\",\"showgrid\":false,\"tickfont\":{\"color\":\"#4D5663\"},\"title\":{\"font\":{\"color\":\"#4D5663\"},\"text\":\"\"},\"zerolinecolor\":\"#E1E5ED\"}},                        {\"showLink\": true, \"linkText\": \"Export to plot.ly\", \"plotlyServerURL\": \"https://plot.ly\", \"responsive\": true}                    ).then(function(){\n",
       "                            \n",
       "var gd = document.getElementById('b45ec2a0-1b9b-4fa6-aa33-4b746ff39bcf');\n",
       "var x = new MutationObserver(function (mutations, observer) {{\n",
       "        var display = window.getComputedStyle(gd).display;\n",
       "        if (!display || display === 'none') {{\n",
       "            console.log([gd, 'removed!']);\n",
       "            Plotly.purge(gd);\n",
       "            observer.disconnect();\n",
       "        }}\n",
       "}});\n",
       "\n",
       "// Listen for the removal of the full notebook cells\n",
       "var notebookContainer = gd.closest('#notebook-container');\n",
       "if (notebookContainer) {{\n",
       "    x.observe(notebookContainer, {childList: true});\n",
       "}}\n",
       "\n",
       "// Listen for the clearing of the current output cell\n",
       "var outputEl = gd.closest('.output');\n",
       "if (outputEl) {{\n",
       "    x.observe(outputEl, {childList: true});\n",
       "}}\n",
       "\n",
       "                        })                };                });            </script>        </div>"
      ]
     },
     "metadata": {},
     "output_type": "display_data"
    }
   ],
   "source": [
    "df.scatter_matrix()"
   ]
  },
  {
   "cell_type": "markdown",
   "metadata": {
    "collapsed": true
   },
   "source": [
    "# Great Job!"
   ]
  }
 ],
 "metadata": {
  "kernelspec": {
   "display_name": "Python 3 (ipykernel)",
   "language": "python",
   "name": "python3"
  },
  "language_info": {
   "codemirror_mode": {
    "name": "ipython",
    "version": 3
   },
   "file_extension": ".py",
   "mimetype": "text/x-python",
   "name": "python",
   "nbconvert_exporter": "python",
   "pygments_lexer": "ipython3",
   "version": "3.11.4"
  }
 },
 "nbformat": 4,
 "nbformat_minor": 1
}
